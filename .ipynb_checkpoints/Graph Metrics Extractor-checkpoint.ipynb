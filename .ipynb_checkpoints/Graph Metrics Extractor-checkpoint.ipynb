{
 "cells": [
  {
   "cell_type": "code",
   "execution_count": 12,
   "id": "776f6ffb",
   "metadata": {},
   "outputs": [],
   "source": [
    "import networkx as nx\n",
    "import pandas as pd\n",
    "import os\n",
    "import glob\n"
   ]
  },
  {
   "cell_type": "code",
   "execution_count": 18,
   "id": "547fda8c",
   "metadata": {},
   "outputs": [],
   "source": [
    "csvs = glob.glob(os.getcwd()+\"/data/graphs/*.csv\")"
   ]
  },
  {
   "cell_type": "code",
   "execution_count": 10,
   "id": "ac14bb48",
   "metadata": {},
   "outputs": [
    {
     "ename": "NameError",
     "evalue": "name 'f' is not defined",
     "output_type": "error",
     "traceback": [
      "\u001b[1;31m---------------------------------------------------------------------------\u001b[0m",
      "\u001b[1;31mNameError\u001b[0m                                 Traceback (most recent call last)",
      "\u001b[1;32m<ipython-input-10-d4da1392df3c>\u001b[0m in \u001b[0;36m<module>\u001b[1;34m\u001b[0m\n\u001b[1;32m----> 1\u001b[1;33m \u001b[0monlyfiles\u001b[0m \u001b[1;33m=\u001b[0m \u001b[1;33m[\u001b[0m\u001b[0mf\u001b[0m \u001b[1;32min\u001b[0m \u001b[0mos\u001b[0m\u001b[1;33m.\u001b[0m\u001b[0mlistdir\u001b[0m\u001b[1;33m(\u001b[0m\u001b[0mos\u001b[0m\u001b[1;33m.\u001b[0m\u001b[0mgetcwd\u001b[0m\u001b[1;33m(\u001b[0m\u001b[1;33m)\u001b[0m\u001b[1;33m)\u001b[0m\u001b[1;33m]\u001b[0m\u001b[1;33m\u001b[0m\u001b[1;33m\u001b[0m\u001b[0m\n\u001b[0m",
      "\u001b[1;31mNameError\u001b[0m: name 'f' is not defined"
     ]
    }
   ],
   "source": [
    "onlyfiles ="
   ]
  },
  {
   "cell_type": "code",
   "execution_count": 10,
   "id": "91dcaa4e",
   "metadata": {},
   "outputs": [
    {
     "ename": "NameError",
     "evalue": "name 'f' is not defined",
     "output_type": "error",
     "traceback": [
      "\u001b[1;31m---------------------------------------------------------------------------\u001b[0m",
      "\u001b[1;31mNameError\u001b[0m                                 Traceback (most recent call last)",
      "\u001b[1;32m<ipython-input-10-d4da1392df3c>\u001b[0m in \u001b[0;36m<module>\u001b[1;34m\u001b[0m\n\u001b[1;32m----> 1\u001b[1;33m \u001b[0monlyfiles\u001b[0m \u001b[1;33m=\u001b[0m \u001b[1;33m[\u001b[0m\u001b[0mf\u001b[0m \u001b[1;32min\u001b[0m \u001b[0mos\u001b[0m\u001b[1;33m.\u001b[0m\u001b[0mlistdir\u001b[0m\u001b[1;33m(\u001b[0m\u001b[0mos\u001b[0m\u001b[1;33m.\u001b[0m\u001b[0mgetcwd\u001b[0m\u001b[1;33m(\u001b[0m\u001b[1;33m)\u001b[0m\u001b[1;33m)\u001b[0m\u001b[1;33m]\u001b[0m\u001b[1;33m\u001b[0m\u001b[1;33m\u001b[0m\u001b[0m\n\u001b[0m",
      "\u001b[1;31mNameError\u001b[0m: name 'f' is not defined"
     ]
    }
   ],
   "source": [
    "onlyfiles ="
   ]
  },
  {
   "cell_type": "code",
   "execution_count": null,
   "id": "3fb5f121",
   "metadata": {},
   "outputs": [],
   "source": [
    "#G = graphs[0]"
   ]
  },
  {
   "cell_type": "code",
   "execution_count": null,
   "id": "a5b223a3",
   "metadata": {},
   "outputs": [],
   "source": [
    "#nx.pagerank(G,alpha=0.1)"
   ]
  },
  {
   "cell_type": "code",
   "execution_count": null,
   "id": "92f224dd",
   "metadata": {
    "scrolled": false
   },
   "outputs": [],
   "source": [
    "#nx.average_shortest_path_length(G)"
   ]
  },
  {
   "cell_type": "code",
   "execution_count": null,
   "id": "ed78bbaf",
   "metadata": {},
   "outputs": [],
   "source": [
    "#nx.betweenness_centrality(G)"
   ]
  },
  {
   "cell_type": "markdown",
   "id": "0df65aba",
   "metadata": {},
   "source": [
    "metrics = []"
   ]
  },
  {
   "cell_type": "markdown",
   "id": "f381367b",
   "metadata": {},
   "source": [
    "df = pd.DataFrame(metrics, columns = [\"average_clustering\",\"density\",\"average_degree_connectivity\",\"number_of_edges\",\"number_of_nodes\"])"
   ]
  },
  {
   "cell_type": "markdown",
   "id": "0c7085b2",
   "metadata": {},
   "source": [
    "with open('graphs0-80.pkl', 'rb') as f:\n",
    "    graphs = pickle.load(f)\n",
    "for x in graphs:\n",
    "    average_clustering = nx.average_clustering(x)\n",
    "    density = nx.density(x)\n",
    "    average_degree_connectivity = nx.average_degree_connectivity(x)\n",
    "    number_of_edges = x.number_of_edges()\n",
    "    number_of_nodes = x.number_of_nodes()\n",
    "    metrics.append([average_clustering,density,average_degree_connectivity,number_of_edges,number_of_nodes])\n",
    "    \n",
    "with open('graphs80-130.pkl', 'rb') as f:\n",
    "    graphs = pickle.load(f)\n",
    "for x in graphs:\n",
    "    average_clustering = nx.average_clustering(x)\n",
    "    density = nx.density(x)\n",
    "    average_degree_connectivity = nx.average_degree_connectivity(x)\n",
    "    number_of_edges = x.number_of_edges()\n",
    "    number_of_nodes = x.number_of_nodes()\n",
    "    metrics.append([average_clustering,density,average_degree_connectivity,number_of_edges,number_of_nodes])\n",
    "    \n",
    "with open('graphs130-150.pkl', 'rb') as f:\n",
    "    graphs = pickle.load(f)\n",
    "for x in graphs:\n",
    "    average_clustering = nx.average_clustering(x)\n",
    "    density = nx.density(x)\n",
    "    average_degree_connectivity = nx.average_degree_connectivity(x)\n",
    "    number_of_edges = x.number_of_edges()\n",
    "    number_of_nodes = x.number_of_nodes()\n",
    "    metrics.append([average_clustering,density,average_degree_connectivity,number_of_edges,number_of_nodes])\n",
    "    \n",
    "with open('graphs150-169.pkl', 'rb') as f:\n",
    "    graphs = pickle.load(f)\n",
    "for x in graphs:\n",
    "    average_clustering = nx.average_clustering(x)\n",
    "    density = nx.density(x)\n",
    "    average_degree_connectivity = nx.average_degree_connectivity(x)\n",
    "    number_of_edges = x.number_of_edges()\n",
    "    number_of_nodes = x.number_of_nodes()\n",
    "    metrics.append([average_clustering,density,average_degree_connectivity,number_of_edges,number_of_nodes])\n",
    "\n",
    "with open('metrics.pkl', 'wb') as f:\n",
    "    pickle.dump(metrics, f)"
   ]
  },
  {
   "cell_type": "markdown",
   "id": "e2f461f4",
   "metadata": {},
   "source": [
    "df.to_csv(\"metrics.csv\")"
   ]
  },
  {
   "cell_type": "code",
   "execution_count": null,
   "id": "607fc336",
   "metadata": {},
   "outputs": [],
   "source": [
    "#a =nx.k_core(graphs[0])"
   ]
  },
  {
   "cell_type": "code",
   "execution_count": 1,
   "id": "07c7a7f6",
   "metadata": {},
   "outputs": [],
   "source": [
    "import pickle\n",
    "import networkx as nx\n",
    "import pandas as pd"
   ]
  },
  {
   "cell_type": "code",
   "execution_count": 2,
   "id": "bd49effb",
   "metadata": {},
   "outputs": [],
   "source": [
    "with open('graphs0-80.pkl', 'rb') as f:\n",
    "    graphs = pickle.load(f)"
   ]
  },
  {
   "cell_type": "code",
   "execution_count": 3,
   "id": "108bc9da",
   "metadata": {},
   "outputs": [],
   "source": [
    "G = graphs[58]"
   ]
  },
  {
   "cell_type": "code",
   "execution_count": 6,
   "id": "c66f9aa4",
   "metadata": {},
   "outputs": [],
   "source": [
    "files=['graphs80-130.pkl','graphs130-150.pkl','graphs150-169.pkl']"
   ]
  },
  {
   "cell_type": "code",
   "execution_count": 7,
   "id": "cac91e43",
   "metadata": {},
   "outputs": [],
   "source": [
    "metrics = []\n",
    "for G in graphs[58:]:\n",
    "    degree_assortativity_coefficient = nx.degree_assortativity_coefficient(G)\n",
    "    metrics.append(degree_assortativity_coefficient)"
   ]
  },
  {
   "cell_type": "code",
   "execution_count": 9,
   "id": "475cedd9",
   "metadata": {},
   "outputs": [
    {
     "name": "stdout",
     "output_type": "stream",
     "text": [
      "19aphs150-169.pkl\r"
     ]
    }
   ],
   "source": [
    "\n",
    "for file_ in files:\n",
    "    index = 0\n",
    "    print(file_, end='\\r')\n",
    "    with open(file_, 'rb') as f:\n",
    "        graphs = pickle.load(f)\n",
    "    for G in graphs:\n",
    "        print(index,end='\\r')\n",
    "        index+=1\n",
    "        degree_assortativity_coefficient = nx.degree_assortativity_coefficient(G)\n",
    "        metrics.append(degree_assortativity_coefficient)"
   ]
  },
  {
   "cell_type": "code",
   "execution_count": 4,
   "id": "b7fe4b2d",
   "metadata": {},
   "outputs": [
    {
     "data": {
      "text/plain": [
       "-0.03425856613945271"
      ]
     },
     "execution_count": 4,
     "metadata": {},
     "output_type": "execute_result"
    }
   ],
   "source": [
    "nx.degree_assortativity_coefficient(G)"
   ]
  },
  {
   "cell_type": "code",
   "execution_count": null,
   "id": "4d4d4e70",
   "metadata": {
    "scrolled": true
   },
   "outputs": [],
   "source": [
    "nx.average_node_connectivity(G)"
   ]
  },
  {
   "cell_type": "code",
   "execution_count": 15,
   "id": "b8951d25",
   "metadata": {},
   "outputs": [],
   "source": [
    "m =pd.Series(metrics)"
   ]
  },
  {
   "cell_type": "code",
   "execution_count": null,
   "id": "c32263b1",
   "metadata": {},
   "outputs": [],
   "source": [
    "#nx.draw(a)"
   ]
  },
  {
   "cell_type": "code",
   "execution_count": null,
   "id": "809323f6",
   "metadata": {},
   "outputs": [],
   "source": [
    "#nx.draw(x)"
   ]
  },
  {
   "cell_type": "code",
   "execution_count": null,
   "id": "d3129805",
   "metadata": {},
   "outputs": [],
   "source": [
    "#more metrics should be added"
   ]
  },
  {
   "cell_type": "code",
   "execution_count": 17,
   "id": "46b52ad3",
   "metadata": {},
   "outputs": [],
   "source": [
    "m.to_csv(\"additional.csv\",index=False)"
   ]
  },
  {
   "cell_type": "code",
   "execution_count": null,
   "id": "3ef0b682",
   "metadata": {},
   "outputs": [],
   "source": []
  }
 ],
 "metadata": {
  "kernelspec": {
   "display_name": "Python 3",
   "language": "python",
   "name": "python3"
  },
  "language_info": {
   "codemirror_mode": {
    "name": "ipython",
    "version": 3
   },
   "file_extension": ".py",
   "mimetype": "text/x-python",
   "name": "python",
   "nbconvert_exporter": "python",
   "pygments_lexer": "ipython3",
   "version": "3.8.8"
  }
 },
 "nbformat": 4,
 "nbformat_minor": 5
}
