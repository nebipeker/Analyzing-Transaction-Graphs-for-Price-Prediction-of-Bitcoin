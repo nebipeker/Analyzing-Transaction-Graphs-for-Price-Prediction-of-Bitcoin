{
 "cells": [
  {
   "cell_type": "code",
   "execution_count": 1,
   "id": "34d198fd",
   "metadata": {},
   "outputs": [],
   "source": [
    "import pickle\n",
    "import networkx as nx\n",
    "import pandas as pd"
   ]
  },
  {
   "cell_type": "code",
   "execution_count": 2,
   "id": "37769084",
   "metadata": {},
   "outputs": [],
   "source": [
    "with open('graphs470-519.pkl', 'rb') as f:\n",
    "    graphs = pickle.load(f)\n"
   ]
  },
  {
   "cell_type": "code",
   "execution_count": 3,
   "id": "7ec2fa2f",
   "metadata": {},
   "outputs": [],
   "source": [
    "#nx.average_shortest_path_length(x)"
   ]
  },
  {
   "cell_type": "code",
   "execution_count": 4,
   "id": "afc4bba6",
   "metadata": {},
   "outputs": [],
   "source": [
    "with open(\"metrics.pkl\",'rb') as f:\n",
    "    metrics = pickle.load(f)"
   ]
  },
  {
   "cell_type": "code",
   "execution_count": 5,
   "id": "d33e8b5e",
   "metadata": {},
   "outputs": [],
   "source": [
    "for x in graphs:\n",
    "    a = nx.average_clustering(x)\n",
    "    b = nx.density(x)\n",
    "    c = nx.average_degree_connectivity(x)\n",
    "    metrics.append([a,b,c])"
   ]
  },
  {
   "cell_type": "code",
   "execution_count": 6,
   "id": "607fc336",
   "metadata": {},
   "outputs": [],
   "source": [
    "#a =nx.k_core(x)"
   ]
  },
  {
   "cell_type": "code",
   "execution_count": 7,
   "id": "c32263b1",
   "metadata": {},
   "outputs": [],
   "source": [
    "#nx.draw(a)"
   ]
  },
  {
   "cell_type": "code",
   "execution_count": 8,
   "id": "809323f6",
   "metadata": {},
   "outputs": [],
   "source": [
    "#nx.draw(x)"
   ]
  },
  {
   "cell_type": "code",
   "execution_count": 9,
   "id": "8a4b7ce8",
   "metadata": {},
   "outputs": [],
   "source": [
    "with open('metrics.pkl', 'wb') as f:\n",
    "    pickle.dump(metrics, f)"
   ]
  },
  {
   "cell_type": "code",
   "execution_count": 10,
   "id": "74660e3b",
   "metadata": {},
   "outputs": [
    {
     "data": {
      "text/plain": [
       "519"
      ]
     },
     "execution_count": 10,
     "metadata": {},
     "output_type": "execute_result"
    }
   ],
   "source": [
    "len(metrics)"
   ]
  },
  {
   "cell_type": "code",
   "execution_count": null,
   "id": "d3129805",
   "metadata": {},
   "outputs": [],
   "source": [
    "#more metrics should be added"
   ]
  }
 ],
 "metadata": {
  "kernelspec": {
   "display_name": "Python 3",
   "language": "python",
   "name": "python3"
  },
  "language_info": {
   "codemirror_mode": {
    "name": "ipython",
    "version": 3
   },
   "file_extension": ".py",
   "mimetype": "text/x-python",
   "name": "python",
   "nbconvert_exporter": "python",
   "pygments_lexer": "ipython3",
   "version": "3.8.8"
  }
 },
 "nbformat": 4,
 "nbformat_minor": 5
}
