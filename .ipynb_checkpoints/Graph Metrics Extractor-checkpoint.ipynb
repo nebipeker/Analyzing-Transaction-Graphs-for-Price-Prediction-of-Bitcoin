{
 "cells": [
  {
   "cell_type": "code",
   "execution_count": null,
   "id": "3fb5f121",
   "metadata": {},
   "outputs": [],
   "source": [
    "#G = graphs[0]"
   ]
  },
  {
   "cell_type": "code",
   "execution_count": null,
   "id": "a5b223a3",
   "metadata": {},
   "outputs": [],
   "source": [
    "#nx.pagerank(G,alpha=0.1)"
   ]
  },
  {
   "cell_type": "code",
   "execution_count": null,
   "id": "92f224dd",
   "metadata": {
    "scrolled": false
   },
   "outputs": [],
   "source": [
    "#nx.average_shortest_path_length(G)"
   ]
  },
  {
   "cell_type": "code",
   "execution_count": null,
   "id": "ed78bbaf",
   "metadata": {},
   "outputs": [],
   "source": [
    "#nx.betweenness_centrality(G)"
   ]
  },
  {
   "cell_type": "code",
   "execution_count": null,
   "id": "dfea5474",
   "metadata": {},
   "outputs": [],
   "source": [
    "metrics = []"
   ]
  },
  {
   "cell_type": "code",
   "execution_count": null,
   "id": "37769084",
   "metadata": {},
   "outputs": [],
   "source": [
    "with open('graphs0-80.pkl', 'rb') as f:\n",
    "    graphs = pickle.load(f)\n",
    "for x in graphs:\n",
    "    average_clustering = nx.average_clustering(x)\n",
    "    density = nx.density(x)\n",
    "    average_degree_connectivity = nx.average_degree_connectivity(x)\n",
    "    number_of_edges = x.number_of_edges()\n",
    "    number_of_nodes = x.number_of_nodes()\n",
    "    metrics.append([average_clustering,density,average_degree_connectivity,number_of_edges,number_of_nodes])"
   ]
  },
  {
   "cell_type": "code",
   "execution_count": null,
   "id": "d33e8b5e",
   "metadata": {},
   "outputs": [],
   "source": [
    "with open('graphs80-130.pkl', 'rb') as f:\n",
    "    graphs = pickle.load(f)\n",
    "for x in graphs:\n",
    "    average_clustering = nx.average_clustering(x)\n",
    "    density = nx.density(x)\n",
    "    average_degree_connectivity = nx.average_degree_connectivity(x)\n",
    "    number_of_edges = x.number_of_edges()\n",
    "    number_of_nodes = x.number_of_nodes()\n",
    "    metrics.append([average_clustering,density,average_degree_connectivity,number_of_edges,number_of_nodes])"
   ]
  },
  {
   "cell_type": "code",
   "execution_count": null,
   "id": "7be8d2fa",
   "metadata": {},
   "outputs": [],
   "source": [
    "with open('graphs130-150.pkl', 'rb') as f:\n",
    "    graphs = pickle.load(f)\n",
    "for x in graphs:\n",
    "    average_clustering = nx.average_clustering(x)\n",
    "    density = nx.density(x)\n",
    "    average_degree_connectivity = nx.average_degree_connectivity(x)\n",
    "    number_of_edges = x.number_of_edges()\n",
    "    number_of_nodes = x.number_of_nodes()\n",
    "    metrics.append([average_clustering,density,average_degree_connectivity,number_of_edges,number_of_nodes])"
   ]
  },
  {
   "cell_type": "code",
   "execution_count": null,
   "id": "ff90c4d1",
   "metadata": {},
   "outputs": [],
   "source": [
    "with open('graphs150-169.pkl', 'rb') as f:\n",
    "    graphs = pickle.load(f)\n",
    "for x in graphs:\n",
    "    average_clustering = nx.average_clustering(x)\n",
    "    density = nx.density(x)\n",
    "    average_degree_connectivity = nx.average_degree_connectivity(x)\n",
    "    number_of_edges = x.number_of_edges()\n",
    "    number_of_nodes = x.number_of_nodes()\n",
    "    metrics.append([average_clustering,density,average_degree_connectivity,number_of_edges,number_of_nodes])"
   ]
  },
  {
   "cell_type": "code",
   "execution_count": null,
   "id": "8a4b7ce8",
   "metadata": {},
   "outputs": [],
   "source": [
    "with open('metrics.pkl', 'wb') as f:\n",
    "    pickle.dump(metrics, f)"
   ]
  },
  {
   "cell_type": "code",
   "execution_count": null,
   "id": "f8ba4c4e",
   "metadata": {},
   "outputs": [],
   "source": [
    "df = pd.DataFrame(metrics, columns = [\"average_clustering\",\"density\",\"average_degree_connectivity\",\"number_of_edges\",\"number_of_nodes\"])"
   ]
  },
  {
   "cell_type": "code",
   "execution_count": null,
   "id": "f2c61dac",
   "metadata": {},
   "outputs": [],
   "source": [
    "df.to_csv(\"metrics.csv\")"
   ]
  },
  {
   "cell_type": "code",
   "execution_count": null,
   "id": "607fc336",
   "metadata": {},
   "outputs": [],
   "source": [
    "#a =nx.k_core(graphs[0])"
   ]
  },
  {
   "cell_type": "code",
   "execution_count": null,
   "id": "c32263b1",
   "metadata": {},
   "outputs": [],
   "source": [
    "#nx.draw(a)"
   ]
  },
  {
   "cell_type": "code",
   "execution_count": null,
   "id": "809323f6",
   "metadata": {},
   "outputs": [],
   "source": [
    "#nx.draw(x)"
   ]
  },
  {
   "cell_type": "code",
   "execution_count": null,
   "id": "d3129805",
   "metadata": {},
   "outputs": [],
   "source": [
    "#more metrics should be added"
   ]
  },
  {
   "cell_type": "code",
   "execution_count": null,
   "id": "a2e8125a",
   "metadata": {},
   "outputs": [],
   "source": [
    "df"
   ]
  },
  {
   "cell_type": "code",
   "execution_count": null,
   "id": "6c0507ab",
   "metadata": {},
   "outputs": [],
   "source": [
    "from dateutil.parser import parse\n",
    "from datetime import datetime"
   ]
  },
  {
   "cell_type": "code",
   "execution_count": null,
   "id": "2715bbf8",
   "metadata": {},
   "outputs": [],
   "source": [
    "df[\"Date\"] = df[\"Date\"].apply(lambda x :datetime.strptime(parse(x).strftime('%m %d %Y'),'%m %d %Y').date() )"
   ]
  },
  {
   "cell_type": "code",
   "execution_count": null,
   "id": "fd3bbb23",
   "metadata": {},
   "outputs": [],
   "source": [
    "df.iloc[0][0].weekday()"
   ]
  },
  {
   "cell_type": "code",
   "execution_count": 9,
   "id": "09797b91",
   "metadata": {},
   "outputs": [],
   "source": [
    "def formatter_change(x):\n",
    "    if x.endswith(\"%\") :\n",
    "        x = x[:-1]\n",
    "        return float(x)\n",
    "def formatter_vol(x):\n",
    "    if x.endswith(\"K\") :\n",
    "        x = x[:-1]\n",
    "        return float(x) * 1000\n",
    "def to_float(x):\n",
    "    return float(x)"
   ]
  },
  {
   "cell_type": "code",
   "execution_count": null,
   "id": "efd22af4",
   "metadata": {},
   "outputs": [],
   "source": [
    "df[\"Change\"] = df[\"Change\"].apply(formatter_change)"
   ]
  },
  {
   "cell_type": "code",
   "execution_count": null,
   "id": "6b907690",
   "metadata": {},
   "outputs": [],
   "source": [
    "df[\"Vol\"] = df[\"Vol\"].apply(formatter_vol)"
   ]
  },
  {
   "cell_type": "code",
   "execution_count": null,
   "id": "edb956fe",
   "metadata": {},
   "outputs": [],
   "source": [
    "df.to_csv(\"market_data.csv\", index=None)"
   ]
  },
  {
   "cell_type": "code",
   "execution_count": null,
   "id": "f0921fa4",
   "metadata": {},
   "outputs": [],
   "source": [
    "df.columns = ['Date', 'Price', 'Open', 'High', 'Low', 'Vol', 'Change']"
   ]
  },
  {
   "cell_type": "code",
   "execution_count": 1,
   "id": "34d198fd",
   "metadata": {},
   "outputs": [],
   "source": [
    "import pickle\n",
    "import networkx as nx\n",
    "import pandas as pd"
   ]
  },
  {
   "cell_type": "code",
   "execution_count": 2,
   "id": "76c40f7d",
   "metadata": {},
   "outputs": [],
   "source": [
    "df = pd.read_csv(\"market_data.csv\")"
   ]
  },
  {
   "cell_type": "code",
   "execution_count": 10,
   "id": "e485e59b",
   "metadata": {},
   "outputs": [
    {
     "ename": "ValueError",
     "evalue": "could not convert string to float: '2021-01-01 00:00:00'",
     "output_type": "error",
     "traceback": [
      "\u001b[1;31m---------------------------------------------------------------------------\u001b[0m",
      "\u001b[1;31mValueError\u001b[0m                                Traceback (most recent call last)",
      "\u001b[1;32m<ipython-input-10-7452527ae1de>\u001b[0m in \u001b[0;36m<module>\u001b[1;34m\u001b[0m\n\u001b[1;32m----> 1\u001b[1;33m \u001b[0mdf\u001b[0m\u001b[1;33m[\u001b[0m\u001b[1;34m'Price'\u001b[0m\u001b[1;33m]\u001b[0m \u001b[1;33m=\u001b[0m \u001b[0mdf\u001b[0m\u001b[1;33m[\u001b[0m\u001b[1;34m\"Price\"\u001b[0m\u001b[1;33m]\u001b[0m\u001b[1;33m.\u001b[0m\u001b[0mapply\u001b[0m\u001b[1;33m(\u001b[0m\u001b[0mto_float\u001b[0m\u001b[1;33m)\u001b[0m\u001b[1;33m\u001b[0m\u001b[1;33m\u001b[0m\u001b[0m\n\u001b[0m\u001b[0;32m      2\u001b[0m \u001b[0mdf\u001b[0m\u001b[1;33m[\u001b[0m\u001b[1;34m'Open'\u001b[0m\u001b[1;33m]\u001b[0m \u001b[1;33m=\u001b[0m \u001b[0mdf\u001b[0m\u001b[1;33m[\u001b[0m\u001b[1;34m\"Open\"\u001b[0m\u001b[1;33m]\u001b[0m\u001b[1;33m.\u001b[0m\u001b[0mapply\u001b[0m\u001b[1;33m(\u001b[0m\u001b[0mto_float\u001b[0m\u001b[1;33m)\u001b[0m\u001b[1;33m\u001b[0m\u001b[1;33m\u001b[0m\u001b[0m\n\u001b[0;32m      3\u001b[0m \u001b[0mdf\u001b[0m\u001b[1;33m[\u001b[0m\u001b[1;34m'High'\u001b[0m\u001b[1;33m]\u001b[0m \u001b[1;33m=\u001b[0m \u001b[0mdf\u001b[0m\u001b[1;33m[\u001b[0m\u001b[1;34m\"High\"\u001b[0m\u001b[1;33m]\u001b[0m\u001b[1;33m.\u001b[0m\u001b[0mapply\u001b[0m\u001b[1;33m(\u001b[0m\u001b[0mto_float\u001b[0m\u001b[1;33m)\u001b[0m\u001b[1;33m\u001b[0m\u001b[1;33m\u001b[0m\u001b[0m\n\u001b[0;32m      4\u001b[0m \u001b[0mdf\u001b[0m\u001b[1;33m[\u001b[0m\u001b[1;34m'Low'\u001b[0m\u001b[1;33m]\u001b[0m \u001b[1;33m=\u001b[0m \u001b[0mdf\u001b[0m\u001b[1;33m[\u001b[0m\u001b[1;34m\"Low\"\u001b[0m\u001b[1;33m]\u001b[0m\u001b[1;33m.\u001b[0m\u001b[0mapply\u001b[0m\u001b[1;33m(\u001b[0m\u001b[0mto_float\u001b[0m\u001b[1;33m)\u001b[0m\u001b[1;33m\u001b[0m\u001b[1;33m\u001b[0m\u001b[0m\n",
      "\u001b[1;32mD:\\Anaconda\\lib\\site-packages\\pandas\\core\\series.py\u001b[0m in \u001b[0;36mapply\u001b[1;34m(self, func, convert_dtype, args, **kwds)\u001b[0m\n\u001b[0;32m   4136\u001b[0m             \u001b[1;32melse\u001b[0m\u001b[1;33m:\u001b[0m\u001b[1;33m\u001b[0m\u001b[1;33m\u001b[0m\u001b[0m\n\u001b[0;32m   4137\u001b[0m                 \u001b[0mvalues\u001b[0m \u001b[1;33m=\u001b[0m \u001b[0mself\u001b[0m\u001b[1;33m.\u001b[0m\u001b[0mastype\u001b[0m\u001b[1;33m(\u001b[0m\u001b[0mobject\u001b[0m\u001b[1;33m)\u001b[0m\u001b[1;33m.\u001b[0m\u001b[0m_values\u001b[0m\u001b[1;33m\u001b[0m\u001b[1;33m\u001b[0m\u001b[0m\n\u001b[1;32m-> 4138\u001b[1;33m                 \u001b[0mmapped\u001b[0m \u001b[1;33m=\u001b[0m \u001b[0mlib\u001b[0m\u001b[1;33m.\u001b[0m\u001b[0mmap_infer\u001b[0m\u001b[1;33m(\u001b[0m\u001b[0mvalues\u001b[0m\u001b[1;33m,\u001b[0m \u001b[0mf\u001b[0m\u001b[1;33m,\u001b[0m \u001b[0mconvert\u001b[0m\u001b[1;33m=\u001b[0m\u001b[0mconvert_dtype\u001b[0m\u001b[1;33m)\u001b[0m\u001b[1;33m\u001b[0m\u001b[1;33m\u001b[0m\u001b[0m\n\u001b[0m\u001b[0;32m   4139\u001b[0m \u001b[1;33m\u001b[0m\u001b[0m\n\u001b[0;32m   4140\u001b[0m         \u001b[1;32mif\u001b[0m \u001b[0mlen\u001b[0m\u001b[1;33m(\u001b[0m\u001b[0mmapped\u001b[0m\u001b[1;33m)\u001b[0m \u001b[1;32mand\u001b[0m \u001b[0misinstance\u001b[0m\u001b[1;33m(\u001b[0m\u001b[0mmapped\u001b[0m\u001b[1;33m[\u001b[0m\u001b[1;36m0\u001b[0m\u001b[1;33m]\u001b[0m\u001b[1;33m,\u001b[0m \u001b[0mSeries\u001b[0m\u001b[1;33m)\u001b[0m\u001b[1;33m:\u001b[0m\u001b[1;33m\u001b[0m\u001b[1;33m\u001b[0m\u001b[0m\n",
      "\u001b[1;32mpandas\\_libs\\lib.pyx\u001b[0m in \u001b[0;36mpandas._libs.lib.map_infer\u001b[1;34m()\u001b[0m\n",
      "\u001b[1;32m<ipython-input-9-261c18f8b56d>\u001b[0m in \u001b[0;36mto_float\u001b[1;34m(x)\u001b[0m\n\u001b[0;32m      8\u001b[0m         \u001b[1;32mreturn\u001b[0m \u001b[0mfloat\u001b[0m\u001b[1;33m(\u001b[0m\u001b[0mx\u001b[0m\u001b[1;33m)\u001b[0m \u001b[1;33m*\u001b[0m \u001b[1;36m1000\u001b[0m\u001b[1;33m\u001b[0m\u001b[1;33m\u001b[0m\u001b[0m\n\u001b[0;32m      9\u001b[0m \u001b[1;32mdef\u001b[0m \u001b[0mto_float\u001b[0m\u001b[1;33m(\u001b[0m\u001b[0mx\u001b[0m\u001b[1;33m)\u001b[0m\u001b[1;33m:\u001b[0m\u001b[1;33m\u001b[0m\u001b[1;33m\u001b[0m\u001b[0m\n\u001b[1;32m---> 10\u001b[1;33m     \u001b[1;32mreturn\u001b[0m \u001b[0mfloat\u001b[0m\u001b[1;33m(\u001b[0m\u001b[0mx\u001b[0m\u001b[1;33m)\u001b[0m\u001b[1;33m\u001b[0m\u001b[1;33m\u001b[0m\u001b[0m\n\u001b[0m",
      "\u001b[1;31mValueError\u001b[0m: could not convert string to float: '2021-01-01 00:00:00'"
     ]
    }
   ],
   "source": [
    "df['Price'] = df[\"Price\"].apply(to_float)\n",
    "df['Open'] = df[\"Open\"].apply(to_float)\n",
    "df['High'] = df[\"High\"].apply(to_float)\n",
    "df['Low'] = df[\"Low\"].apply(to_float)"
   ]
  },
  {
   "cell_type": "code",
   "execution_count": null,
   "id": "6767944f",
   "metadata": {},
   "outputs": [],
   "source": [
    "prev = 0\n",
    "for i in range(7,df.shape[0],7):\n",
    "    slice = df.iloc[prev:i]\n",
    "    prev = i\n",
    "    "
   ]
  },
  {
   "cell_type": "code",
   "execution_count": 14,
   "id": "a45f3cd1",
   "metadata": {},
   "outputs": [
    {
     "data": {
      "text/html": [
       "<div>\n",
       "<style scoped>\n",
       "    .dataframe tbody tr th:only-of-type {\n",
       "        vertical-align: middle;\n",
       "    }\n",
       "\n",
       "    .dataframe tbody tr th {\n",
       "        vertical-align: top;\n",
       "    }\n",
       "\n",
       "    .dataframe thead th {\n",
       "        text-align: right;\n",
       "    }\n",
       "</style>\n",
       "<table border=\"1\" class=\"dataframe\">\n",
       "  <thead>\n",
       "    <tr style=\"text-align: right;\">\n",
       "      <th></th>\n",
       "      <th>Date</th>\n",
       "      <th>Price</th>\n",
       "      <th>Open</th>\n",
       "      <th>High</th>\n",
       "      <th>Low</th>\n",
       "      <th>Vol</th>\n",
       "      <th>Change</th>\n",
       "    </tr>\n",
       "  </thead>\n",
       "  <tbody>\n",
       "    <tr>\n",
       "      <th>0</th>\n",
       "      <td>2010-11-01</td>\n",
       "      <td>0.2</td>\n",
       "      <td>0.2</td>\n",
       "      <td>0.2</td>\n",
       "      <td>0.2</td>\n",
       "      <td>21260.0</td>\n",
       "      <td>0.00</td>\n",
       "    </tr>\n",
       "    <tr>\n",
       "      <th>1</th>\n",
       "      <td>2010-11-02</td>\n",
       "      <td>0.2</td>\n",
       "      <td>0.2</td>\n",
       "      <td>0.2</td>\n",
       "      <td>0.2</td>\n",
       "      <td>5850.0</td>\n",
       "      <td>0.00</td>\n",
       "    </tr>\n",
       "    <tr>\n",
       "      <th>2</th>\n",
       "      <td>2010-11-03</td>\n",
       "      <td>0.2</td>\n",
       "      <td>0.2</td>\n",
       "      <td>0.3</td>\n",
       "      <td>0.1</td>\n",
       "      <td>61470.0</td>\n",
       "      <td>0.00</td>\n",
       "    </tr>\n",
       "    <tr>\n",
       "      <th>3</th>\n",
       "      <td>2010-11-04</td>\n",
       "      <td>0.2</td>\n",
       "      <td>0.2</td>\n",
       "      <td>0.2</td>\n",
       "      <td>0.2</td>\n",
       "      <td>29700.0</td>\n",
       "      <td>0.00</td>\n",
       "    </tr>\n",
       "    <tr>\n",
       "      <th>4</th>\n",
       "      <td>2010-11-05</td>\n",
       "      <td>0.3</td>\n",
       "      <td>0.2</td>\n",
       "      <td>0.3</td>\n",
       "      <td>0.2</td>\n",
       "      <td>36620.0</td>\n",
       "      <td>0.00</td>\n",
       "    </tr>\n",
       "    <tr>\n",
       "      <th>...</th>\n",
       "      <td>...</td>\n",
       "      <td>...</td>\n",
       "      <td>...</td>\n",
       "      <td>...</td>\n",
       "      <td>...</td>\n",
       "      <td>...</td>\n",
       "      <td>...</td>\n",
       "    </tr>\n",
       "    <tr>\n",
       "      <th>1151</th>\n",
       "      <td>2013-12-26</td>\n",
       "      <td>802.0</td>\n",
       "      <td>707.3</td>\n",
       "      <td>829.6</td>\n",
       "      <td>707.2</td>\n",
       "      <td>23530.0</td>\n",
       "      <td>13.39</td>\n",
       "    </tr>\n",
       "    <tr>\n",
       "      <th>1152</th>\n",
       "      <td>2013-12-27</td>\n",
       "      <td>803.0</td>\n",
       "      <td>802.0</td>\n",
       "      <td>836.8</td>\n",
       "      <td>767.9</td>\n",
       "      <td>13890.0</td>\n",
       "      <td>0.13</td>\n",
       "    </tr>\n",
       "    <tr>\n",
       "      <th>1153</th>\n",
       "      <td>2013-12-28</td>\n",
       "      <td>762.0</td>\n",
       "      <td>803.0</td>\n",
       "      <td>806.0</td>\n",
       "      <td>715.6</td>\n",
       "      <td>13340.0</td>\n",
       "      <td>-5.11</td>\n",
       "    </tr>\n",
       "    <tr>\n",
       "      <th>1154</th>\n",
       "      <td>2013-12-29</td>\n",
       "      <td>785.0</td>\n",
       "      <td>762.0</td>\n",
       "      <td>804.0</td>\n",
       "      <td>735.0</td>\n",
       "      <td>7040.0</td>\n",
       "      <td>3.01</td>\n",
       "    </tr>\n",
       "    <tr>\n",
       "      <th>1155</th>\n",
       "      <td>2013-12-30</td>\n",
       "      <td>804.8</td>\n",
       "      <td>785.0</td>\n",
       "      <td>818.8</td>\n",
       "      <td>781.0</td>\n",
       "      <td>10480.0</td>\n",
       "      <td>2.53</td>\n",
       "    </tr>\n",
       "  </tbody>\n",
       "</table>\n",
       "<p>1156 rows × 7 columns</p>\n",
       "</div>"
      ],
      "text/plain": [
       "            Date  Price   Open   High    Low      Vol  Change\n",
       "0     2010-11-01    0.2    0.2    0.2    0.2  21260.0    0.00\n",
       "1     2010-11-02    0.2    0.2    0.2    0.2   5850.0    0.00\n",
       "2     2010-11-03    0.2    0.2    0.3    0.1  61470.0    0.00\n",
       "3     2010-11-04    0.2    0.2    0.2    0.2  29700.0    0.00\n",
       "4     2010-11-05    0.3    0.2    0.3    0.2  36620.0    0.00\n",
       "...          ...    ...    ...    ...    ...      ...     ...\n",
       "1151  2013-12-26  802.0  707.3  829.6  707.2  23530.0   13.39\n",
       "1152  2013-12-27  803.0  802.0  836.8  767.9  13890.0    0.13\n",
       "1153  2013-12-28  762.0  803.0  806.0  715.6  13340.0   -5.11\n",
       "1154  2013-12-29  785.0  762.0  804.0  735.0   7040.0    3.01\n",
       "1155  2013-12-30  804.8  785.0  818.8  781.0  10480.0    2.53\n",
       "\n",
       "[1156 rows x 7 columns]"
      ]
     },
     "execution_count": 14,
     "metadata": {},
     "output_type": "execute_result"
    }
   ],
   "source": [
    "df"
   ]
  },
  {
   "cell_type": "code",
   "execution_count": 8,
   "id": "8a5c20d4",
   "metadata": {},
   "outputs": [
    {
     "data": {
      "text/plain": [
       "'0.2'"
      ]
     },
     "execution_count": 8,
     "metadata": {},
     "output_type": "execute_result"
    }
   ],
   "source": [
    "df.iloc[0:7].Price[0]"
   ]
  },
  {
   "cell_type": "code",
   "execution_count": 13,
   "id": "5b9ae1a3",
   "metadata": {},
   "outputs": [
    {
     "data": {
      "text/plain": [
       "500    2021-03-05 00:00:00\n",
       "501    2021-03-05 00:00:00\n",
       "502    2021-02-05 00:00:00\n",
       "503    2021-03-05 00:00:00\n",
       "504    2021-07-04 00:00:00\n",
       "              ...         \n",
       "595    2021-03-06 00:00:00\n",
       "596    2021-05-06 00:00:00\n",
       "597    2021-07-06 00:00:00\n",
       "598    2021-07-06 00:00:00\n",
       "599    2021-06-06 00:00:00\n",
       "Name: Price, Length: 100, dtype: object"
      ]
     },
     "execution_count": 13,
     "metadata": {},
     "output_type": "execute_result"
    }
   ],
   "source": [
    "df.Price[500:600]"
   ]
  },
  {
   "cell_type": "code",
   "execution_count": null,
   "id": "effa0520",
   "metadata": {},
   "outputs": [],
   "source": []
  }
 ],
 "metadata": {
  "kernelspec": {
   "display_name": "Python 3",
   "language": "python",
   "name": "python3"
  },
  "language_info": {
   "codemirror_mode": {
    "name": "ipython",
    "version": 3
   },
   "file_extension": ".py",
   "mimetype": "text/x-python",
   "name": "python",
   "nbconvert_exporter": "python",
   "pygments_lexer": "ipython3",
   "version": "3.8.8"
  }
 },
 "nbformat": 4,
 "nbformat_minor": 5
}
