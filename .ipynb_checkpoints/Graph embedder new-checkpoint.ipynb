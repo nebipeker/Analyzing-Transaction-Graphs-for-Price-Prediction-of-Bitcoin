{
 "cells": [
  {
   "cell_type": "code",
   "execution_count": null,
   "id": "66707c93",
   "metadata": {},
   "outputs": [],
   "source": [
    "import networkx as nx\n",
    "import pandas as pd\n",
    "import os\n",
    "import glob\n",
    "import csv\n",
    "\n",
    "%matplotlib inline\n",
    "\n",
    "import warnings\n",
    "from text_unidecode import unidecode\n",
    "from collections import deque\n",
    "warnings.filterwarnings('ignore')\n",
    "\n",
    "\n",
    "from sklearn.manifold import TSNE\n",
    "import numpy as np\n",
    "import matplotlib.pyplot as plt\n",
    "import matplotlib.patches as mpatches\n",
    "import seaborn as sns\n",
    "from node2vec import Node2Vec\n",
    "import pickle"
   ]
  },
  {
   "cell_type": "code",
   "execution_count": null,
   "id": "d847b11a",
   "metadata": {},
   "outputs": [],
   "source": [
    "embeddings_by_graphs = []\n",
    "x,y = 1,136\n",
    "for g in range(x,y):\n",
    "    csvs = glob.glob(os.getcwd()+\"/data/Samples/sample_{}_*.csv\".format(g))\n",
    "    vectors=[]\n",
    "    index = 0\n",
    "    parameters=[]\n",
    "    #print(csvs)\n",
    "    \n",
    "    for i in csvs:\n",
    "        print(g, \" \",index ,\"/\",len(csvs))\n",
    "        index +=1\n",
    "        df = pd.read_csv(i).iloc[:,[0,1,7]]\n",
    "        df.columns = [\"in\",\"out\",\"amount\"]\n",
    "        graph = nx.from_pandas_edgelist(df,source=\"out\",target=\"in\")\n",
    "        print(nx.info(graph))\n",
    "        node2vec = Node2Vec(graph, dimensions=128, walk_length=16, num_walks=100, workers=2)\n",
    "        model = node2vec.fit(window=10, min_count=1)\n",
    "        vectors.append(model.wv.vectors)\n",
    "    \n",
    "    embeddings_by_graphs.append(vectors)\n",
    "    with open('embeddings_weekly{x}_{y}.pkl', 'wb') as f:\n",
    "        pickle.dump(embeddings_by_graphs, f)"
   ]
  }
 ],
 "metadata": {
  "kernelspec": {
   "display_name": "Python 3 (ipykernel)",
   "language": "python",
   "name": "python3"
  },
  "language_info": {
   "codemirror_mode": {
    "name": "ipython",
    "version": 3
   },
   "file_extension": ".py",
   "mimetype": "text/x-python",
   "name": "python",
   "nbconvert_exporter": "python",
   "pygments_lexer": "ipython3",
   "version": "3.9.7"
  }
 },
 "nbformat": 4,
 "nbformat_minor": 5
}
