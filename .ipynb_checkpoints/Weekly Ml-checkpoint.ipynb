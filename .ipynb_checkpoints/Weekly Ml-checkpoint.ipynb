{
 "cells": [
  {
   "cell_type": "code",
   "execution_count": 234,
   "id": "00d7624d",
   "metadata": {},
   "outputs": [],
   "source": [
    "import pandas as pd\n",
    "import numpy as np"
   ]
  },
  {
   "cell_type": "code",
   "execution_count": 235,
   "id": "57becb50",
   "metadata": {},
   "outputs": [],
   "source": [
    "from sklearn import svm\n",
    "from sklearn.linear_model import SGDClassifier\n",
    "from sklearn.neighbors import KNeighborsClassifier\n",
    "from sklearn.tree import DecisionTreeClassifier\n",
    "from sklearn.ensemble import RandomForestClassifier\n",
    "from sklearn.preprocessing import StandardScaler\n",
    "from sklearn.model_selection import train_test_split\n",
    "from sklearn.metrics import f1_score\n",
    "from sklearn.metrics import precision_score\n",
    "from sklearn.metrics import recall_score\n",
    "from sklearn.metrics import accuracy_score\n",
    "from sklearn.model_selection import GridSearchCV\n",
    "from sklearn.pipeline import Pipeline\n",
    "from sklearn.decomposition import PCA"
   ]
  },
  {
   "cell_type": "code",
   "execution_count": 236,
   "id": "ca3c57ff",
   "metadata": {},
   "outputs": [],
   "source": [
    "import warnings\n",
    "warnings.filterwarnings(\"ignore\")"
   ]
  },
  {
   "cell_type": "code",
   "execution_count": 237,
   "id": "4c855018",
   "metadata": {},
   "outputs": [],
   "source": [
    "market_data = pd.read_csv(\"./data/Bitcoin Price Weekly 2022 to 2010 .csv\")\n",
    "graph_parameters= pd.read_csv(\"./data/weeklyparameters.csv\")\n",
    "pca = PCA(n_components=50)\n",
    "graph_parameters = pca.fit_transform(graph_parameters)"
   ]
  },
  {
   "cell_type": "code",
   "execution_count": 238,
   "id": "02e1b5e0",
   "metadata": {},
   "outputs": [],
   "source": [
    "threshold=3\n",
    "def y_creator(threshold):\n",
    "    Y = []\n",
    "    for i in market_data[\"Change %\"][51:51+graph_parameters.shape[0]]:\n",
    "        if abs(i)>threshold:\n",
    "            if i>0:\n",
    "                Y.append(1)\n",
    "            else:\n",
    "                Y.append(-1)\n",
    "        else:\n",
    "            Y.append(0)\n",
    "    return Y\n",
    "Y = y_creator(threshold)"
   ]
  },
  {
   "cell_type": "code",
   "execution_count": 239,
   "id": "c4873e70",
   "metadata": {},
   "outputs": [],
   "source": [
    "scaler = StandardScaler()\n",
    "cols = market_data.columns\n",
    "graph_parameters = pd.DataFrame(scaler.fit_transform(graph_parameters))\n",
    "\n",
    "market_data = pd.DataFrame(scaler.fit_transform(market_data.iloc[:,1:]))\n",
    "market_data.columns = cols[1:]"
   ]
  },
  {
   "cell_type": "code",
   "execution_count": 240,
   "id": "363e02e3",
   "metadata": {},
   "outputs": [],
   "source": [
    "full_df= pd.concat([market_data.iloc[50:50+graph_parameters.shape[0]].reset_index().drop('index',axis=1),graph_parameters],axis=1).iloc[:116]"
   ]
  },
  {
   "cell_type": "code",
   "execution_count": 241,
   "id": "72450212",
   "metadata": {},
   "outputs": [],
   "source": [
    "scaler = StandardScaler()\n",
    "scaled_x = scaler.fit_transform(full_df)\n",
    "x_train, x_test, y_train, y_test = train_test_split(scaled_x, Y, test_size=0.33, random_state=42)"
   ]
  },
  {
   "cell_type": "code",
   "execution_count": 242,
   "id": "7d221d01",
   "metadata": {},
   "outputs": [],
   "source": [
    "averages = [\"macro\", \"micro\",\"weighted\"]"
   ]
  },
  {
   "cell_type": "code",
   "execution_count": 243,
   "id": "33ab7e2a",
   "metadata": {
    "scrolled": false
   },
   "outputs": [
    {
     "name": "stdout",
     "output_type": "stream",
     "text": [
      "Fitting 3 folds for each of 10 candidates, totalling 30 fits\n",
      "[CV] END ....C=4.0823327840527615, gamma=0.00795606647019567; total time=   0.0s\n",
      "[CV] END ....C=4.0823327840527615, gamma=0.00795606647019567; total time=   0.0s\n",
      "[CV] END ....C=4.0823327840527615, gamma=0.00795606647019567; total time=   0.0s\n",
      "[CV] END .....C=5.649101216601867, gamma=0.02819518606444754; total time=   0.0s\n",
      "[CV] END .....C=5.649101216601867, gamma=0.02819518606444754; total time=   0.0s\n",
      "[CV] END .....C=5.649101216601867, gamma=0.02819518606444754; total time=   0.0s\n",
      "[CV] END .....C=8.33637100676652, gamma=0.008147141312269793; total time=   0.0s\n",
      "[CV] END .....C=8.33637100676652, gamma=0.008147141312269793; total time=   0.0s\n",
      "[CV] END .....C=8.33637100676652, gamma=0.008147141312269793; total time=   0.0s\n",
      "[CV] END ...C=2.0458714585056725, gamma=0.020615587826807613; total time=   0.0s\n",
      "[CV] END ...C=2.0458714585056725, gamma=0.020615587826807613; total time=   0.0s\n",
      "[CV] END ...C=2.0458714585056725, gamma=0.020615587826807613; total time=   0.0s\n",
      "[CV] END ...C=4.625197230425561, gamma=0.0027064988022661484; total time=   0.0s\n",
      "[CV] END ...C=4.625197230425561, gamma=0.0027064988022661484; total time=   0.0s\n",
      "[CV] END ...C=4.625197230425561, gamma=0.0027064988022661484; total time=   0.0s\n",
      "[CV] END .....C=9.546327702081216, gamma=0.01852322346937772; total time=   0.0s\n",
      "[CV] END .....C=9.546327702081216, gamma=0.01852322346937772; total time=   0.0s\n",
      "[CV] END .....C=9.546327702081216, gamma=0.01852322346937772; total time=   0.0s\n",
      "[CV] END .....C=9.42064678826953, gamma=0.052757121323831806; total time=   0.0s\n",
      "[CV] END .....C=9.42064678826953, gamma=0.052757121323831806; total time=   0.0s\n",
      "[CV] END .....C=9.42064678826953, gamma=0.052757121323831806; total time=   0.0s\n",
      "[CV] END ...C=6.516324860500081, gamma=0.0025033493998661296; total time=   0.0s\n",
      "[CV] END ...C=6.516324860500081, gamma=0.0025033493998661296; total time=   0.0s\n",
      "[CV] END ...C=6.516324860500081, gamma=0.0025033493998661296; total time=   0.0s\n",
      "[CV] END ....C=2.42507853823039, gamma=0.0020817888030035658; total time=   0.0s\n",
      "[CV] END ....C=2.42507853823039, gamma=0.0020817888030035658; total time=   0.0s\n",
      "[CV] END ....C=2.42507853823039, gamma=0.0020817888030035658; total time=   0.0s\n",
      "[CV] END ....C=6.942302934250824, gamma=0.006580424665149482; total time=   0.0s\n",
      "[CV] END ....C=6.942302934250824, gamma=0.006580424665149482; total time=   0.0s\n",
      "[CV] END ....C=6.942302934250824, gamma=0.006580424665149482; total time=   0.0s\n",
      "0.44871794871794873\n",
      "SVC(C=2.0458714585056725, gamma=0.020615587826807613)\n"
     ]
    }
   ],
   "source": [
    "from sklearn.model_selection import RandomizedSearchCV\n",
    "from scipy.stats import reciprocal, uniform\n",
    "\n",
    "svm_model           = svm.SVC()\n",
    "param_distributions = {\"gamma\": reciprocal(0.001, 0.1), \"C\": uniform(1, 10)}\n",
    "rnd_search_cv = RandomizedSearchCV(svm_model, param_distributions, n_iter=10, verbose=2, cv=3)\n",
    "rnd_search_cv.fit(x_test, y_test)\n",
    "print(rnd_search_cv.best_score_)\n",
    "print(rnd_search_cv.best_estimator_)"
   ]
  },
  {
   "cell_type": "code",
   "execution_count": 244,
   "id": "a56754a2",
   "metadata": {
    "scrolled": false
   },
   "outputs": [],
   "source": [
    "svm_hyperparameters = (rnd_search_cv.best_estimator_.C, rnd_search_cv.best_estimator_.gamma)"
   ]
  },
  {
   "cell_type": "code",
   "execution_count": 245,
   "id": "bae0abd0",
   "metadata": {
    "scrolled": false
   },
   "outputs": [
    {
     "name": "stdout",
     "output_type": "stream",
     "text": [
      "-------------FITTING MODELS-------------\n",
      "-------------SCORING MODELS-------------\n"
     ]
    },
    {
     "name": "stderr",
     "output_type": "stream",
     "text": [
      "[Parallel(n_jobs=-1)]: Using backend LokyBackend with 12 concurrent workers.\n",
      "[Parallel(n_jobs=-1)]: Batch computation too fast (0.0240s.) Setting batch_size=2.\n",
      "[Parallel(n_jobs=-1)]: Done   2 out of   8 | elapsed:    0.0s remaining:    0.0s\n",
      "[Parallel(n_jobs=-1)]: Done   3 out of   8 | elapsed:    0.0s remaining:    0.0s\n",
      "[Parallel(n_jobs=-1)]: Done   4 out of   8 | elapsed:    0.0s remaining:    0.0s\n",
      "[Parallel(n_jobs=-1)]: Done   5 out of   8 | elapsed:    0.0s remaining:    0.0s\n",
      "[Parallel(n_jobs=-1)]: Done   6 out of   8 | elapsed:    0.0s remaining:    0.0s\n",
      "[Parallel(n_jobs=-1)]: Done   8 out of   8 | elapsed:    0.0s remaining:    0.0s\n",
      "[Parallel(n_jobs=-1)]: Done   8 out of   8 | elapsed:    0.0s finished\n",
      "[Parallel(n_jobs=-1)]: Using backend LokyBackend with 12 concurrent workers.\n",
      "[Parallel(n_jobs=-1)]: Done   3 out of   8 | elapsed:    0.0s remaining:    0.0s\n",
      "[Parallel(n_jobs=-1)]: Done   8 out of   8 | elapsed:    0.0s finished\n"
     ]
    },
    {
     "data": {
      "image/png": "[encoded data removed]",
      "text/plain": [
       "<Figure size 432x432 with 1 Axes>"
      ]
     },
     "metadata": {
      "needs_background": "light"
     },
     "output_type": "display_data"
    },
    {
     "name": "stdout",
     "output_type": "stream",
     "text": [
      "SGDClassifier(alpha=10.0, loss='log', n_jobs=-1) 0.42105263157894735\n"
     ]
    }
   ],
   "source": [
    "from sklearn.model_selection import ParameterGrid\n",
    "from sklearn.linear_model import SGDClassifier\n",
    "from sklearn.metrics import roc_auc_score\n",
    "import parfit.parfit as pf\n",
    "\n",
    "grid = {\n",
    "    'alpha': [1e-4, 1e-3, 1e-2, 1e-1, 1e0, 1e1, 1e2, 1e3], # learning rate\n",
    "    \n",
    "    'loss': ['log'], # logistic regression,\n",
    "    'penalty': ['l2'],\n",
    "    'n_jobs': [-1]\n",
    "}\n",
    "paramGrid = ParameterGrid(grid)\n",
    "\n",
    "bestModel, bestScore, allModels, allScores = pf.bestFit(SGDClassifier, paramGrid,\n",
    "           x_train, y_train, x_test, y_test, \n",
    "           metric = accuracy_score,\n",
    "           scoreLabel = \"Accuracy\")\n",
    "\n",
    "print(bestModel, bestScore)"
   ]
  },
  {
   "cell_type": "code",
   "execution_count": 246,
   "id": "1a07c979",
   "metadata": {},
   "outputs": [],
   "source": [
    "scd_hyperparameters = (bestModel.alpha, bestModel.loss, bestModel.n_jobs)"
   ]
  },
  {
   "cell_type": "code",
   "execution_count": 247,
   "id": "e165f704",
   "metadata": {},
   "outputs": [
    {
     "name": "stdout",
     "output_type": "stream",
     "text": [
      "Best leaf_size: 1\n",
      "Best p: 2\n",
      "Best n_neighbors: 21\n"
     ]
    }
   ],
   "source": [
    "#List Hyperparameters that we want to tune.\n",
    "leaf_size = list(range(1,50))\n",
    "n_neighbors = list(range(1,30))\n",
    "p=[1,2]\n",
    "#Convert to dictionary\n",
    "hyperparameters = dict(leaf_size=leaf_size, n_neighbors=n_neighbors, p=p)\n",
    "#Create new KNN object\n",
    "knn_2 = KNeighborsClassifier()\n",
    "#Use GridSearch\n",
    "clf = GridSearchCV(knn_2, hyperparameters, cv=10)\n",
    "#Fit the model\n",
    "best_model = clf.fit(x_test, y_test)\n",
    "#Print The value of best Hyperparameters\n",
    "print('Best leaf_size:', best_model.best_estimator_.get_params()['leaf_size'])\n",
    "print('Best p:', best_model.best_estimator_.get_params()['p'])\n",
    "print('Best n_neighbors:', best_model.best_estimator_.get_params()['n_neighbors'])"
   ]
  },
  {
   "cell_type": "code",
   "execution_count": 248,
   "id": "8cb74d68",
   "metadata": {},
   "outputs": [],
   "source": [
    "knn_hyperparameters = (best_model.best_estimator_.get_params()[\"leaf_size\"], best_model.best_estimator_.get_params()[\"p\"], best_model.best_estimator_.get_params()[\"n_neighbors\"])"
   ]
  },
  {
   "cell_type": "code",
   "execution_count": 249,
   "id": "f2a41c1e",
   "metadata": {},
   "outputs": [],
   "source": [
    "dec_tree = DecisionTreeClassifier()\n",
    "std_slc = StandardScaler()\n",
    "pipe = Pipeline(steps=[('std_slc', std_slc),\n",
    "                           ('dec_tree', dec_tree)])\n",
    "n_components = list(range(1,len(x_train)+1,1))\n",
    "criterion = ['gini', 'entropy']\n",
    "max_depth = [2,4,6,8,10,12]\n",
    "parameters = dict( dec_tree__criterion=criterion,\n",
    "                      dec_tree__max_depth=max_depth)"
   ]
  },
  {
   "cell_type": "code",
   "execution_count": 250,
   "id": "0b1270dd",
   "metadata": {},
   "outputs": [
    {
     "data": {
      "text/plain": [
       "GridSearchCV(estimator=Pipeline(steps=[('std_slc', StandardScaler()),\n",
       "                                       ('dec_tree', DecisionTreeClassifier())]),\n",
       "             param_grid={'dec_tree__criterion': ['gini', 'entropy'],\n",
       "                         'dec_tree__max_depth': [2, 4, 6, 8, 10, 12]})"
      ]
     },
     "execution_count": 250,
     "metadata": {},
     "output_type": "execute_result"
    }
   ],
   "source": [
    "clf_GS = GridSearchCV(pipe, parameters)\n",
    "clf_GS.fit(x_test, y_test)"
   ]
  },
  {
   "cell_type": "code",
   "execution_count": 251,
   "id": "1c5d9a0c",
   "metadata": {},
   "outputs": [
    {
     "name": "stdout",
     "output_type": "stream",
     "text": [
      "Best Criterion: gini\n",
      "Best max_depth: 2\n",
      "DecisionTreeClassifier(max_depth=2)\n"
     ]
    }
   ],
   "source": [
    "print('Best Criterion:', clf_GS.best_estimator_.get_params()['dec_tree__criterion'])\n",
    "print('Best max_depth:', clf_GS.best_estimator_.get_params()['dec_tree__max_depth'])\n",
    "print(clf_GS.best_estimator_.get_params()['dec_tree'])"
   ]
  },
  {
   "cell_type": "code",
   "execution_count": 252,
   "id": "7294f8eb",
   "metadata": {},
   "outputs": [],
   "source": [
    "dtree_hyperparameters = (clf_GS.best_estimator_.get_params()['dec_tree__criterion'], clf_GS.best_estimator_.get_params()['dec_tree__max_depth'])"
   ]
  },
  {
   "cell_type": "code",
   "execution_count": 253,
   "id": "4cbe02a2",
   "metadata": {},
   "outputs": [],
   "source": [
    "param_grid = {\n",
    "    'bootstrap': [True],\n",
    "    'max_depth': [80, 90, 100, 110],\n",
    "    'max_features': [2, 3],\n",
    "    'min_samples_leaf': [3, 4, 5],\n",
    "    'min_samples_split': [8, 10, 12],\n",
    "    'n_estimators': [100, 200, 300, 1000]\n",
    "}\n",
    "# Create a based model\n",
    "rf = RandomForestClassifier()\n",
    "# Instantiate the grid search model\n",
    "grid_search = GridSearchCV(estimator = rf, param_grid = param_grid, \n",
    "                          cv = 3, n_jobs = -1, verbose = 2)"
   ]
  },
  {
   "cell_type": "code",
   "execution_count": 254,
   "id": "b157452d",
   "metadata": {
    "scrolled": true
   },
   "outputs": [
    {
     "name": "stdout",
     "output_type": "stream",
     "text": [
      "Fitting 3 folds for each of 288 candidates, totalling 864 fits\n"
     ]
    },
    {
     "data": {
      "text/plain": [
       "{'bootstrap': True,\n",
       " 'max_depth': 100,\n",
       " 'max_features': 3,\n",
       " 'min_samples_leaf': 3,\n",
       " 'min_samples_split': 10,\n",
       " 'n_estimators': 200}"
      ]
     },
     "execution_count": 254,
     "metadata": {},
     "output_type": "execute_result"
    }
   ],
   "source": [
    "grid_search.fit(x_test, y_test)\n",
    "grid_search.best_params_"
   ]
  },
  {
   "cell_type": "code",
   "execution_count": 255,
   "id": "bd80fdcc",
   "metadata": {},
   "outputs": [
    {
     "data": {
      "text/plain": [
       "100"
      ]
     },
     "execution_count": 255,
     "metadata": {},
     "output_type": "execute_result"
    }
   ],
   "source": [
    "grid_search.best_params_[\"max_depth\"]"
   ]
  },
  {
   "cell_type": "code",
   "execution_count": 256,
   "id": "17f65f1f",
   "metadata": {},
   "outputs": [
    {
     "data": {
      "text/plain": [
       "RandomForestClassifier(max_depth=100, max_features=3, min_samples_leaf=3,\n",
       "                       min_samples_split=10, n_estimators=200)"
      ]
     },
     "execution_count": 256,
     "metadata": {},
     "output_type": "execute_result"
    }
   ],
   "source": [
    "best_grid = grid_search.best_estimator_\n",
    "best_grid"
   ]
  },
  {
   "cell_type": "code",
   "execution_count": 257,
   "id": "d752b0fa",
   "metadata": {},
   "outputs": [],
   "source": [
    "randomforest_hypterparameters = (grid_search.best_params_[\"max_depth\"],grid_search.best_params_[\"max_features\"],grid_search.best_params_[\"min_samples_leaf\"],grid_search.best_params_[\"min_samples_split\"])"
   ]
  },
  {
   "cell_type": "code",
   "execution_count": 258,
   "id": "6d359617",
   "metadata": {},
   "outputs": [],
   "source": [
    "def model_creation(x, Y, average, svmp, stockhastic, knn, dtree, rfm):\n",
    "    scaler = StandardScaler()\n",
    "    scaled_x = scaler.fit_transform(x)\n",
    "    x_train, x_test, y_train, y_test = train_test_split(scaled_x, Y, test_size=0.33, random_state=42)\n",
    "    \n",
    "    svm_model           = svm.SVC(C=svmp[0], gamma=svmp[1])\n",
    "    stockhastic_model   = SGDClassifier(alpha=stockhastic[0], loss=stockhastic[1], n_jobs=stockhastic[2])\n",
    "    knn_model           = KNeighborsClassifier(leaf_size= knn[0],  p= knn[1],n_neighbors= knn[2])\n",
    "    decisiontree_model  = DecisionTreeClassifier(criterion=dtree[0], max_depth=dtree[1])\n",
    "    random_forest_model = RandomForestClassifier(max_depth=rfm[0], max_features=rfm[1], min_samples_leaf=rfm[2], min_samples_split=rfm[3], n_estimators=300)\n",
    "    \n",
    "    svm_model.fit(x_train, y_train)\n",
    "    stockhastic_model.fit(x_train, y_train)\n",
    "    knn_model.fit(x_train, y_train)\n",
    "    decisiontree_model.fit(x_train, y_train)\n",
    "    random_forest_model.fit(x_train, y_train)\n",
    "    \n",
    "    prediction_svm_model          = svm_model.predict(x_test)\n",
    "    prediction_stockhastic_model  = stockhastic_model.predict(x_test)\n",
    "    prediction_knn_model          = knn_model.predict(x_test)\n",
    "    prediction_decisiontree_model = decisiontree_model.predict(x_test)\n",
    "    prediction_random_forest_model= random_forest_model.predict(x_test)\n",
    "    \n",
    "    f1_score_svm_model           = f1_score(y_test, prediction_svm_model,          average=average)\n",
    "    f1_score_stockhastic_model   = f1_score(y_test, prediction_stockhastic_model,  average=average)\n",
    "    f1_score_knn_model           = f1_score(y_test, prediction_knn_model,          average=average)\n",
    "    f1_score_decisiontree_model  = f1_score(y_test, prediction_decisiontree_model, average=average)\n",
    "    f1_score_random_forest_model = f1_score(y_test, prediction_random_forest_model,average=average)\n",
    "    \n",
    "    precision_score_svm_model           = precision_score(y_test, prediction_svm_model          , average=average)\n",
    "    precision_score_stockhastic_model   = precision_score(y_test, prediction_stockhastic_model  , average=average)\n",
    "    precision_score_knn_model           = precision_score(y_test, prediction_knn_model          , average=average)\n",
    "    precision_score_decisiontree_model  = precision_score(y_test, prediction_decisiontree_model , average=average)\n",
    "    precision_score_random_forest_model= precision_score(y_test, prediction_random_forest_model , average=average)\n",
    "    \n",
    "    accuracy_score_svm_model           = accuracy_score(y_test, prediction_svm_model          )\n",
    "    accuracy_score_stockhastic_model   = accuracy_score(y_test, prediction_stockhastic_model  )\n",
    "    accuracy_score_knn_model           = accuracy_score(y_test, prediction_knn_model          )\n",
    "    accuracy_score_decisiontree_model  = accuracy_score(y_test, prediction_decisiontree_model )\n",
    "    accuracy_score_random_forest_model = accuracy_score(y_test, prediction_random_forest_model)\n",
    "    \n",
    "    scores= [[f1_score_svm_model, precision_score_svm_model, accuracy_score_svm_model]\\\n",
    "            ,[f1_score_stockhastic_model, precision_score_stockhastic_model, accuracy_score_stockhastic_model]\\\n",
    "            ,[f1_score_knn_model, precision_score_knn_model, accuracy_score_knn_model]\\\n",
    "            ,[f1_score_decisiontree_model, precision_score_decisiontree_model, accuracy_score_decisiontree_model]\\\n",
    "            ,[f1_score_random_forest_model,precision_score_random_forest_model, accuracy_score_random_forest_model]]\n",
    "    temp_df = pd.DataFrame(scores)\n",
    "    temp_df.columns = [\"F1\", \"Precision\", \"Accuracy\"]\n",
    "    temp_df = temp_df.T\n",
    "    temp_df.columns=[\"SVM\", \"Stockhastic\", \"KNN\", \"DecisionTree\", \"Random Forest\"]\n",
    "    return temp_df.T\n",
    "    "
   ]
  },
  {
   "cell_type": "code",
   "execution_count": 259,
   "id": "4b0fc379",
   "metadata": {},
   "outputs": [],
   "source": [
    "results_with_graph = model_creation(full_df,Y, averages[0], svm_hyperparameters, scd_hyperparameters, knn_hyperparameters, dtree_hyperparameters, randomforest_hypterparameters)"
   ]
  },
  {
   "cell_type": "code",
   "execution_count": 260,
   "id": "b626a68f",
   "metadata": {},
   "outputs": [],
   "source": [
    "results_without_graph = model_creation(market_data.iloc[50:50+graph_parameters.shape[0],1:], Y, averages[0], svm_hyperparameters, scd_hyperparameters, knn_hyperparameters, dtree_hyperparameters, randomforest_hypterparameters)"
   ]
  },
  {
   "cell_type": "code",
   "execution_count": 233,
   "id": "2095f31c",
   "metadata": {},
   "outputs": [
    {
     "name": "stdout",
     "output_type": "stream",
     "text": [
      "                     F1  Precision  Accuracy\n",
      "SVM            0.188679   0.135135  0.394737\n",
      "Stockhastic    0.258730   0.211538  0.342105\n",
      "KNN            0.290476   0.237179  0.394737\n",
      "DecisionTree   0.417291   0.435185  0.447368\n",
      "Random Forest  0.292929   0.242857  0.394737\n",
      "                     F1  Precision  Accuracy\n",
      "SVM            0.197531   0.140351  0.421053\n",
      "Stockhastic    0.241758   0.208081  0.394737\n",
      "KNN            0.291310   0.239057  0.394737\n",
      "DecisionTree   0.469841   0.517769  0.500000\n",
      "Random Forest  0.312195   0.257778  0.394737\n",
      "                     F1  Precision  Accuracy\n",
      "SVM           -0.008852  -0.005216 -0.026316\n",
      "Stockhastic    0.016972   0.003458 -0.052632\n",
      "KNN           -0.000833  -0.001878  0.000000\n",
      "DecisionTree  -0.052551  -0.082584 -0.052632\n",
      "Random Forest -0.019266  -0.014921  0.000000\n"
     ]
    }
   ],
   "source": [
    "print(results_with_graph) #pca 1\n",
    "print(results_without_graph)\n",
    "print(results_with_graph-results_without_graph)"
   ]
  },
  {
   "cell_type": "code",
   "execution_count": 205,
   "id": "99ee3f67",
   "metadata": {},
   "outputs": [
    {
     "name": "stdout",
     "output_type": "stream",
     "text": [
      "                     F1  Precision  Accuracy\n",
      "SVM            0.188679   0.135135  0.394737\n",
      "Stockhastic    0.197531   0.140351  0.421053\n",
      "KNN            0.197531   0.140351  0.421053\n",
      "DecisionTree   0.468387   0.489899  0.500000\n",
      "Random Forest  0.275806   0.226712  0.368421\n",
      "                     F1  Precision  Accuracy\n",
      "SVM            0.197531   0.140351  0.421053\n",
      "Stockhastic    0.197531   0.140351  0.421053\n",
      "KNN            0.331915   0.293395  0.447368\n",
      "DecisionTree   0.447222   0.479167  0.473684\n",
      "Random Forest  0.244617   0.202469  0.342105\n",
      "                     F1  Precision  Accuracy\n",
      "SVM           -0.008852  -0.005216 -0.026316\n",
      "Stockhastic    0.000000   0.000000  0.000000\n",
      "KNN           -0.134384  -0.153044 -0.026316\n",
      "DecisionTree   0.021165   0.010732  0.026316\n",
      "Random Forest  0.031189   0.024242  0.026316\n"
     ]
    }
   ],
   "source": [
    "print(results_with_graph) #pca 2\n",
    "print(results_without_graph)\n",
    "print(results_with_graph-results_without_graph)"
   ]
  },
  {
   "cell_type": "code",
   "execution_count": 177,
   "id": "0d3d6313",
   "metadata": {},
   "outputs": [
    {
     "name": "stdout",
     "output_type": "stream",
     "text": [
      "                     F1  Precision  Accuracy\n",
      "SVM            0.235294   0.253968  0.421053\n",
      "Stockhastic    0.197531   0.140351  0.421053\n",
      "KNN            0.363636   0.446429  0.447368\n",
      "DecisionTree   0.203876   0.191358  0.315789\n",
      "Random Forest  0.256209   0.212005  0.368421\n",
      "                     F1  Precision  Accuracy\n",
      "SVM            0.197531   0.140351  0.421053\n",
      "Stockhastic    0.197531   0.140351  0.421053\n",
      "KNN            0.291310   0.239057  0.394737\n",
      "DecisionTree   0.420531   0.446609  0.447368\n",
      "Random Forest  0.244617   0.202469  0.342105\n",
      "                     F1  Precision  Accuracy\n",
      "SVM            0.037763   0.113617  0.000000\n",
      "Stockhastic    0.000000   0.000000  0.000000\n",
      "KNN            0.072327   0.207371  0.052632\n",
      "DecisionTree  -0.216655  -0.255251 -0.131579\n",
      "Random Forest  0.011592   0.009536  0.026316\n"
     ]
    }
   ],
   "source": [
    "print(results_with_graph) #pca 5\n",
    "print(results_without_graph)\n",
    "print(results_with_graph-results_without_graph)"
   ]
  },
  {
   "cell_type": "code",
   "execution_count": 149,
   "id": "fd1cbe46",
   "metadata": {},
   "outputs": [
    {
     "name": "stdout",
     "output_type": "stream",
     "text": [
      "                     F1  Precision  Accuracy\n",
      "SVM            0.197531   0.140351  0.421053\n",
      "Stockhastic    0.274074   0.313725  0.447368\n",
      "KNN            0.334758   0.371914  0.394737\n",
      "DecisionTree   0.322536   0.319838  0.394737\n",
      "Random Forest  0.183007   0.133333  0.368421\n",
      "                     F1  Precision  Accuracy\n",
      "SVM            0.197531   0.140351  0.421053\n",
      "Stockhastic    0.197531   0.140351  0.421053\n",
      "KNN            0.356057   0.590909  0.447368\n",
      "DecisionTree   0.420531   0.446609  0.447368\n",
      "Random Forest  0.331466   0.363248  0.394737\n",
      "                     F1  Precision  Accuracy\n",
      "SVM            0.000000   0.000000  0.000000\n",
      "Stockhastic    0.076543   0.173375  0.026316\n",
      "KNN           -0.021298  -0.218996 -0.052632\n",
      "DecisionTree  -0.097995  -0.126771 -0.052632\n",
      "Random Forest -0.148459  -0.229915 -0.026316\n"
     ]
    }
   ],
   "source": [
    "print(results_with_graph) #pca 10\n",
    "print(results_without_graph)\n",
    "print(results_with_graph-results_without_graph)"
   ]
  },
  {
   "cell_type": "code",
   "execution_count": 121,
   "id": "2379addb",
   "metadata": {},
   "outputs": [
    {
     "name": "stdout",
     "output_type": "stream",
     "text": [
      "                     F1  Precision  Accuracy\n",
      "SVM            0.236752   0.472222  0.421053\n",
      "Stockhastic    0.183007   0.133333  0.368421\n",
      "KNN            0.186667   0.137255  0.368421\n",
      "DecisionTree   0.229268   0.244444  0.315789\n",
      "Random Forest  0.188679   0.135135  0.394737\n",
      "                     F1  Precision  Accuracy\n",
      "SVM            0.197531   0.140351  0.421053\n",
      "Stockhastic    0.197531   0.140351  0.421053\n",
      "KNN            0.323810   0.264957  0.421053\n",
      "DecisionTree   0.450047   0.478225  0.473684\n",
      "Random Forest  0.244617   0.202469  0.342105\n",
      "                     F1  Precision  Accuracy\n",
      "SVM            0.039221   0.331871  0.000000\n",
      "Stockhastic   -0.014524  -0.007018 -0.052632\n",
      "KNN           -0.137143  -0.127702 -0.052632\n",
      "DecisionTree  -0.220778  -0.233781 -0.157895\n",
      "Random Forest -0.055937  -0.067334  0.052632\n"
     ]
    }
   ],
   "source": [
    "print(results_with_graph) #pca 20\n",
    "print(results_without_graph)\n",
    "print(results_with_graph-results_without_graph)"
   ]
  },
  {
   "cell_type": "code",
   "execution_count": 261,
   "id": "b8e78b7e",
   "metadata": {
    "scrolled": true
   },
   "outputs": [
    {
     "name": "stdout",
     "output_type": "stream",
     "text": [
      "                     F1  Precision  Accuracy\n",
      "SVM            0.227451   0.466667  0.394737\n",
      "Stockhastic    0.197531   0.140351  0.421053\n",
      "KNN            0.197531   0.140351  0.421053\n",
      "DecisionTree   0.245899   0.249206  0.289474\n",
      "Random Forest  0.197531   0.140351  0.421053\n",
      "                     F1  Precision  Accuracy\n",
      "SVM            0.197531   0.140351  0.421053\n",
      "Stockhastic    0.197531   0.140351  0.421053\n",
      "KNN            0.323810   0.264957  0.421053\n",
      "DecisionTree   0.420531   0.446609  0.447368\n",
      "Random Forest  0.267865   0.224242  0.342105\n",
      "                     F1  Precision  Accuracy\n",
      "SVM            0.029920   0.326316 -0.026316\n",
      "Stockhastic    0.000000   0.000000  0.000000\n",
      "KNN           -0.126279  -0.124606  0.000000\n",
      "DecisionTree  -0.174633  -0.197403 -0.157895\n",
      "Random Forest -0.070334  -0.083892  0.078947\n"
     ]
    }
   ],
   "source": [
    "print(results_with_graph) #pca 50\n",
    "print(results_without_graph)\n",
    "print(results_with_graph-results_without_graph)"
   ]
  },
  {
   "cell_type": "code",
   "execution_count": 93,
   "id": "10b0cf74",
   "metadata": {},
   "outputs": [
    {
     "name": "stdout",
     "output_type": "stream",
     "text": [
      "                     F1  Precision  Accuracy\n",
      "SVM            0.235294   0.253968  0.421053\n",
      "Stockhastic    0.235175   0.277778  0.315789\n",
      "KNN            0.453920   0.513333  0.473684\n",
      "DecisionTree   0.346032   0.386383  0.368421\n",
      "Random Forest  0.232426   0.214646  0.368421\n",
      "                     F1  Precision  Accuracy\n",
      "SVM            0.197531   0.140351  0.421053\n",
      "Stockhastic    0.188679   0.135135  0.394737\n",
      "KNN            0.497440   0.540873  0.500000\n",
      "DecisionTree   0.417291   0.435185  0.447368\n",
      "Random Forest  0.312195   0.257778  0.394737\n",
      "                     F1  Precision  Accuracy\n",
      "SVM            0.037763   0.113617  0.000000\n",
      "Stockhastic    0.046496   0.142643 -0.078947\n",
      "KNN           -0.043520  -0.027540 -0.026316\n",
      "DecisionTree  -0.071259  -0.048803 -0.078947\n",
      "Random Forest -0.079769  -0.043131 -0.026316\n"
     ]
    }
   ],
   "source": [
    "print(results_with_graph) #scale them seperately\n",
    "print(results_without_graph)\n",
    "print(results_with_graph-results_without_graph)"
   ]
  },
  {
   "cell_type": "code",
   "execution_count": 30,
   "id": "f9567e63",
   "metadata": {
    "scrolled": true
   },
   "outputs": [
    {
     "data": {
      "text/html": [
       "<div>\n",
       "<style scoped>\n",
       "    .dataframe tbody tr th:only-of-type {\n",
       "        vertical-align: middle;\n",
       "    }\n",
       "\n",
       "    .dataframe tbody tr th {\n",
       "        vertical-align: top;\n",
       "    }\n",
       "\n",
       "    .dataframe thead th {\n",
       "        text-align: right;\n",
       "    }\n",
       "</style>\n",
       "<table border=\"1\" class=\"dataframe\">\n",
       "  <thead>\n",
       "    <tr style=\"text-align: right;\">\n",
       "      <th></th>\n",
       "      <th>F1</th>\n",
       "      <th>Precision</th>\n",
       "      <th>Accuracy</th>\n",
       "    </tr>\n",
       "  </thead>\n",
       "  <tbody>\n",
       "    <tr>\n",
       "      <th>SVM</th>\n",
       "      <td>0.388611</td>\n",
       "      <td>0.448148</td>\n",
       "      <td>0.447368</td>\n",
       "    </tr>\n",
       "    <tr>\n",
       "      <th>Stockhastic</th>\n",
       "      <td>0.235294</td>\n",
       "      <td>0.253968</td>\n",
       "      <td>0.421053</td>\n",
       "    </tr>\n",
       "    <tr>\n",
       "      <th>KNN</th>\n",
       "      <td>0.453920</td>\n",
       "      <td>0.513333</td>\n",
       "      <td>0.473684</td>\n",
       "    </tr>\n",
       "    <tr>\n",
       "      <th>DecisionTree</th>\n",
       "      <td>0.319593</td>\n",
       "      <td>0.468750</td>\n",
       "      <td>0.421053</td>\n",
       "    </tr>\n",
       "    <tr>\n",
       "      <th>Random Forest</th>\n",
       "      <td>0.173333</td>\n",
       "      <td>0.127451</td>\n",
       "      <td>0.342105</td>\n",
       "    </tr>\n",
       "  </tbody>\n",
       "</table>\n",
       "</div>"
      ],
      "text/plain": [
       "                     F1  Precision  Accuracy\n",
       "SVM            0.388611   0.448148  0.447368\n",
       "Stockhastic    0.235294   0.253968  0.421053\n",
       "KNN            0.453920   0.513333  0.473684\n",
       "DecisionTree   0.319593   0.468750  0.421053\n",
       "Random Forest  0.173333   0.127451  0.342105"
      ]
     },
     "execution_count": 30,
     "metadata": {},
     "output_type": "execute_result"
    }
   ],
   "source": [
    "results_with_graph #just scale the market data previously then merge and scale again"
   ]
  },
  {
   "cell_type": "code",
   "execution_count": 31,
   "id": "a55896f8",
   "metadata": {},
   "outputs": [
    {
     "data": {
      "text/html": [
       "<div>\n",
       "<style scoped>\n",
       "    .dataframe tbody tr th:only-of-type {\n",
       "        vertical-align: middle;\n",
       "    }\n",
       "\n",
       "    .dataframe tbody tr th {\n",
       "        vertical-align: top;\n",
       "    }\n",
       "\n",
       "    .dataframe thead th {\n",
       "        text-align: right;\n",
       "    }\n",
       "</style>\n",
       "<table border=\"1\" class=\"dataframe\">\n",
       "  <thead>\n",
       "    <tr style=\"text-align: right;\">\n",
       "      <th></th>\n",
       "      <th>F1</th>\n",
       "      <th>Precision</th>\n",
       "      <th>Accuracy</th>\n",
       "    </tr>\n",
       "  </thead>\n",
       "  <tbody>\n",
       "    <tr>\n",
       "      <th>SVM</th>\n",
       "      <td>0.197531</td>\n",
       "      <td>0.140351</td>\n",
       "      <td>0.421053</td>\n",
       "    </tr>\n",
       "    <tr>\n",
       "      <th>Stockhastic</th>\n",
       "      <td>0.197531</td>\n",
       "      <td>0.140351</td>\n",
       "      <td>0.421053</td>\n",
       "    </tr>\n",
       "    <tr>\n",
       "      <th>KNN</th>\n",
       "      <td>0.470324</td>\n",
       "      <td>0.515873</td>\n",
       "      <td>0.473684</td>\n",
       "    </tr>\n",
       "    <tr>\n",
       "      <th>DecisionTree</th>\n",
       "      <td>0.420531</td>\n",
       "      <td>0.446609</td>\n",
       "      <td>0.447368</td>\n",
       "    </tr>\n",
       "    <tr>\n",
       "      <th>Random Forest</th>\n",
       "      <td>0.314954</td>\n",
       "      <td>0.262238</td>\n",
       "      <td>0.394737</td>\n",
       "    </tr>\n",
       "  </tbody>\n",
       "</table>\n",
       "</div>"
      ],
      "text/plain": [
       "                     F1  Precision  Accuracy\n",
       "SVM            0.197531   0.140351  0.421053\n",
       "Stockhastic    0.197531   0.140351  0.421053\n",
       "KNN            0.470324   0.515873  0.473684\n",
       "DecisionTree   0.420531   0.446609  0.447368\n",
       "Random Forest  0.314954   0.262238  0.394737"
      ]
     },
     "execution_count": 31,
     "metadata": {},
     "output_type": "execute_result"
    }
   ],
   "source": [
    "results_without_graph"
   ]
  },
  {
   "cell_type": "code",
   "execution_count": 32,
   "id": "3961874a",
   "metadata": {},
   "outputs": [
    {
     "data": {
      "text/html": [
       "<div>\n",
       "<style scoped>\n",
       "    .dataframe tbody tr th:only-of-type {\n",
       "        vertical-align: middle;\n",
       "    }\n",
       "\n",
       "    .dataframe tbody tr th {\n",
       "        vertical-align: top;\n",
       "    }\n",
       "\n",
       "    .dataframe thead th {\n",
       "        text-align: right;\n",
       "    }\n",
       "</style>\n",
       "<table border=\"1\" class=\"dataframe\">\n",
       "  <thead>\n",
       "    <tr style=\"text-align: right;\">\n",
       "      <th></th>\n",
       "      <th>F1</th>\n",
       "      <th>Precision</th>\n",
       "      <th>Accuracy</th>\n",
       "    </tr>\n",
       "  </thead>\n",
       "  <tbody>\n",
       "    <tr>\n",
       "      <th>SVM</th>\n",
       "      <td>0.191080</td>\n",
       "      <td>0.307797</td>\n",
       "      <td>0.026316</td>\n",
       "    </tr>\n",
       "    <tr>\n",
       "      <th>Stockhastic</th>\n",
       "      <td>0.037763</td>\n",
       "      <td>0.113617</td>\n",
       "      <td>0.000000</td>\n",
       "    </tr>\n",
       "    <tr>\n",
       "      <th>KNN</th>\n",
       "      <td>-0.016404</td>\n",
       "      <td>-0.002540</td>\n",
       "      <td>0.000000</td>\n",
       "    </tr>\n",
       "    <tr>\n",
       "      <th>DecisionTree</th>\n",
       "      <td>-0.100938</td>\n",
       "      <td>0.022141</td>\n",
       "      <td>-0.026316</td>\n",
       "    </tr>\n",
       "    <tr>\n",
       "      <th>Random Forest</th>\n",
       "      <td>-0.141621</td>\n",
       "      <td>-0.134787</td>\n",
       "      <td>-0.052632</td>\n",
       "    </tr>\n",
       "  </tbody>\n",
       "</table>\n",
       "</div>"
      ],
      "text/plain": [
       "                     F1  Precision  Accuracy\n",
       "SVM            0.191080   0.307797  0.026316\n",
       "Stockhastic    0.037763   0.113617  0.000000\n",
       "KNN           -0.016404  -0.002540  0.000000\n",
       "DecisionTree  -0.100938   0.022141 -0.026316\n",
       "Random Forest -0.141621  -0.134787 -0.052632"
      ]
     },
     "execution_count": 32,
     "metadata": {},
     "output_type": "execute_result"
    }
   ],
   "source": [
    "results_with_graph-results_without_graph"
   ]
  },
  {
   "cell_type": "code",
   "execution_count": null,
   "id": "f648bac2",
   "metadata": {},
   "outputs": [],
   "source": []
  }
 ],
 "metadata": {
  "kernelspec": {
   "display_name": "Python 3 (ipykernel)",
   "language": "python",
   "name": "python3"
  },
  "language_info": {
   "codemirror_mode": {
    "name": "ipython",
    "version": 3
   },
   "file_extension": ".py",
   "mimetype": "text/x-python",
   "name": "python",
   "nbconvert_exporter": "python",
   "pygments_lexer": "ipython3",
   "version": "3.9.7"
  }
 },
 "nbformat": 4,
 "nbformat_minor": 5
}
