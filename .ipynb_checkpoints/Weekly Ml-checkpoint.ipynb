{
 "cells": [
  {
   "cell_type": "code",
   "execution_count": 1,
   "id": "00d7624d",
   "metadata": {},
   "outputs": [],
   "source": [
    "import pandas as pd\n",
    "import numpy as np"
   ]
  },
  {
   "cell_type": "code",
   "execution_count": 2,
   "id": "57becb50",
   "metadata": {},
   "outputs": [],
   "source": [
    "from sklearn import svm\n",
    "from sklearn.linear_model import SGDClassifier\n",
    "from sklearn.neighbors import KNeighborsClassifier\n",
    "from sklearn.tree import DecisionTreeClassifier\n",
    "from sklearn.ensemble import RandomForestClassifier\n",
    "from sklearn.preprocessing import StandardScaler\n",
    "from sklearn.model_selection import train_test_split\n",
    "from sklearn.metrics import f1_score\n",
    "from sklearn.metrics import precision_score\n",
    "from sklearn.metrics import recall_score\n",
    "from sklearn.metrics import accuracy_score\n",
    "from sklearn.model_selection import GridSearchCV\n",
    "from sklearn.pipeline import Pipeline"
   ]
  },
  {
   "cell_type": "code",
   "execution_count": 3,
   "id": "ca3c57ff",
   "metadata": {},
   "outputs": [],
   "source": [
    "import warnings\n",
    "warnings.filterwarnings(\"ignore\")"
   ]
  },
  {
   "cell_type": "code",
   "execution_count": 4,
   "id": "4c855018",
   "metadata": {},
   "outputs": [],
   "source": [
    "market_data = pd.read_csv(\"./data/Bitcoin Price Weekly 2022 to 2010 .csv\")\n",
    "graph_parameters= pd.read_csv(\"./data/weeklyparameters.csv\")\n",
    "scaler = StandardScaler()\n",
    "graph_parameters = pd.DataFrame(scaler.fit_transform(graph_parameters))"
   ]
  },
  {
   "cell_type": "code",
   "execution_count": 5,
   "id": "363e02e3",
   "metadata": {},
   "outputs": [],
   "source": [
    "full_df= pd.concat([market_data.iloc[50:50+graph_parameters.shape[0],1:].reset_index().drop('index',axis=1),graph_parameters],axis=1).iloc[:116]"
   ]
  },
  {
   "cell_type": "code",
   "execution_count": 6,
   "id": "02e1b5e0",
   "metadata": {},
   "outputs": [],
   "source": [
    "threshold=3\n",
    "def y_creator(threshold):\n",
    "    Y = []\n",
    "    for i in market_data[\"Change %\"][51:51+graph_parameters.shape[0]]:\n",
    "        if abs(i)>threshold:\n",
    "            if i>0:\n",
    "                Y.append(1)\n",
    "            else:\n",
    "                Y.append(-1)\n",
    "        else:\n",
    "            Y.append(0)\n",
    "    return Y\n",
    "Y = y_creator(threshold)"
   ]
  },
  {
   "cell_type": "code",
   "execution_count": 7,
   "id": "72450212",
   "metadata": {},
   "outputs": [],
   "source": [
    "scaler = StandardScaler()\n",
    "scaled_x = scaler.fit_transform(full_df)\n",
    "x_train, x_test, y_train, y_test = train_test_split(scaled_x, Y, test_size=0.33, random_state=42)"
   ]
  },
  {
   "cell_type": "code",
   "execution_count": 8,
   "id": "7d221d01",
   "metadata": {},
   "outputs": [],
   "source": [
    "averages = [\"macro\", \"micro\",\"weighted\"]"
   ]
  },
  {
   "cell_type": "code",
   "execution_count": 9,
   "id": "33ab7e2a",
   "metadata": {
    "scrolled": false
   },
   "outputs": [
    {
     "name": "stdout",
     "output_type": "stream",
     "text": [
      "Fitting 3 folds for each of 10 candidates, totalling 30 fits\n",
      "[CV] END ....C=7.207401114066028, gamma=0.007446747356106111; total time=   0.0s\n",
      "[CV] END ....C=7.207401114066028, gamma=0.007446747356106111; total time=   0.0s\n",
      "[CV] END ....C=7.207401114066028, gamma=0.007446747356106111; total time=   0.0s\n",
      "[CV] END .....C=4.867660727363225, gamma=0.05171700141115569; total time=   0.0s\n",
      "[CV] END .....C=4.867660727363225, gamma=0.05171700141115569; total time=   0.0s\n",
      "[CV] END .....C=4.867660727363225, gamma=0.05171700141115569; total time=   0.0s\n",
      "[CV] END ....C=6.450546191268726, gamma=0.009132421973957291; total time=   0.0s\n",
      "[CV] END ....C=6.450546191268726, gamma=0.009132421973957291; total time=   0.0s\n",
      "[CV] END ....C=6.450546191268726, gamma=0.009132421973957291; total time=   0.0s\n",
      "[CV] END .....C=6.32452259694126, gamma=0.008808719545664583; total time=   0.0s\n",
      "[CV] END .....C=6.32452259694126, gamma=0.008808719545664583; total time=   0.0s\n",
      "[CV] END .....C=6.32452259694126, gamma=0.008808719545664583; total time=   0.0s\n",
      "[CV] END ...C=4.686768394904416, gamma=0.0010130228085427867; total time=   0.0s\n",
      "[CV] END ...C=4.686768394904416, gamma=0.0010130228085427867; total time=   0.0s\n",
      "[CV] END ...C=4.686768394904416, gamma=0.0010130228085427867; total time=   0.0s\n",
      "[CV] END ....C=1.5380227476413646, gamma=0.08505606851933963; total time=   0.0s\n",
      "[CV] END ....C=1.5380227476413646, gamma=0.08505606851933963; total time=   0.0s\n",
      "[CV] END ....C=1.5380227476413646, gamma=0.08505606851933963; total time=   0.0s\n",
      "[CV] END ..C=3.0707768910474744, gamma=0.0013089490258255277; total time=   0.0s\n",
      "[CV] END ..C=3.0707768910474744, gamma=0.0013089490258255277; total time=   0.0s\n",
      "[CV] END ..C=3.0707768910474744, gamma=0.0013089490258255277; total time=   0.0s\n",
      "[CV] END .....C=7.327077052447617, gamma=0.01335019640474858; total time=   0.0s\n",
      "[CV] END .....C=7.327077052447617, gamma=0.01335019640474858; total time=   0.0s\n",
      "[CV] END .....C=7.327077052447617, gamma=0.01335019640474858; total time=   0.0s\n",
      "[CV] END ....C=8.390781578645338, gamma=0.016310755019911954; total time=   0.0s\n",
      "[CV] END ....C=8.390781578645338, gamma=0.016310755019911954; total time=   0.0s\n",
      "[CV] END ....C=8.390781578645338, gamma=0.016310755019911954; total time=   0.0s\n",
      "[CV] END ....C=1.2711842101611228, gamma=0.04573289450143139; total time=   0.0s\n",
      "[CV] END ....C=1.2711842101611228, gamma=0.04573289450143139; total time=   0.0s\n",
      "[CV] END ....C=1.2711842101611228, gamma=0.04573289450143139; total time=   0.0s\n",
      "0.5194871794871795\n",
      "SVC(C=4.867660727363225, gamma=0.05171700141115569)\n"
     ]
    }
   ],
   "source": [
    "from sklearn.model_selection import RandomizedSearchCV\n",
    "from scipy.stats import reciprocal, uniform\n",
    "\n",
    "svm_model           = svm.SVC()\n",
    "param_distributions = {\"gamma\": reciprocal(0.001, 0.1), \"C\": uniform(1, 10)}\n",
    "rnd_search_cv = RandomizedSearchCV(svm_model, param_distributions, n_iter=10, verbose=2, cv=3)\n",
    "rnd_search_cv.fit(x_train, y_train)\n",
    "print(rnd_search_cv.best_score_)\n",
    "print(rnd_search_cv.best_estimator_)"
   ]
  },
  {
   "cell_type": "code",
   "execution_count": 10,
   "id": "a56754a2",
   "metadata": {
    "scrolled": false
   },
   "outputs": [],
   "source": [
    "svm_hyperparameters = (rnd_search_cv.best_estimator_.C, rnd_search_cv.best_estimator_.gamma)"
   ]
  },
  {
   "cell_type": "code",
   "execution_count": 11,
   "id": "bae0abd0",
   "metadata": {
    "scrolled": false
   },
   "outputs": [
    {
     "name": "stdout",
     "output_type": "stream",
     "text": [
      "-------------FITTING MODELS-------------\n"
     ]
    },
    {
     "name": "stderr",
     "output_type": "stream",
     "text": [
      "[Parallel(n_jobs=-1)]: Using backend LokyBackend with 12 concurrent workers.\n",
      "[Parallel(n_jobs=-1)]: Done   2 out of   8 | elapsed:    3.0s remaining:    9.2s\n",
      "[Parallel(n_jobs=-1)]: Done   3 out of   8 | elapsed:    3.0s remaining:    5.1s\n",
      "[Parallel(n_jobs=-1)]: Done   4 out of   8 | elapsed:    3.0s remaining:    3.0s\n",
      "[Parallel(n_jobs=-1)]: Done   5 out of   8 | elapsed:    3.0s remaining:    1.8s\n",
      "[Parallel(n_jobs=-1)]: Done   6 out of   8 | elapsed:    3.0s remaining:    0.9s\n",
      "[Parallel(n_jobs=-1)]: Done   8 out of   8 | elapsed:    3.1s remaining:    0.0s\n",
      "[Parallel(n_jobs=-1)]: Done   8 out of   8 | elapsed:    3.1s finished\n",
      "[Parallel(n_jobs=-1)]: Using backend LokyBackend with 12 concurrent workers.\n",
      "[Parallel(n_jobs=-1)]: Done   3 out of   8 | elapsed:    0.0s remaining:    0.0s\n"
     ]
    },
    {
     "name": "stdout",
     "output_type": "stream",
     "text": [
      "-------------SCORING MODELS-------------\n"
     ]
    },
    {
     "name": "stderr",
     "output_type": "stream",
     "text": [
      "[Parallel(n_jobs=-1)]: Done   8 out of   8 | elapsed:    1.7s finished\n"
     ]
    },
    {
     "data": {
      "image/png": "[encoded data removed]",
      "text/plain": [
       "<Figure size 432x432 with 1 Axes>"
      ]
     },
     "metadata": {
      "needs_background": "light"
     },
     "output_type": "display_data"
    },
    {
     "name": "stdout",
     "output_type": "stream",
     "text": [
      "SGDClassifier(alpha=0.1, loss='log', n_jobs=-1) 0.39473684210526316\n"
     ]
    }
   ],
   "source": [
    "from sklearn.model_selection import ParameterGrid\n",
    "from sklearn.linear_model import SGDClassifier\n",
    "from sklearn.metrics import roc_auc_score\n",
    "import parfit.parfit as pf\n",
    "\n",
    "grid = {\n",
    "    'alpha': [1e-4, 1e-3, 1e-2, 1e-1, 1e0, 1e1, 1e2, 1e3], # learning rate\n",
    "    \n",
    "    'loss': ['log'], # logistic regression,\n",
    "    'penalty': ['l2'],\n",
    "    'n_jobs': [-1]\n",
    "}\n",
    "paramGrid = ParameterGrid(grid)\n",
    "\n",
    "bestModel, bestScore, allModels, allScores = pf.bestFit(SGDClassifier, paramGrid,\n",
    "           x_train, y_train, x_test, y_test, \n",
    "           metric = accuracy_score,\n",
    "           scoreLabel = \"Accuracy\")\n",
    "\n",
    "print(bestModel, bestScore)"
   ]
  },
  {
   "cell_type": "code",
   "execution_count": 12,
   "id": "1a07c979",
   "metadata": {},
   "outputs": [],
   "source": [
    "scd_hyperparameters = (bestModel.alpha, bestModel.loss, bestModel.n_jobs)"
   ]
  },
  {
   "cell_type": "code",
   "execution_count": 13,
   "id": "e165f704",
   "metadata": {},
   "outputs": [
    {
     "name": "stdout",
     "output_type": "stream",
     "text": [
      "Best leaf_size: 1\n",
      "Best p: 1\n",
      "Best n_neighbors: 16\n"
     ]
    }
   ],
   "source": [
    "#List Hyperparameters that we want to tune.\n",
    "leaf_size = list(range(1,50))\n",
    "n_neighbors = list(range(1,30))\n",
    "p=[1,2]\n",
    "#Convert to dictionary\n",
    "hyperparameters = dict(leaf_size=leaf_size, n_neighbors=n_neighbors, p=p)\n",
    "#Create new KNN object\n",
    "knn_2 = KNeighborsClassifier()\n",
    "#Use GridSearch\n",
    "clf = GridSearchCV(knn_2, hyperparameters, cv=10)\n",
    "#Fit the model\n",
    "best_model = clf.fit(x_train,y_train)\n",
    "#Print The value of best Hyperparameters\n",
    "print('Best leaf_size:', best_model.best_estimator_.get_params()['leaf_size'])\n",
    "print('Best p:', best_model.best_estimator_.get_params()['p'])\n",
    "print('Best n_neighbors:', best_model.best_estimator_.get_params()['n_neighbors'])"
   ]
  },
  {
   "cell_type": "code",
   "execution_count": 14,
   "id": "8cb74d68",
   "metadata": {},
   "outputs": [],
   "source": [
    "knn_hyperparameters = (best_model.best_estimator_.get_params()[\"leaf_size\"], best_model.best_estimator_.get_params()[\"p\"], best_model.best_estimator_.get_params()[\"n_neighbors\"])"
   ]
  },
  {
   "cell_type": "code",
   "execution_count": 15,
   "id": "f2a41c1e",
   "metadata": {},
   "outputs": [],
   "source": [
    "dec_tree = DecisionTreeClassifier()\n",
    "std_slc = StandardScaler()\n",
    "pipe = Pipeline(steps=[('std_slc', std_slc),\n",
    "                           ('dec_tree', dec_tree)])\n",
    "n_components = list(range(1,len(x_train)+1,1))\n",
    "criterion = ['gini', 'entropy']\n",
    "max_depth = [2,4,6,8,10,12]\n",
    "parameters = dict( dec_tree__criterion=criterion,\n",
    "                      dec_tree__max_depth=max_depth)"
   ]
  },
  {
   "cell_type": "code",
   "execution_count": 16,
   "id": "0b1270dd",
   "metadata": {},
   "outputs": [
    {
     "data": {
      "text/plain": [
       "GridSearchCV(estimator=Pipeline(steps=[('std_slc', StandardScaler()),\n",
       "                                       ('dec_tree', DecisionTreeClassifier())]),\n",
       "             param_grid={'dec_tree__criterion': ['gini', 'entropy'],\n",
       "                         'dec_tree__max_depth': [2, 4, 6, 8, 10, 12]})"
      ]
     },
     "execution_count": 16,
     "metadata": {},
     "output_type": "execute_result"
    }
   ],
   "source": [
    "clf_GS = GridSearchCV(pipe, parameters)\n",
    "clf_GS.fit(x_train, y_train)"
   ]
  },
  {
   "cell_type": "code",
   "execution_count": 17,
   "id": "1c5d9a0c",
   "metadata": {},
   "outputs": [
    {
     "name": "stdout",
     "output_type": "stream",
     "text": [
      "Best Criterion: entropy\n",
      "Best max_depth: 12\n",
      "DecisionTreeClassifier(criterion='entropy', max_depth=12)\n"
     ]
    }
   ],
   "source": [
    "print('Best Criterion:', clf_GS.best_estimator_.get_params()['dec_tree__criterion'])\n",
    "print('Best max_depth:', clf_GS.best_estimator_.get_params()['dec_tree__max_depth'])\n",
    "print(clf_GS.best_estimator_.get_params()['dec_tree'])"
   ]
  },
  {
   "cell_type": "code",
   "execution_count": 18,
   "id": "7294f8eb",
   "metadata": {},
   "outputs": [],
   "source": [
    "dtree_hyperparameters = (clf_GS.best_estimator_.get_params()['dec_tree__criterion'], clf_GS.best_estimator_.get_params()['dec_tree__max_depth'])"
   ]
  },
  {
   "cell_type": "code",
   "execution_count": 19,
   "id": "4cbe02a2",
   "metadata": {},
   "outputs": [],
   "source": [
    "param_grid = {\n",
    "    'bootstrap': [True],\n",
    "    'max_depth': [80, 90, 100, 110],\n",
    "    'max_features': [2, 3],\n",
    "    'min_samples_leaf': [3, 4, 5],\n",
    "    'min_samples_split': [8, 10, 12],\n",
    "    'n_estimators': [100, 200, 300, 1000]\n",
    "}\n",
    "# Create a based model\n",
    "rf = RandomForestClassifier()\n",
    "# Instantiate the grid search model\n",
    "grid_search = GridSearchCV(estimator = rf, param_grid = param_grid, \n",
    "                          cv = 3, n_jobs = -1, verbose = 2)"
   ]
  },
  {
   "cell_type": "code",
   "execution_count": 20,
   "id": "b157452d",
   "metadata": {
    "scrolled": true
   },
   "outputs": [
    {
     "name": "stdout",
     "output_type": "stream",
     "text": [
      "Fitting 3 folds for each of 288 candidates, totalling 864 fits\n"
     ]
    },
    {
     "data": {
      "text/plain": [
       "{'bootstrap': True,\n",
       " 'max_depth': 80,\n",
       " 'max_features': 2,\n",
       " 'min_samples_leaf': 3,\n",
       " 'min_samples_split': 8,\n",
       " 'n_estimators': 200}"
      ]
     },
     "execution_count": 20,
     "metadata": {},
     "output_type": "execute_result"
    }
   ],
   "source": [
    "grid_search.fit(x_train, y_train)\n",
    "grid_search.best_params_"
   ]
  },
  {
   "cell_type": "code",
   "execution_count": 21,
   "id": "bd80fdcc",
   "metadata": {},
   "outputs": [
    {
     "data": {
      "text/plain": [
       "80"
      ]
     },
     "execution_count": 21,
     "metadata": {},
     "output_type": "execute_result"
    }
   ],
   "source": [
    "grid_search.best_params_[\"max_depth\"]"
   ]
  },
  {
   "cell_type": "code",
   "execution_count": 22,
   "id": "17f65f1f",
   "metadata": {},
   "outputs": [
    {
     "data": {
      "text/plain": [
       "RandomForestClassifier(max_depth=80, max_features=2, min_samples_leaf=3,\n",
       "                       min_samples_split=8, n_estimators=200)"
      ]
     },
     "execution_count": 22,
     "metadata": {},
     "output_type": "execute_result"
    }
   ],
   "source": [
    "best_grid = grid_search.best_estimator_\n",
    "best_grid"
   ]
  },
  {
   "cell_type": "code",
   "execution_count": 23,
   "id": "d752b0fa",
   "metadata": {},
   "outputs": [],
   "source": [
    "randomforest_hypterparameters = (grid_search.best_params_[\"max_depth\"],grid_search.best_params_[\"max_features\"],grid_search.best_params_[\"min_samples_leaf\"],grid_search.best_params_[\"min_samples_split\"])"
   ]
  },
  {
   "cell_type": "code",
   "execution_count": 24,
   "id": "6d359617",
   "metadata": {},
   "outputs": [],
   "source": [
    "def model_creation(x, Y, average, svmp, stockhastic, knn, dtree, rfm):\n",
    "    scaler = StandardScaler()\n",
    "    scaled_x = scaler.fit_transform(x)\n",
    "    x_train, x_test, y_train, y_test = train_test_split(scaled_x, Y, test_size=0.33, random_state=42)\n",
    "    \n",
    "    svm_model           = svm.SVC(C=svmp[0], gamma=svmp[1])\n",
    "    stockhastic_model   = SGDClassifier(alpha=stockhastic[0], loss=stockhastic[1], n_jobs=stockhastic[2])\n",
    "    knn_model           = KNeighborsClassifier(leaf_size= knn[0],  p= knn[1],n_neighbors= knn[2])\n",
    "    decisiontree_model  = DecisionTreeClassifier(criterion=dtree[0], max_depth=dtree[1])\n",
    "    random_forest_model = RandomForestClassifier(max_depth=rfm[0], max_features=rfm[1], min_samples_leaf=rfm[2], min_samples_split=rfm[3], n_estimators=300)\n",
    "    \n",
    "    svm_model.fit(x_train, y_train)\n",
    "    stockhastic_model.fit(x_train, y_train)\n",
    "    knn_model.fit(x_train, y_train)\n",
    "    decisiontree_model.fit(x_train, y_train)\n",
    "    random_forest_model.fit(x_train, y_train)\n",
    "    \n",
    "    prediction_svm_model          = svm_model.predict(x_test)\n",
    "    prediction_stockhastic_model  = stockhastic_model.predict(x_test)\n",
    "    prediction_knn_model          = knn_model.predict(x_test)\n",
    "    prediction_decisiontree_model = decisiontree_model.predict(x_test)\n",
    "    prediction_random_forest_model= random_forest_model.predict(x_test)\n",
    "    \n",
    "    f1_score_svm_model           = f1_score(y_test, prediction_svm_model,          average=average)\n",
    "    f1_score_stockhastic_model   = f1_score(y_test, prediction_stockhastic_model,  average=average)\n",
    "    f1_score_knn_model           = f1_score(y_test, prediction_knn_model,          average=average)\n",
    "    f1_score_decisiontree_model  = f1_score(y_test, prediction_decisiontree_model, average=average)\n",
    "    f1_score_random_forest_model = f1_score(y_test, prediction_random_forest_model,average=average)\n",
    "    \n",
    "    precision_score_svm_model           = precision_score(y_test, prediction_svm_model          , average=average)\n",
    "    precision_score_stockhastic_model   = precision_score(y_test, prediction_stockhastic_model  , average=average)\n",
    "    precision_score_knn_model           = precision_score(y_test, prediction_knn_model          , average=average)\n",
    "    precision_score_decisiontree_model  = precision_score(y_test, prediction_decisiontree_model , average=average)\n",
    "    precision_score_random_forest_model= precision_score(y_test, prediction_random_forest_model , average=average)\n",
    "    \n",
    "    accuracy_score_svm_model           = accuracy_score(y_test, prediction_svm_model          )\n",
    "    accuracy_score_stockhastic_model   = accuracy_score(y_test, prediction_stockhastic_model  )\n",
    "    accuracy_score_knn_model           = accuracy_score(y_test, prediction_knn_model          )\n",
    "    accuracy_score_decisiontree_model  = accuracy_score(y_test, prediction_decisiontree_model )\n",
    "    accuracy_score_random_forest_model = accuracy_score(y_test, prediction_random_forest_model)\n",
    "    \n",
    "    scores= [[f1_score_svm_model, precision_score_svm_model, accuracy_score_svm_model]\\\n",
    "            ,[f1_score_stockhastic_model, precision_score_stockhastic_model, accuracy_score_stockhastic_model]\\\n",
    "            ,[f1_score_knn_model, precision_score_knn_model, accuracy_score_knn_model]\\\n",
    "            ,[f1_score_decisiontree_model, precision_score_decisiontree_model, accuracy_score_decisiontree_model]\\\n",
    "            ,[f1_score_random_forest_model,precision_score_random_forest_model, accuracy_score_random_forest_model]]\n",
    "    temp_df = pd.DataFrame(scores)\n",
    "    temp_df.columns = [\"F1\", \"Precision\", \"Accuracy\"]\n",
    "    temp_df = temp_df.T\n",
    "    temp_df.columns=[\"SVM\", \"Stockhastic\", \"KNN\", \"DecisionTree\", \"Random Forest\"]\n",
    "    return temp_df.T\n",
    "    "
   ]
  },
  {
   "cell_type": "code",
   "execution_count": 25,
   "id": "4b0fc379",
   "metadata": {},
   "outputs": [],
   "source": [
    "results_with_graph = model_creation(full_df,Y, averages[0], svm_hyperparameters, scd_hyperparameters, knn_hyperparameters, dtree_hyperparameters, randomforest_hypterparameters)"
   ]
  },
  {
   "cell_type": "code",
   "execution_count": 26,
   "id": "b626a68f",
   "metadata": {},
   "outputs": [],
   "source": [
    "results_without_graph = model_creation(market_data.iloc[50:50+graph_parameters.shape[0],1:], Y, averages[0], svm_hyperparameters, scd_hyperparameters, knn_hyperparameters, dtree_hyperparameters, randomforest_hypterparameters)"
   ]
  },
  {
   "cell_type": "code",
   "execution_count": 27,
   "id": "10b0cf74",
   "metadata": {},
   "outputs": [
    {
     "data": {
      "text/html": [
       "<div>\n",
       "<style scoped>\n",
       "    .dataframe tbody tr th:only-of-type {\n",
       "        vertical-align: middle;\n",
       "    }\n",
       "\n",
       "    .dataframe tbody tr th {\n",
       "        vertical-align: top;\n",
       "    }\n",
       "\n",
       "    .dataframe thead th {\n",
       "        text-align: right;\n",
       "    }\n",
       "</style>\n",
       "<table border=\"1\" class=\"dataframe\">\n",
       "  <thead>\n",
       "    <tr style=\"text-align: right;\">\n",
       "      <th></th>\n",
       "      <th>F1</th>\n",
       "      <th>Precision</th>\n",
       "      <th>Accuracy</th>\n",
       "    </tr>\n",
       "  </thead>\n",
       "  <tbody>\n",
       "    <tr>\n",
       "      <th>SVM</th>\n",
       "      <td>0.197531</td>\n",
       "      <td>0.140351</td>\n",
       "      <td>0.421053</td>\n",
       "    </tr>\n",
       "    <tr>\n",
       "      <th>Stockhastic</th>\n",
       "      <td>0.305051</td>\n",
       "      <td>0.360153</td>\n",
       "      <td>0.394737</td>\n",
       "    </tr>\n",
       "    <tr>\n",
       "      <th>KNN</th>\n",
       "      <td>0.201258</td>\n",
       "      <td>0.144144</td>\n",
       "      <td>0.421053</td>\n",
       "    </tr>\n",
       "    <tr>\n",
       "      <th>DecisionTree</th>\n",
       "      <td>0.381320</td>\n",
       "      <td>0.411696</td>\n",
       "      <td>0.394737</td>\n",
       "    </tr>\n",
       "    <tr>\n",
       "      <th>Random Forest</th>\n",
       "      <td>0.173333</td>\n",
       "      <td>0.127451</td>\n",
       "      <td>0.342105</td>\n",
       "    </tr>\n",
       "  </tbody>\n",
       "</table>\n",
       "</div>"
      ],
      "text/plain": [
       "                     F1  Precision  Accuracy\n",
       "SVM            0.197531   0.140351  0.421053\n",
       "Stockhastic    0.305051   0.360153  0.394737\n",
       "KNN            0.201258   0.144144  0.421053\n",
       "DecisionTree   0.381320   0.411696  0.394737\n",
       "Random Forest  0.173333   0.127451  0.342105"
      ]
     },
     "execution_count": 27,
     "metadata": {},
     "output_type": "execute_result"
    }
   ],
   "source": [
    "results_with_graph"
   ]
  },
  {
   "cell_type": "code",
   "execution_count": 28,
   "id": "0e7059d1",
   "metadata": {},
   "outputs": [
    {
     "data": {
      "text/html": [
       "<div>\n",
       "<style scoped>\n",
       "    .dataframe tbody tr th:only-of-type {\n",
       "        vertical-align: middle;\n",
       "    }\n",
       "\n",
       "    .dataframe tbody tr th {\n",
       "        vertical-align: top;\n",
       "    }\n",
       "\n",
       "    .dataframe thead th {\n",
       "        text-align: right;\n",
       "    }\n",
       "</style>\n",
       "<table border=\"1\" class=\"dataframe\">\n",
       "  <thead>\n",
       "    <tr style=\"text-align: right;\">\n",
       "      <th></th>\n",
       "      <th>F1</th>\n",
       "      <th>Precision</th>\n",
       "      <th>Accuracy</th>\n",
       "    </tr>\n",
       "  </thead>\n",
       "  <tbody>\n",
       "    <tr>\n",
       "      <th>SVM</th>\n",
       "      <td>0.228175</td>\n",
       "      <td>0.190972</td>\n",
       "      <td>0.368421</td>\n",
       "    </tr>\n",
       "    <tr>\n",
       "      <th>Stockhastic</th>\n",
       "      <td>0.197531</td>\n",
       "      <td>0.140351</td>\n",
       "      <td>0.421053</td>\n",
       "    </tr>\n",
       "    <tr>\n",
       "      <th>KNN</th>\n",
       "      <td>0.314617</td>\n",
       "      <td>0.265873</td>\n",
       "      <td>0.421053</td>\n",
       "    </tr>\n",
       "    <tr>\n",
       "      <th>DecisionTree</th>\n",
       "      <td>0.418470</td>\n",
       "      <td>0.434174</td>\n",
       "      <td>0.447368</td>\n",
       "    </tr>\n",
       "    <tr>\n",
       "      <th>Random Forest</th>\n",
       "      <td>0.279866</td>\n",
       "      <td>0.231935</td>\n",
       "      <td>0.368421</td>\n",
       "    </tr>\n",
       "  </tbody>\n",
       "</table>\n",
       "</div>"
      ],
      "text/plain": [
       "                     F1  Precision  Accuracy\n",
       "SVM            0.228175   0.190972  0.368421\n",
       "Stockhastic    0.197531   0.140351  0.421053\n",
       "KNN            0.314617   0.265873  0.421053\n",
       "DecisionTree   0.418470   0.434174  0.447368\n",
       "Random Forest  0.279866   0.231935  0.368421"
      ]
     },
     "execution_count": 28,
     "metadata": {},
     "output_type": "execute_result"
    }
   ],
   "source": [
    "results_without_graph"
   ]
  },
  {
   "cell_type": "code",
   "execution_count": 29,
   "id": "86e48743",
   "metadata": {},
   "outputs": [
    {
     "data": {
      "text/html": [
       "<div>\n",
       "<style scoped>\n",
       "    .dataframe tbody tr th:only-of-type {\n",
       "        vertical-align: middle;\n",
       "    }\n",
       "\n",
       "    .dataframe tbody tr th {\n",
       "        vertical-align: top;\n",
       "    }\n",
       "\n",
       "    .dataframe thead th {\n",
       "        text-align: right;\n",
       "    }\n",
       "</style>\n",
       "<table border=\"1\" class=\"dataframe\">\n",
       "  <thead>\n",
       "    <tr style=\"text-align: right;\">\n",
       "      <th></th>\n",
       "      <th>F1</th>\n",
       "      <th>Precision</th>\n",
       "      <th>Accuracy</th>\n",
       "    </tr>\n",
       "  </thead>\n",
       "  <tbody>\n",
       "    <tr>\n",
       "      <th>SVM</th>\n",
       "      <td>-0.030644</td>\n",
       "      <td>-0.050621</td>\n",
       "      <td>0.052632</td>\n",
       "    </tr>\n",
       "    <tr>\n",
       "      <th>Stockhastic</th>\n",
       "      <td>0.107520</td>\n",
       "      <td>0.219802</td>\n",
       "      <td>-0.026316</td>\n",
       "    </tr>\n",
       "    <tr>\n",
       "      <th>KNN</th>\n",
       "      <td>-0.113359</td>\n",
       "      <td>-0.121729</td>\n",
       "      <td>0.000000</td>\n",
       "    </tr>\n",
       "    <tr>\n",
       "      <th>DecisionTree</th>\n",
       "      <td>-0.037150</td>\n",
       "      <td>-0.022478</td>\n",
       "      <td>-0.052632</td>\n",
       "    </tr>\n",
       "    <tr>\n",
       "      <th>Random Forest</th>\n",
       "      <td>-0.106533</td>\n",
       "      <td>-0.104484</td>\n",
       "      <td>-0.026316</td>\n",
       "    </tr>\n",
       "  </tbody>\n",
       "</table>\n",
       "</div>"
      ],
      "text/plain": [
       "                     F1  Precision  Accuracy\n",
       "SVM           -0.030644  -0.050621  0.052632\n",
       "Stockhastic    0.107520   0.219802 -0.026316\n",
       "KNN           -0.113359  -0.121729  0.000000\n",
       "DecisionTree  -0.037150  -0.022478 -0.052632\n",
       "Random Forest -0.106533  -0.104484 -0.026316"
      ]
     },
     "execution_count": 29,
     "metadata": {},
     "output_type": "execute_result"
    }
   ],
   "source": [
    "results_with_graph-results_without_graph"
   ]
  },
  {
   "cell_type": "code",
   "execution_count": null,
   "id": "a55896f8",
   "metadata": {},
   "outputs": [],
   "source": []
  }
 ],
 "metadata": {
  "kernelspec": {
   "display_name": "Python 3 (ipykernel)",
   "language": "python",
   "name": "python3"
  },
  "language_info": {
   "codemirror_mode": {
    "name": "ipython",
    "version": 3
   },
   "file_extension": ".py",
   "mimetype": "text/x-python",
   "name": "python",
   "nbconvert_exporter": "python",
   "pygments_lexer": "ipython3",
   "version": "3.9.7"
  }
 },
 "nbformat": 4,
 "nbformat_minor": 5
}
