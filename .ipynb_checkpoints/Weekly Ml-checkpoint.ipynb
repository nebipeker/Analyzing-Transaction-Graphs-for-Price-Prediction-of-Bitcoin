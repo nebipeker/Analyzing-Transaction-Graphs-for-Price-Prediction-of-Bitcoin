{
 "cells": [
  {
   "cell_type": "code",
   "execution_count": 1,
   "id": "00d7624d",
   "metadata": {},
   "outputs": [],
   "source": [
    "import pandas as pd\n",
    "import numpy as np"
   ]
  },
  {
   "cell_type": "code",
   "execution_count": 2,
   "id": "57becb50",
   "metadata": {},
   "outputs": [],
   "source": [
    "from sklearn import svm\n",
    "from sklearn.linear_model import SGDClassifier\n",
    "from sklearn.neighbors import KNeighborsClassifier\n",
    "from sklearn.tree import DecisionTreeClassifier\n",
    "from sklearn.ensemble import RandomForestClassifier\n",
    "from sklearn.preprocessing import StandardScaler\n",
    "from sklearn.model_selection import train_test_split\n",
    "from sklearn.metrics import f1_score\n",
    "from sklearn.metrics import precision_score\n",
    "from sklearn.metrics import recall_score\n",
    "from sklearn.metrics import accuracy_score\n",
    "from sklearn.model_selection import GridSearchCV\n",
    "from sklearn.pipeline import Pipeline"
   ]
  },
  {
   "cell_type": "code",
   "execution_count": 3,
   "id": "ca3c57ff",
   "metadata": {},
   "outputs": [],
   "source": [
    "import warnings\n",
    "warnings.filterwarnings(\"ignore\")"
   ]
  },
  {
   "cell_type": "code",
   "execution_count": 4,
   "id": "4c855018",
   "metadata": {},
   "outputs": [],
   "source": [
    "market_data = pd.read_csv(\"./data/Bitcoin Price Weekly 2022 to 2010 .csv\")\n",
    "graph_parameters= pd.read_csv(\"./data/weeklyparameters.csv\")"
   ]
  },
  {
   "cell_type": "code",
   "execution_count": 5,
   "id": "363e02e3",
   "metadata": {},
   "outputs": [],
   "source": [
    "full_df= pd.concat([market_data.iloc[50:50+graph_parameters.shape[0],1:].reset_index().drop('index',axis=1),graph_parameters],axis=1).iloc[:116]"
   ]
  },
  {
   "cell_type": "code",
   "execution_count": 6,
   "id": "02e1b5e0",
   "metadata": {},
   "outputs": [],
   "source": [
    "threshold=3\n",
    "def y_creator(threshold):\n",
    "    Y = []\n",
    "    for i in market_data[\"Change %\"][51:51+graph_parameters.shape[0]]:\n",
    "        if abs(i)>threshold:\n",
    "            if i>0:\n",
    "                Y.append(1)\n",
    "            else:\n",
    "                Y.append(-1)\n",
    "        else:\n",
    "            Y.append(0)\n",
    "    return Y\n",
    "Y = y_creator(threshold)"
   ]
  },
  {
   "cell_type": "code",
   "execution_count": 15,
   "id": "e976df1a",
   "metadata": {},
   "outputs": [],
   "source": [
    "scaler = StandardScaler()\n",
    "scaled_x = scaler.fit_transform(full_df)\n",
    "x_train, x_test, y_train, y_test = train_test_split(scaled_x, Y, test_size=0.33, random_state=42)"
   ]
  },
  {
   "cell_type": "code",
   "execution_count": 7,
   "id": "91169740",
   "metadata": {},
   "outputs": [],
   "source": [
    "averages = [\"macro\", \"micro\",\"weighted\"]"
   ]
  },
  {
   "cell_type": "code",
   "execution_count": 35,
   "id": "1dff69ed",
   "metadata": {
    "scrolled": false
   },
   "outputs": [
    {
     "name": "stdout",
     "output_type": "stream",
     "text": [
      "Fitting 3 folds for each of 10 candidates, totalling 30 fits\n",
      "[CV] END ....C=10.472897987632994, gamma=0.03960606042251732; total time=   0.0s\n",
      "[CV] END ....C=10.472897987632994, gamma=0.03960606042251732; total time=   0.0s\n",
      "[CV] END ....C=10.472897987632994, gamma=0.03960606042251732; total time=   0.0s\n",
      "[CV] END .....C=9.196614807460085, gamma=0.06846456479101422; total time=   0.0s\n",
      "[CV] END .....C=9.196614807460085, gamma=0.06846456479101422; total time=   0.0s\n",
      "[CV] END .....C=9.196614807460085, gamma=0.06846456479101422; total time=   0.0s\n",
      "[CV] END ....C=4.625071618078833, gamma=0.007177698015311088; total time=   0.0s\n",
      "[CV] END ....C=4.625071618078833, gamma=0.007177698015311088; total time=   0.0s\n",
      "[CV] END ....C=4.625071618078833, gamma=0.007177698015311088; total time=   0.0s\n",
      "[CV] END .....C=5.302928629050077, gamma=0.00701421433228643; total time=   0.0s\n",
      "[CV] END .....C=5.302928629050077, gamma=0.00701421433228643; total time=   0.0s\n",
      "[CV] END .....C=5.302928629050077, gamma=0.00701421433228643; total time=   0.0s\n",
      "[CV] END ...C=8.799746574521725, gamma=0.0010870605951142874; total time=   0.0s\n",
      "[CV] END ...C=8.799746574521725, gamma=0.0010870605951142874; total time=   0.0s\n",
      "[CV] END ...C=8.799746574521725, gamma=0.0010870605951142874; total time=   0.0s\n",
      "[CV] END .....C=8.98817830901642, gamma=0.001958527835230216; total time=   0.0s\n",
      "[CV] END .....C=8.98817830901642, gamma=0.001958527835230216; total time=   0.0s\n",
      "[CV] END .....C=8.98817830901642, gamma=0.001958527835230216; total time=   0.0s\n",
      "[CV] END ....C=7.384582853740952, gamma=0.001285355594656988; total time=   0.0s\n",
      "[CV] END ....C=7.384582853740952, gamma=0.001285355594656988; total time=   0.0s\n",
      "[CV] END ....C=7.384582853740952, gamma=0.001285355594656988; total time=   0.0s\n",
      "[CV] END .....C=5.784301520756133, gamma=0.08216298041120317; total time=   0.0s\n",
      "[CV] END .....C=5.784301520756133, gamma=0.08216298041120317; total time=   0.0s\n",
      "[CV] END .....C=5.784301520756133, gamma=0.08216298041120317; total time=   0.0s\n",
      "[CV] END ...C=8.091408433316426, gamma=0.0013289087730568297; total time=   0.0s\n",
      "[CV] END ...C=8.091408433316426, gamma=0.0013289087730568297; total time=   0.0s\n",
      "[CV] END ...C=8.091408433316426, gamma=0.0013289087730568297; total time=   0.0s\n",
      "[CV] END .....C=6.838481007634645, gamma=0.01638995427337692; total time=   0.0s\n",
      "[CV] END .....C=6.838481007634645, gamma=0.01638995427337692; total time=   0.0s\n",
      "[CV] END .....C=6.838481007634645, gamma=0.01638995427337692; total time=   0.0s\n",
      "0.5194871794871795\n",
      "SVC(C=10.472897987632994, gamma=0.03960606042251732)\n"
     ]
    }
   ],
   "source": [
    "from sklearn.model_selection import RandomizedSearchCV\n",
    "from scipy.stats import reciprocal, uniform\n",
    "\n",
    "svm_model           = svm.SVC()\n",
    "param_distributions = {\"gamma\": reciprocal(0.001, 0.1), \"C\": uniform(1, 10)}\n",
    "rnd_search_cv = RandomizedSearchCV(svm_model, param_distributions, n_iter=10, verbose=2, cv=3)\n",
    "rnd_search_cv.fit(x_train, y_train)\n",
    "print(rnd_search_cv.best_score_)\n",
    "print(rnd_search_cv.best_estimator_)"
   ]
  },
  {
   "cell_type": "code",
   "execution_count": 39,
   "id": "313d2ca2",
   "metadata": {
    "scrolled": false
   },
   "outputs": [
    {
     "data": {
      "text/plain": [
       "10.472897987632994"
      ]
     },
     "execution_count": 39,
     "metadata": {},
     "output_type": "execute_result"
    }
   ],
   "source": [
    "svm_hyperparameters = (rnd_search_cv.best_estimator_.C,rnd_search_cv.best_estimator_.gamma)"
   ]
  },
  {
   "cell_type": "code",
   "execution_count": 17,
   "id": "e7e69e42",
   "metadata": {
    "scrolled": false
   },
   "outputs": [
    {
     "name": "stdout",
     "output_type": "stream",
     "text": [
      "-------------FITTING MODELS-------------\n"
     ]
    },
    {
     "name": "stderr",
     "output_type": "stream",
     "text": [
      "[Parallel(n_jobs=-1)]: Using backend LokyBackend with 12 concurrent workers.\n",
      "[Parallel(n_jobs=-1)]: Done   2 out of   8 | elapsed:    3.6s remaining:   10.9s\n",
      "[Parallel(n_jobs=-1)]: Done   3 out of   8 | elapsed:    3.6s remaining:    6.0s\n",
      "[Parallel(n_jobs=-1)]: Done   4 out of   8 | elapsed:    3.6s remaining:    3.6s\n",
      "[Parallel(n_jobs=-1)]: Done   5 out of   8 | elapsed:    3.6s remaining:    2.1s\n",
      "[Parallel(n_jobs=-1)]: Done   6 out of   8 | elapsed:    3.6s remaining:    1.1s\n",
      "[Parallel(n_jobs=-1)]: Done   8 out of   8 | elapsed:    3.7s remaining:    0.0s\n",
      "[Parallel(n_jobs=-1)]: Done   8 out of   8 | elapsed:    3.7s finished\n",
      "[Parallel(n_jobs=-1)]: Using backend LokyBackend with 12 concurrent workers.\n"
     ]
    },
    {
     "name": "stdout",
     "output_type": "stream",
     "text": [
      "-------------SCORING MODELS-------------\n"
     ]
    },
    {
     "name": "stderr",
     "output_type": "stream",
     "text": [
      "[Parallel(n_jobs=-1)]: Done   3 out of   8 | elapsed:    0.0s remaining:    0.1s\n",
      "[Parallel(n_jobs=-1)]: Done   8 out of   8 | elapsed:    1.9s finished\n"
     ]
    },
    {
     "data": {
      "image/png": "[encoded data removed]",
      "text/plain": [
       "<Figure size 432x432 with 1 Axes>"
      ]
     },
     "metadata": {
      "needs_background": "light"
     },
     "output_type": "display_data"
    },
    {
     "name": "stdout",
     "output_type": "stream",
     "text": [
      "SGDClassifier(alpha=1.0, loss='log', n_jobs=-1) 0.4473684210526316\n"
     ]
    }
   ],
   "source": [
    "from sklearn.model_selection import ParameterGrid\n",
    "from sklearn.linear_model import SGDClassifier\n",
    "from sklearn.metrics import roc_auc_score\n",
    "import parfit.parfit as pf\n",
    "\n",
    "grid = {\n",
    "    'alpha': [1e-4, 1e-3, 1e-2, 1e-1, 1e0, 1e1, 1e2, 1e3], # learning rate\n",
    "    \n",
    "    'loss': ['log'], # logistic regression,\n",
    "    'penalty': ['l2'],\n",
    "    'n_jobs': [-1]\n",
    "}\n",
    "paramGrid = ParameterGrid(grid)\n",
    "\n",
    "bestModel, bestScore, allModels, allScores = pf.bestFit(SGDClassifier, paramGrid,\n",
    "           x_train, y_train, x_test, y_test, \n",
    "           metric = accuracy_score,\n",
    "           scoreLabel = \"Accuracy\")\n",
    "\n",
    "print(bestModel, bestScore)"
   ]
  },
  {
   "cell_type": "code",
   "execution_count": null,
   "id": "d1b586f3",
   "metadata": {},
   "outputs": [],
   "source": [
    "scd_hyperparameters = (bestModel.alpha, bestModel.log, bestModel.n_jobs)"
   ]
  },
  {
   "cell_type": "code",
   "execution_count": 18,
   "id": "8d0d9d8e",
   "metadata": {},
   "outputs": [
    {
     "name": "stdout",
     "output_type": "stream",
     "text": [
      "Best leaf_size: 1\n",
      "Best p: 1\n",
      "Best n_neighbors: 16\n"
     ]
    }
   ],
   "source": [
    "#List Hyperparameters that we want to tune.\n",
    "leaf_size = list(range(1,50))\n",
    "n_neighbors = list(range(1,30))\n",
    "p=[1,2]\n",
    "#Convert to dictionary\n",
    "hyperparameters = dict(leaf_size=leaf_size, n_neighbors=n_neighbors, p=p)\n",
    "#Create new KNN object\n",
    "knn_2 = KNeighborsClassifier()\n",
    "#Use GridSearch\n",
    "clf = GridSearchCV(knn_2, hyperparameters, cv=10)\n",
    "#Fit the model\n",
    "best_model = clf.fit(x_train,y_train)\n",
    "#Print The value of best Hyperparameters\n",
    "print('Best leaf_size:', best_model.best_estimator_.get_params()['leaf_size'])\n",
    "print('Best p:', best_model.best_estimator_.get_params()['p'])\n",
    "print('Best n_neighbors:', best_model.best_estimator_.get_params()['n_neighbors'])"
   ]
  },
  {
   "cell_type": "code",
   "execution_count": 19,
   "id": "cf49cb36",
   "metadata": {},
   "outputs": [
    {
     "data": {
      "text/plain": [
       "{'algorithm': 'auto',\n",
       " 'leaf_size': 1,\n",
       " 'metric': 'minkowski',\n",
       " 'metric_params': None,\n",
       " 'n_jobs': None,\n",
       " 'n_neighbors': 16,\n",
       " 'p': 1,\n",
       " 'weights': 'uniform'}"
      ]
     },
     "execution_count": 19,
     "metadata": {},
     "output_type": "execute_result"
    }
   ],
   "source": [
    "knn_hyperparameters = (best_model.best_estimator_.get_params()[\"leaf_size\"], best_model.best_estimator_.get_params()[\"p\"], best_model.best_estimator_.get_params()[\"n_neighbors\"])"
   ]
  },
  {
   "cell_type": "code",
   "execution_count": 20,
   "id": "8228e7e3",
   "metadata": {},
   "outputs": [],
   "source": [
    "dec_tree = DecisionTreeClassifier()\n",
    "std_slc = StandardScaler()\n",
    "pipe = Pipeline(steps=[('std_slc', std_slc),\n",
    "                           ('dec_tree', dec_tree)])\n",
    "n_components = list(range(1,len(x_train)+1,1))\n",
    "criterion = ['gini', 'entropy']\n",
    "max_depth = [2,4,6,8,10,12]\n",
    "parameters = dict( dec_tree__criterion=criterion,\n",
    "                      dec_tree__max_depth=max_depth)"
   ]
  },
  {
   "cell_type": "code",
   "execution_count": 21,
   "id": "ab3ccedb",
   "metadata": {},
   "outputs": [
    {
     "data": {
      "text/plain": [
       "GridSearchCV(estimator=Pipeline(steps=[('std_slc', StandardScaler()),\n",
       "                                       ('dec_tree', DecisionTreeClassifier())]),\n",
       "             param_grid={'dec_tree__criterion': ['gini', 'entropy'],\n",
       "                         'dec_tree__max_depth': [2, 4, 6, 8, 10, 12]})"
      ]
     },
     "execution_count": 21,
     "metadata": {},
     "output_type": "execute_result"
    }
   ],
   "source": [
    "clf_GS = GridSearchCV(pipe, parameters)\n",
    "clf_GS.fit(x_train, y_train)"
   ]
  },
  {
   "cell_type": "code",
   "execution_count": 42,
   "id": "f2433c80",
   "metadata": {},
   "outputs": [
    {
     "name": "stdout",
     "output_type": "stream",
     "text": [
      "Best Criterion: gini\n",
      "Best max_depth: 4\n",
      "DecisionTreeClassifier(max_depth=4)\n"
     ]
    }
   ],
   "source": [
    "print('Best Criterion:', clf_GS.best_estimator_.get_params()['dec_tree__criterion'])\n",
    "print('Best max_depth:', clf_GS.best_estimator_.get_params()['dec_tree__max_depth'])\n",
    "print(clf_GS.best_estimator_.get_params()['dec_tree'])"
   ]
  },
  {
   "cell_type": "code",
   "execution_count": null,
   "id": "b0c99c34",
   "metadata": {},
   "outputs": [],
   "source": [
    "dtree_hyperparameters = (clf_GS.best_estimator_.get_params()['dec_tree'])"
   ]
  },
  {
   "cell_type": "code",
   "execution_count": 23,
   "id": "bb42451c",
   "metadata": {},
   "outputs": [],
   "source": [
    "param_grid = {\n",
    "    'bootstrap': [True],\n",
    "    'max_depth': [80, 90, 100, 110],\n",
    "    'max_features': [2, 3],\n",
    "    'min_samples_leaf': [3, 4, 5],\n",
    "    'min_samples_split': [8, 10, 12],\n",
    "    'n_estimators': [100, 200, 300, 1000]\n",
    "}\n",
    "# Create a based model\n",
    "rf = RandomForestClassifier()\n",
    "# Instantiate the grid search model\n",
    "grid_search = GridSearchCV(estimator = rf, param_grid = param_grid, \n",
    "                          cv = 3, n_jobs = -1, verbose = 2)"
   ]
  },
  {
   "cell_type": "code",
   "execution_count": 24,
   "id": "2f1baed5",
   "metadata": {
    "scrolled": true
   },
   "outputs": [
    {
     "name": "stdout",
     "output_type": "stream",
     "text": [
      "Fitting 3 folds for each of 288 candidates, totalling 864 fits\n"
     ]
    },
    {
     "data": {
      "text/plain": [
       "{'bootstrap': True,\n",
       " 'max_depth': 100,\n",
       " 'max_features': 3,\n",
       " 'min_samples_leaf': 3,\n",
       " 'min_samples_split': 12,\n",
       " 'n_estimators': 100}"
      ]
     },
     "execution_count": 24,
     "metadata": {},
     "output_type": "execute_result"
    }
   ],
   "source": [
    "grid_search.fit(x_train, y_train)\n",
    "grid_search.best_params_"
   ]
  },
  {
   "cell_type": "code",
   "execution_count": 48,
   "id": "c50a6b46",
   "metadata": {},
   "outputs": [
    {
     "data": {
      "text/plain": [
       "0.3684210526315789"
      ]
     },
     "execution_count": 48,
     "metadata": {},
     "output_type": "execute_result"
    }
   ],
   "source": [
    "accuracy_score(pred,y_test)"
   ]
  },
  {
   "cell_type": "code",
   "execution_count": 26,
   "id": "d61f24f5",
   "metadata": {},
   "outputs": [
    {
     "data": {
      "text/plain": [
       "RandomForestClassifier(max_depth=100, max_features=3, min_samples_leaf=3,\n",
       "                       min_samples_split=12)"
      ]
     },
     "execution_count": 26,
     "metadata": {},
     "output_type": "execute_result"
    }
   ],
   "source": [
    "best_grid = grid_search.best_estimator_\n",
    "best_grid"
   ]
  },
  {
   "cell_type": "code",
   "execution_count": 8,
   "id": "b037a37f",
   "metadata": {},
   "outputs": [],
   "source": [
    "def model_creation(x, Y, average):\n",
    "    scaler = StandardScaler()\n",
    "    scaled_x = scaler.fit_transform(x)\n",
    "    x_train, x_test, y_train, y_test = train_test_split(scaled_x, Y, test_size=0.33, random_state=42)\n",
    "    \n",
    "    svm_model           = svm.SVC(C=1.1419770655821517, gamma=0.09643311030464571)\n",
    "    stockhastic_model   = SGDClassifier(alpha=0.01, loss='log', n_jobs=-1)\n",
    "    knn_model           = KNeighborsClassifier(algorithm= 'auto', leaf_size= 1, metric= 'minkowski', metric_params= None, n_jobs= None, n_neighbors= 16, p= 1, weights= 'uniform')\n",
    "    decisiontree_model  = DecisionTreeClassifier(criterion='entropy', max_depth=2)\n",
    "    random_forest_model = RandomForestClassifier(max_depth=110, max_features=2, min_samples_leaf=3, min_samples_split=8, n_estimators=300)\n",
    "    \n",
    "    svm_model.fit(x_train, y_train)\n",
    "    stockhastic_model.fit(x_train, y_train)\n",
    "    knn_model.fit(x_train, y_train)\n",
    "    decisiontree_model.fit(x_train, y_train)\n",
    "    random_forest_model.fit(x_train, y_train)\n",
    "    \n",
    "    prediction_svm_model          = svm_model.predict(x_test)\n",
    "    prediction_stockhastic_model  = stockhastic_model.predict(x_test)\n",
    "    prediction_knn_model          = knn_model.predict(x_test)\n",
    "    prediction_decisiontree_model = decisiontree_model.predict(x_test)\n",
    "    prediction_random_forest_model= random_forest_model.predict(x_test)\n",
    "    \n",
    "    f1_score_svm_model           = f1_score(y_test, prediction_svm_model,          average=average)\n",
    "    f1_score_stockhastic_model   = f1_score(y_test, prediction_stockhastic_model,  average=average)\n",
    "    f1_score_knn_model           = f1_score(y_test, prediction_knn_model,          average=average)\n",
    "    f1_score_decisiontree_model  = f1_score(y_test, prediction_decisiontree_model, average=average)\n",
    "    f1_score_random_forest_model = f1_score(y_test, prediction_random_forest_model,average=average)\n",
    "    \n",
    "    precision_score_svm_model           = precision_score(y_test, prediction_svm_model          , average=average)\n",
    "    precision_score_stockhastic_model   = precision_score(y_test, prediction_stockhastic_model  , average=average)\n",
    "    precision_score_knn_model           = precision_score(y_test, prediction_knn_model          , average=average)\n",
    "    precision_score_decisiontree_model  = precision_score(y_test, prediction_decisiontree_model , average=average)\n",
    "    precision_score_random_forest_model= precision_score(y_test, prediction_random_forest_model , average=average)\n",
    "    \n",
    "    accuracy_score_svm_model           = accuracy_score(y_test, prediction_svm_model          )\n",
    "    accuracy_score_stockhastic_model   = accuracy_score(y_test, prediction_stockhastic_model  )\n",
    "    accuracy_score_knn_model           = accuracy_score(y_test, prediction_knn_model          )\n",
    "    accuracy_score_decisiontree_model  = accuracy_score(y_test, prediction_decisiontree_model )\n",
    "    accuracy_score_random_forest_model = accuracy_score(y_test, prediction_random_forest_model)\n",
    "    \n",
    "    scores= [[f1_score_svm_model, precision_score_svm_model, accuracy_score_svm_model]\\\n",
    "            ,[f1_score_stockhastic_model, precision_score_stockhastic_model, accuracy_score_stockhastic_model]\\\n",
    "            ,[f1_score_knn_model, precision_score_knn_model, accuracy_score_knn_model]\\\n",
    "            ,[f1_score_decisiontree_model, precision_score_decisiontree_model, accuracy_score_decisiontree_model]\\\n",
    "            ,[f1_score_random_forest_model,precision_score_random_forest_model, accuracy_score_random_forest_model]]\n",
    "    temp_df = pd.DataFrame(scores)\n",
    "    temp_df.columns = [\"F1\", \"Precision\", \"Accuracy\"]\n",
    "    temp_df = temp_df.T\n",
    "    temp_df.columns=[\"SVM\", \"Stockhastic\", \"KNN\", \"DecisionTree\", \"Random Forest\"]\n",
    "    return temp_df.T\n",
    "    "
   ]
  },
  {
   "cell_type": "code",
   "execution_count": 9,
   "id": "4b0fc379",
   "metadata": {},
   "outputs": [],
   "source": [
    "results_with_graph = model_creation(full_df,Y, averages[0])"
   ]
  },
  {
   "cell_type": "code",
   "execution_count": 10,
   "id": "ccb102f0",
   "metadata": {},
   "outputs": [],
   "source": [
    "results_without_graph = model_creation(market_data.iloc[50:50+graph_parameters.shape[0],1:], Y, averages[0])"
   ]
  },
  {
   "cell_type": "code",
   "execution_count": 49,
   "id": "d85554a9",
   "metadata": {},
   "outputs": [
    {
     "data": {
      "text/html": [
       "<div>\n",
       "<style scoped>\n",
       "    .dataframe tbody tr th:only-of-type {\n",
       "        vertical-align: middle;\n",
       "    }\n",
       "\n",
       "    .dataframe tbody tr th {\n",
       "        vertical-align: top;\n",
       "    }\n",
       "\n",
       "    .dataframe thead th {\n",
       "        text-align: right;\n",
       "    }\n",
       "</style>\n",
       "<table border=\"1\" class=\"dataframe\">\n",
       "  <thead>\n",
       "    <tr style=\"text-align: right;\">\n",
       "      <th></th>\n",
       "      <th>F1</th>\n",
       "      <th>Precision</th>\n",
       "      <th>Accuracy</th>\n",
       "    </tr>\n",
       "  </thead>\n",
       "  <tbody>\n",
       "    <tr>\n",
       "      <th>SVM</th>\n",
       "      <td>0.197531</td>\n",
       "      <td>0.140351</td>\n",
       "      <td>0.421053</td>\n",
       "    </tr>\n",
       "    <tr>\n",
       "      <th>Stockhastic</th>\n",
       "      <td>0.266506</td>\n",
       "      <td>0.300000</td>\n",
       "      <td>0.368421</td>\n",
       "    </tr>\n",
       "    <tr>\n",
       "      <th>KNN</th>\n",
       "      <td>0.201258</td>\n",
       "      <td>0.144144</td>\n",
       "      <td>0.421053</td>\n",
       "    </tr>\n",
       "    <tr>\n",
       "      <th>DecisionTree</th>\n",
       "      <td>0.319593</td>\n",
       "      <td>0.468750</td>\n",
       "      <td>0.421053</td>\n",
       "    </tr>\n",
       "    <tr>\n",
       "      <th>Random Forest</th>\n",
       "      <td>0.215000</td>\n",
       "      <td>0.294118</td>\n",
       "      <td>0.368421</td>\n",
       "    </tr>\n",
       "  </tbody>\n",
       "</table>\n",
       "</div>"
      ],
      "text/plain": [
       "                     F1  Precision  Accuracy\n",
       "SVM            0.197531   0.140351  0.421053\n",
       "Stockhastic    0.266506   0.300000  0.368421\n",
       "KNN            0.201258   0.144144  0.421053\n",
       "DecisionTree   0.319593   0.468750  0.421053\n",
       "Random Forest  0.215000   0.294118  0.368421"
      ]
     },
     "execution_count": 49,
     "metadata": {},
     "output_type": "execute_result"
    }
   ],
   "source": [
    "results_with_graph"
   ]
  },
  {
   "cell_type": "code",
   "execution_count": 50,
   "id": "ce7de215",
   "metadata": {},
   "outputs": [
    {
     "data": {
      "text/html": [
       "<div>\n",
       "<style scoped>\n",
       "    .dataframe tbody tr th:only-of-type {\n",
       "        vertical-align: middle;\n",
       "    }\n",
       "\n",
       "    .dataframe tbody tr th {\n",
       "        vertical-align: top;\n",
       "    }\n",
       "\n",
       "    .dataframe thead th {\n",
       "        text-align: right;\n",
       "    }\n",
       "</style>\n",
       "<table border=\"1\" class=\"dataframe\">\n",
       "  <thead>\n",
       "    <tr style=\"text-align: right;\">\n",
       "      <th></th>\n",
       "      <th>F1</th>\n",
       "      <th>Precision</th>\n",
       "      <th>Accuracy</th>\n",
       "    </tr>\n",
       "  </thead>\n",
       "  <tbody>\n",
       "    <tr>\n",
       "      <th>SVM</th>\n",
       "      <td>0.197531</td>\n",
       "      <td>0.140351</td>\n",
       "      <td>0.421053</td>\n",
       "    </tr>\n",
       "    <tr>\n",
       "      <th>Stockhastic</th>\n",
       "      <td>0.192308</td>\n",
       "      <td>0.138889</td>\n",
       "      <td>0.394737</td>\n",
       "    </tr>\n",
       "    <tr>\n",
       "      <th>KNN</th>\n",
       "      <td>0.314617</td>\n",
       "      <td>0.265873</td>\n",
       "      <td>0.421053</td>\n",
       "    </tr>\n",
       "    <tr>\n",
       "      <th>DecisionTree</th>\n",
       "      <td>0.420531</td>\n",
       "      <td>0.446609</td>\n",
       "      <td>0.447368</td>\n",
       "    </tr>\n",
       "    <tr>\n",
       "      <th>Random Forest</th>\n",
       "      <td>0.317593</td>\n",
       "      <td>0.274425</td>\n",
       "      <td>0.421053</td>\n",
       "    </tr>\n",
       "  </tbody>\n",
       "</table>\n",
       "</div>"
      ],
      "text/plain": [
       "                     F1  Precision  Accuracy\n",
       "SVM            0.197531   0.140351  0.421053\n",
       "Stockhastic    0.192308   0.138889  0.394737\n",
       "KNN            0.314617   0.265873  0.421053\n",
       "DecisionTree   0.420531   0.446609  0.447368\n",
       "Random Forest  0.317593   0.274425  0.421053"
      ]
     },
     "execution_count": 50,
     "metadata": {},
     "output_type": "execute_result"
    }
   ],
   "source": [
    "results_without_graph"
   ]
  },
  {
   "cell_type": "code",
   "execution_count": 51,
   "id": "b99affb6",
   "metadata": {},
   "outputs": [
    {
     "data": {
      "text/html": [
       "<div>\n",
       "<style scoped>\n",
       "    .dataframe tbody tr th:only-of-type {\n",
       "        vertical-align: middle;\n",
       "    }\n",
       "\n",
       "    .dataframe tbody tr th {\n",
       "        vertical-align: top;\n",
       "    }\n",
       "\n",
       "    .dataframe thead th {\n",
       "        text-align: right;\n",
       "    }\n",
       "</style>\n",
       "<table border=\"1\" class=\"dataframe\">\n",
       "  <thead>\n",
       "    <tr style=\"text-align: right;\">\n",
       "      <th></th>\n",
       "      <th>F1</th>\n",
       "      <th>Precision</th>\n",
       "      <th>Accuracy</th>\n",
       "    </tr>\n",
       "  </thead>\n",
       "  <tbody>\n",
       "    <tr>\n",
       "      <th>SVM</th>\n",
       "      <td>0.000000</td>\n",
       "      <td>0.000000</td>\n",
       "      <td>0.000000</td>\n",
       "    </tr>\n",
       "    <tr>\n",
       "      <th>Stockhastic</th>\n",
       "      <td>0.074198</td>\n",
       "      <td>0.161111</td>\n",
       "      <td>-0.026316</td>\n",
       "    </tr>\n",
       "    <tr>\n",
       "      <th>KNN</th>\n",
       "      <td>-0.113359</td>\n",
       "      <td>-0.121729</td>\n",
       "      <td>0.000000</td>\n",
       "    </tr>\n",
       "    <tr>\n",
       "      <th>DecisionTree</th>\n",
       "      <td>-0.100938</td>\n",
       "      <td>0.022141</td>\n",
       "      <td>-0.026316</td>\n",
       "    </tr>\n",
       "    <tr>\n",
       "      <th>Random Forest</th>\n",
       "      <td>-0.102593</td>\n",
       "      <td>0.019692</td>\n",
       "      <td>-0.052632</td>\n",
       "    </tr>\n",
       "  </tbody>\n",
       "</table>\n",
       "</div>"
      ],
      "text/plain": [
       "                     F1  Precision  Accuracy\n",
       "SVM            0.000000   0.000000  0.000000\n",
       "Stockhastic    0.074198   0.161111 -0.026316\n",
       "KNN           -0.113359  -0.121729  0.000000\n",
       "DecisionTree  -0.100938   0.022141 -0.026316\n",
       "Random Forest -0.102593   0.019692 -0.052632"
      ]
     },
     "execution_count": 51,
     "metadata": {},
     "output_type": "execute_result"
    }
   ],
   "source": [
    "results_with_graph-results_without_graph"
   ]
  },
  {
   "cell_type": "code",
   "execution_count": 52,
   "id": "d5070dee",
   "metadata": {},
   "outputs": [
    {
     "data": {
      "text/html": [
       "<div>\n",
       "<style scoped>\n",
       "    .dataframe tbody tr th:only-of-type {\n",
       "        vertical-align: middle;\n",
       "    }\n",
       "\n",
       "    .dataframe tbody tr th {\n",
       "        vertical-align: top;\n",
       "    }\n",
       "\n",
       "    .dataframe thead th {\n",
       "        text-align: right;\n",
       "    }\n",
       "</style>\n",
       "<table border=\"1\" class=\"dataframe\">\n",
       "  <thead>\n",
       "    <tr style=\"text-align: right;\">\n",
       "      <th></th>\n",
       "      <th>Price</th>\n",
       "      <th>Open</th>\n",
       "      <th>High</th>\n",
       "      <th>Low</th>\n",
       "      <th>Vol.</th>\n",
       "      <th>Change %</th>\n",
       "      <th>0</th>\n",
       "      <th>1</th>\n",
       "      <th>2</th>\n",
       "      <th>3</th>\n",
       "      <th>...</th>\n",
       "      <th>246</th>\n",
       "      <th>247</th>\n",
       "      <th>248</th>\n",
       "      <th>249</th>\n",
       "      <th>250</th>\n",
       "      <th>251</th>\n",
       "      <th>252</th>\n",
       "      <th>253</th>\n",
       "      <th>254</th>\n",
       "      <th>255</th>\n",
       "    </tr>\n",
       "  </thead>\n",
       "  <tbody>\n",
       "    <tr>\n",
       "      <th>0</th>\n",
       "      <td>14.4</td>\n",
       "      <td>15.4</td>\n",
       "      <td>16.5</td>\n",
       "      <td>11.0</td>\n",
       "      <td>366200.0</td>\n",
       "      <td>-6.62</td>\n",
       "      <td>0.143607</td>\n",
       "      <td>-0.070265</td>\n",
       "      <td>0.278090</td>\n",
       "      <td>0.215956</td>\n",
       "      <td>...</td>\n",
       "      <td>0.362808</td>\n",
       "      <td>0.368988</td>\n",
       "      <td>0.364313</td>\n",
       "      <td>0.352094</td>\n",
       "      <td>0.355708</td>\n",
       "      <td>0.344235</td>\n",
       "      <td>0.353294</td>\n",
       "      <td>0.373881</td>\n",
       "      <td>0.358176</td>\n",
       "      <td>0.355856</td>\n",
       "    </tr>\n",
       "    <tr>\n",
       "      <th>1</th>\n",
       "      <td>13.7</td>\n",
       "      <td>14.4</td>\n",
       "      <td>15.7</td>\n",
       "      <td>13.5</td>\n",
       "      <td>190880.0</td>\n",
       "      <td>-4.59</td>\n",
       "      <td>0.089774</td>\n",
       "      <td>-0.207905</td>\n",
       "      <td>0.256683</td>\n",
       "      <td>0.040967</td>\n",
       "      <td>...</td>\n",
       "      <td>0.344774</td>\n",
       "      <td>0.349917</td>\n",
       "      <td>0.348386</td>\n",
       "      <td>0.340110</td>\n",
       "      <td>0.360732</td>\n",
       "      <td>0.347816</td>\n",
       "      <td>0.350748</td>\n",
       "      <td>0.354506</td>\n",
       "      <td>0.354432</td>\n",
       "      <td>0.346472</td>\n",
       "    </tr>\n",
       "    <tr>\n",
       "      <th>2</th>\n",
       "      <td>13.7</td>\n",
       "      <td>13.7</td>\n",
       "      <td>14.7</td>\n",
       "      <td>12.5</td>\n",
       "      <td>263670.0</td>\n",
       "      <td>0.00</td>\n",
       "      <td>0.086321</td>\n",
       "      <td>-0.093323</td>\n",
       "      <td>0.228172</td>\n",
       "      <td>0.157205</td>\n",
       "      <td>...</td>\n",
       "      <td>0.340600</td>\n",
       "      <td>0.362379</td>\n",
       "      <td>0.346005</td>\n",
       "      <td>0.337340</td>\n",
       "      <td>0.351533</td>\n",
       "      <td>0.349064</td>\n",
       "      <td>0.345180</td>\n",
       "      <td>0.353104</td>\n",
       "      <td>0.349887</td>\n",
       "      <td>0.348563</td>\n",
       "    </tr>\n",
       "    <tr>\n",
       "      <th>3</th>\n",
       "      <td>13.5</td>\n",
       "      <td>13.7</td>\n",
       "      <td>14.7</td>\n",
       "      <td>13.3</td>\n",
       "      <td>132600.0</td>\n",
       "      <td>-1.10</td>\n",
       "      <td>-0.004186</td>\n",
       "      <td>-0.129215</td>\n",
       "      <td>0.149419</td>\n",
       "      <td>0.147874</td>\n",
       "      <td>...</td>\n",
       "      <td>0.298482</td>\n",
       "      <td>0.305089</td>\n",
       "      <td>0.290398</td>\n",
       "      <td>0.289368</td>\n",
       "      <td>0.307518</td>\n",
       "      <td>0.313389</td>\n",
       "      <td>0.308761</td>\n",
       "      <td>0.307860</td>\n",
       "      <td>0.285055</td>\n",
       "      <td>0.292567</td>\n",
       "    </tr>\n",
       "    <tr>\n",
       "      <th>4</th>\n",
       "      <td>6.6</td>\n",
       "      <td>13.5</td>\n",
       "      <td>14.9</td>\n",
       "      <td>5.7</td>\n",
       "      <td>398270.0</td>\n",
       "      <td>-51.59</td>\n",
       "      <td>0.047130</td>\n",
       "      <td>-0.083402</td>\n",
       "      <td>0.200965</td>\n",
       "      <td>0.053718</td>\n",
       "      <td>...</td>\n",
       "      <td>0.254703</td>\n",
       "      <td>0.275766</td>\n",
       "      <td>0.265648</td>\n",
       "      <td>0.259244</td>\n",
       "      <td>0.257194</td>\n",
       "      <td>0.265005</td>\n",
       "      <td>0.275387</td>\n",
       "      <td>0.269150</td>\n",
       "      <td>0.264928</td>\n",
       "      <td>0.272635</td>\n",
       "    </tr>\n",
       "    <tr>\n",
       "      <th>...</th>\n",
       "      <td>...</td>\n",
       "      <td>...</td>\n",
       "      <td>...</td>\n",
       "      <td>...</td>\n",
       "      <td>...</td>\n",
       "      <td>...</td>\n",
       "      <td>...</td>\n",
       "      <td>...</td>\n",
       "      <td>...</td>\n",
       "      <td>...</td>\n",
       "      <td>...</td>\n",
       "      <td>...</td>\n",
       "      <td>...</td>\n",
       "      <td>...</td>\n",
       "      <td>...</td>\n",
       "      <td>...</td>\n",
       "      <td>...</td>\n",
       "      <td>...</td>\n",
       "      <td>...</td>\n",
       "      <td>...</td>\n",
       "      <td>...</td>\n",
       "    </tr>\n",
       "    <tr>\n",
       "      <th>110</th>\n",
       "      <td>112.8</td>\n",
       "      <td>103.0</td>\n",
       "      <td>115.0</td>\n",
       "      <td>102.7</td>\n",
       "      <td>139760.0</td>\n",
       "      <td>9.47</td>\n",
       "      <td>0.110399</td>\n",
       "      <td>-0.196330</td>\n",
       "      <td>0.266526</td>\n",
       "      <td>0.228943</td>\n",
       "      <td>...</td>\n",
       "      <td>0.319754</td>\n",
       "      <td>0.347547</td>\n",
       "      <td>0.350595</td>\n",
       "      <td>0.333103</td>\n",
       "      <td>0.334136</td>\n",
       "      <td>0.345477</td>\n",
       "      <td>0.333852</td>\n",
       "      <td>0.336154</td>\n",
       "      <td>0.330536</td>\n",
       "      <td>0.322507</td>\n",
       "    </tr>\n",
       "    <tr>\n",
       "      <th>111</th>\n",
       "      <td>119.6</td>\n",
       "      <td>112.8</td>\n",
       "      <td>125.0</td>\n",
       "      <td>111.8</td>\n",
       "      <td>160000.0</td>\n",
       "      <td>6.08</td>\n",
       "      <td>0.104036</td>\n",
       "      <td>-0.236846</td>\n",
       "      <td>0.293611</td>\n",
       "      <td>0.211044</td>\n",
       "      <td>...</td>\n",
       "      <td>0.314435</td>\n",
       "      <td>0.343113</td>\n",
       "      <td>0.337746</td>\n",
       "      <td>0.333709</td>\n",
       "      <td>0.325222</td>\n",
       "      <td>0.329960</td>\n",
       "      <td>0.332217</td>\n",
       "      <td>0.340591</td>\n",
       "      <td>0.334016</td>\n",
       "      <td>0.334566</td>\n",
       "    </tr>\n",
       "    <tr>\n",
       "      <th>112</th>\n",
       "      <td>141.0</td>\n",
       "      <td>119.6</td>\n",
       "      <td>148.7</td>\n",
       "      <td>119.1</td>\n",
       "      <td>170740.0</td>\n",
       "      <td>17.89</td>\n",
       "      <td>0.000947</td>\n",
       "      <td>-0.145668</td>\n",
       "      <td>0.324759</td>\n",
       "      <td>0.129392</td>\n",
       "      <td>...</td>\n",
       "      <td>0.287848</td>\n",
       "      <td>0.308039</td>\n",
       "      <td>0.298714</td>\n",
       "      <td>0.274369</td>\n",
       "      <td>0.292085</td>\n",
       "      <td>0.297317</td>\n",
       "      <td>0.300206</td>\n",
       "      <td>0.300025</td>\n",
       "      <td>0.324568</td>\n",
       "      <td>0.298336</td>\n",
       "    </tr>\n",
       "    <tr>\n",
       "      <th>113</th>\n",
       "      <td>129.0</td>\n",
       "      <td>141.0</td>\n",
       "      <td>148.9</td>\n",
       "      <td>121.3</td>\n",
       "      <td>130890.0</td>\n",
       "      <td>-8.52</td>\n",
       "      <td>0.123649</td>\n",
       "      <td>-0.091705</td>\n",
       "      <td>0.309119</td>\n",
       "      <td>0.133314</td>\n",
       "      <td>...</td>\n",
       "      <td>0.326863</td>\n",
       "      <td>0.339807</td>\n",
       "      <td>0.325321</td>\n",
       "      <td>0.316037</td>\n",
       "      <td>0.326532</td>\n",
       "      <td>0.330963</td>\n",
       "      <td>0.329721</td>\n",
       "      <td>0.317834</td>\n",
       "      <td>0.333818</td>\n",
       "      <td>0.319643</td>\n",
       "    </tr>\n",
       "    <tr>\n",
       "      <th>114</th>\n",
       "      <td>136.7</td>\n",
       "      <td>129.0</td>\n",
       "      <td>145.9</td>\n",
       "      <td>124.0</td>\n",
       "      <td>137010.0</td>\n",
       "      <td>5.98</td>\n",
       "      <td>0.097686</td>\n",
       "      <td>-0.140164</td>\n",
       "      <td>0.285660</td>\n",
       "      <td>0.221594</td>\n",
       "      <td>...</td>\n",
       "      <td>0.331062</td>\n",
       "      <td>0.322227</td>\n",
       "      <td>0.322605</td>\n",
       "      <td>0.324599</td>\n",
       "      <td>0.322069</td>\n",
       "      <td>0.315098</td>\n",
       "      <td>0.320233</td>\n",
       "      <td>0.325159</td>\n",
       "      <td>0.346295</td>\n",
       "      <td>0.311951</td>\n",
       "    </tr>\n",
       "  </tbody>\n",
       "</table>\n",
       "<p>115 rows × 262 columns</p>\n",
       "</div>"
      ],
      "text/plain": [
       "     Price   Open   High    Low      Vol.  Change %         0         1  \\\n",
       "0     14.4   15.4   16.5   11.0  366200.0     -6.62  0.143607 -0.070265   \n",
       "1     13.7   14.4   15.7   13.5  190880.0     -4.59  0.089774 -0.207905   \n",
       "2     13.7   13.7   14.7   12.5  263670.0      0.00  0.086321 -0.093323   \n",
       "3     13.5   13.7   14.7   13.3  132600.0     -1.10 -0.004186 -0.129215   \n",
       "4      6.6   13.5   14.9    5.7  398270.0    -51.59  0.047130 -0.083402   \n",
       "..     ...    ...    ...    ...       ...       ...       ...       ...   \n",
       "110  112.8  103.0  115.0  102.7  139760.0      9.47  0.110399 -0.196330   \n",
       "111  119.6  112.8  125.0  111.8  160000.0      6.08  0.104036 -0.236846   \n",
       "112  141.0  119.6  148.7  119.1  170740.0     17.89  0.000947 -0.145668   \n",
       "113  129.0  141.0  148.9  121.3  130890.0     -8.52  0.123649 -0.091705   \n",
       "114  136.7  129.0  145.9  124.0  137010.0      5.98  0.097686 -0.140164   \n",
       "\n",
       "            2         3  ...       246       247       248       249  \\\n",
       "0    0.278090  0.215956  ...  0.362808  0.368988  0.364313  0.352094   \n",
       "1    0.256683  0.040967  ...  0.344774  0.349917  0.348386  0.340110   \n",
       "2    0.228172  0.157205  ...  0.340600  0.362379  0.346005  0.337340   \n",
       "3    0.149419  0.147874  ...  0.298482  0.305089  0.290398  0.289368   \n",
       "4    0.200965  0.053718  ...  0.254703  0.275766  0.265648  0.259244   \n",
       "..        ...       ...  ...       ...       ...       ...       ...   \n",
       "110  0.266526  0.228943  ...  0.319754  0.347547  0.350595  0.333103   \n",
       "111  0.293611  0.211044  ...  0.314435  0.343113  0.337746  0.333709   \n",
       "112  0.324759  0.129392  ...  0.287848  0.308039  0.298714  0.274369   \n",
       "113  0.309119  0.133314  ...  0.326863  0.339807  0.325321  0.316037   \n",
       "114  0.285660  0.221594  ...  0.331062  0.322227  0.322605  0.324599   \n",
       "\n",
       "          250       251       252       253       254       255  \n",
       "0    0.355708  0.344235  0.353294  0.373881  0.358176  0.355856  \n",
       "1    0.360732  0.347816  0.350748  0.354506  0.354432  0.346472  \n",
       "2    0.351533  0.349064  0.345180  0.353104  0.349887  0.348563  \n",
       "3    0.307518  0.313389  0.308761  0.307860  0.285055  0.292567  \n",
       "4    0.257194  0.265005  0.275387  0.269150  0.264928  0.272635  \n",
       "..        ...       ...       ...       ...       ...       ...  \n",
       "110  0.334136  0.345477  0.333852  0.336154  0.330536  0.322507  \n",
       "111  0.325222  0.329960  0.332217  0.340591  0.334016  0.334566  \n",
       "112  0.292085  0.297317  0.300206  0.300025  0.324568  0.298336  \n",
       "113  0.326532  0.330963  0.329721  0.317834  0.333818  0.319643  \n",
       "114  0.322069  0.315098  0.320233  0.325159  0.346295  0.311951  \n",
       "\n",
       "[115 rows x 262 columns]"
      ]
     },
     "execution_count": 52,
     "metadata": {},
     "output_type": "execute_result"
    }
   ],
   "source": [
    "full_df"
   ]
  },
  {
   "cell_type": "code",
   "execution_count": null,
   "id": "f1dac97e",
   "metadata": {},
   "outputs": [],
   "source": []
  },
  {
   "cell_type": "code",
   "execution_count": null,
   "id": "b132e04f",
   "metadata": {},
   "outputs": [],
   "source": []
  }
 ],
 "metadata": {
  "kernelspec": {
   "display_name": "Python 3 (ipykernel)",
   "language": "python",
   "name": "python3"
  },
  "language_info": {
   "codemirror_mode": {
    "name": "ipython",
    "version": 3
   },
   "file_extension": ".py",
   "mimetype": "text/x-python",
   "name": "python",
   "nbconvert_exporter": "python",
   "pygments_lexer": "ipython3",
   "version": "3.9.7"
  }
 },
 "nbformat": 4,
 "nbformat_minor": 5
}
