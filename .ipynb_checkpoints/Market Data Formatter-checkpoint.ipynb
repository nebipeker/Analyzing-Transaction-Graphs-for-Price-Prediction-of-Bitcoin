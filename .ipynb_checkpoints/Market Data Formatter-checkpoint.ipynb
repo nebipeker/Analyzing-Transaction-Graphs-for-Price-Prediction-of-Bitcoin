{
 "cells": [
  {
   "cell_type": "code",
   "execution_count": 1,
   "id": "d5d29643",
   "metadata": {},
   "outputs": [],
   "source": [
    "import pandas as pd"
   ]
  },
  {
   "cell_type": "code",
   "execution_count": 2,
   "id": "3309e964",
   "metadata": {},
   "outputs": [],
   "source": [
    "market_data = pd.read_csv(\"./data/Bitcoin Price Monthly 2022 to 2010.csv\")"
   ]
  },
  {
   "cell_type": "code",
   "execution_count": 9,
   "id": "b98948fa",
   "metadata": {},
   "outputs": [],
   "source": [
    "#market_data = market_data.iloc[::-1].reset_index().drop(\"index\",axis=1)\n",
    "market_data.to_csv(\"./data/Bitcoin Price Monthly 2022 to 2010.csv\",index=False)"
   ]
  },
  {
   "cell_type": "code",
   "execution_count": 4,
   "id": "444e9c83",
   "metadata": {},
   "outputs": [],
   "source": [
    "def volume_correcter(volume):\n",
    "    letter = volume[-1]\n",
    "    value = float(volume[:-1])\n",
    "    if letter ==\"K\":\n",
    "        return value*1000\n",
    "    elif letter ==\"M\":\n",
    "        return value*1000000\n",
    "    elif letter ==\"B\":\n",
    "        return value*1000000000\n",
    "    else:\n",
    "        return float(volume)\n",
    "def change_correcter(change):\n",
    "    if change[:-1]==\"%\":\n",
    "        return float(change[:-1])\n",
    "    else:\n",
    "        return change"
   ]
  },
  {
   "cell_type": "code",
   "execution_count": 5,
   "id": "a857e4fd",
   "metadata": {},
   "outputs": [
    {
     "name": "stderr",
     "output_type": "stream",
     "text": [
      "C:\\Users\\TULPAR\\AppData\\Local\\Temp/ipykernel_18268/757870162.py:2: SettingWithCopyWarning: \n",
      "A value is trying to be set on a copy of a slice from a DataFrame\n",
      "\n",
      "See the caveats in the documentation: https://pandas.pydata.org/pandas-docs/stable/user_guide/indexing.html#returning-a-view-versus-a-copy\n",
      "  market_data[\"Vol.\"][i]= volume_correcter(market_data[\"Vol.\"][i])\n",
      "C:\\Users\\TULPAR\\AppData\\Local\\Temp/ipykernel_18268/757870162.py:3: SettingWithCopyWarning: \n",
      "A value is trying to be set on a copy of a slice from a DataFrame\n",
      "\n",
      "See the caveats in the documentation: https://pandas.pydata.org/pandas-docs/stable/user_guide/indexing.html#returning-a-view-versus-a-copy\n",
      "  market_data[\"Change %\"][i]= change_correcter(market_data[\"Change %\"][i])\n",
      "C:\\Users\\TULPAR\\AppData\\Local\\Temp/ipykernel_18268/757870162.py:2: SettingWithCopyWarning: \n",
      "A value is trying to be set on a copy of a slice from a DataFrame\n",
      "\n",
      "See the caveats in the documentation: https://pandas.pydata.org/pandas-docs/stable/user_guide/indexing.html#returning-a-view-versus-a-copy\n",
      "  market_data[\"Vol.\"][i]= volume_correcter(market_data[\"Vol.\"][i])\n",
      "C:\\Users\\TULPAR\\AppData\\Local\\Temp/ipykernel_18268/757870162.py:3: SettingWithCopyWarning: \n",
      "A value is trying to be set on a copy of a slice from a DataFrame\n",
      "\n",
      "See the caveats in the documentation: https://pandas.pydata.org/pandas-docs/stable/user_guide/indexing.html#returning-a-view-versus-a-copy\n",
      "  market_data[\"Change %\"][i]= change_correcter(market_data[\"Change %\"][i])\n"
     ]
    }
   ],
   "source": [
    "for i in range(market_data.shape[0]):\n",
    "    market_data[\"Vol.\"][i]= volume_correcter(market_data[\"Vol.\"][i])\n",
    "    market_data[\"Change %\"][i]= change_correcter(market_data[\"Change %\"][i])"
   ]
  },
  {
   "cell_type": "code",
   "execution_count": 7,
   "id": "5928be7d",
   "metadata": {
    "scrolled": false
   },
   "outputs": [
    {
     "name": "stdout",
     "output_type": "stream",
     "text": [
      "<class 'pandas.core.frame.DataFrame'>\n",
      "RangeIndex: 141 entries, 0 to 140\n",
      "Data columns (total 7 columns):\n",
      " #   Column    Non-Null Count  Dtype  \n",
      "---  ------    --------------  -----  \n",
      " 0   Date      141 non-null    object \n",
      " 1   Price     141 non-null    float64\n",
      " 2   Open      141 non-null    float64\n",
      " 3   High      141 non-null    float64\n",
      " 4   Low       141 non-null    float64\n",
      " 5   Vol.      141 non-null    float64\n",
      " 6   Change %  141 non-null    float64\n",
      "dtypes: float64(6), object(1)\n",
      "memory usage: 7.8+ KB\n"
     ]
    }
   ],
   "source": [
    "market_data.info()"
   ]
  },
  {
   "cell_type": "code",
   "execution_count": 6,
   "id": "6a4d7738",
   "metadata": {},
   "outputs": [
    {
     "data": {
      "text/html": [
       "<div>\n",
       "<style scoped>\n",
       "    .dataframe tbody tr th:only-of-type {\n",
       "        vertical-align: middle;\n",
       "    }\n",
       "\n",
       "    .dataframe tbody tr th {\n",
       "        vertical-align: top;\n",
       "    }\n",
       "\n",
       "    .dataframe thead th {\n",
       "        text-align: right;\n",
       "    }\n",
       "</style>\n",
       "<table border=\"1\" class=\"dataframe\">\n",
       "  <thead>\n",
       "    <tr style=\"text-align: right;\">\n",
       "      <th></th>\n",
       "      <th>Date</th>\n",
       "      <th>Price</th>\n",
       "      <th>Open</th>\n",
       "      <th>High</th>\n",
       "      <th>Low</th>\n",
       "      <th>Vol.</th>\n",
       "      <th>Change %</th>\n",
       "    </tr>\n",
       "  </thead>\n",
       "  <tbody>\n",
       "    <tr>\n",
       "      <th>0</th>\n",
       "      <td>Aug 2010</td>\n",
       "      <td>0.1</td>\n",
       "      <td>0.1</td>\n",
       "      <td>0.1</td>\n",
       "      <td>0.0</td>\n",
       "      <td>221740.0</td>\n",
       "      <td>0.00</td>\n",
       "    </tr>\n",
       "    <tr>\n",
       "      <th>1</th>\n",
       "      <td>Sep 2010</td>\n",
       "      <td>0.1</td>\n",
       "      <td>0.1</td>\n",
       "      <td>0.2</td>\n",
       "      <td>0.1</td>\n",
       "      <td>216810.0</td>\n",
       "      <td>0.00</td>\n",
       "    </tr>\n",
       "    <tr>\n",
       "      <th>2</th>\n",
       "      <td>Oct 2010</td>\n",
       "      <td>0.2</td>\n",
       "      <td>0.1</td>\n",
       "      <td>0.2</td>\n",
       "      <td>0.0</td>\n",
       "      <td>1110000.0</td>\n",
       "      <td>210.99</td>\n",
       "    </tr>\n",
       "    <tr>\n",
       "      <th>3</th>\n",
       "      <td>Nov 2010</td>\n",
       "      <td>0.2</td>\n",
       "      <td>0.2</td>\n",
       "      <td>0.5</td>\n",
       "      <td>0.1</td>\n",
       "      <td>826250.0</td>\n",
       "      <td>0.00</td>\n",
       "    </tr>\n",
       "    <tr>\n",
       "      <th>4</th>\n",
       "      <td>Dec 2010</td>\n",
       "      <td>0.3</td>\n",
       "      <td>0.2</td>\n",
       "      <td>0.3</td>\n",
       "      <td>0.2</td>\n",
       "      <td>263650.0</td>\n",
       "      <td>44.09</td>\n",
       "    </tr>\n",
       "  </tbody>\n",
       "</table>\n",
       "</div>"
      ],
      "text/plain": [
       "      Date   Price  Open  High  Low       Vol.  Change %\n",
       "0  Aug 2010    0.1   0.1   0.1  0.0   221740.0      0.00\n",
       "1  Sep 2010    0.1   0.1   0.2  0.1   216810.0      0.00\n",
       "2  Oct 2010    0.2   0.1   0.2  0.0  1110000.0    210.99\n",
       "3  Nov 2010    0.2   0.2   0.5  0.1   826250.0      0.00\n",
       "4  Dec 2010    0.3   0.2   0.3  0.2   263650.0     44.09"
      ]
     },
     "execution_count": 6,
     "metadata": {},
     "output_type": "execute_result"
    }
   ],
   "source": [
    "market_data.head()"
   ]
  },
  {
   "cell_type": "code",
   "execution_count": 4,
   "id": "b66abe63",
   "metadata": {},
   "outputs": [
    {
     "name": "stdout",
     "output_type": "stream",
     "text": [
      "<class 'str'>\n",
      "<class 'numpy.float64'>\n",
      "<class 'numpy.float64'>\n",
      "<class 'numpy.float64'>\n",
      "<class 'numpy.float64'>\n",
      "<class 'numpy.float64'>\n",
      "<class 'numpy.float64'>\n"
     ]
    }
   ],
   "source": [
    "for col in market_data.columns:\n",
    "    print(type(market_data[col][0]))"
   ]
  },
  {
   "cell_type": "code",
   "execution_count": null,
   "id": "6919142e",
   "metadata": {},
   "outputs": [],
   "source": []
  }
 ],
 "metadata": {
  "kernelspec": {
   "display_name": "Python 3 (ipykernel)",
   "language": "python",
   "name": "python3"
  },
  "language_info": {
   "codemirror_mode": {
    "name": "ipython",
    "version": 3
   },
   "file_extension": ".py",
   "mimetype": "text/x-python",
   "name": "python",
   "nbconvert_exporter": "python",
   "pygments_lexer": "ipython3",
   "version": "3.9.7"
  }
 },
 "nbformat": 4,
 "nbformat_minor": 5
}
