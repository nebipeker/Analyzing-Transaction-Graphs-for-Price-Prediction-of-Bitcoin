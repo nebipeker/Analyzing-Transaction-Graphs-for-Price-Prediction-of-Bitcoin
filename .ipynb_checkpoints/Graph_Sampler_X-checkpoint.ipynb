{
 "cells": [
  {
   "cell_type": "code",
   "execution_count": 1,
   "id": "24e5b123",
   "metadata": {},
   "outputs": [],
   "source": [
    "import matplotlib.pyplot as plt\n",
    "import pandas as pd\n",
    "import numpy as np\n",
    "%matplotlib inline\n",
    "import random\n",
    "import networkx as nx\n",
    "import time\n",
    "import math"
   ]
  },
  {
   "cell_type": "markdown",
   "id": "4b8a863e",
   "metadata": {},
   "source": [
    "### Random Graph Sampler"
   ]
  },
  {
   "cell_type": "code",
   "execution_count": 1,
   "id": "fef94301",
   "metadata": {},
   "outputs": [],
   "source": [
    "directoryGraphs = \"C:/Users/Umut/Desktop/transactiongraph/\""
   ]
  },
  {
   "cell_type": "code",
   "execution_count": 2,
   "id": "2104e42c",
   "metadata": {},
   "outputs": [],
   "source": [
    "def graph_sampler(startIndex, lastIndex, directory, csv_name, edge_max, graphNumber_max, graphNumberReducer):\n",
    "    for n in range(startIndex,lastIndex):\n",
    "        startTime = time.time()\n",
    "        csvDirectory = directory + csv_name + str(n) + '.csv'\n",
    "        df = pd.read_csv(csvDirectory)\n",
    "        graph_X = nx.from_pandas_edgelist(df,source=\"addressIn\", target=\"addressOut\")\n",
    "        graphNumber = math.floor(graph_X.number_of_edges() / edge_max * graphNumberReducer)\n",
    "        if(graphNumber > graphNumber_max):\n",
    "            graphNumber = graphNumber_max \n",
    "        print('Current graph is ' + 'transactiongraph' + str(n))\n",
    "        for x in range(0,graphNumber):\n",
    "            sampled_edges = random.sample(graph_X.edges, edge_max)\n",
    "            dfSampled = pd.DataFrame(sampled_edges)\n",
    "            newCsvName = 'sampledGraph' + str(n) + '_'+ str(x) +'.csv'\n",
    "            dfSampled.to_csv(newCsvName, encoding='utf-8')\n",
    "        stopTime = time.time()\n",
    "        duration = stopTime - startTime\n",
    "        print('Time for X times sampling transactiongraph' + str(n) + ':' + str(math.floor(duration))+ ' seconds.')\n",
    "    "
   ]
  },
  {
   "cell_type": "code",
   "execution_count": null,
   "id": "41a2be79",
   "metadata": {},
   "outputs": [],
   "source": [
    "graph_sampler(startIndex=30, lastIndex=50,directory=directoryGraphs,\n",
    "              csv_name='transactiongraph',edge_max=5000,graphNumber_max=50,graphNumberReducer=0.10)"
   ]
  },
  {
   "cell_type": "code",
   "execution_count": null,
   "id": "1f748a70",
   "metadata": {},
   "outputs": [],
   "source": []
  }
 ],
 "metadata": {
  "kernelspec": {
   "display_name": "Python 3 (ipykernel)",
   "language": "python",
   "name": "python3"
  },
  "language_info": {
   "codemirror_mode": {
    "name": "ipython",
    "version": 3
   },
   "file_extension": ".py",
   "mimetype": "text/x-python",
   "name": "python",
   "nbconvert_exporter": "python",
   "pygments_lexer": "ipython3",
   "version": "3.8.0"
  }
 },
 "nbformat": 4,
 "nbformat_minor": 5
}
