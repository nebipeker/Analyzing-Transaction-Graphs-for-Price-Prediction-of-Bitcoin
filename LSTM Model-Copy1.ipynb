{
 "cells": [
  {
   "cell_type": "code",
   "execution_count": null,
   "id": "93b5083d",
   "metadata": {},
   "outputs": [],
   "source": []
  },
  {
   "cell_type": "code",
   "execution_count": 1,
   "id": "a18f0d85",
   "metadata": {},
   "outputs": [],
   "source": [
    "import pandas as pd\n",
    "import numpy as np\n",
    "\n",
    "import tensorflow\n",
    "import keras\n",
    "from keras.models import Sequential\n",
    "from keras.layers import Dense, LSTM, Dropout\n",
    "from sklearn.preprocessing import MinMaxScaler\n",
    "from sklearn.metrics import mean_absolute_error as mae\n",
    "from sklearn.metrics import mean_absolute_percentage_error as mape\n",
    "from sklearn.metrics import mean_squared_error\n",
    "from sklearn.model_selection import train_test_split\n",
    "import math\n",
    "import matplotlib.pyplot as plt\n",
    "import time"
   ]
  },
  {
   "cell_type": "code",
   "execution_count": null,
   "id": "0e963f42",
   "metadata": {},
   "outputs": [],
   "source": [
    "epochcount = 1000"
   ]
  },
  {
   "cell_type": "code",
   "execution_count": null,
   "id": "d286ba0f",
   "metadata": {},
   "outputs": [],
   "source": [
    "df = pd.read_csv('data/price_informations.csv')"
   ]
  },
  {
   "cell_type": "code",
   "execution_count": null,
   "id": "7df48034",
   "metadata": {
    "scrolled": false
   },
   "outputs": [],
   "source": [
    "df = df.loc[:112]"
   ]
  },
  {
   "cell_type": "code",
   "execution_count": null,
   "id": "0d5ff20e",
   "metadata": {},
   "outputs": [],
   "source": [
    "df"
   ]
  },
  {
   "cell_type": "code",
   "execution_count": null,
   "id": "1abde593",
   "metadata": {},
   "outputs": [],
   "source": [
    "dates = df[\"Date\"]\n",
    "df.drop(\"Date\",axis= 1, inplace = True)"
   ]
  },
  {
   "cell_type": "code",
   "execution_count": null,
   "id": "dec5bf18",
   "metadata": {},
   "outputs": [],
   "source": [
    "Y = df[\"Close\"]\n",
    "X = df.drop([\"Close\"],axis=1)"
   ]
  },
  {
   "cell_type": "code",
   "execution_count": null,
   "id": "93827afd",
   "metadata": {},
   "outputs": [],
   "source": [
    "# normalize the dataset\n",
    "scaler = MinMaxScaler(feature_range=(0, 1))\n",
    "X = scaler.fit_transform(X)"
   ]
  },
  {
   "cell_type": "code",
   "execution_count": null,
   "id": "d2dc478e",
   "metadata": {},
   "outputs": [],
   "source": [
    "X_train, X_test, y_train, y_test = X[:75], X[75:], Y[:75],  Y[75:]"
   ]
  },
  {
   "cell_type": "code",
   "execution_count": null,
   "id": "b78aceaf",
   "metadata": {},
   "outputs": [],
   "source": [
    "X_train.shape"
   ]
  },
  {
   "cell_type": "code",
   "execution_count": null,
   "id": "d0f687d4",
   "metadata": {
    "scrolled": true
   },
   "outputs": [],
   "source": [
    "trainX = np.array(X_train)\n",
    "testX = np.array(X_test)"
   ]
  },
  {
   "cell_type": "code",
   "execution_count": null,
   "id": "327731b1",
   "metadata": {},
   "outputs": [],
   "source": [
    "trainX = np.reshape(trainX, (trainX.shape[0], 1, trainX.shape[1]))\n",
    "testX = np.reshape(testX, (testX.shape[0], 1, testX.shape[1]))"
   ]
  },
  {
   "cell_type": "code",
   "execution_count": null,
   "id": "2757e7c2",
   "metadata": {},
   "outputs": [],
   "source": [
    "trainX.shape"
   ]
  },
  {
   "cell_type": "code",
   "execution_count": 3,
   "id": "41d85d39",
   "metadata": {
    "scrolled": true
   },
   "outputs": [],
   "source": [
    "model = Sequential()  \n",
    "\n",
    "model.add(LSTM(units = 30, activation = 'relu', return_sequences = True, input_shape = (1,5)))\n",
    "model.add(Dropout(0.15))\n",
    "\n",
    "model.add(LSTM(units = 40, activation = 'relu', return_sequences = True))\n",
    "model.add(Dropout(0.15))\n",
    "\n",
    "model.add(LSTM(units = 50, activation = 'relu', return_sequences = True))\n",
    "model.add(Dropout(0.15))\n",
    "\n",
    "model.add(LSTM(units = 60, activation = 'relu'))\n",
    "model.add(Dropout(0.15))\n",
    "\n",
    "model.add(Dense(units= 1))\n",
    "model.compile(loss='mean_absolute_error', optimizer='adam')"
   ]
  },
  {
   "cell_type": "code",
   "execution_count": 5,
   "id": "899fab67",
   "metadata": {},
   "outputs": [
    {
     "name": "stdout",
     "output_type": "stream",
     "text": [
      "('You must install pydot (`pip install pydot`) and install graphviz (see instructions at https://graphviz.gitlab.io/download/) ', 'for plot_model/model_to_dot to work.')\n"
     ]
    }
   ],
   "source": [
    "from tensorflow.keras.utils import plot_model \n",
    "plot_model(model, to_file='model1.png')"
   ]
  },
  {
   "cell_type": "code",
   "execution_count": null,
   "id": "8ba3702f",
   "metadata": {},
   "outputs": [],
   "source": [
    "model.summary()"
   ]
  },
  {
   "cell_type": "code",
   "execution_count": null,
   "id": "2a04f9a3",
   "metadata": {
    "scrolled": true
   },
   "outputs": [],
   "source": [
    "model.fit(trainX, y_train, epochs=epochcount, batch_size=1, verbose=2)"
   ]
  },
  {
   "cell_type": "code",
   "execution_count": null,
   "id": "016108b5",
   "metadata": {
    "scrolled": true
   },
   "outputs": [],
   "source": [
    "trainPredict = model.predict(trainX)\n",
    "testPredict = model.predict(testX)\n",
    "\n",
    "# calculate root mean squared error\n",
    "trainScore = math.sqrt(mean_squared_error(y_train, trainPredict[:,0]))\n",
    "print('Train Score: %.2f RMSE' % (trainScore))\n",
    "testScore = math.sqrt(mean_squared_error(y_test, testPredict[:,0]))\n",
    "print('Test Score: %.2f RMSE' % (testScore))\n",
    "#calculate MAE\n",
    "trainScore=mae(y_train, trainPredict[:,0])\n",
    "print('Train Score: %.2f MAE' % (trainScore))\n",
    "testScore=mae(y_test, testPredict[:,0])\n",
    "print('Test Score: %.2f MAE' % (testScore))\n",
    "#calculate MAPE\n",
    "trainScore=mape(y_train, trainPredict[:,0])\n",
    "print('Train Score: %.2f MAPE' % (trainScore))\n",
    "testScore=mape(y_test, testPredict[:,0])\n",
    "print('Test Score: %.2f MAPE' % (testScore))"
   ]
  },
  {
   "cell_type": "code",
   "execution_count": null,
   "id": "21ab5993",
   "metadata": {
    "scrolled": true
   },
   "outputs": [],
   "source": [
    "testPredict.reshape(testPredict.shape[0])"
   ]
  },
  {
   "cell_type": "code",
   "execution_count": null,
   "id": "47ce641d",
   "metadata": {},
   "outputs": [],
   "source": [
    "testPredict.shape"
   ]
  },
  {
   "cell_type": "code",
   "execution_count": null,
   "id": "c3c72d50",
   "metadata": {},
   "outputs": [],
   "source": [
    "plt.figure(figsize=(15,6))\n",
    "plt.scatter(np.arange(testPredict.shape[0]),testPredict.reshape(testPredict.shape[0]), c=\"r\",label=\"Prediction\")\n",
    "plt.scatter(np.arange(testPredict.shape[0]),y_test, c=\"g\",label=\"Y\")\n",
    "plt.legend()\n",
    "plt.show()"
   ]
  },
  {
   "cell_type": "code",
   "execution_count": null,
   "id": "fbd84f78",
   "metadata": {},
   "outputs": [],
   "source": [
    "plt.figure(figsize=(15,6))\n",
    "plt.plot(np.arange(trainPredict.shape[0]),trainPredict.reshape(trainPredict.shape[0]), c=\"r\", label=\"Prediction\")\n",
    "plt.plot(np.arange(trainPredict.shape[0]),y_train, c=\"g\", label=\"Y\")\n",
    "plt.legend()\n",
    "plt.show()"
   ]
  },
  {
   "cell_type": "code",
   "execution_count": null,
   "id": "26db62c3",
   "metadata": {
    "scrolled": false
   },
   "outputs": [],
   "source": [
    "plt.figure(figsize=(15,6))\n",
    "plt.scatter(np.arange(trainPredict.shape[0]),trainPredict, c=\"r\", label=\"Prediction\")\n",
    "plt.scatter(np.arange(trainPredict.shape[0]),y_train, c=\"g\", label=\"Y\")\n",
    "plt.legend()\n",
    "plt.show()"
   ]
  },
  {
   "cell_type": "code",
   "execution_count": null,
   "id": "73e55ba9",
   "metadata": {},
   "outputs": [],
   "source": [
    "test_predict = testPredict.reshape(testPredict.shape[0])[:-1]\n",
    "train_predict = trainPredict.reshape(trainPredict.shape[0])[:-1]"
   ]
  },
  {
   "cell_type": "code",
   "execution_count": null,
   "id": "25da9767",
   "metadata": {},
   "outputs": [],
   "source": [
    "y_test_ = y_test"
   ]
  },
  {
   "cell_type": "code",
   "execution_count": null,
   "id": "3edfd5ad",
   "metadata": {},
   "outputs": [],
   "source": [
    "df = pd.read_csv('data/full_df.csv').drop(\"number_of_edges\", axis=1).drop(\"number_of_nodes\",axis=1)"
   ]
  },
  {
   "cell_type": "code",
   "execution_count": null,
   "id": "b09fcd1c",
   "metadata": {
    "scrolled": false
   },
   "outputs": [],
   "source": [
    "df"
   ]
  },
  {
   "cell_type": "code",
   "execution_count": null,
   "id": "7409c65c",
   "metadata": {
    "scrolled": true
   },
   "outputs": [],
   "source": [
    "dates = df[\"Date\"]\n",
    "df.drop(\"Date\",axis= 1, inplace = True)\n",
    "Y = df[\"Close\"]\n",
    "X = df.drop([\"Close\"],axis=1)\n",
    "X = scaler.fit_transform(X)\n",
    "X_train, X_test, y_train, y_test =  X[:75], X[75:], Y[:75],  Y[75:]\n",
    "trainX = np.array(X_train)\n",
    "testX = np.array(X_test)\n",
    "trainX = np.reshape(trainX, (trainX.shape[0], 1, trainX.shape[1]))\n",
    "testX = np.reshape(testX, (testX.shape[0], 1, testX.shape[1]))\n",
    "\n"
   ]
  },
  {
   "cell_type": "code",
   "execution_count": null,
   "id": "f70ea662",
   "metadata": {},
   "outputs": [],
   "source": [
    "model = Sequential()  \n",
    "\n",
    "model.add(LSTM(units = 30, activation = 'relu', return_sequences = True, input_shape = (1,8)))\n",
    "model.add(Dropout(0.15))\n",
    "\n",
    "model.add(LSTM(units = 40, activation = 'relu', return_sequences = True))\n",
    "model.add(Dropout(0.15))\n",
    "\n",
    "model.add(LSTM(units = 50, activation = 'relu', return_sequences = True))\n",
    "model.add(Dropout(0.15))\n",
    "\n",
    "model.add(LSTM(units = 60, activation = 'relu'))\n",
    "model.add(Dropout(0.15))\n",
    "\n",
    "model.add(Dense(units= 1))\n",
    "model.compile(loss='mean_absolute_error', optimizer='adam')"
   ]
  },
  {
   "cell_type": "code",
   "execution_count": null,
   "id": "75e89380",
   "metadata": {},
   "outputs": [],
   "source": [
    "model.summary()"
   ]
  },
  {
   "cell_type": "code",
   "execution_count": null,
   "id": "1a6eedc7",
   "metadata": {
    "scrolled": true
   },
   "outputs": [],
   "source": [
    "model.fit(trainX, y_train, epochs=epochcount, batch_size=1, verbose=2)"
   ]
  },
  {
   "cell_type": "code",
   "execution_count": null,
   "id": "e4f349a9",
   "metadata": {
    "scrolled": true
   },
   "outputs": [],
   "source": [
    "trainPredict = model.predict(trainX)\n",
    "testPredict = model.predict(testX)\n",
    "\n",
    "# calculate root mean squared error\n",
    "trainScore = math.sqrt(mean_squared_error(y_train, trainPredict[:,0]))\n",
    "print('Train Score: %.2f RMSE' % (trainScore))\n",
    "testScore = math.sqrt(mean_squared_error(y_test, testPredict[:,0]))\n",
    "print('Test Score: %.2f RMSE' % (testScore))\n",
    "#calculate MAE\n",
    "trainScore=mae(y_train, trainPredict[:,0])\n",
    "print('Train Score: %.2f MAE' % (trainScore))\n",
    "testScore=mae(y_test, testPredict[:,0])\n",
    "print('Test Score: %.2f MAE' % (testScore))\n",
    "#calculate MAPE\n",
    "trainScore=mape(y_train, trainPredict[:,0])\n",
    "print('Train Score: %.2f MAPE' % (trainScore))\n",
    "testScore=mape(y_test.values, testPredict[:,0])\n",
    "print('Test Score: %.2f MAPE' % (testScore))"
   ]
  },
  {
   "cell_type": "code",
   "execution_count": null,
   "id": "17068083",
   "metadata": {},
   "outputs": [],
   "source": [
    "plt.figure(figsize=(15,6))\n",
    "plt.plot(np.arange(testPredict.shape[0]),testPredict.reshape(testPredict.shape[0]), c=\"r\",label=\"Prediction\")\n",
    "plt.plot(np.arange(testPredict.shape[0]),y_test, c=\"g\", label=\"Y\")\n",
    "plt.legend()\n",
    "plt.show()"
   ]
  },
  {
   "cell_type": "code",
   "execution_count": null,
   "id": "36c12ed1",
   "metadata": {},
   "outputs": [],
   "source": [
    "plt.figure(figsize=(15,6))\n",
    "plt.scatter(np.arange(37),testPredict.reshape(testPredict.shape[0]), c=\"r\",label=\"Prediction\")\n",
    "plt.scatter(np.arange(37),y_test, c=\"g\",label=\"Y\")\n",
    "plt.legend()\n",
    "plt.show()"
   ]
  },
  {
   "cell_type": "code",
   "execution_count": null,
   "id": "57fe23f7",
   "metadata": {},
   "outputs": [],
   "source": [
    "plt.figure(figsize=(15,6))\n",
    "plt.scatter(np.arange(trainPredict.shape[0]),trainPredict, c=\"r\", label=\"Prediction\")\n",
    "plt.scatter(np.arange(trainPredict.shape[0]),y_train, c=\"g\", label=\"Y\")\n",
    "plt.legend()\n",
    "plt.show()"
   ]
  },
  {
   "cell_type": "code",
   "execution_count": null,
   "id": "0fc5d218",
   "metadata": {
    "scrolled": false
   },
   "outputs": [],
   "source": [
    "plt.figure(figsize=(16,9))\n",
    "lenght = np.arange(37)\n",
    "plt.plot(lenght,testPredict.reshape(testPredict.shape[0]), c=\"r\",label=\"Prediction with Graph Metrics\")\n",
    "plt.plot(lenght,y_test, c=\"g\", label=\"Bitcoin Price\")\n",
    "plt.plot(lenght,test_predict, c=\"b\", label=\"Prediction without Graph Metrics\")\n",
    "plt.legend()\n",
    "plt.title(\"Price Predictions on test data\")\n",
    "plt.ylabel(\"Price\")\n",
    "plt.xlabel(\"Weeks\")\n",
    "plt.savefig(\"demo16_1500.png\")\n",
    "plt.show()"
   ]
  },
  {
   "cell_type": "code",
   "execution_count": null,
   "id": "bdcd9945",
   "metadata": {},
   "outputs": [],
   "source": [
    "plt.figure(figsize=(16,9))\n",
    "lenght = np.arange(16)\n",
    "plt.plot(lenght,testPredict.reshape(testPredict.shape[0])[:16], c=\"r\",label=\"Prediction with Graph Metrics\")\n",
    "plt.plot(lenght,y_test[:16], c=\"g\", label=\"Bitcoin Price\")\n",
    "plt.plot(lenght,test_predict[:-1][:16], c=\"b\", label=\"Prediction withot Graph Metrics\")\n",
    "plt.legend()\n",
    "plt.title(\"Price Predictions on train data\")\n",
    "plt.ylabel(\"Price\")\n",
    "plt.xlabel(\"Weeks\")\n",
    "plt.savefig(\"demo37_1500.png\")\n",
    "plt.show()"
   ]
  },
  {
   "cell_type": "code",
   "execution_count": null,
   "id": "9bad92f8",
   "metadata": {},
   "outputs": [],
   "source": []
  }
 ],
 "metadata": {
  "kernelspec": {
   "display_name": "Python 3 (ipykernel)",
   "language": "python",
   "name": "python3"
  },
  "language_info": {
   "codemirror_mode": {
    "name": "ipython",
    "version": 3
   },
   "file_extension": ".py",
   "mimetype": "text/x-python",
   "name": "python",
   "nbconvert_exporter": "python",
   "pygments_lexer": "ipython3",
   "version": "3.9.7"
  }
 },
 "nbformat": 4,
 "nbformat_minor": 5
}
