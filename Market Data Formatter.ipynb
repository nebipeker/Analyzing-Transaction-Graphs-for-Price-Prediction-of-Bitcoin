{
 "cells": [
  {
   "cell_type": "code",
   "execution_count": 1,
   "id": "d5d29643",
   "metadata": {},
   "outputs": [],
   "source": [
    "import pandas as pd"
   ]
  },
  {
   "cell_type": "code",
   "execution_count": 2,
   "id": "3309e964",
   "metadata": {},
   "outputs": [],
   "source": [
    "market_data = pd.read_csv(\"./data/Bitcoin Price Monthly 2022 to 2010.csv\")"
   ]
  },
  {
   "cell_type": "code",
   "execution_count": 9,
   "id": "b98948fa",
   "metadata": {},
   "outputs": [],
   "source": [
    "#market_data = market_data.iloc[::-1].reset_index().drop(\"index\",axis=1)\n",
    "market_data.to_csv(\"./data/Bitcoin Price Monthly 2022 to 2010.csv\",index=False)"
   ]
  },
  {
   "cell_type": "code",
   "execution_count": 5,
   "id": "444e9c83",
   "metadata": {},
   "outputs": [],
   "source": [
    "def volume_correcter(volume):\n",
    "    letter = volume[-1]\n",
    "    value = float(volume[:-1])\n",
    "    if letter ==\"K\":\n",
    "        return value*1000\n",
    "    elif letter ==\"M\":\n",
    "        return value*1000000\n",
    "    elif letter ==\"B\":\n",
    "        return value*1000000000\n",
    "    else:\n",
    "        return float(volume)\n",
    "def change_correcter(change):\n",
    "    if change[:-1]==\"%\":\n",
    "        return float(change[:-1])\n",
    "    else:\n",
    "        return change"
   ]
  },
  {
   "cell_type": "code",
   "execution_count": 6,
   "id": "a857e4fd",
   "metadata": {},
   "outputs": [],
   "source": [
    "for i in range(market_data.shape[0]):\n",
    "    market_data[\"Vol.\"][i]= volume_correcter(market_data[\"Vol.\"][i])\n",
    "    market_data[\"Change %\"][i]= change_correcter(market_data[\"Change %\"][i])"
   ]
  },
  {
   "cell_type": "code",
   "execution_count": 7,
   "id": "5928be7d",
   "metadata": {
    "scrolled": false
   },
   "outputs": [
    {
     "name": "stdout",
     "output_type": "stream",
     "text": [
      "<class 'pandas.core.frame.DataFrame'>\n",
      "RangeIndex: 141 entries, 0 to 140\n",
      "Data columns (total 7 columns):\n",
      " #   Column    Non-Null Count  Dtype  \n",
      "---  ------    --------------  -----  \n",
      " 0   Date      141 non-null    object \n",
      " 1   Price     141 non-null    float64\n",
      " 2   Open      141 non-null    float64\n",
      " 3   High      141 non-null    float64\n",
      " 4   Low       141 non-null    float64\n",
      " 5   Vol.      141 non-null    float64\n",
      " 6   Change %  141 non-null    float64\n",
      "dtypes: float64(6), object(1)\n",
      "memory usage: 7.8+ KB\n"
     ]
    }
   ],
   "source": [
    "market_data.info()"
   ]
  },
  {
   "cell_type": "code",
   "execution_count": 6,
   "id": "6a4d7738",
   "metadata": {},
   "outputs": [
    {
     "data": {
      "text/html": [
       "<div>\n",
       "<style scoped>\n",
       "    .dataframe tbody tr th:only-of-type {\n",
       "        vertical-align: middle;\n",
       "    }\n",
       "\n",
       "    .dataframe tbody tr th {\n",
       "        vertical-align: top;\n",
       "    }\n",
       "\n",
       "    .dataframe thead th {\n",
       "        text-align: right;\n",
       "    }\n",
       "</style>\n",
       "<table border=\"1\" class=\"dataframe\">\n",
       "  <thead>\n",
       "    <tr style=\"text-align: right;\">\n",
       "      <th></th>\n",
       "      <th>Date</th>\n",
       "      <th>Price</th>\n",
       "      <th>Open</th>\n",
       "      <th>High</th>\n",
       "      <th>Low</th>\n",
       "      <th>Vol.</th>\n",
       "      <th>Change %</th>\n",
       "    </tr>\n",
       "  </thead>\n",
       "  <tbody>\n",
       "    <tr>\n",
       "      <th>0</th>\n",
       "      <td>Aug 2010</td>\n",
       "      <td>0.1</td>\n",
       "      <td>0.1</td>\n",
       "      <td>0.1</td>\n",
       "      <td>0.0</td>\n",
       "      <td>221740.0</td>\n",
       "      <td>0.00</td>\n",
       "    </tr>\n",
       "    <tr>\n",
       "      <th>1</th>\n",
       "      <td>Sep 2010</td>\n",
       "      <td>0.1</td>\n",
       "      <td>0.1</td>\n",
       "      <td>0.2</td>\n",
       "      <td>0.1</td>\n",
       "      <td>216810.0</td>\n",
       "      <td>0.00</td>\n",
       "    </tr>\n",
       "    <tr>\n",
       "      <th>2</th>\n",
       "      <td>Oct 2010</td>\n",
       "      <td>0.2</td>\n",
       "      <td>0.1</td>\n",
       "      <td>0.2</td>\n",
       "      <td>0.0</td>\n",
       "      <td>1110000.0</td>\n",
       "      <td>210.99</td>\n",
       "    </tr>\n",
       "    <tr>\n",
       "      <th>3</th>\n",
       "      <td>Nov 2010</td>\n",
       "      <td>0.2</td>\n",
       "      <td>0.2</td>\n",
       "      <td>0.5</td>\n",
       "      <td>0.1</td>\n",
       "      <td>826250.0</td>\n",
       "      <td>0.00</td>\n",
       "    </tr>\n",
       "    <tr>\n",
       "      <th>4</th>\n",
       "      <td>Dec 2010</td>\n",
       "      <td>0.3</td>\n",
       "      <td>0.2</td>\n",
       "      <td>0.3</td>\n",
       "      <td>0.2</td>\n",
       "      <td>263650.0</td>\n",
       "      <td>44.09</td>\n",
       "    </tr>\n",
       "  </tbody>\n",
       "</table>\n",
       "</div>"
      ],
      "text/plain": [
       "      Date   Price  Open  High  Low       Vol.  Change %\n",
       "0  Aug 2010    0.1   0.1   0.1  0.0   221740.0      0.00\n",
       "1  Sep 2010    0.1   0.1   0.2  0.1   216810.0      0.00\n",
       "2  Oct 2010    0.2   0.1   0.2  0.0  1110000.0    210.99\n",
       "3  Nov 2010    0.2   0.2   0.5  0.1   826250.0      0.00\n",
       "4  Dec 2010    0.3   0.2   0.3  0.2   263650.0     44.09"
      ]
     },
     "execution_count": 6,
     "metadata": {},
     "output_type": "execute_result"
    }
   ],
   "source": [
    "market_data.head()"
   ]
  },
  {
   "cell_type": "code",
   "execution_count": 4,
   "id": "b66abe63",
   "metadata": {},
   "outputs": [
    {
     "name": "stdout",
     "output_type": "stream",
     "text": [
      "<class 'str'>\n",
      "<class 'numpy.float64'>\n",
      "<class 'numpy.float64'>\n",
      "<class 'numpy.float64'>\n",
      "<class 'numpy.float64'>\n",
      "<class 'numpy.float64'>\n",
      "<class 'numpy.float64'>\n"
     ]
    }
   ],
   "source": [
    "for col in market_data.columns:\n",
    "    print(type(market_data[col][0]))"
   ]
  },
  {
   "cell_type": "code",
   "execution_count": 3,
   "id": "6919142e",
   "metadata": {},
   "outputs": [],
   "source": [
    "market_data = pd.read_csv(\"./data/Bitcoin Price Weekly 2022 to 2010 .csv\")"
   ]
  },
  {
   "cell_type": "code",
   "execution_count": 9,
   "id": "64dc8c33",
   "metadata": {},
   "outputs": [],
   "source": [
    "market_data = market_data.iloc[::-1].reset_index().drop('index',axis=1)"
   ]
  },
  {
   "cell_type": "code",
   "execution_count": 13,
   "id": "82b4b334",
   "metadata": {},
   "outputs": [],
   "source": [
    "market_data.to_csv(\"./data/Bitcoin Price Weekly 2022 to 2010 .csv\", index=False)"
   ]
  },
  {
   "cell_type": "code",
   "execution_count": 12,
   "id": "8516b770",
   "metadata": {
    "scrolled": false
   },
   "outputs": [
    {
     "data": {
      "text/html": [
       "<div>\n",
       "<style scoped>\n",
       "    .dataframe tbody tr th:only-of-type {\n",
       "        vertical-align: middle;\n",
       "    }\n",
       "\n",
       "    .dataframe tbody tr th {\n",
       "        vertical-align: top;\n",
       "    }\n",
       "\n",
       "    .dataframe thead th {\n",
       "        text-align: right;\n",
       "    }\n",
       "</style>\n",
       "<table border=\"1\" class=\"dataframe\">\n",
       "  <thead>\n",
       "    <tr style=\"text-align: right;\">\n",
       "      <th></th>\n",
       "      <th>Date,</th>\n",
       "      <th>Price</th>\n",
       "      <th>Open</th>\n",
       "      <th>High</th>\n",
       "      <th>Low</th>\n",
       "      <th>Vol.</th>\n",
       "      <th>Change %</th>\n",
       "    </tr>\n",
       "  </thead>\n",
       "  <tbody>\n",
       "    <tr>\n",
       "      <th>0</th>\n",
       "      <td>7/18/2010</td>\n",
       "      <td>0.1</td>\n",
       "      <td>0</td>\n",
       "      <td>0.1</td>\n",
       "      <td>0.1</td>\n",
       "      <td>6550.0</td>\n",
       "      <td>0.00%</td>\n",
       "    </tr>\n",
       "    <tr>\n",
       "      <th>1</th>\n",
       "      <td>7/25/2010</td>\n",
       "      <td>0.1</td>\n",
       "      <td>0.1</td>\n",
       "      <td>0.1</td>\n",
       "      <td>0.1</td>\n",
       "      <td>25290.0</td>\n",
       "      <td>0.00%</td>\n",
       "    </tr>\n",
       "    <tr>\n",
       "      <th>2</th>\n",
       "      <td>8/1/2010</td>\n",
       "      <td>0.1</td>\n",
       "      <td>0.1</td>\n",
       "      <td>0.1</td>\n",
       "      <td>0.1</td>\n",
       "      <td>28560.0</td>\n",
       "      <td>0.00%</td>\n",
       "    </tr>\n",
       "    <tr>\n",
       "      <th>3</th>\n",
       "      <td>8/8/2010</td>\n",
       "      <td>0.1</td>\n",
       "      <td>0.1</td>\n",
       "      <td>0.1</td>\n",
       "      <td>0.1</td>\n",
       "      <td>41260.0</td>\n",
       "      <td>0.00%</td>\n",
       "    </tr>\n",
       "    <tr>\n",
       "      <th>4</th>\n",
       "      <td>8/15/2010</td>\n",
       "      <td>0.1</td>\n",
       "      <td>0.1</td>\n",
       "      <td>0.1</td>\n",
       "      <td>0.1</td>\n",
       "      <td>46720.0</td>\n",
       "      <td>0.00%</td>\n",
       "    </tr>\n",
       "    <tr>\n",
       "      <th>...</th>\n",
       "      <td>...</td>\n",
       "      <td>...</td>\n",
       "      <td>...</td>\n",
       "      <td>...</td>\n",
       "      <td>...</td>\n",
       "      <td>...</td>\n",
       "      <td>...</td>\n",
       "    </tr>\n",
       "    <tr>\n",
       "      <th>610</th>\n",
       "      <td>3/27/2022</td>\n",
       "      <td>45,811.00</td>\n",
       "      <td>44,542.00</td>\n",
       "      <td>48,199.00</td>\n",
       "      <td>44,261.00</td>\n",
       "      <td>3660000000.0</td>\n",
       "      <td>2.84%</td>\n",
       "    </tr>\n",
       "    <tr>\n",
       "      <th>611</th>\n",
       "      <td>4/3/2022</td>\n",
       "      <td>42,767.00</td>\n",
       "      <td>45,813.00</td>\n",
       "      <td>47,435.00</td>\n",
       "      <td>42,113.00</td>\n",
       "      <td>3230000000.0</td>\n",
       "      <td>-6.64%</td>\n",
       "    </tr>\n",
       "    <tr>\n",
       "      <th>612</th>\n",
       "      <td>4/10/2022</td>\n",
       "      <td>40,382.00</td>\n",
       "      <td>42,760.00</td>\n",
       "      <td>43,421.00</td>\n",
       "      <td>39,202.00</td>\n",
       "      <td>2490000000.0</td>\n",
       "      <td>-5.58%</td>\n",
       "    </tr>\n",
       "    <tr>\n",
       "      <th>613</th>\n",
       "      <td>4/17/2022</td>\n",
       "      <td>39,418.00</td>\n",
       "      <td>40,382.00</td>\n",
       "      <td>42,969.00</td>\n",
       "      <td>38,577.00</td>\n",
       "      <td>2660000000.0</td>\n",
       "      <td>-2.39%</td>\n",
       "    </tr>\n",
       "    <tr>\n",
       "      <th>614</th>\n",
       "      <td>4/24/2022</td>\n",
       "      <td>38,569.00</td>\n",
       "      <td>39,434.00</td>\n",
       "      <td>40,770.00</td>\n",
       "      <td>37,708.00</td>\n",
       "      <td>3350000000.0</td>\n",
       "      <td>-2.15%</td>\n",
       "    </tr>\n",
       "  </tbody>\n",
       "</table>\n",
       "<p>615 rows × 7 columns</p>\n",
       "</div>"
      ],
      "text/plain": [
       "         Date,      Price       Open       High        Low          Vol.  \\\n",
       "0    7/18/2010        0.1          0        0.1        0.1        6550.0   \n",
       "1    7/25/2010        0.1        0.1        0.1        0.1       25290.0   \n",
       "2     8/1/2010        0.1        0.1        0.1        0.1       28560.0   \n",
       "3     8/8/2010        0.1        0.1        0.1        0.1       41260.0   \n",
       "4    8/15/2010        0.1        0.1        0.1        0.1       46720.0   \n",
       "..         ...        ...        ...        ...        ...           ...   \n",
       "610  3/27/2022  45,811.00  44,542.00  48,199.00  44,261.00  3660000000.0   \n",
       "611   4/3/2022  42,767.00  45,813.00  47,435.00  42,113.00  3230000000.0   \n",
       "612  4/10/2022  40,382.00  42,760.00  43,421.00  39,202.00  2490000000.0   \n",
       "613  4/17/2022  39,418.00  40,382.00  42,969.00  38,577.00  2660000000.0   \n",
       "614  4/24/2022  38,569.00  39,434.00  40,770.00  37,708.00  3350000000.0   \n",
       "\n",
       "    Change %  \n",
       "0      0.00%  \n",
       "1      0.00%  \n",
       "2      0.00%  \n",
       "3      0.00%  \n",
       "4      0.00%  \n",
       "..       ...  \n",
       "610    2.84%  \n",
       "611   -6.64%  \n",
       "612   -5.58%  \n",
       "613   -2.39%  \n",
       "614   -2.15%  \n",
       "\n",
       "[615 rows x 7 columns]"
      ]
     },
     "execution_count": 12,
     "metadata": {},
     "output_type": "execute_result"
    }
   ],
   "source": [
    "market_data"
   ]
  },
  {
   "cell_type": "code",
   "execution_count": 14,
   "id": "d56fabd3",
   "metadata": {},
   "outputs": [
    {
     "ename": "TypeError",
     "evalue": "'float' object is not subscriptable",
     "output_type": "error",
     "traceback": [
      "\u001b[1;31m---------------------------------------------------------------------------\u001b[0m",
      "\u001b[1;31mTypeError\u001b[0m                                 Traceback (most recent call last)",
      "\u001b[1;32m~\\AppData\\Local\\Temp/ipykernel_21020/757870162.py\u001b[0m in \u001b[0;36m<module>\u001b[1;34m\u001b[0m\n\u001b[0;32m      1\u001b[0m \u001b[1;32mfor\u001b[0m \u001b[0mi\u001b[0m \u001b[1;32min\u001b[0m \u001b[0mrange\u001b[0m\u001b[1;33m(\u001b[0m\u001b[0mmarket_data\u001b[0m\u001b[1;33m.\u001b[0m\u001b[0mshape\u001b[0m\u001b[1;33m[\u001b[0m\u001b[1;36m0\u001b[0m\u001b[1;33m]\u001b[0m\u001b[1;33m)\u001b[0m\u001b[1;33m:\u001b[0m\u001b[1;33m\u001b[0m\u001b[1;33m\u001b[0m\u001b[0m\n\u001b[1;32m----> 2\u001b[1;33m     \u001b[0mmarket_data\u001b[0m\u001b[1;33m[\u001b[0m\u001b[1;34m\"Vol.\"\u001b[0m\u001b[1;33m]\u001b[0m\u001b[1;33m[\u001b[0m\u001b[0mi\u001b[0m\u001b[1;33m]\u001b[0m\u001b[1;33m=\u001b[0m \u001b[0mvolume_correcter\u001b[0m\u001b[1;33m(\u001b[0m\u001b[0mmarket_data\u001b[0m\u001b[1;33m[\u001b[0m\u001b[1;34m\"Vol.\"\u001b[0m\u001b[1;33m]\u001b[0m\u001b[1;33m[\u001b[0m\u001b[0mi\u001b[0m\u001b[1;33m]\u001b[0m\u001b[1;33m)\u001b[0m\u001b[1;33m\u001b[0m\u001b[1;33m\u001b[0m\u001b[0m\n\u001b[0m\u001b[0;32m      3\u001b[0m     \u001b[0mmarket_data\u001b[0m\u001b[1;33m[\u001b[0m\u001b[1;34m\"Change %\"\u001b[0m\u001b[1;33m]\u001b[0m\u001b[1;33m[\u001b[0m\u001b[0mi\u001b[0m\u001b[1;33m]\u001b[0m\u001b[1;33m=\u001b[0m \u001b[0mchange_correcter\u001b[0m\u001b[1;33m(\u001b[0m\u001b[0mmarket_data\u001b[0m\u001b[1;33m[\u001b[0m\u001b[1;34m\"Change %\"\u001b[0m\u001b[1;33m]\u001b[0m\u001b[1;33m[\u001b[0m\u001b[0mi\u001b[0m\u001b[1;33m]\u001b[0m\u001b[1;33m)\u001b[0m\u001b[1;33m\u001b[0m\u001b[1;33m\u001b[0m\u001b[0m\n",
      "\u001b[1;32m~\\AppData\\Local\\Temp/ipykernel_21020/3179275112.py\u001b[0m in \u001b[0;36mvolume_correcter\u001b[1;34m(volume)\u001b[0m\n\u001b[0;32m      1\u001b[0m \u001b[1;32mdef\u001b[0m \u001b[0mvolume_correcter\u001b[0m\u001b[1;33m(\u001b[0m\u001b[0mvolume\u001b[0m\u001b[1;33m)\u001b[0m\u001b[1;33m:\u001b[0m\u001b[1;33m\u001b[0m\u001b[1;33m\u001b[0m\u001b[0m\n\u001b[1;32m----> 2\u001b[1;33m     \u001b[0mletter\u001b[0m \u001b[1;33m=\u001b[0m \u001b[0mvolume\u001b[0m\u001b[1;33m[\u001b[0m\u001b[1;33m-\u001b[0m\u001b[1;36m1\u001b[0m\u001b[1;33m]\u001b[0m\u001b[1;33m\u001b[0m\u001b[1;33m\u001b[0m\u001b[0m\n\u001b[0m\u001b[0;32m      3\u001b[0m     \u001b[0mvalue\u001b[0m \u001b[1;33m=\u001b[0m \u001b[0mfloat\u001b[0m\u001b[1;33m(\u001b[0m\u001b[0mvolume\u001b[0m\u001b[1;33m[\u001b[0m\u001b[1;33m:\u001b[0m\u001b[1;33m-\u001b[0m\u001b[1;36m1\u001b[0m\u001b[1;33m]\u001b[0m\u001b[1;33m)\u001b[0m\u001b[1;33m\u001b[0m\u001b[1;33m\u001b[0m\u001b[0m\n\u001b[0;32m      4\u001b[0m     \u001b[1;32mif\u001b[0m \u001b[0mletter\u001b[0m \u001b[1;33m==\u001b[0m\u001b[1;34m\"K\"\u001b[0m\u001b[1;33m:\u001b[0m\u001b[1;33m\u001b[0m\u001b[1;33m\u001b[0m\u001b[0m\n\u001b[0;32m      5\u001b[0m         \u001b[1;32mreturn\u001b[0m \u001b[0mvalue\u001b[0m\u001b[1;33m*\u001b[0m\u001b[1;36m1000\u001b[0m\u001b[1;33m\u001b[0m\u001b[1;33m\u001b[0m\u001b[0m\n",
      "\u001b[1;31mTypeError\u001b[0m: 'float' object is not subscriptable"
     ]
    }
   ],
   "source": [
    "for i in range(market_data.shape[0]):\n",
    "    market_data[\"Vol.\"][i]= volume_correcter(market_data[\"Vol.\"][i])\n",
    "    market_data[\"Change %\"][i]= change_correcter(market_data[\"Change %\"][i])"
   ]
  },
  {
   "cell_type": "code",
   "execution_count": null,
   "id": "87a175ba",
   "metadata": {},
   "outputs": [],
   "source": []
  }
 ],
 "metadata": {
  "kernelspec": {
   "display_name": "Python 3 (ipykernel)",
   "language": "python",
   "name": "python3"
  },
  "language_info": {
   "codemirror_mode": {
    "name": "ipython",
    "version": 3
   },
   "file_extension": ".py",
   "mimetype": "text/x-python",
   "name": "python",
   "nbconvert_exporter": "python",
   "pygments_lexer": "ipython3",
   "version": "3.9.7"
  }
 },
 "nbformat": 4,
 "nbformat_minor": 5
}
