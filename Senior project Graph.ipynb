{
 "cells": [
  {
   "cell_type": "code",
   "execution_count": 1,
   "id": "6e99e0b0",
   "metadata": {},
   "outputs": [],
   "source": [
    "import pandas as pd\n",
    "import numpy as np\n",
    "import matplotlib.pyplot as plt\n",
    "import networkx as nx"
   ]
  },
  {
   "cell_type": "code",
   "execution_count": 2,
   "id": "db48173e",
   "metadata": {},
   "outputs": [],
   "source": [
    "data = pd.read_csv(\"btc_tx_2011_2013.csv\")"
   ]
  },
  {
   "cell_type": "code",
   "execution_count": 3,
   "id": "28458840",
   "metadata": {},
   "outputs": [
    {
     "data": {
      "text/html": [
       "<div>\n",
       "<style scoped>\n",
       "    .dataframe tbody tr th:only-of-type {\n",
       "        vertical-align: middle;\n",
       "    }\n",
       "\n",
       "    .dataframe tbody tr th {\n",
       "        vertical-align: top;\n",
       "    }\n",
       "\n",
       "    .dataframe thead th {\n",
       "        text-align: right;\n",
       "    }\n",
       "</style>\n",
       "<table border=\"1\" class=\"dataframe\">\n",
       "  <thead>\n",
       "    <tr style=\"text-align: right;\">\n",
       "      <th></th>\n",
       "      <th>0437cd7f8525ceed2324359c2d0ba26006d92d856a9c20fa0241106ee5a597c9</th>\n",
       "      <th>f4184fc596403b9d638783cf57adfe4c75c605f6356fbc91338530e9831e9e16</th>\n",
       "      <th>2009-01-09 03:54:39</th>\n",
       "      <th>50.0</th>\n",
       "    </tr>\n",
       "  </thead>\n",
       "  <tbody>\n",
       "    <tr>\n",
       "      <th>0</th>\n",
       "      <td>f4184fc596403b9d638783cf57adfe4c75c605f6356fbc...</td>\n",
       "      <td>ea44e97271691990157559d0bdd9959e02790c34db6c00...</td>\n",
       "      <td>2009-01-12 03:30:25</td>\n",
       "      <td>10.0</td>\n",
       "    </tr>\n",
       "    <tr>\n",
       "      <th>1</th>\n",
       "      <td>f4184fc596403b9d638783cf57adfe4c75c605f6356fbc...</td>\n",
       "      <td>a16f3ce4dd5deb92d98ef5cf8afeaf0775ebca408f708b...</td>\n",
       "      <td>2009-01-12 03:30:25</td>\n",
       "      <td>40.0</td>\n",
       "    </tr>\n",
       "    <tr>\n",
       "      <th>2</th>\n",
       "      <td>a16f3ce4dd5deb92d98ef5cf8afeaf0775ebca408f708b...</td>\n",
       "      <td>591e91f809d716912ca1d4a9295e70c3e78bab077683f7...</td>\n",
       "      <td>2009-01-12 06:02:13</td>\n",
       "      <td>30.0</td>\n",
       "    </tr>\n",
       "    <tr>\n",
       "      <th>3</th>\n",
       "      <td>591e91f809d716912ca1d4a9295e70c3e78bab077683f7...</td>\n",
       "      <td>298ca2045d174f8a158961806ffc4ef96fad02d71a6b84...</td>\n",
       "      <td>2009-01-12 06:12:16</td>\n",
       "      <td>1.0</td>\n",
       "    </tr>\n",
       "    <tr>\n",
       "      <th>4</th>\n",
       "      <td>591e91f809d716912ca1d4a9295e70c3e78bab077683f7...</td>\n",
       "      <td>12b5633bad1f9c167d523ad1aa1947b2732a865bf5414e...</td>\n",
       "      <td>2009-01-12 06:12:16</td>\n",
       "      <td>29.0</td>\n",
       "    </tr>\n",
       "  </tbody>\n",
       "</table>\n",
       "</div>"
      ],
      "text/plain": [
       "  0437cd7f8525ceed2324359c2d0ba26006d92d856a9c20fa0241106ee5a597c9  \\\n",
       "0  f4184fc596403b9d638783cf57adfe4c75c605f6356fbc...                 \n",
       "1  f4184fc596403b9d638783cf57adfe4c75c605f6356fbc...                 \n",
       "2  a16f3ce4dd5deb92d98ef5cf8afeaf0775ebca408f708b...                 \n",
       "3  591e91f809d716912ca1d4a9295e70c3e78bab077683f7...                 \n",
       "4  591e91f809d716912ca1d4a9295e70c3e78bab077683f7...                 \n",
       "\n",
       "  f4184fc596403b9d638783cf57adfe4c75c605f6356fbc91338530e9831e9e16  \\\n",
       "0  ea44e97271691990157559d0bdd9959e02790c34db6c00...                 \n",
       "1  a16f3ce4dd5deb92d98ef5cf8afeaf0775ebca408f708b...                 \n",
       "2  591e91f809d716912ca1d4a9295e70c3e78bab077683f7...                 \n",
       "3  298ca2045d174f8a158961806ffc4ef96fad02d71a6b84...                 \n",
       "4  12b5633bad1f9c167d523ad1aa1947b2732a865bf5414e...                 \n",
       "\n",
       "   2009-01-09 03:54:39  50.0  \n",
       "0  2009-01-12 03:30:25  10.0  \n",
       "1  2009-01-12 03:30:25  40.0  \n",
       "2  2009-01-12 06:02:13  30.0  \n",
       "3  2009-01-12 06:12:16   1.0  \n",
       "4  2009-01-12 06:12:16  29.0  "
      ]
     },
     "execution_count": 3,
     "metadata": {},
     "output_type": "execute_result"
    }
   ],
   "source": [
    "data.head()"
   ]
  },
  {
   "cell_type": "code",
   "execution_count": 4,
   "id": "fc548a6d",
   "metadata": {},
   "outputs": [],
   "source": [
    "data.columns = [\"tx_hash_from\",\"tx_hash_to\",\"datetime\",\"amount_bitcoins\"]"
   ]
  },
  {
   "cell_type": "code",
   "execution_count": 5,
   "id": "dc8d274f",
   "metadata": {},
   "outputs": [
    {
     "data": {
      "text/html": [
       "<div>\n",
       "<style scoped>\n",
       "    .dataframe tbody tr th:only-of-type {\n",
       "        vertical-align: middle;\n",
       "    }\n",
       "\n",
       "    .dataframe tbody tr th {\n",
       "        vertical-align: top;\n",
       "    }\n",
       "\n",
       "    .dataframe thead th {\n",
       "        text-align: right;\n",
       "    }\n",
       "</style>\n",
       "<table border=\"1\" class=\"dataframe\">\n",
       "  <thead>\n",
       "    <tr style=\"text-align: right;\">\n",
       "      <th></th>\n",
       "      <th>amount_bitcoins</th>\n",
       "    </tr>\n",
       "  </thead>\n",
       "  <tbody>\n",
       "    <tr>\n",
       "      <th>count</th>\n",
       "      <td>6.619907e+07</td>\n",
       "    </tr>\n",
       "    <tr>\n",
       "      <th>mean</th>\n",
       "      <td>2.513518e+01</td>\n",
       "    </tr>\n",
       "    <tr>\n",
       "      <th>std</th>\n",
       "      <td>8.719734e+02</td>\n",
       "    </tr>\n",
       "    <tr>\n",
       "      <th>min</th>\n",
       "      <td>0.000000e+00</td>\n",
       "    </tr>\n",
       "    <tr>\n",
       "      <th>25%</th>\n",
       "      <td>1.047785e-02</td>\n",
       "    </tr>\n",
       "    <tr>\n",
       "      <th>50%</th>\n",
       "      <td>1.000000e-01</td>\n",
       "    </tr>\n",
       "    <tr>\n",
       "      <th>75%</th>\n",
       "      <td>1.286452e+00</td>\n",
       "    </tr>\n",
       "    <tr>\n",
       "      <th>max</th>\n",
       "      <td>5.000000e+05</td>\n",
       "    </tr>\n",
       "  </tbody>\n",
       "</table>\n",
       "</div>"
      ],
      "text/plain": [
       "       amount_bitcoins\n",
       "count     6.619907e+07\n",
       "mean      2.513518e+01\n",
       "std       8.719734e+02\n",
       "min       0.000000e+00\n",
       "25%       1.047785e-02\n",
       "50%       1.000000e-01\n",
       "75%       1.286452e+00\n",
       "max       5.000000e+05"
      ]
     },
     "execution_count": 5,
     "metadata": {},
     "output_type": "execute_result"
    }
   ],
   "source": [
    "data.describe()"
   ]
  },
  {
   "cell_type": "code",
   "execution_count": 6,
   "id": "d19fc57f",
   "metadata": {},
   "outputs": [
    {
     "name": "stdout",
     "output_type": "stream",
     "text": [
      "<class 'pandas.core.frame.DataFrame'>\n",
      "RangeIndex: 66199072 entries, 0 to 66199071\n",
      "Data columns (total 4 columns):\n",
      " #   Column           Dtype  \n",
      "---  ------           -----  \n",
      " 0   tx_hash_from     object \n",
      " 1   tx_hash_to       object \n",
      " 2   datetime         object \n",
      " 3   amount_bitcoins  float64\n",
      "dtypes: float64(1), object(3)\n",
      "memory usage: 2.0+ GB\n"
     ]
    }
   ],
   "source": [
    "data.info()"
   ]
  },
  {
   "cell_type": "code",
   "execution_count": 7,
   "id": "4810bf19",
   "metadata": {
    "scrolled": true
   },
   "outputs": [
    {
     "data": {
      "text/plain": [
       "(66199072, 4)"
      ]
     },
     "execution_count": 7,
     "metadata": {},
     "output_type": "execute_result"
    }
   ],
   "source": [
    "data.shape"
   ]
  },
  {
   "cell_type": "code",
   "execution_count": 8,
   "id": "f225f6a4",
   "metadata": {},
   "outputs": [],
   "source": [
    "#data.plot() # takes long time | more than 20 mins without cable charging"
   ]
  },
  {
   "cell_type": "code",
   "execution_count": 9,
   "id": "68a44643",
   "metadata": {},
   "outputs": [],
   "source": [
    "G=nx.from_pandas_edgelist(data.head(5000000),\"tx_hash_from\",\"tx_hash_to\",[\"amount_bitcoins\"])"
   ]
  },
  {
   "cell_type": "code",
   "execution_count": 10,
   "id": "e3dfd4b0",
   "metadata": {},
   "outputs": [],
   "source": [
    "nx.write_gpickle(G,\"first_graph_5000000.gpickle\")"
   ]
  },
  {
   "cell_type": "code",
   "execution_count": null,
   "id": "aea16655",
   "metadata": {},
   "outputs": [],
   "source": []
  }
 ],
 "metadata": {
  "kernelspec": {
   "display_name": "Python 3",
   "language": "python",
   "name": "python3"
  },
  "language_info": {
   "codemirror_mode": {
    "name": "ipython",
    "version": 3
   },
   "file_extension": ".py",
   "mimetype": "text/x-python",
   "name": "python",
   "nbconvert_exporter": "python",
   "pygments_lexer": "ipython3",
   "version": "3.8.8"
  }
 },
 "nbformat": 4,
 "nbformat_minor": 5
}
