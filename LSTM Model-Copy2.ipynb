{
 "cells": [
  {
   "cell_type": "code",
   "execution_count": 17,
   "id": "a18f0d85",
   "metadata": {},
   "outputs": [],
   "source": [
    "import pandas as pd\n",
    "import numpy as np\n",
    "import tensorflow\n",
    "import keras\n",
    "from keras.models import Sequential\n",
    "from keras.layers import Dense, LSTM, Dropout\n",
    "from sklearn.preprocessing import MinMaxScaler\n",
    "from sklearn.metrics import mean_absolute_error as mae\n",
    "from sklearn.metrics import mean_absolute_percentage_error as mape\n",
    "from sklearn.metrics import mean_squared_error\n",
    "from sklearn.model_selection import train_test_split\n",
    "import math\n",
    "from keras.callbacks import EarlyStopping\n",
    "import matplotlib.pyplot as plt\n",
    "import time"
   ]
  },
  {
   "cell_type": "code",
   "execution_count": 2,
   "id": "0e963f42",
   "metadata": {},
   "outputs": [],
   "source": [
    "epochcount = 1000"
   ]
  },
  {
   "cell_type": "code",
   "execution_count": 3,
   "id": "d286ba0f",
   "metadata": {},
   "outputs": [],
   "source": [
    "df = pd.read_csv('data/price_informations.csv')"
   ]
  },
  {
   "cell_type": "code",
   "execution_count": 4,
   "id": "7df48034",
   "metadata": {
    "scrolled": false
   },
   "outputs": [],
   "source": [
    "df = df.loc[:112]"
   ]
  },
  {
   "cell_type": "code",
   "execution_count": 5,
   "id": "0d5ff20e",
   "metadata": {},
   "outputs": [
    {
     "data": {
      "text/html": [
       "<div>\n",
       "<style scoped>\n",
       "    .dataframe tbody tr th:only-of-type {\n",
       "        vertical-align: middle;\n",
       "    }\n",
       "\n",
       "    .dataframe tbody tr th {\n",
       "        vertical-align: top;\n",
       "    }\n",
       "\n",
       "    .dataframe thead th {\n",
       "        text-align: right;\n",
       "    }\n",
       "</style>\n",
       "<table border=\"1\" class=\"dataframe\">\n",
       "  <thead>\n",
       "    <tr style=\"text-align: right;\">\n",
       "      <th></th>\n",
       "      <th>Date</th>\n",
       "      <th>Close</th>\n",
       "      <th>Open</th>\n",
       "      <th>High</th>\n",
       "      <th>Low</th>\n",
       "      <th>Vol</th>\n",
       "      <th>Change %</th>\n",
       "    </tr>\n",
       "  </thead>\n",
       "  <tbody>\n",
       "    <tr>\n",
       "      <th>0</th>\n",
       "      <td>7-Nov-10</td>\n",
       "      <td>0.3</td>\n",
       "      <td>0.4</td>\n",
       "      <td>0.5</td>\n",
       "      <td>0.1</td>\n",
       "      <td>341460.0</td>\n",
       "      <td>-0.29</td>\n",
       "    </tr>\n",
       "    <tr>\n",
       "      <th>1</th>\n",
       "      <td>14-Nov-10</td>\n",
       "      <td>0.3</td>\n",
       "      <td>0.3</td>\n",
       "      <td>0.3</td>\n",
       "      <td>0.2</td>\n",
       "      <td>146410.0</td>\n",
       "      <td>0.00</td>\n",
       "    </tr>\n",
       "    <tr>\n",
       "      <th>2</th>\n",
       "      <td>21-Nov-10</td>\n",
       "      <td>0.3</td>\n",
       "      <td>0.3</td>\n",
       "      <td>0.3</td>\n",
       "      <td>0.3</td>\n",
       "      <td>73380.0</td>\n",
       "      <td>0.00</td>\n",
       "    </tr>\n",
       "    <tr>\n",
       "      <th>3</th>\n",
       "      <td>28-Nov-10</td>\n",
       "      <td>0.2</td>\n",
       "      <td>0.3</td>\n",
       "      <td>0.3</td>\n",
       "      <td>0.2</td>\n",
       "      <td>136930.0</td>\n",
       "      <td>-0.28</td>\n",
       "    </tr>\n",
       "    <tr>\n",
       "      <th>4</th>\n",
       "      <td>5-Dec-10</td>\n",
       "      <td>0.2</td>\n",
       "      <td>0.2</td>\n",
       "      <td>0.2</td>\n",
       "      <td>0.2</td>\n",
       "      <td>66890.0</td>\n",
       "      <td>0.00</td>\n",
       "    </tr>\n",
       "    <tr>\n",
       "      <th>...</th>\n",
       "      <td>...</td>\n",
       "      <td>...</td>\n",
       "      <td>...</td>\n",
       "      <td>...</td>\n",
       "      <td>...</td>\n",
       "      <td>...</td>\n",
       "      <td>...</td>\n",
       "    </tr>\n",
       "    <tr>\n",
       "      <th>108</th>\n",
       "      <td>2-Dec-12</td>\n",
       "      <td>13.4</td>\n",
       "      <td>12.6</td>\n",
       "      <td>13.7</td>\n",
       "      <td>12.4</td>\n",
       "      <td>226350.0</td>\n",
       "      <td>0.07</td>\n",
       "    </tr>\n",
       "    <tr>\n",
       "      <th>109</th>\n",
       "      <td>9-Dec-12</td>\n",
       "      <td>13.5</td>\n",
       "      <td>13.4</td>\n",
       "      <td>13.9</td>\n",
       "      <td>13.0</td>\n",
       "      <td>228090.0</td>\n",
       "      <td>0.01</td>\n",
       "    </tr>\n",
       "    <tr>\n",
       "      <th>110</th>\n",
       "      <td>16-Dec-12</td>\n",
       "      <td>13.4</td>\n",
       "      <td>13.5</td>\n",
       "      <td>13.7</td>\n",
       "      <td>12.8</td>\n",
       "      <td>241510.0</td>\n",
       "      <td>-0.01</td>\n",
       "    </tr>\n",
       "    <tr>\n",
       "      <th>111</th>\n",
       "      <td>23-Dec-12</td>\n",
       "      <td>13.4</td>\n",
       "      <td>13.4</td>\n",
       "      <td>13.7</td>\n",
       "      <td>13.0</td>\n",
       "      <td>139460.0</td>\n",
       "      <td>0.00</td>\n",
       "    </tr>\n",
       "    <tr>\n",
       "      <th>112</th>\n",
       "      <td>30-Dec-12</td>\n",
       "      <td>13.4</td>\n",
       "      <td>13.4</td>\n",
       "      <td>13.6</td>\n",
       "      <td>13.2</td>\n",
       "      <td>142190.0</td>\n",
       "      <td>0.00</td>\n",
       "    </tr>\n",
       "  </tbody>\n",
       "</table>\n",
       "<p>113 rows × 7 columns</p>\n",
       "</div>"
      ],
      "text/plain": [
       "          Date  Close  Open  High   Low       Vol  Change %\n",
       "0     7-Nov-10    0.3   0.4   0.5   0.1  341460.0     -0.29\n",
       "1    14-Nov-10    0.3   0.3   0.3   0.2  146410.0      0.00\n",
       "2    21-Nov-10    0.3   0.3   0.3   0.3   73380.0      0.00\n",
       "3    28-Nov-10    0.2   0.3   0.3   0.2  136930.0     -0.28\n",
       "4     5-Dec-10    0.2   0.2   0.2   0.2   66890.0      0.00\n",
       "..         ...    ...   ...   ...   ...       ...       ...\n",
       "108   2-Dec-12   13.4  12.6  13.7  12.4  226350.0      0.07\n",
       "109   9-Dec-12   13.5  13.4  13.9  13.0  228090.0      0.01\n",
       "110  16-Dec-12   13.4  13.5  13.7  12.8  241510.0     -0.01\n",
       "111  23-Dec-12   13.4  13.4  13.7  13.0  139460.0      0.00\n",
       "112  30-Dec-12   13.4  13.4  13.6  13.2  142190.0      0.00\n",
       "\n",
       "[113 rows x 7 columns]"
      ]
     },
     "execution_count": 5,
     "metadata": {},
     "output_type": "execute_result"
    }
   ],
   "source": [
    "df"
   ]
  },
  {
   "cell_type": "code",
   "execution_count": 6,
   "id": "1abde593",
   "metadata": {},
   "outputs": [],
   "source": [
    "dates = df[\"Date\"]\n",
    "df.drop(\"Date\",axis= 1, inplace = True)"
   ]
  },
  {
   "cell_type": "code",
   "execution_count": 7,
   "id": "dec5bf18",
   "metadata": {},
   "outputs": [],
   "source": [
    "Y = df[\"Close\"]\n",
    "X = df.drop([\"Close\"],axis=1)"
   ]
  },
  {
   "cell_type": "code",
   "execution_count": 8,
   "id": "93827afd",
   "metadata": {},
   "outputs": [],
   "source": [
    "# normalize the dataset\n",
    "scaler = MinMaxScaler(feature_range=(0, 1))\n",
    "X = scaler.fit_transform(X)"
   ]
  },
  {
   "cell_type": "code",
   "execution_count": 9,
   "id": "d2dc478e",
   "metadata": {},
   "outputs": [],
   "source": [
    "X_train, X_test, y_train, y_test = X[:75], X[75:], Y[:75],  Y[75:]"
   ]
  },
  {
   "cell_type": "code",
   "execution_count": 10,
   "id": "b78aceaf",
   "metadata": {},
   "outputs": [
    {
     "data": {
      "text/plain": [
       "(75, 5)"
      ]
     },
     "execution_count": 10,
     "metadata": {},
     "output_type": "execute_result"
    }
   ],
   "source": [
    "X_train.shape"
   ]
  },
  {
   "cell_type": "code",
   "execution_count": 11,
   "id": "d0f687d4",
   "metadata": {
    "scrolled": true
   },
   "outputs": [],
   "source": [
    "trainX = np.array(X_train)\n",
    "testX = np.array(X_test)"
   ]
  },
  {
   "cell_type": "code",
   "execution_count": 12,
   "id": "327731b1",
   "metadata": {},
   "outputs": [],
   "source": [
    "trainX = np.reshape(trainX, (trainX.shape[0], 1, trainX.shape[1]))\n",
    "testX = np.reshape(testX, (testX.shape[0], 1, testX.shape[1]))"
   ]
  },
  {
   "cell_type": "code",
   "execution_count": 13,
   "id": "2757e7c2",
   "metadata": {},
   "outputs": [
    {
     "data": {
      "text/plain": [
       "(75, 1, 5)"
      ]
     },
     "execution_count": 13,
     "metadata": {},
     "output_type": "execute_result"
    }
   ],
   "source": [
    "trainX.shape"
   ]
  },
  {
   "cell_type": "code",
   "execution_count": 14,
   "id": "41d85d39",
   "metadata": {
    "scrolled": true
   },
   "outputs": [],
   "source": [
    "model = Sequential()  \n",
    "\n",
    "model.add(LSTM(units = 30, activation = 'relu', return_sequences = True, input_shape = (1,5)))\n",
    "model.add(Dropout(0.15))\n",
    "\n",
    "model.add(LSTM(units = 40, activation = 'relu', return_sequences = True))\n",
    "model.add(Dropout(0.15))\n",
    "\n",
    "model.add(LSTM(units = 50, activation = 'relu', return_sequences = True))\n",
    "model.add(Dropout(0.15))\n",
    "\n",
    "model.add(LSTM(units = 60, activation = 'relu'))\n",
    "model.add(Dropout(0.15))\n",
    "\n",
    "model.add(Dense(units= 1))\n",
    "model.compile(loss='mean_absolute_error', optimizer='adam')"
   ]
  },
  {
   "cell_type": "code",
   "execution_count": 15,
   "id": "8ba3702f",
   "metadata": {},
   "outputs": [
    {
     "name": "stdout",
     "output_type": "stream",
     "text": [
      "Model: \"sequential\"\n",
      "_________________________________________________________________\n",
      "Layer (type)                 Output Shape              Param #   \n",
      "=================================================================\n",
      "lstm (LSTM)                  (None, 1, 30)             4320      \n",
      "_________________________________________________________________\n",
      "dropout (Dropout)            (None, 1, 30)             0         \n",
      "_________________________________________________________________\n",
      "lstm_1 (LSTM)                (None, 1, 40)             11360     \n",
      "_________________________________________________________________\n",
      "dropout_1 (Dropout)          (None, 1, 40)             0         \n",
      "_________________________________________________________________\n",
      "lstm_2 (LSTM)                (None, 1, 50)             18200     \n",
      "_________________________________________________________________\n",
      "dropout_2 (Dropout)          (None, 1, 50)             0         \n",
      "_________________________________________________________________\n",
      "lstm_3 (LSTM)                (None, 60)                26640     \n",
      "_________________________________________________________________\n",
      "dropout_3 (Dropout)          (None, 60)                0         \n",
      "_________________________________________________________________\n",
      "dense (Dense)                (None, 1)                 61        \n",
      "=================================================================\n",
      "Total params: 60,581\n",
      "Trainable params: 60,581\n",
      "Non-trainable params: 0\n",
      "_________________________________________________________________\n"
     ]
    }
   ],
   "source": [
    "model.summary()"
   ]
  },
  {
   "cell_type": "code",
   "execution_count": 21,
   "id": "2a04f9a3",
   "metadata": {
    "scrolled": true
   },
   "outputs": [
    {
     "name": "stdout",
     "output_type": "stream",
     "text": [
      "Epoch 1/1000\n",
      "75/75 - 0s - loss: 0.5351\n",
      "Epoch 2/1000\n",
      "75/75 - 0s - loss: 0.5626\n",
      "Epoch 3/1000\n",
      "75/75 - 0s - loss: 0.4886\n",
      "Epoch 4/1000\n",
      "75/75 - 0s - loss: 0.5266\n",
      "Epoch 5/1000\n",
      "75/75 - 0s - loss: 0.5345\n",
      "Epoch 6/1000\n",
      "75/75 - 0s - loss: 0.5920\n",
      "Epoch 7/1000\n",
      "75/75 - 0s - loss: 0.4439\n",
      "Epoch 8/1000\n",
      "75/75 - 0s - loss: 0.5360\n",
      "Epoch 9/1000\n",
      "75/75 - 0s - loss: 0.4989\n",
      "Epoch 10/1000\n",
      "75/75 - 0s - loss: 0.5925\n",
      "Epoch 11/1000\n",
      "75/75 - 0s - loss: 0.5635\n",
      "Epoch 12/1000\n",
      "75/75 - 0s - loss: 0.6103\n",
      "Epoch 13/1000\n",
      "75/75 - 0s - loss: 0.5524\n",
      "Epoch 14/1000\n",
      "75/75 - 0s - loss: 0.6487\n",
      "Epoch 15/1000\n",
      "75/75 - 0s - loss: 0.4961\n",
      "Epoch 16/1000\n",
      "75/75 - 0s - loss: 0.5631\n",
      "Epoch 17/1000\n",
      "75/75 - 0s - loss: 0.5595\n"
     ]
    }
   ],
   "source": [
    "model.fit(trainX, y_train, epochs=epochcount, batch_size=1, verbose=2)"
   ]
  },
  {
   "cell_type": "code",
   "execution_count": 22,
   "id": "016108b5",
   "metadata": {
    "scrolled": true
   },
   "outputs": [
    {
     "name": "stdout",
     "output_type": "stream",
     "text": [
      "Train Score: 0.41 RMSE\n",
      "Test Score: 0.73 RMSE\n",
      "Train Score: 0.28 MAE\n",
      "Test Score: 0.66 MAE\n",
      "Train Score: 0.13 MAPE\n",
      "Test Score: 0.07 MAPE\n"
     ]
    }
   ],
   "source": [
    "trainPredict = model.predict(trainX)\n",
    "testPredict = model.predict(testX)\n",
    "\n",
    "# calculate root mean squared error\n",
    "trainScore = math.sqrt(mean_squared_error(y_train, trainPredict[:,0]))\n",
    "print('Train Score: %.2f RMSE' % (trainScore))\n",
    "testScore = math.sqrt(mean_squared_error(y_test, testPredict[:,0]))\n",
    "print('Test Score: %.2f RMSE' % (testScore))\n",
    "#calculate MAE\n",
    "trainScore=mae(y_train, trainPredict[:,0])\n",
    "print('Train Score: %.2f MAE' % (trainScore))\n",
    "testScore=mae(y_test, testPredict[:,0])\n",
    "print('Test Score: %.2f MAE' % (testScore))\n",
    "#calculate MAPE\n",
    "trainScore=mape(y_train, trainPredict[:,0])\n",
    "print('Train Score: %.2f MAPE' % (trainScore))\n",
    "testScore=mape(y_test, testPredict[:,0])\n",
    "print('Test Score: %.2f MAPE' % (testScore))"
   ]
  },
  {
   "cell_type": "code",
   "execution_count": 20,
   "id": "32413158",
   "metadata": {},
   "outputs": [
    {
     "ename": "KeyError",
     "evalue": "'val_loss'",
     "output_type": "error",
     "traceback": [
      "\u001b[1;31m---------------------------------------------------------------------------\u001b[0m",
      "\u001b[1;31mKeyError\u001b[0m                                  Traceback (most recent call last)",
      "\u001b[1;32m<ipython-input-20-56b1c8c8c1cb>\u001b[0m in \u001b[0;36m<module>\u001b[1;34m\u001b[0m\n\u001b[0;32m      1\u001b[0m \u001b[0mplt\u001b[0m\u001b[1;33m.\u001b[0m\u001b[0mfigure\u001b[0m\u001b[1;33m(\u001b[0m\u001b[0mfigsize\u001b[0m\u001b[1;33m=\u001b[0m\u001b[1;33m(\u001b[0m\u001b[1;36m8\u001b[0m\u001b[1;33m,\u001b[0m\u001b[1;36m4\u001b[0m\u001b[1;33m)\u001b[0m\u001b[1;33m)\u001b[0m\u001b[1;33m\u001b[0m\u001b[1;33m\u001b[0m\u001b[0m\n\u001b[0;32m      2\u001b[0m \u001b[0mplt\u001b[0m\u001b[1;33m.\u001b[0m\u001b[0mplot\u001b[0m\u001b[1;33m(\u001b[0m\u001b[0mhistory\u001b[0m\u001b[1;33m.\u001b[0m\u001b[0mhistory\u001b[0m\u001b[1;33m[\u001b[0m\u001b[1;34m'loss'\u001b[0m\u001b[1;33m]\u001b[0m\u001b[1;33m,\u001b[0m \u001b[0mlabel\u001b[0m\u001b[1;33m=\u001b[0m\u001b[1;34m'Train Loss'\u001b[0m\u001b[1;33m)\u001b[0m\u001b[1;33m\u001b[0m\u001b[1;33m\u001b[0m\u001b[0m\n\u001b[1;32m----> 3\u001b[1;33m \u001b[0mplt\u001b[0m\u001b[1;33m.\u001b[0m\u001b[0mplot\u001b[0m\u001b[1;33m(\u001b[0m\u001b[0mhistory\u001b[0m\u001b[1;33m.\u001b[0m\u001b[0mhistory\u001b[0m\u001b[1;33m[\u001b[0m\u001b[1;34m'val_loss'\u001b[0m\u001b[1;33m]\u001b[0m\u001b[1;33m,\u001b[0m \u001b[0mlabel\u001b[0m\u001b[1;33m=\u001b[0m\u001b[1;34m'Test Loss'\u001b[0m\u001b[1;33m)\u001b[0m\u001b[1;33m\u001b[0m\u001b[1;33m\u001b[0m\u001b[0m\n\u001b[0m\u001b[0;32m      4\u001b[0m \u001b[0mplt\u001b[0m\u001b[1;33m.\u001b[0m\u001b[0mtitle\u001b[0m\u001b[1;33m(\u001b[0m\u001b[1;34m'model loss'\u001b[0m\u001b[1;33m)\u001b[0m\u001b[1;33m\u001b[0m\u001b[1;33m\u001b[0m\u001b[0m\n\u001b[0;32m      5\u001b[0m \u001b[0mplt\u001b[0m\u001b[1;33m.\u001b[0m\u001b[0mylabel\u001b[0m\u001b[1;33m(\u001b[0m\u001b[1;34m'loss'\u001b[0m\u001b[1;33m)\u001b[0m\u001b[1;33m\u001b[0m\u001b[1;33m\u001b[0m\u001b[0m\n",
      "\u001b[1;31mKeyError\u001b[0m: 'val_loss'"
     ]
    },
    {
     "data": {
      "image/png": "[encoded data removed]",
      "text/plain": [
       "<Figure size 576x288 with 1 Axes>"
      ]
     },
     "metadata": {
      "needs_background": "light"
     },
     "output_type": "display_data"
    }
   ],
   "source": [
    "plt.figure(figsize=(8,4))\n",
    "plt.plot(history.history['loss'], label='Train Loss')\n",
    "plt.plot(history.history['loss'], label='Test Loss')\n",
    "plt.title('model loss')\n",
    "plt.ylabel('loss')\n",
    "plt.xlabel('epochs')\n",
    "plt.legend(loc='upper right')\n",
    "plt.show();"
   ]
  },
  {
   "cell_type": "code",
   "execution_count": null,
   "id": "21ab5993",
   "metadata": {
    "scrolled": true
   },
   "outputs": [],
   "source": [
    "testPredict.reshape(testPredict.shape[0])"
   ]
  },
  {
   "cell_type": "code",
   "execution_count": null,
   "id": "47ce641d",
   "metadata": {},
   "outputs": [],
   "source": [
    "testPredict.shape"
   ]
  },
  {
   "cell_type": "code",
   "execution_count": null,
   "id": "fbd84f78",
   "metadata": {},
   "outputs": [],
   "source": [
    "plt.figure(figsize=(15,6))\n",
    "plt.plot(np.arange(trainPredict.shape[0]),trainPredict.reshape(trainPredict.shape[0]), c=\"r\", label=\"Prediction\")\n",
    "plt.plot(np.arange(trainPredict.shape[0]),y_train, c=\"g\", label=\"Y\")\n",
    "plt.legend()\n",
    "plt.show()"
   ]
  },
  {
   "cell_type": "code",
   "execution_count": null,
   "id": "26db62c3",
   "metadata": {
    "scrolled": false
   },
   "outputs": [],
   "source": [
    "plt.figure(figsize=(15,6))\n",
    "plt.scatter(np.arange(trainPredict.shape[0]),trainPredict, c=\"r\", label=\"Prediction\")\n",
    "plt.scatter(np.arange(trainPredict.shape[0]),y_train, c=\"g\", label=\"Y\")\n",
    "plt.legend()\n",
    "plt.show()"
   ]
  },
  {
   "cell_type": "code",
   "execution_count": null,
   "id": "73e55ba9",
   "metadata": {},
   "outputs": [],
   "source": [
    "test_predict = testPredict.reshape(testPredict.shape[0])[:-1]\n",
    "train_predict = trainPredict.reshape(trainPredict.shape[0])[:-1]"
   ]
  },
  {
   "cell_type": "code",
   "execution_count": null,
   "id": "25da9767",
   "metadata": {},
   "outputs": [],
   "source": [
    "y_test_ = y_test"
   ]
  },
  {
   "cell_type": "code",
   "execution_count": null,
   "id": "3edfd5ad",
   "metadata": {},
   "outputs": [],
   "source": [
    "df = pd.read_csv('data/full_df.csv').drop(\"number_of_edges\", axis=1).drop(\"number_of_nodes\",axis=1)"
   ]
  },
  {
   "cell_type": "code",
   "execution_count": null,
   "id": "b09fcd1c",
   "metadata": {
    "scrolled": false
   },
   "outputs": [],
   "source": [
    "df"
   ]
  },
  {
   "cell_type": "code",
   "execution_count": null,
   "id": "7409c65c",
   "metadata": {
    "scrolled": true
   },
   "outputs": [],
   "source": [
    "dates = df[\"Date\"]\n",
    "df.drop(\"Date\",axis= 1, inplace = True)\n",
    "Y = df[\"Close\"]\n",
    "X = df.drop([\"Close\"],axis=1)\n",
    "X = scaler.fit_transform(X)\n",
    "X_train, X_test, y_train, y_test =  X[:75], X[75:], Y[:75],  Y[75:]\n",
    "trainX = np.array(X_train)\n",
    "testX = np.array(X_test)\n",
    "trainX = np.reshape(trainX, (trainX.shape[0], 1, trainX.shape[1]))\n",
    "testX = np.reshape(testX, (testX.shape[0], 1, testX.shape[1]))\n",
    "\n"
   ]
  },
  {
   "cell_type": "code",
   "execution_count": null,
   "id": "f70ea662",
   "metadata": {},
   "outputs": [],
   "source": [
    "model = Sequential()  \n",
    "\n",
    "model.add(LSTM(units = 30, activation = 'relu', return_sequences = True, input_shape = (1,8)))\n",
    "model.add(Dropout(0.15))\n",
    "\n",
    "model.add(LSTM(units = 40, activation = 'relu', return_sequences = True))\n",
    "model.add(Dropout(0.15))\n",
    "\n",
    "model.add(LSTM(units = 50, activation = 'relu', return_sequences = True))\n",
    "model.add(Dropout(0.15))\n",
    "\n",
    "model.add(LSTM(units = 60, activation = 'relu'))\n",
    "model.add(Dropout(0.15))\n",
    "\n",
    "model.add(Dense(units= 1))\n",
    "model.compile(loss='mean_absolute_error', optimizer='adam')"
   ]
  },
  {
   "cell_type": "code",
   "execution_count": null,
   "id": "30f820b8",
   "metadata": {},
   "outputs": [],
   "source": [
    "model.summary()"
   ]
  },
  {
   "cell_type": "code",
   "execution_count": null,
   "id": "1a6eedc7",
   "metadata": {
    "scrolled": true
   },
   "outputs": [],
   "source": [
    "history = model.fit(trainX, y_train, epochs=epochcount,callbacks=[EarlyStopping(monitor='val_loss', patience=10)], batch_size=1, verbose=2)"
   ]
  },
  {
   "cell_type": "code",
   "execution_count": null,
   "id": "e4f349a9",
   "metadata": {
    "scrolled": true
   },
   "outputs": [],
   "source": [
    "trainPredict = model.predict(trainX)\n",
    "testPredict = model.predict(testX)\n",
    "\n",
    "# calculate root mean squared error\n",
    "trainScore = math.sqrt(mean_squared_error(y_train, trainPredict[:,0]))\n",
    "print('Train Score: %.2f RMSE' % (trainScore))\n",
    "testScore = math.sqrt(mean_squared_error(y_test, testPredict[:,0]))\n",
    "print('Test Score: %.2f RMSE' % (testScore))\n",
    "#calculate MAE\n",
    "trainScore=mae(y_train, trainPredict[:,0])\n",
    "print('Train Score: %.2f MAE' % (trainScore))\n",
    "testScore=mae(y_test, testPredict[:,0])\n",
    "print('Test Score: %.2f MAE' % (testScore))\n",
    "#calculate MAPE\n",
    "trainScore=mape(y_train, trainPredict[:,0])\n",
    "print('Train Score: %.2f MAPE' % (trainScore))\n",
    "testScore=mape(y_test.values, testPredict[:,0])\n",
    "print('Test Score: %.2f MAPE' % (testScore))"
   ]
  },
  {
   "cell_type": "code",
   "execution_count": null,
   "id": "0fc5d218",
   "metadata": {
    "scrolled": false
   },
   "outputs": [],
   "source": [
    "plt.figure(figsize=(16,9))\n",
    "lenght = np.arange(37)\n",
    "plt.plot(lenght,testPredict.reshape(testPredict.shape[0]), c=\"r\",label=\"Prediction with Graph Metrics\")\n",
    "plt.plot(lenght,y_test, c=\"g\", label=\"Bitcoin Price\")\n",
    "plt.plot(lenght,test_predict, c=\"b\", label=\"Prediction withot Graph Metrics\")\n",
    "plt.legend()\n",
    "plt.title(\"Price Predictions\")\n",
    "plt.ylabel(\"Price\")\n",
    "plt.xlabel(\"Weeks\")\n",
    "plt.savefig(\"demo16_1500.png\")\n",
    "plt.show()"
   ]
  },
  {
   "cell_type": "code",
   "execution_count": null,
   "id": "bdcd9945",
   "metadata": {},
   "outputs": [],
   "source": [
    "plt.figure(figsize=(16,9))\n",
    "lenght = np.arange(16)\n",
    "plt.plot(lenght,testPredict.reshape(testPredict.shape[0])[:16], c=\"r\",label=\"Prediction with Graph Metrics\")\n",
    "plt.plot(lenght,y_test[:16], c=\"g\", label=\"Bitcoin Price\")\n",
    "plt.plot(lenght,test_predict[:-1][:16], c=\"b\", label=\"Prediction withot Graph Metrics\")\n",
    "plt.legend()\n",
    "plt.title(\"Price Predictions\")\n",
    "plt.ylabel(\"Price\")\n",
    "plt.xlabel(\"Weeks\")\n",
    "plt.savefig(\"demo37_1500.png\")\n",
    "plt.show()"
   ]
  },
  {
   "cell_type": "code",
   "execution_count": null,
   "id": "2026b176",
   "metadata": {},
   "outputs": [],
   "source": [
    "plt.figure(figsize=(16,9))\n",
    "plt.title(\"Price prediction of train data\")\n",
    "plt.plot(np.arange(trainPredict.shape[0]),trainPredict.reshape(trainPredict.shape[0]), c=\"r\",label=\"Prediction with graph metrics\")\n",
    "plt.plot(np.arange(trainPredict.shape[0]),y_train, c=\"g\", label=\"Bitcoin Price\")\n",
    "plt.plot(np.arange(train_predict.shape[0]),train_predict.reshape(train_predict.shape[0]), c=\"b\",label=\"Prediction without graph metrics\")\n",
    "plt.xlabel(\"Weeks\")\n",
    "plt.ylabel(\"Price\")\n",
    "plt.legend()\n",
    "plt.savefig(\"demotrain.png\")\n",
    "\n",
    "plt.show()"
   ]
  },
  {
   "cell_type": "code",
   "execution_count": 27,
   "id": "4171b023",
   "metadata": {},
   "outputs": [
    {
     "ename": "ModuleNotFoundError",
     "evalue": "No module named 'ann'",
     "output_type": "error",
     "traceback": [
      "\u001b[1;31m---------------------------------------------------------------------------\u001b[0m",
      "\u001b[1;31mModuleNotFoundError\u001b[0m                       Traceback (most recent call last)",
      "\u001b[1;32m<ipython-input-27-e3c423e68ba5>\u001b[0m in \u001b[0;36m<module>\u001b[1;34m\u001b[0m\n\u001b[1;32m----> 1\u001b[1;33m \u001b[1;32mfrom\u001b[0m \u001b[0mann\u001b[0m\u001b[1;33m.\u001b[0m\u001b[0mvisualizer\u001b[0m\u001b[1;33m.\u001b[0m\u001b[0mvisualize\u001b[0m \u001b[1;32mimport\u001b[0m \u001b[0mann_viz\u001b[0m\u001b[1;33m\u001b[0m\u001b[1;33m\u001b[0m\u001b[0m\n\u001b[0m",
      "\u001b[1;31mModuleNotFoundError\u001b[0m: No module named 'ann'"
     ]
    }
   ],
   "source": [
    "from ann.visualizer.visualize import ann_viz"
   ]
  },
  {
   "cell_type": "code",
   "execution_count": null,
   "id": "847fe45e",
   "metadata": {},
   "outputs": [],
   "source": []
  }
 ],
 "metadata": {
  "kernelspec": {
   "display_name": "Python 3 (ipykernel)",
   "language": "python",
   "name": "python3"
  },
  "language_info": {
   "codemirror_mode": {
    "name": "ipython",
    "version": 3
   },
   "file_extension": ".py",
   "mimetype": "text/x-python",
   "name": "python",
   "nbconvert_exporter": "python",
   "pygments_lexer": "ipython3",
   "version": "3.9.7"
  }
 },
 "nbformat": 4,
 "nbformat_minor": 5
}
