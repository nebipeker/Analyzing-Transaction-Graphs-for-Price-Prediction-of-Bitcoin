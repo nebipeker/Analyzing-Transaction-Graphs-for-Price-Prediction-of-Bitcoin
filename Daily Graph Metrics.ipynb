{
 "cells": [
  {
   "cell_type": "code",
   "execution_count": 1,
   "id": "a93c6504",
   "metadata": {},
   "outputs": [],
   "source": [
    "import pandas as pd\n",
    "import networkx as nx"
   ]
  },
  {
   "cell_type": "code",
   "execution_count": 2,
   "id": "16ca63a8",
   "metadata": {},
   "outputs": [],
   "source": [
    "df = pd.read_csv(\"data/btc_tx_2011_2013.csv\")"
   ]
  },
  {
   "cell_type": "code",
   "execution_count": 3,
   "id": "9eba98f3",
   "metadata": {},
   "outputs": [
    {
     "data": {
      "text/html": [
       "<div>\n",
       "<style scoped>\n",
       "    .dataframe tbody tr th:only-of-type {\n",
       "        vertical-align: middle;\n",
       "    }\n",
       "\n",
       "    .dataframe tbody tr th {\n",
       "        vertical-align: top;\n",
       "    }\n",
       "\n",
       "    .dataframe thead th {\n",
       "        text-align: right;\n",
       "    }\n",
       "</style>\n",
       "<table border=\"1\" class=\"dataframe\">\n",
       "  <thead>\n",
       "    <tr style=\"text-align: right;\">\n",
       "      <th></th>\n",
       "      <th>from</th>\n",
       "      <th>to</th>\n",
       "      <th>datetime</th>\n",
       "      <th>amount</th>\n",
       "    </tr>\n",
       "  </thead>\n",
       "  <tbody>\n",
       "    <tr>\n",
       "      <th>0</th>\n",
       "      <td>0437cd7f8525ceed2324359c2d0ba26006d92d856a9c20...</td>\n",
       "      <td>f4184fc596403b9d638783cf57adfe4c75c605f6356fbc...</td>\n",
       "      <td>2009-01-09</td>\n",
       "      <td>50.000000</td>\n",
       "    </tr>\n",
       "    <tr>\n",
       "      <th>1</th>\n",
       "      <td>f4184fc596403b9d638783cf57adfe4c75c605f6356fbc...</td>\n",
       "      <td>ea44e97271691990157559d0bdd9959e02790c34db6c00...</td>\n",
       "      <td>2009-01-12</td>\n",
       "      <td>10.000000</td>\n",
       "    </tr>\n",
       "    <tr>\n",
       "      <th>2</th>\n",
       "      <td>f4184fc596403b9d638783cf57adfe4c75c605f6356fbc...</td>\n",
       "      <td>a16f3ce4dd5deb92d98ef5cf8afeaf0775ebca408f708b...</td>\n",
       "      <td>2009-01-12</td>\n",
       "      <td>40.000000</td>\n",
       "    </tr>\n",
       "    <tr>\n",
       "      <th>3</th>\n",
       "      <td>a16f3ce4dd5deb92d98ef5cf8afeaf0775ebca408f708b...</td>\n",
       "      <td>591e91f809d716912ca1d4a9295e70c3e78bab077683f7...</td>\n",
       "      <td>2009-01-12</td>\n",
       "      <td>30.000000</td>\n",
       "    </tr>\n",
       "    <tr>\n",
       "      <th>4</th>\n",
       "      <td>591e91f809d716912ca1d4a9295e70c3e78bab077683f7...</td>\n",
       "      <td>298ca2045d174f8a158961806ffc4ef96fad02d71a6b84...</td>\n",
       "      <td>2009-01-12</td>\n",
       "      <td>1.000000</td>\n",
       "    </tr>\n",
       "    <tr>\n",
       "      <th>...</th>\n",
       "      <td>...</td>\n",
       "      <td>...</td>\n",
       "      <td>...</td>\n",
       "      <td>...</td>\n",
       "    </tr>\n",
       "    <tr>\n",
       "      <th>66199068</th>\n",
       "      <td>7ebd2c87efead031e8b6aeecc1ef4032551d9580726a1f...</td>\n",
       "      <td>5c6684d182093e8a8cbf8434f6dbb6c0a69684885b5c22...</td>\n",
       "      <td>2014-01-02</td>\n",
       "      <td>0.610000</td>\n",
       "    </tr>\n",
       "    <tr>\n",
       "      <th>66199069</th>\n",
       "      <td>6556332ea7196ac64e29d78576a7a6cdc4cbfecbd29f47...</td>\n",
       "      <td>653cab2118c19528ef711d45e5af39971f00e307da3ef4...</td>\n",
       "      <td>2014-01-02</td>\n",
       "      <td>0.026032</td>\n",
       "    </tr>\n",
       "    <tr>\n",
       "      <th>66199070</th>\n",
       "      <td>ddce84f4e7da169c0d470cd8c090e2c6be862d458b4f1c...</td>\n",
       "      <td>653cab2118c19528ef711d45e5af39971f00e307da3ef4...</td>\n",
       "      <td>2014-01-02</td>\n",
       "      <td>0.009715</td>\n",
       "    </tr>\n",
       "    <tr>\n",
       "      <th>66199071</th>\n",
       "      <td>e649a0bc622c6c499e81f85bae2ba95b588a7148b84509...</td>\n",
       "      <td>86985d45d89f3ad367cbbb96b3a1b2119ed8ed103be124...</td>\n",
       "      <td>2014-01-02</td>\n",
       "      <td>0.023515</td>\n",
       "    </tr>\n",
       "    <tr>\n",
       "      <th>66199072</th>\n",
       "      <td>dd1f4e539ed444b62a947cdd2a37070ac5fd8ca222ec36...</td>\n",
       "      <td>b6214ee47b3422f20b6c06349d6a704baca73c56dd7bb9...</td>\n",
       "      <td>2014-01-02</td>\n",
       "      <td>0.027860</td>\n",
       "    </tr>\n",
       "  </tbody>\n",
       "</table>\n",
       "<p>66199073 rows × 4 columns</p>\n",
       "</div>"
      ],
      "text/plain": [
       "                                                       from  \\\n",
       "0         0437cd7f8525ceed2324359c2d0ba26006d92d856a9c20...   \n",
       "1         f4184fc596403b9d638783cf57adfe4c75c605f6356fbc...   \n",
       "2         f4184fc596403b9d638783cf57adfe4c75c605f6356fbc...   \n",
       "3         a16f3ce4dd5deb92d98ef5cf8afeaf0775ebca408f708b...   \n",
       "4         591e91f809d716912ca1d4a9295e70c3e78bab077683f7...   \n",
       "...                                                     ...   \n",
       "66199068  7ebd2c87efead031e8b6aeecc1ef4032551d9580726a1f...   \n",
       "66199069  6556332ea7196ac64e29d78576a7a6cdc4cbfecbd29f47...   \n",
       "66199070  ddce84f4e7da169c0d470cd8c090e2c6be862d458b4f1c...   \n",
       "66199071  e649a0bc622c6c499e81f85bae2ba95b588a7148b84509...   \n",
       "66199072  dd1f4e539ed444b62a947cdd2a37070ac5fd8ca222ec36...   \n",
       "\n",
       "                                                         to    datetime  \\\n",
       "0         f4184fc596403b9d638783cf57adfe4c75c605f6356fbc...  2009-01-09   \n",
       "1         ea44e97271691990157559d0bdd9959e02790c34db6c00...  2009-01-12   \n",
       "2         a16f3ce4dd5deb92d98ef5cf8afeaf0775ebca408f708b...  2009-01-12   \n",
       "3         591e91f809d716912ca1d4a9295e70c3e78bab077683f7...  2009-01-12   \n",
       "4         298ca2045d174f8a158961806ffc4ef96fad02d71a6b84...  2009-01-12   \n",
       "...                                                     ...         ...   \n",
       "66199068  5c6684d182093e8a8cbf8434f6dbb6c0a69684885b5c22...  2014-01-02   \n",
       "66199069  653cab2118c19528ef711d45e5af39971f00e307da3ef4...  2014-01-02   \n",
       "66199070  653cab2118c19528ef711d45e5af39971f00e307da3ef4...  2014-01-02   \n",
       "66199071  86985d45d89f3ad367cbbb96b3a1b2119ed8ed103be124...  2014-01-02   \n",
       "66199072  b6214ee47b3422f20b6c06349d6a704baca73c56dd7bb9...  2014-01-02   \n",
       "\n",
       "             amount  \n",
       "0         50.000000  \n",
       "1         10.000000  \n",
       "2         40.000000  \n",
       "3         30.000000  \n",
       "4          1.000000  \n",
       "...             ...  \n",
       "66199068   0.610000  \n",
       "66199069   0.026032  \n",
       "66199070   0.009715  \n",
       "66199071   0.023515  \n",
       "66199072   0.027860  \n",
       "\n",
       "[66199073 rows x 4 columns]"
      ]
     },
     "execution_count": 3,
     "metadata": {},
     "output_type": "execute_result"
    }
   ],
   "source": []
  },
  {
   "cell_type": "code",
   "execution_count": 3,
   "id": "ef6bd55c",
   "metadata": {},
   "outputs": [],
   "source": [
    "dates = df['datetime'].unique()"
   ]
  },
  {
   "cell_type": "code",
   "execution_count": 6,
   "id": "3f0759af",
   "metadata": {},
   "outputs": [
    {
     "data": {
      "text/plain": [
       "655"
      ]
     },
     "execution_count": 6,
     "metadata": {},
     "output_type": "execute_result"
    }
   ],
   "source": [
    "list(dates).index('2010-11-01')"
   ]
  },
  {
   "cell_type": "code",
   "execution_count": 7,
   "id": "7ba4a2af",
   "metadata": {},
   "outputs": [
    {
     "data": {
      "text/plain": [
       "1815"
      ]
     },
     "execution_count": 7,
     "metadata": {},
     "output_type": "execute_result"
    }
   ],
   "source": [
    "list(dates).index('2013-12-30')"
   ]
  },
  {
   "cell_type": "code",
   "execution_count": 13,
   "id": "91900a04",
   "metadata": {
    "scrolled": true
   },
   "outputs": [
    {
     "data": {
      "text/plain": [
       "1160"
      ]
     },
     "execution_count": 13,
     "metadata": {},
     "output_type": "execute_result"
    }
   ],
   "source": [
    "1815-655"
   ]
  },
  {
   "cell_type": "code",
   "execution_count": 15,
   "id": "bb673994",
   "metadata": {},
   "outputs": [
    {
     "data": {
      "text/plain": [
       "['2013-12-30', '2013-12-31', '2014-01-01', '2014-01-02']"
      ]
     },
     "execution_count": 15,
     "metadata": {},
     "output_type": "execute_result"
    }
   ],
   "source": [
    "list(dates)\n",
    "import pickle\n",
    ">>> \n",
    ">>> with open('parrot.pkl', 'wb') as f:\n",
    "...   pickle.dump(mylist, f)"
   ]
  },
  {
   "cell_type": "code",
   "execution_count": 5,
   "id": "9ec72027",
   "metadata": {},
   "outputs": [],
   "source": [
    "metrics=[]"
   ]
  },
  {
   "cell_type": "code",
   "execution_count": 6,
   "id": "8f0e7c53",
   "metadata": {},
   "outputs": [
    {
     "name": "stdout",
     "output_type": "stream",
     "text": [
      "0\r"
     ]
    },
    {
     "name": "stderr",
     "output_type": "stream",
     "text": [
      "D:\\Anaconda\\lib\\site-packages\\networkx\\algorithms\\assortativity\\correlation.py:287: RuntimeWarning: invalid value encountered in double_scalars\n",
      "  return (xy * (M - ab)).sum() / numpy.sqrt(vara * varb)\n"
     ]
    },
    {
     "name": "stdout",
     "output_type": "stream",
     "text": [
      "11\r"
     ]
    },
    {
     "name": "stderr",
     "output_type": "stream",
     "text": [
      "D:\\Anaconda\\lib\\site-packages\\networkx\\algorithms\\assortativity\\correlation.py:287: RuntimeWarning: divide by zero encountered in double_scalars\n",
      "  return (xy * (M - ab)).sum() / numpy.sqrt(vara * varb)\n"
     ]
    },
    {
     "name": "stdout",
     "output_type": "stream",
     "text": [
      "15\r"
     ]
    },
    {
     "name": "stderr",
     "output_type": "stream",
     "text": [
      "D:\\Anaconda\\lib\\site-packages\\networkx\\algorithms\\assortativity\\correlation.py:287: RuntimeWarning: invalid value encountered in sqrt\n",
      "  return (xy * (M - ab)).sum() / numpy.sqrt(vara * varb)\n"
     ]
    },
    {
     "name": "stdout",
     "output_type": "stream",
     "text": [
      "1818\r"
     ]
    }
   ],
   "source": [
    "index = 0\n",
    "for date in dates:\n",
    "    print(index,end='\\r')\n",
    "    index +=1\n",
    "    x = nx.from_pandas_edgelist(df[df[\"datetime\"]==date],source=\"from\",target =\"to\", create_using=nx.DiGraph())\n",
    "    average_clustering = nx.average_clustering(x)\n",
    "    density = nx.density(x)\n",
    "    #average_degree_connectivity = nx.average_degree_connectivity(x)\n",
    "    number_of_edges = x.number_of_edges()\n",
    "    number_of_nodes = x.number_of_nodes()\n",
    "    degree_assortativity_coefficient = nx.degree_assortativity_coefficient(x)\n",
    "    metrics.append([average_clustering, density, number_of_edges ,number_of_nodes ,degree_assortativity_coefficient])"
   ]
  },
  {
   "cell_type": "code",
   "execution_count": 7,
   "id": "ea1665e9",
   "metadata": {},
   "outputs": [],
   "source": [
    "df = pd.DataFrame(metrics, columns=[\"average_clustering\", \"density\", \"number_of_edges\", \"number_of_nodes\", \"degree_assortativity_coefficient\"])\n",
    "df.to_csv(\"data/daily_metrics_2011_2013.csv\",index=False)"
   ]
  },
  {
   "cell_type": "code",
   "execution_count": null,
   "id": "604ef142",
   "metadata": {},
   "outputs": [],
   "source": []
  }
 ],
 "metadata": {
  "kernelspec": {
   "display_name": "Python 3",
   "language": "python",
   "name": "python3"
  },
  "language_info": {
   "codemirror_mode": {
    "name": "ipython",
    "version": 3
   },
   "file_extension": ".py",
   "mimetype": "text/x-python",
   "name": "python",
   "nbconvert_exporter": "python",
   "pygments_lexer": "ipython3",
   "version": "3.8.8"
  }
 },
 "nbformat": 4,
 "nbformat_minor": 5
}
