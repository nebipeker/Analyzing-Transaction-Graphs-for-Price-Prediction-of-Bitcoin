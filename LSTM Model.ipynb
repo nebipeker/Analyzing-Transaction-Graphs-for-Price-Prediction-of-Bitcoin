{
 "cells": [
  {
   "cell_type": "code",
   "execution_count": 1,
   "id": "a18f0d85",
   "metadata": {},
   "outputs": [],
   "source": [
    "import pandas as pd\n",
    "import numpy as np\n",
    "import tensorflow\n",
    "import keras\n",
    "from keras.models import Sequential\n",
    "from keras.layers import Dense\n",
    "from keras.layers import LSTM\n",
    "from sklearn.preprocessing import MinMaxScaler\n",
    "from sklearn.metrics import mean_squared_error\n",
    "from sklearn.model_selection import train_test_split\n",
    "import math\n",
    "import matplotlib.pyplot as plt\n",
    "import time"
   ]
  },
  {
   "cell_type": "code",
   "execution_count": 2,
   "id": "6165b6b0",
   "metadata": {},
   "outputs": [],
   "source": [
    "df = pd.read_csv('full_df.csv')"
   ]
  },
  {
   "cell_type": "code",
   "execution_count": 3,
   "id": "164f3598",
   "metadata": {
    "scrolled": true
   },
   "outputs": [
    {
     "data": {
      "text/html": [
       "<div>\n",
       "<style scoped>\n",
       "    .dataframe tbody tr th:only-of-type {\n",
       "        vertical-align: middle;\n",
       "    }\n",
       "\n",
       "    .dataframe tbody tr th {\n",
       "        vertical-align: top;\n",
       "    }\n",
       "\n",
       "    .dataframe thead th {\n",
       "        text-align: right;\n",
       "    }\n",
       "</style>\n",
       "<table border=\"1\" class=\"dataframe\">\n",
       "  <thead>\n",
       "    <tr style=\"text-align: right;\">\n",
       "      <th></th>\n",
       "      <th>Date</th>\n",
       "      <th>Close</th>\n",
       "      <th>Open</th>\n",
       "      <th>High</th>\n",
       "      <th>Low</th>\n",
       "      <th>Vol</th>\n",
       "      <th>Change %</th>\n",
       "      <th>average_clustering</th>\n",
       "      <th>density</th>\n",
       "      <th>number_of_edges</th>\n",
       "      <th>number_of_nodes</th>\n",
       "      <th>degree_assortativity_coefficient</th>\n",
       "    </tr>\n",
       "  </thead>\n",
       "  <tbody>\n",
       "    <tr>\n",
       "      <th>0</th>\n",
       "      <td>7-Nov-10</td>\n",
       "      <td>0.3</td>\n",
       "      <td>0.4</td>\n",
       "      <td>0.5</td>\n",
       "      <td>0.1</td>\n",
       "      <td>341460.0</td>\n",
       "      <td>-0.29</td>\n",
       "      <td>0.007455</td>\n",
       "      <td>0.000029</td>\n",
       "      <td>83901</td>\n",
       "      <td>53777</td>\n",
       "      <td>-0.034259</td>\n",
       "    </tr>\n",
       "    <tr>\n",
       "      <th>1</th>\n",
       "      <td>14-Nov-10</td>\n",
       "      <td>0.3</td>\n",
       "      <td>0.3</td>\n",
       "      <td>0.3</td>\n",
       "      <td>0.2</td>\n",
       "      <td>146410.0</td>\n",
       "      <td>0.00</td>\n",
       "      <td>0.005057</td>\n",
       "      <td>0.000031</td>\n",
       "      <td>81415</td>\n",
       "      <td>50991</td>\n",
       "      <td>-0.014705</td>\n",
       "    </tr>\n",
       "    <tr>\n",
       "      <th>2</th>\n",
       "      <td>21-Nov-10</td>\n",
       "      <td>0.3</td>\n",
       "      <td>0.3</td>\n",
       "      <td>0.3</td>\n",
       "      <td>0.3</td>\n",
       "      <td>73380.0</td>\n",
       "      <td>0.00</td>\n",
       "      <td>0.004321</td>\n",
       "      <td>0.000031</td>\n",
       "      <td>76046</td>\n",
       "      <td>49316</td>\n",
       "      <td>0.014105</td>\n",
       "    </tr>\n",
       "    <tr>\n",
       "      <th>3</th>\n",
       "      <td>28-Nov-10</td>\n",
       "      <td>0.2</td>\n",
       "      <td>0.3</td>\n",
       "      <td>0.3</td>\n",
       "      <td>0.2</td>\n",
       "      <td>136930.0</td>\n",
       "      <td>-0.28</td>\n",
       "      <td>0.006888</td>\n",
       "      <td>0.000028</td>\n",
       "      <td>90315</td>\n",
       "      <td>56969</td>\n",
       "      <td>-0.054024</td>\n",
       "    </tr>\n",
       "    <tr>\n",
       "      <th>4</th>\n",
       "      <td>5-Dec-10</td>\n",
       "      <td>0.2</td>\n",
       "      <td>0.2</td>\n",
       "      <td>0.2</td>\n",
       "      <td>0.2</td>\n",
       "      <td>66890.0</td>\n",
       "      <td>0.00</td>\n",
       "      <td>0.006479</td>\n",
       "      <td>0.000027</td>\n",
       "      <td>90881</td>\n",
       "      <td>57686</td>\n",
       "      <td>-0.028229</td>\n",
       "    </tr>\n",
       "    <tr>\n",
       "      <th>...</th>\n",
       "      <td>...</td>\n",
       "      <td>...</td>\n",
       "      <td>...</td>\n",
       "      <td>...</td>\n",
       "      <td>...</td>\n",
       "      <td>...</td>\n",
       "      <td>...</td>\n",
       "      <td>...</td>\n",
       "      <td>...</td>\n",
       "      <td>...</td>\n",
       "      <td>...</td>\n",
       "      <td>...</td>\n",
       "    </tr>\n",
       "    <tr>\n",
       "      <th>107</th>\n",
       "      <td>25-Nov-12</td>\n",
       "      <td>12.6</td>\n",
       "      <td>12.4</td>\n",
       "      <td>12.7</td>\n",
       "      <td>11.9</td>\n",
       "      <td>189370.0</td>\n",
       "      <td>0.01</td>\n",
       "      <td>0.007650</td>\n",
       "      <td>0.000003</td>\n",
       "      <td>1209759</td>\n",
       "      <td>676350</td>\n",
       "      <td>-0.031663</td>\n",
       "    </tr>\n",
       "    <tr>\n",
       "      <th>108</th>\n",
       "      <td>2-Dec-12</td>\n",
       "      <td>13.4</td>\n",
       "      <td>12.6</td>\n",
       "      <td>13.7</td>\n",
       "      <td>12.4</td>\n",
       "      <td>226350.0</td>\n",
       "      <td>0.07</td>\n",
       "      <td>0.008245</td>\n",
       "      <td>0.000003</td>\n",
       "      <td>1051403</td>\n",
       "      <td>583087</td>\n",
       "      <td>-0.024736</td>\n",
       "    </tr>\n",
       "    <tr>\n",
       "      <th>109</th>\n",
       "      <td>9-Dec-12</td>\n",
       "      <td>13.5</td>\n",
       "      <td>13.4</td>\n",
       "      <td>13.9</td>\n",
       "      <td>13.0</td>\n",
       "      <td>228090.0</td>\n",
       "      <td>0.01</td>\n",
       "      <td>0.008665</td>\n",
       "      <td>0.000004</td>\n",
       "      <td>877302</td>\n",
       "      <td>486018</td>\n",
       "      <td>-0.028629</td>\n",
       "    </tr>\n",
       "    <tr>\n",
       "      <th>110</th>\n",
       "      <td>16-Dec-12</td>\n",
       "      <td>13.4</td>\n",
       "      <td>13.5</td>\n",
       "      <td>13.7</td>\n",
       "      <td>12.8</td>\n",
       "      <td>241510.0</td>\n",
       "      <td>-0.01</td>\n",
       "      <td>0.009038</td>\n",
       "      <td>0.000004</td>\n",
       "      <td>932686</td>\n",
       "      <td>508916</td>\n",
       "      <td>-0.029427</td>\n",
       "    </tr>\n",
       "    <tr>\n",
       "      <th>111</th>\n",
       "      <td>23-Dec-12</td>\n",
       "      <td>13.4</td>\n",
       "      <td>13.4</td>\n",
       "      <td>13.7</td>\n",
       "      <td>13.0</td>\n",
       "      <td>139460.0</td>\n",
       "      <td>0.00</td>\n",
       "      <td>0.010055</td>\n",
       "      <td>0.000005</td>\n",
       "      <td>724213</td>\n",
       "      <td>388711</td>\n",
       "      <td>-0.028487</td>\n",
       "    </tr>\n",
       "  </tbody>\n",
       "</table>\n",
       "<p>112 rows × 12 columns</p>\n",
       "</div>"
      ],
      "text/plain": [
       "          Date  Close  Open  High   Low       Vol  Change %  \\\n",
       "0     7-Nov-10    0.3   0.4   0.5   0.1  341460.0     -0.29   \n",
       "1    14-Nov-10    0.3   0.3   0.3   0.2  146410.0      0.00   \n",
       "2    21-Nov-10    0.3   0.3   0.3   0.3   73380.0      0.00   \n",
       "3    28-Nov-10    0.2   0.3   0.3   0.2  136930.0     -0.28   \n",
       "4     5-Dec-10    0.2   0.2   0.2   0.2   66890.0      0.00   \n",
       "..         ...    ...   ...   ...   ...       ...       ...   \n",
       "107  25-Nov-12   12.6  12.4  12.7  11.9  189370.0      0.01   \n",
       "108   2-Dec-12   13.4  12.6  13.7  12.4  226350.0      0.07   \n",
       "109   9-Dec-12   13.5  13.4  13.9  13.0  228090.0      0.01   \n",
       "110  16-Dec-12   13.4  13.5  13.7  12.8  241510.0     -0.01   \n",
       "111  23-Dec-12   13.4  13.4  13.7  13.0  139460.0      0.00   \n",
       "\n",
       "     average_clustering   density  number_of_edges  number_of_nodes  \\\n",
       "0              0.007455  0.000029            83901            53777   \n",
       "1              0.005057  0.000031            81415            50991   \n",
       "2              0.004321  0.000031            76046            49316   \n",
       "3              0.006888  0.000028            90315            56969   \n",
       "4              0.006479  0.000027            90881            57686   \n",
       "..                  ...       ...              ...              ...   \n",
       "107            0.007650  0.000003          1209759           676350   \n",
       "108            0.008245  0.000003          1051403           583087   \n",
       "109            0.008665  0.000004           877302           486018   \n",
       "110            0.009038  0.000004           932686           508916   \n",
       "111            0.010055  0.000005           724213           388711   \n",
       "\n",
       "     degree_assortativity_coefficient  \n",
       "0                           -0.034259  \n",
       "1                           -0.014705  \n",
       "2                            0.014105  \n",
       "3                           -0.054024  \n",
       "4                           -0.028229  \n",
       "..                                ...  \n",
       "107                         -0.031663  \n",
       "108                         -0.024736  \n",
       "109                         -0.028629  \n",
       "110                         -0.029427  \n",
       "111                         -0.028487  \n",
       "\n",
       "[112 rows x 12 columns]"
      ]
     },
     "execution_count": 3,
     "metadata": {},
     "output_type": "execute_result"
    }
   ],
   "source": [
    "df"
   ]
  },
  {
   "cell_type": "code",
   "execution_count": 4,
   "id": "992cb8ed",
   "metadata": {},
   "outputs": [],
   "source": [
    "dates = df[\"Date\"]\n",
    "df.drop(\"Date\",axis= 1, inplace = True)"
   ]
  },
  {
   "cell_type": "code",
   "execution_count": 5,
   "id": "176d9269",
   "metadata": {},
   "outputs": [],
   "source": [
    "Y = df[\"Close\"]\n",
    "X = df.drop([\"Close\"],axis=1)"
   ]
  },
  {
   "cell_type": "code",
   "execution_count": 6,
   "id": "19faf844",
   "metadata": {},
   "outputs": [],
   "source": [
    "# normalize the dataset\n",
    "scaler = MinMaxScaler(feature_range=(0, 1))\n",
    "X = scaler.fit_transform(X)"
   ]
  },
  {
   "cell_type": "code",
   "execution_count": 7,
   "id": "ceb49c6a",
   "metadata": {},
   "outputs": [],
   "source": [
    "X_train, X_test, y_train, y_test = train_test_split(X, Y, test_size=0.33, random_state=42)"
   ]
  },
  {
   "cell_type": "code",
   "execution_count": 8,
   "id": "7c1c759a",
   "metadata": {
    "scrolled": true
   },
   "outputs": [],
   "source": [
    "trainX = np.array(X_train)\n",
    "testX = np.array(X_test)"
   ]
  },
  {
   "cell_type": "code",
   "execution_count": 9,
   "id": "478cb089",
   "metadata": {},
   "outputs": [],
   "source": [
    "trainX = np.reshape(trainX, (trainX.shape[0], 1, trainX.shape[1]))\n",
    "testX = np.reshape(testX, (testX.shape[0], 1, testX.shape[1]))"
   ]
  },
  {
   "cell_type": "code",
   "execution_count": 10,
   "id": "f5d744eb",
   "metadata": {},
   "outputs": [],
   "source": [
    "look_back = 10"
   ]
  },
  {
   "cell_type": "code",
   "execution_count": null,
   "id": "c4bb895c",
   "metadata": {
    "scrolled": true
   },
   "outputs": [
    {
     "name": "stdout",
     "output_type": "stream",
     "text": [
      "Epoch 1/100\n"
     ]
    }
   ],
   "source": [
    "model = Sequential()\n",
    "model.add(LSTM(4, input_shape=(1, look_back)))\n",
    "model.add(Dense(1))\n",
    "model.compile(loss='mean_squared_error', optimizer='adam')\n",
    "model.fit(trainX, y_train, epochs=100, batch_size=1, verbose=2)"
   ]
  },
  {
   "cell_type": "code",
   "execution_count": null,
   "id": "7210b0c1",
   "metadata": {},
   "outputs": [],
   "source": [
    "trainPredict = model.predict(trainX)\n",
    "testPredict = model.predict(testX)\n",
    "\n",
    "# calculate root mean squared error\n",
    "trainScore = math.sqrt(mean_squared_error(y_train, trainPredict[:,0]))\n",
    "print('Train Score: %.2f RMSE' % (trainScore))\n",
    "testScore = math.sqrt(mean_squared_error(y_test, testPredict[:,0]))\n",
    "print('Test Score: %.2f RMSE' % (testScore))"
   ]
  },
  {
   "cell_type": "code",
   "execution_count": null,
   "id": "5f97137b",
   "metadata": {
    "scrolled": false
   },
   "outputs": [],
   "source": [
    "plt.plot(np.arange(37),testPredict, c=\"r\",label=\"Prediction\")\n",
    "plt.plot(np.arange(37),y_test, c=\"g\", label=\"Y\")\n",
    "plt.legend()\n",
    "plt.show()"
   ]
  },
  {
   "cell_type": "code",
   "execution_count": null,
   "id": "f077811f",
   "metadata": {},
   "outputs": [],
   "source": [
    "plt.scatter(np.arange(37),testPredict, c=\"r\",label=\"Prediction\")\n",
    "plt.scatter(np.arange(37),y_test, c=\"g\",label=\"Y\")\n",
    "plt.legend()\n",
    "plt.show()"
   ]
  },
  {
   "cell_type": "code",
   "execution_count": null,
   "id": "317b2d08",
   "metadata": {},
   "outputs": [],
   "source": [
    "plt.plot(np.arange(trainPredict.shape[0]),trainPredict, c=\"r\", label=\"Prediction\")\n",
    "plt.plot(np.arange(trainPredict.shape[0]),y_train, c=\"g\", label=\"Y\")\n",
    "plt.legend()\n",
    "plt.show()"
   ]
  },
  {
   "cell_type": "code",
   "execution_count": null,
   "id": "c70b19fc",
   "metadata": {},
   "outputs": [],
   "source": [
    "plt.scatter(np.arange(trainPredict.shape[0]),trainPredict, c=\"r\", label=\"Prediction\")\n",
    "plt.scatter(np.arange(trainPredict.shape[0]),y_train, c=\"g\", label=\"Y\")\n",
    "plt.legend()\n",
    "plt.show()"
   ]
  }
 ],
 "metadata": {
  "kernelspec": {
   "display_name": "Python 3",
   "language": "python",
   "name": "python3"
  },
  "language_info": {
   "codemirror_mode": {
    "name": "ipython",
    "version": 3
   },
   "file_extension": ".py",
   "mimetype": "text/x-python",
   "name": "python",
   "nbconvert_exporter": "python",
   "pygments_lexer": "ipython3",
   "version": "3.8.8"
  }
 },
 "nbformat": 4,
 "nbformat_minor": 5
}
