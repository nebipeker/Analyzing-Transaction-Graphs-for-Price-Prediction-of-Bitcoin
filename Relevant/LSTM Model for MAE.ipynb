{
 "cells": [
  {
   "cell_type": "code",
   "execution_count": 1,
   "id": "3f53fad2",
   "metadata": {},
   "outputs": [],
   "source": [
    "import pandas as pd\n",
    "import numpy as np\n",
    "import tensorflow\n",
    "import keras\n",
    "from keras.models import Sequential\n",
    "from keras.layers import Dense\n",
    "from keras.layers import LSTM\n",
    "from sklearn.preprocessing import MinMaxScaler\n",
    "from sklearn.metrics import mean_absolute_error as mae\n",
    "from sklearn.metrics import mean_squared_error\n",
    "from sklearn.model_selection import train_test_split\n",
    "import math\n",
    "import matplotlib.pyplot as plt\n",
    "import time"
   ]
  },
  {
   "cell_type": "code",
   "execution_count": 2,
   "id": "95696544",
   "metadata": {},
   "outputs": [],
   "source": [
    "df = pd.read_csv('full_df.csv')"
   ]
  },
  {
   "cell_type": "code",
   "execution_count": 3,
   "id": "dfe10b92",
   "metadata": {},
   "outputs": [],
   "source": [
    "dates = df[\"Date\"]\n",
    "df.drop(\"Date\",axis= 1, inplace = True)"
   ]
  },
  {
   "cell_type": "code",
   "execution_count": 4,
   "id": "e094373e",
   "metadata": {},
   "outputs": [],
   "source": [
    "Y = df[\"Close\"]\n",
    "X = df.drop([\"Close\"],axis=1)"
   ]
  },
  {
   "cell_type": "code",
   "execution_count": 5,
   "id": "3a35dab5",
   "metadata": {},
   "outputs": [],
   "source": [
    "# normalize the dataset\n",
    "scaler = MinMaxScaler(feature_range=(0, 1))\n",
    "X = scaler.fit_transform(X)"
   ]
  },
  {
   "cell_type": "code",
   "execution_count": 6,
   "id": "28052e29",
   "metadata": {},
   "outputs": [],
   "source": [
    "X_train, X_test, y_train, y_test = train_test_split(X, Y, test_size=0.33, random_state=42)"
   ]
  },
  {
   "cell_type": "code",
   "execution_count": 7,
   "id": "d6720df5",
   "metadata": {},
   "outputs": [],
   "source": [
    "trainX = np.array(X_train)\n",
    "testX = np.array(X_test)"
   ]
  },
  {
   "cell_type": "code",
   "execution_count": 8,
   "id": "1fc8045f",
   "metadata": {},
   "outputs": [],
   "source": [
    "trainX = np.reshape(trainX, (trainX.shape[0], 1, trainX.shape[1]))\n",
    "testX = np.reshape(testX, (testX.shape[0], 1, testX.shape[1]))"
   ]
  },
  {
   "cell_type": "code",
   "execution_count": 9,
   "id": "28c00cf2",
   "metadata": {},
   "outputs": [],
   "source": [
    "look_back = 10"
   ]
  },
  {
   "cell_type": "code",
   "execution_count": 10,
   "id": "26a7022d",
   "metadata": {},
   "outputs": [
    {
     "name": "stdout",
     "output_type": "stream",
     "text": [
      "Epoch 1/85\n",
      "75/75 - 3s - loss: 67.7860 - 3s/epoch - 39ms/step\n",
      "Epoch 2/85\n",
      "75/75 - 0s - loss: 64.8649 - 186ms/epoch - 2ms/step\n",
      "Epoch 3/85\n",
      "75/75 - 0s - loss: 61.5154 - 187ms/epoch - 2ms/step\n",
      "Epoch 4/85\n",
      "75/75 - 0s - loss: 57.7428 - 167ms/epoch - 2ms/step\n",
      "Epoch 5/85\n",
      "75/75 - 0s - loss: 53.1950 - 213ms/epoch - 3ms/step\n",
      "Epoch 6/85\n",
      "75/75 - 0s - loss: 48.0256 - 188ms/epoch - 3ms/step\n",
      "Epoch 7/85\n",
      "75/75 - 0s - loss: 43.0308 - 201ms/epoch - 3ms/step\n",
      "Epoch 8/85\n",
      "75/75 - 0s - loss: 39.0348 - 197ms/epoch - 3ms/step\n",
      "Epoch 9/85\n",
      "75/75 - 0s - loss: 35.8753 - 204ms/epoch - 3ms/step\n",
      "Epoch 10/85\n",
      "75/75 - 0s - loss: 33.2961 - 194ms/epoch - 3ms/step\n",
      "Epoch 11/85\n",
      "75/75 - 0s - loss: 31.1903 - 188ms/epoch - 3ms/step\n",
      "Epoch 12/85\n",
      "75/75 - 0s - loss: 29.4099 - 191ms/epoch - 3ms/step\n",
      "Epoch 13/85\n",
      "75/75 - 0s - loss: 27.8750 - 194ms/epoch - 3ms/step\n",
      "Epoch 14/85\n",
      "75/75 - 0s - loss: 26.5082 - 177ms/epoch - 2ms/step\n",
      "Epoch 15/85\n",
      "75/75 - 0s - loss: 25.3059 - 189ms/epoch - 3ms/step\n",
      "Epoch 16/85\n",
      "75/75 - 0s - loss: 24.1947 - 182ms/epoch - 2ms/step\n",
      "Epoch 17/85\n",
      "75/75 - 0s - loss: 23.1696 - 187ms/epoch - 2ms/step\n",
      "Epoch 18/85\n",
      "75/75 - 0s - loss: 22.2032 - 181ms/epoch - 2ms/step\n",
      "Epoch 19/85\n",
      "75/75 - 0s - loss: 21.2937 - 193ms/epoch - 3ms/step\n",
      "Epoch 20/85\n",
      "75/75 - 0s - loss: 20.4060 - 188ms/epoch - 3ms/step\n",
      "Epoch 21/85\n",
      "75/75 - 0s - loss: 19.5805 - 187ms/epoch - 2ms/step\n",
      "Epoch 22/85\n",
      "75/75 - 0s - loss: 18.7691 - 196ms/epoch - 3ms/step\n",
      "Epoch 23/85\n",
      "75/75 - 0s - loss: 18.0305 - 199ms/epoch - 3ms/step\n",
      "Epoch 24/85\n",
      "75/75 - 0s - loss: 17.3391 - 202ms/epoch - 3ms/step\n",
      "Epoch 25/85\n",
      "75/75 - 0s - loss: 16.6927 - 210ms/epoch - 3ms/step\n",
      "Epoch 26/85\n",
      "75/75 - 0s - loss: 16.1143 - 186ms/epoch - 2ms/step\n",
      "Epoch 27/85\n",
      "75/75 - 0s - loss: 15.5698 - 187ms/epoch - 2ms/step\n",
      "Epoch 28/85\n",
      "75/75 - 0s - loss: 15.0887 - 195ms/epoch - 3ms/step\n",
      "Epoch 29/85\n",
      "75/75 - 0s - loss: 14.6477 - 195ms/epoch - 3ms/step\n",
      "Epoch 30/85\n",
      "75/75 - 0s - loss: 14.2369 - 187ms/epoch - 2ms/step\n",
      "Epoch 31/85\n",
      "75/75 - 0s - loss: 13.8650 - 189ms/epoch - 3ms/step\n",
      "Epoch 32/85\n",
      "75/75 - 0s - loss: 13.5158 - 195ms/epoch - 3ms/step\n",
      "Epoch 33/85\n",
      "75/75 - 0s - loss: 13.1893 - 192ms/epoch - 3ms/step\n",
      "Epoch 34/85\n",
      "75/75 - 0s - loss: 12.8785 - 230ms/epoch - 3ms/step\n",
      "Epoch 35/85\n",
      "75/75 - 0s - loss: 12.5900 - 227ms/epoch - 3ms/step\n",
      "Epoch 36/85\n",
      "75/75 - 0s - loss: 12.2713 - 217ms/epoch - 3ms/step\n",
      "Epoch 37/85\n",
      "75/75 - 0s - loss: 11.9782 - 211ms/epoch - 3ms/step\n",
      "Epoch 38/85\n",
      "75/75 - 0s - loss: 11.6612 - 211ms/epoch - 3ms/step\n",
      "Epoch 39/85\n",
      "75/75 - 0s - loss: 11.3141 - 215ms/epoch - 3ms/step\n",
      "Epoch 40/85\n",
      "75/75 - 0s - loss: 10.9444 - 213ms/epoch - 3ms/step\n",
      "Epoch 41/85\n",
      "75/75 - 0s - loss: 10.5771 - 206ms/epoch - 3ms/step\n",
      "Epoch 42/85\n",
      "75/75 - 0s - loss: 10.1679 - 203ms/epoch - 3ms/step\n",
      "Epoch 43/85\n",
      "75/75 - 0s - loss: 9.7708 - 182ms/epoch - 2ms/step\n",
      "Epoch 44/85\n",
      "75/75 - 0s - loss: 9.3902 - 181ms/epoch - 2ms/step\n",
      "Epoch 45/85\n",
      "75/75 - 0s - loss: 9.0053 - 188ms/epoch - 3ms/step\n",
      "Epoch 46/85\n",
      "75/75 - 0s - loss: 8.6417 - 165ms/epoch - 2ms/step\n",
      "Epoch 47/85\n",
      "75/75 - 0s - loss: 8.2820 - 204ms/epoch - 3ms/step\n",
      "Epoch 48/85\n",
      "75/75 - 0s - loss: 7.9478 - 184ms/epoch - 2ms/step\n",
      "Epoch 49/85\n",
      "75/75 - 0s - loss: 7.6293 - 185ms/epoch - 2ms/step\n",
      "Epoch 50/85\n",
      "75/75 - 0s - loss: 7.3019 - 187ms/epoch - 2ms/step\n",
      "Epoch 51/85\n",
      "75/75 - 0s - loss: 6.9981 - 183ms/epoch - 2ms/step\n",
      "Epoch 52/85\n",
      "75/75 - 0s - loss: 6.7150 - 179ms/epoch - 2ms/step\n",
      "Epoch 53/85\n",
      "75/75 - 0s - loss: 6.4351 - 201ms/epoch - 3ms/step\n",
      "Epoch 54/85\n",
      "75/75 - 0s - loss: 6.1763 - 194ms/epoch - 3ms/step\n",
      "Epoch 55/85\n",
      "75/75 - 0s - loss: 5.9322 - 172ms/epoch - 2ms/step\n",
      "Epoch 56/85\n",
      "75/75 - 0s - loss: 5.7111 - 194ms/epoch - 3ms/step\n",
      "Epoch 57/85\n",
      "75/75 - 0s - loss: 5.4801 - 178ms/epoch - 2ms/step\n",
      "Epoch 58/85\n",
      "75/75 - 0s - loss: 5.2849 - 170ms/epoch - 2ms/step\n",
      "Epoch 59/85\n",
      "75/75 - 0s - loss: 5.0887 - 191ms/epoch - 3ms/step\n",
      "Epoch 60/85\n",
      "75/75 - 0s - loss: 4.9189 - 183ms/epoch - 2ms/step\n",
      "Epoch 61/85\n",
      "75/75 - 0s - loss: 4.7400 - 173ms/epoch - 2ms/step\n",
      "Epoch 62/85\n",
      "75/75 - 0s - loss: 4.5771 - 190ms/epoch - 3ms/step\n",
      "Epoch 63/85\n",
      "75/75 - 0s - loss: 4.4343 - 185ms/epoch - 2ms/step\n",
      "Epoch 64/85\n",
      "75/75 - 0s - loss: 4.2883 - 208ms/epoch - 3ms/step\n",
      "Epoch 65/85\n",
      "75/75 - 0s - loss: 4.1458 - 265ms/epoch - 4ms/step\n",
      "Epoch 66/85\n",
      "75/75 - 0s - loss: 4.0264 - 202ms/epoch - 3ms/step\n",
      "Epoch 67/85\n",
      "75/75 - 0s - loss: 3.8989 - 201ms/epoch - 3ms/step\n",
      "Epoch 68/85\n",
      "75/75 - 0s - loss: 3.7818 - 203ms/epoch - 3ms/step\n",
      "Epoch 69/85\n",
      "75/75 - 0s - loss: 3.6816 - 206ms/epoch - 3ms/step\n",
      "Epoch 70/85\n",
      "75/75 - 0s - loss: 3.5808 - 211ms/epoch - 3ms/step\n",
      "Epoch 71/85\n",
      "75/75 - 0s - loss: 3.4827 - 234ms/epoch - 3ms/step\n",
      "Epoch 72/85\n",
      "75/75 - 0s - loss: 3.3933 - 196ms/epoch - 3ms/step\n",
      "Epoch 73/85\n",
      "75/75 - 0s - loss: 3.3048 - 210ms/epoch - 3ms/step\n",
      "Epoch 74/85\n",
      "75/75 - 0s - loss: 3.2161 - 197ms/epoch - 3ms/step\n",
      "Epoch 75/85\n",
      "75/75 - 0s - loss: 3.1372 - 267ms/epoch - 4ms/step\n",
      "Epoch 76/85\n",
      "75/75 - 0s - loss: 3.0705 - 242ms/epoch - 3ms/step\n",
      "Epoch 77/85\n",
      "75/75 - 0s - loss: 3.0038 - 217ms/epoch - 3ms/step\n",
      "Epoch 78/85\n",
      "75/75 - 0s - loss: 2.9246 - 215ms/epoch - 3ms/step\n",
      "Epoch 79/85\n",
      "75/75 - 0s - loss: 2.8617 - 187ms/epoch - 2ms/step\n",
      "Epoch 80/85\n",
      "75/75 - 0s - loss: 2.8074 - 252ms/epoch - 3ms/step\n",
      "Epoch 81/85\n",
      "75/75 - 0s - loss: 2.7394 - 205ms/epoch - 3ms/step\n",
      "Epoch 82/85\n",
      "75/75 - 0s - loss: 2.6829 - 232ms/epoch - 3ms/step\n",
      "Epoch 83/85\n",
      "75/75 - 0s - loss: 2.6249 - 225ms/epoch - 3ms/step\n",
      "Epoch 84/85\n",
      "75/75 - 0s - loss: 2.5782 - 174ms/epoch - 2ms/step\n",
      "Epoch 85/85\n",
      "75/75 - 0s - loss: 2.5202 - 185ms/epoch - 2ms/step\n"
     ]
    },
    {
     "data": {
      "text/plain": [
       "<keras.callbacks.History at 0x143449def70>"
      ]
     },
     "execution_count": 10,
     "metadata": {},
     "output_type": "execute_result"
    }
   ],
   "source": [
    "model = Sequential()\n",
    "model.add(LSTM(4, input_shape=(1, look_back)))\n",
    "model.add(Dense(1))\n",
    "\n",
    "\n",
    "model.compile(loss='mean_squared_error', optimizer='adam')\n",
    "model.fit(trainX, y_train, epochs=85, batch_size=1, verbose=2)"
   ]
  },
  {
   "cell_type": "code",
   "execution_count": 11,
   "id": "77cd8ccd",
   "metadata": {},
   "outputs": [
    {
     "name": "stdout",
     "output_type": "stream",
     "text": [
      "Train Score: 0.93 MAE\n",
      "Test Score: 0.88 MAE\n"
     ]
    }
   ],
   "source": [
    "trainPredict = model.predict(trainX)\n",
    "testPredict = model.predict(testX)\n",
    "\n",
    "#calculate MAE\n",
    "trainScore=mae(y_train, trainPredict[:,0])\n",
    "print('Train Score: %.2f MAE' % (trainScore))\n",
    "testScore=mae(y_test, testPredict[:,0])\n",
    "print('Test Score: %.2f MAE' % (testScore))"
   ]
  },
  {
   "cell_type": "code",
   "execution_count": null,
   "id": "142576d6",
   "metadata": {},
   "outputs": [],
   "source": []
  },
  {
   "cell_type": "code",
   "execution_count": null,
   "id": "a7323668",
   "metadata": {},
   "outputs": [],
   "source": []
  },
  {
   "cell_type": "code",
   "execution_count": null,
   "id": "129b5de5",
   "metadata": {},
   "outputs": [],
   "source": []
  },
  {
   "cell_type": "code",
   "execution_count": null,
   "id": "de9eeed0",
   "metadata": {},
   "outputs": [],
   "source": []
  },
  {
   "cell_type": "code",
   "execution_count": 12,
   "id": "0d205726",
   "metadata": {},
   "outputs": [],
   "source": [
    "df = pd.read_csv('price_informations.csv')[:112]"
   ]
  },
  {
   "cell_type": "code",
   "execution_count": 13,
   "id": "8fe33c45",
   "metadata": {},
   "outputs": [
    {
     "name": "stdout",
     "output_type": "stream",
     "text": [
      "Epoch 1/85\n",
      "75/75 - 2s - loss: 67.1621 - 2s/epoch - 32ms/step\n",
      "Epoch 2/85\n",
      "75/75 - 0s - loss: 64.4075 - 170ms/epoch - 2ms/step\n",
      "Epoch 3/85\n",
      "75/75 - 0s - loss: 61.0814 - 181ms/epoch - 2ms/step\n",
      "Epoch 4/85\n",
      "75/75 - 0s - loss: 57.0786 - 183ms/epoch - 2ms/step\n",
      "Epoch 5/85\n",
      "75/75 - 0s - loss: 52.7077 - 181ms/epoch - 2ms/step\n",
      "Epoch 6/85\n",
      "75/75 - 0s - loss: 48.1994 - 197ms/epoch - 3ms/step\n",
      "Epoch 7/85\n",
      "75/75 - 0s - loss: 43.8047 - 168ms/epoch - 2ms/step\n",
      "Epoch 8/85\n",
      "75/75 - 0s - loss: 39.6351 - 160ms/epoch - 2ms/step\n",
      "Epoch 9/85\n",
      "75/75 - 0s - loss: 35.9594 - 170ms/epoch - 2ms/step\n",
      "Epoch 10/85\n",
      "75/75 - 0s - loss: 32.8890 - 178ms/epoch - 2ms/step\n",
      "Epoch 11/85\n",
      "75/75 - 0s - loss: 30.2592 - 186ms/epoch - 2ms/step\n",
      "Epoch 12/85\n",
      "75/75 - 0s - loss: 28.0860 - 174ms/epoch - 2ms/step\n",
      "Epoch 13/85\n",
      "75/75 - 0s - loss: 26.2427 - 182ms/epoch - 2ms/step\n",
      "Epoch 14/85\n",
      "75/75 - 0s - loss: 24.7119 - 170ms/epoch - 2ms/step\n",
      "Epoch 15/85\n",
      "75/75 - 0s - loss: 23.3974 - 161ms/epoch - 2ms/step\n",
      "Epoch 16/85\n",
      "75/75 - 0s - loss: 22.2407 - 167ms/epoch - 2ms/step\n",
      "Epoch 17/85\n",
      "75/75 - 0s - loss: 21.2572 - 177ms/epoch - 2ms/step\n",
      "Epoch 18/85\n",
      "75/75 - 0s - loss: 20.4079 - 195ms/epoch - 3ms/step\n",
      "Epoch 19/85\n",
      "75/75 - 0s - loss: 19.6089 - 166ms/epoch - 2ms/step\n",
      "Epoch 20/85\n",
      "75/75 - 0s - loss: 18.9242 - 174ms/epoch - 2ms/step\n",
      "Epoch 21/85\n",
      "75/75 - 0s - loss: 18.2855 - 172ms/epoch - 2ms/step\n",
      "Epoch 22/85\n",
      "75/75 - 0s - loss: 17.6997 - 182ms/epoch - 2ms/step\n",
      "Epoch 23/85\n",
      "75/75 - 0s - loss: 17.1312 - 174ms/epoch - 2ms/step\n",
      "Epoch 24/85\n",
      "75/75 - 0s - loss: 16.5977 - 170ms/epoch - 2ms/step\n",
      "Epoch 25/85\n",
      "75/75 - 0s - loss: 16.0791 - 185ms/epoch - 2ms/step\n",
      "Epoch 26/85\n",
      "75/75 - 0s - loss: 15.5520 - 170ms/epoch - 2ms/step\n",
      "Epoch 27/85\n",
      "75/75 - 0s - loss: 15.0319 - 172ms/epoch - 2ms/step\n",
      "Epoch 28/85\n",
      "75/75 - 0s - loss: 14.5171 - 177ms/epoch - 2ms/step\n",
      "Epoch 29/85\n",
      "75/75 - 0s - loss: 13.9860 - 183ms/epoch - 2ms/step\n",
      "Epoch 30/85\n",
      "75/75 - 0s - loss: 13.4602 - 170ms/epoch - 2ms/step\n",
      "Epoch 31/85\n",
      "75/75 - 0s - loss: 12.9316 - 178ms/epoch - 2ms/step\n",
      "Epoch 32/85\n",
      "75/75 - 0s - loss: 12.4159 - 167ms/epoch - 2ms/step\n",
      "Epoch 33/85\n",
      "75/75 - 0s - loss: 11.8989 - 192ms/epoch - 3ms/step\n",
      "Epoch 34/85\n",
      "75/75 - 0s - loss: 11.4046 - 165ms/epoch - 2ms/step\n",
      "Epoch 35/85\n",
      "75/75 - 0s - loss: 10.9231 - 189ms/epoch - 3ms/step\n",
      "Epoch 36/85\n",
      "75/75 - 0s - loss: 10.4555 - 170ms/epoch - 2ms/step\n",
      "Epoch 37/85\n",
      "75/75 - 0s - loss: 10.0003 - 171ms/epoch - 2ms/step\n",
      "Epoch 38/85\n",
      "75/75 - 0s - loss: 9.5611 - 177ms/epoch - 2ms/step\n",
      "Epoch 39/85\n",
      "75/75 - 0s - loss: 9.1447 - 178ms/epoch - 2ms/step\n",
      "Epoch 40/85\n",
      "75/75 - 0s - loss: 8.7478 - 170ms/epoch - 2ms/step\n",
      "Epoch 41/85\n",
      "75/75 - 0s - loss: 8.3742 - 185ms/epoch - 2ms/step\n",
      "Epoch 42/85\n",
      "75/75 - 0s - loss: 8.0069 - 196ms/epoch - 3ms/step\n",
      "Epoch 43/85\n",
      "75/75 - 0s - loss: 7.6679 - 191ms/epoch - 3ms/step\n",
      "Epoch 44/85\n",
      "75/75 - 0s - loss: 7.3448 - 172ms/epoch - 2ms/step\n",
      "Epoch 45/85\n",
      "75/75 - 0s - loss: 7.0460 - 186ms/epoch - 2ms/step\n",
      "Epoch 46/85\n",
      "75/75 - 0s - loss: 6.7624 - 194ms/epoch - 3ms/step\n",
      "Epoch 47/85\n",
      "75/75 - 0s - loss: 6.4990 - 192ms/epoch - 3ms/step\n",
      "Epoch 48/85\n",
      "75/75 - 0s - loss: 6.2406 - 191ms/epoch - 3ms/step\n",
      "Epoch 49/85\n",
      "75/75 - 0s - loss: 5.9972 - 199ms/epoch - 3ms/step\n",
      "Epoch 50/85\n",
      "75/75 - 0s - loss: 5.7778 - 189ms/epoch - 3ms/step\n",
      "Epoch 51/85\n",
      "75/75 - 0s - loss: 5.5572 - 201ms/epoch - 3ms/step\n",
      "Epoch 52/85\n",
      "75/75 - 0s - loss: 5.3721 - 198ms/epoch - 3ms/step\n",
      "Epoch 53/85\n",
      "75/75 - 0s - loss: 5.1724 - 215ms/epoch - 3ms/step\n",
      "Epoch 54/85\n",
      "75/75 - 0s - loss: 5.0138 - 201ms/epoch - 3ms/step\n",
      "Epoch 55/85\n",
      "75/75 - 0s - loss: 4.8285 - 279ms/epoch - 4ms/step\n",
      "Epoch 56/85\n",
      "75/75 - 0s - loss: 4.6586 - 208ms/epoch - 3ms/step\n",
      "Epoch 57/85\n",
      "75/75 - 0s - loss: 4.5102 - 189ms/epoch - 3ms/step\n",
      "Epoch 58/85\n",
      "75/75 - 0s - loss: 4.3605 - 183ms/epoch - 2ms/step\n",
      "Epoch 59/85\n",
      "75/75 - 0s - loss: 4.2221 - 198ms/epoch - 3ms/step\n",
      "Epoch 60/85\n",
      "75/75 - 0s - loss: 4.0904 - 206ms/epoch - 3ms/step\n",
      "Epoch 61/85\n",
      "75/75 - 0s - loss: 3.9670 - 184ms/epoch - 2ms/step\n",
      "Epoch 62/85\n",
      "75/75 - 0s - loss: 3.8498 - 211ms/epoch - 3ms/step\n",
      "Epoch 63/85\n",
      "75/75 - 0s - loss: 3.7301 - 215ms/epoch - 3ms/step\n",
      "Epoch 64/85\n",
      "75/75 - 0s - loss: 3.6218 - 203ms/epoch - 3ms/step\n",
      "Epoch 65/85\n",
      "75/75 - 0s - loss: 3.5248 - 221ms/epoch - 3ms/step\n",
      "Epoch 66/85\n",
      "75/75 - 0s - loss: 3.4238 - 235ms/epoch - 3ms/step\n",
      "Epoch 67/85\n",
      "75/75 - 0s - loss: 3.3282 - 216ms/epoch - 3ms/step\n",
      "Epoch 68/85\n",
      "75/75 - 0s - loss: 3.2430 - 222ms/epoch - 3ms/step\n",
      "Epoch 69/85\n",
      "75/75 - 0s - loss: 3.1577 - 245ms/epoch - 3ms/step\n",
      "Epoch 70/85\n",
      "75/75 - 0s - loss: 3.0828 - 174ms/epoch - 2ms/step\n",
      "Epoch 71/85\n",
      "75/75 - 0s - loss: 3.0016 - 195ms/epoch - 3ms/step\n",
      "Epoch 72/85\n",
      "75/75 - 0s - loss: 2.9308 - 184ms/epoch - 2ms/step\n",
      "Epoch 73/85\n",
      "75/75 - 0s - loss: 2.8589 - 172ms/epoch - 2ms/step\n",
      "Epoch 74/85\n",
      "75/75 - 0s - loss: 2.7955 - 160ms/epoch - 2ms/step\n",
      "Epoch 75/85\n",
      "75/75 - 0s - loss: 2.7308 - 171ms/epoch - 2ms/step\n",
      "Epoch 76/85\n",
      "75/75 - 0s - loss: 2.6726 - 210ms/epoch - 3ms/step\n",
      "Epoch 77/85\n",
      "75/75 - 0s - loss: 2.6104 - 197ms/epoch - 3ms/step\n",
      "Epoch 78/85\n",
      "75/75 - 0s - loss: 2.5572 - 181ms/epoch - 2ms/step\n",
      "Epoch 79/85\n",
      "75/75 - 0s - loss: 2.4931 - 189ms/epoch - 3ms/step\n",
      "Epoch 80/85\n",
      "75/75 - 0s - loss: 2.4461 - 198ms/epoch - 3ms/step\n",
      "Epoch 81/85\n",
      "75/75 - 0s - loss: 2.3946 - 206ms/epoch - 3ms/step\n",
      "Epoch 82/85\n",
      "75/75 - 0s - loss: 2.3567 - 180ms/epoch - 2ms/step\n",
      "Epoch 83/85\n",
      "75/75 - 0s - loss: 2.3016 - 183ms/epoch - 2ms/step\n",
      "Epoch 84/85\n",
      "75/75 - 0s - loss: 2.2666 - 179ms/epoch - 2ms/step\n",
      "Epoch 85/85\n",
      "75/75 - 0s - loss: 2.2187 - 184ms/epoch - 2ms/step\n"
     ]
    },
    {
     "data": {
      "text/plain": [
       "<keras.callbacks.History at 0x1434802a610>"
      ]
     },
     "execution_count": 13,
     "metadata": {},
     "output_type": "execute_result"
    }
   ],
   "source": [
    "dates = df[\"Date\"]\n",
    "df.drop(\"Date\",axis= 1, inplace = True)\n",
    "Y = df[\"Close\"]\n",
    "X = df.drop([\"Close\"],axis=1)\n",
    "X = scaler.fit_transform(X)\n",
    "X_train, X_test, y_train, y_test = train_test_split(X, Y, test_size=0.33, random_state=42)\n",
    "trainX = np.array(X_train)\n",
    "testX = np.array(X_test)\n",
    "trainX = np.reshape(trainX, (trainX.shape[0], 1, trainX.shape[1]))\n",
    "testX = np.reshape(testX, (testX.shape[0], 1, testX.shape[1]))\n",
    "look_back = 5\n",
    "\n",
    "\n",
    "model = Sequential()\n",
    "model.add(LSTM(4, input_shape=(1, look_back)))\n",
    "model.add(Dense(1))\n",
    "model.compile(loss='mean_squared_error', optimizer='adam')\n",
    "model.fit(trainX, y_train, epochs=85, batch_size=1, verbose=2)"
   ]
  },
  {
   "cell_type": "code",
   "execution_count": 14,
   "id": "3cd1f0a4",
   "metadata": {},
   "outputs": [
    {
     "name": "stdout",
     "output_type": "stream",
     "text": [
      "Train Score: 0.84 MAE\n",
      "Test Score: 0.83 MAE\n"
     ]
    }
   ],
   "source": [
    "trainPredict = model.predict(trainX)\n",
    "testPredict = model.predict(testX)\n",
    "\n",
    "#calculate MAE\n",
    "trainScore=mae(y_train, trainPredict[:,0])\n",
    "print('Train Score: %.2f MAE' % (trainScore))\n",
    "testScore=mae(y_test, testPredict[:,0])\n",
    "print('Test Score: %.2f MAE' % (testScore))"
   ]
  },
  {
   "cell_type": "code",
   "execution_count": 15,
   "id": "61dc0b76",
   "metadata": {},
   "outputs": [
    {
     "name": "stdout",
     "output_type": "stream",
     "text": [
      "\n"
     ]
    },
    {
     "data": {
      "text/plain": [
       "37"
      ]
     },
     "execution_count": 15,
     "metadata": {},
     "output_type": "execute_result"
    }
   ],
   "source": [
    "\n",
    "print()\n",
    "len(y_test)"
   ]
  },
  {
   "cell_type": "code",
   "execution_count": 16,
   "id": "4efd1de7",
   "metadata": {},
   "outputs": [
    {
     "data": {
      "text/plain": [
       "75"
      ]
     },
     "execution_count": 16,
     "metadata": {},
     "output_type": "execute_result"
    }
   ],
   "source": [
    "len(y_train)"
   ]
  },
  {
   "cell_type": "code",
   "execution_count": 17,
   "id": "0aeca667",
   "metadata": {},
   "outputs": [],
   "source": [
    "from sklearn.metrics import matthews_corrcoef"
   ]
  },
  {
   "cell_type": "code",
   "execution_count": 18,
   "id": "a6b83b21",
   "metadata": {},
   "outputs": [
    {
     "ename": "ValueError",
     "evalue": "Found input variables with inconsistent numbers of samples: [112, 75]",
     "output_type": "error",
     "traceback": [
      "\u001b[1;31m---------------------------------------------------------------------------\u001b[0m",
      "\u001b[1;31mValueError\u001b[0m                                Traceback (most recent call last)",
      "\u001b[1;32m<ipython-input-18-d05e9e716865>\u001b[0m in \u001b[0;36m<module>\u001b[1;34m\u001b[0m\n\u001b[1;32m----> 1\u001b[1;33m \u001b[0mmatthews_corrcoef\u001b[0m\u001b[1;33m(\u001b[0m\u001b[0mY\u001b[0m\u001b[1;33m,\u001b[0m \u001b[0mtrainPredict\u001b[0m\u001b[1;33m)\u001b[0m\u001b[1;33m\u001b[0m\u001b[1;33m\u001b[0m\u001b[0m\n\u001b[0m",
      "\u001b[1;32m~\\anaconda3\\lib\\site-packages\\sklearn\\utils\\validation.py\u001b[0m in \u001b[0;36minner_f\u001b[1;34m(*args, **kwargs)\u001b[0m\n\u001b[0;32m     61\u001b[0m             \u001b[0mextra_args\u001b[0m \u001b[1;33m=\u001b[0m \u001b[0mlen\u001b[0m\u001b[1;33m(\u001b[0m\u001b[0margs\u001b[0m\u001b[1;33m)\u001b[0m \u001b[1;33m-\u001b[0m \u001b[0mlen\u001b[0m\u001b[1;33m(\u001b[0m\u001b[0mall_args\u001b[0m\u001b[1;33m)\u001b[0m\u001b[1;33m\u001b[0m\u001b[1;33m\u001b[0m\u001b[0m\n\u001b[0;32m     62\u001b[0m             \u001b[1;32mif\u001b[0m \u001b[0mextra_args\u001b[0m \u001b[1;33m<=\u001b[0m \u001b[1;36m0\u001b[0m\u001b[1;33m:\u001b[0m\u001b[1;33m\u001b[0m\u001b[1;33m\u001b[0m\u001b[0m\n\u001b[1;32m---> 63\u001b[1;33m                 \u001b[1;32mreturn\u001b[0m \u001b[0mf\u001b[0m\u001b[1;33m(\u001b[0m\u001b[1;33m*\u001b[0m\u001b[0margs\u001b[0m\u001b[1;33m,\u001b[0m \u001b[1;33m**\u001b[0m\u001b[0mkwargs\u001b[0m\u001b[1;33m)\u001b[0m\u001b[1;33m\u001b[0m\u001b[1;33m\u001b[0m\u001b[0m\n\u001b[0m\u001b[0;32m     64\u001b[0m \u001b[1;33m\u001b[0m\u001b[0m\n\u001b[0;32m     65\u001b[0m             \u001b[1;31m# extra_args > 0\u001b[0m\u001b[1;33m\u001b[0m\u001b[1;33m\u001b[0m\u001b[1;33m\u001b[0m\u001b[0m\n",
      "\u001b[1;32m~\\anaconda3\\lib\\site-packages\\sklearn\\metrics\\_classification.py\u001b[0m in \u001b[0;36mmatthews_corrcoef\u001b[1;34m(y_true, y_pred, sample_weight)\u001b[0m\n\u001b[0;32m    850\u001b[0m     \u001b[1;33m-\u001b[0m\u001b[1;36m0.33\u001b[0m\u001b[1;33m...\u001b[0m\u001b[1;33m\u001b[0m\u001b[1;33m\u001b[0m\u001b[0m\n\u001b[0;32m    851\u001b[0m     \"\"\"\n\u001b[1;32m--> 852\u001b[1;33m     \u001b[0my_type\u001b[0m\u001b[1;33m,\u001b[0m \u001b[0my_true\u001b[0m\u001b[1;33m,\u001b[0m \u001b[0my_pred\u001b[0m \u001b[1;33m=\u001b[0m \u001b[0m_check_targets\u001b[0m\u001b[1;33m(\u001b[0m\u001b[0my_true\u001b[0m\u001b[1;33m,\u001b[0m \u001b[0my_pred\u001b[0m\u001b[1;33m)\u001b[0m\u001b[1;33m\u001b[0m\u001b[1;33m\u001b[0m\u001b[0m\n\u001b[0m\u001b[0;32m    853\u001b[0m     \u001b[0mcheck_consistent_length\u001b[0m\u001b[1;33m(\u001b[0m\u001b[0my_true\u001b[0m\u001b[1;33m,\u001b[0m \u001b[0my_pred\u001b[0m\u001b[1;33m,\u001b[0m \u001b[0msample_weight\u001b[0m\u001b[1;33m)\u001b[0m\u001b[1;33m\u001b[0m\u001b[1;33m\u001b[0m\u001b[0m\n\u001b[0;32m    854\u001b[0m     \u001b[1;32mif\u001b[0m \u001b[0my_type\u001b[0m \u001b[1;32mnot\u001b[0m \u001b[1;32min\u001b[0m \u001b[1;33m{\u001b[0m\u001b[1;34m\"binary\"\u001b[0m\u001b[1;33m,\u001b[0m \u001b[1;34m\"multiclass\"\u001b[0m\u001b[1;33m}\u001b[0m\u001b[1;33m:\u001b[0m\u001b[1;33m\u001b[0m\u001b[1;33m\u001b[0m\u001b[0m\n",
      "\u001b[1;32m~\\anaconda3\\lib\\site-packages\\sklearn\\metrics\\_classification.py\u001b[0m in \u001b[0;36m_check_targets\u001b[1;34m(y_true, y_pred)\u001b[0m\n\u001b[0;32m     81\u001b[0m     \u001b[0my_pred\u001b[0m \u001b[1;33m:\u001b[0m \u001b[0marray\u001b[0m \u001b[1;32mor\u001b[0m \u001b[0mindicator\u001b[0m \u001b[0mmatrix\u001b[0m\u001b[1;33m\u001b[0m\u001b[1;33m\u001b[0m\u001b[0m\n\u001b[0;32m     82\u001b[0m     \"\"\"\n\u001b[1;32m---> 83\u001b[1;33m     \u001b[0mcheck_consistent_length\u001b[0m\u001b[1;33m(\u001b[0m\u001b[0my_true\u001b[0m\u001b[1;33m,\u001b[0m \u001b[0my_pred\u001b[0m\u001b[1;33m)\u001b[0m\u001b[1;33m\u001b[0m\u001b[1;33m\u001b[0m\u001b[0m\n\u001b[0m\u001b[0;32m     84\u001b[0m     \u001b[0mtype_true\u001b[0m \u001b[1;33m=\u001b[0m \u001b[0mtype_of_target\u001b[0m\u001b[1;33m(\u001b[0m\u001b[0my_true\u001b[0m\u001b[1;33m)\u001b[0m\u001b[1;33m\u001b[0m\u001b[1;33m\u001b[0m\u001b[0m\n\u001b[0;32m     85\u001b[0m     \u001b[0mtype_pred\u001b[0m \u001b[1;33m=\u001b[0m \u001b[0mtype_of_target\u001b[0m\u001b[1;33m(\u001b[0m\u001b[0my_pred\u001b[0m\u001b[1;33m)\u001b[0m\u001b[1;33m\u001b[0m\u001b[1;33m\u001b[0m\u001b[0m\n",
      "\u001b[1;32m~\\anaconda3\\lib\\site-packages\\sklearn\\utils\\validation.py\u001b[0m in \u001b[0;36mcheck_consistent_length\u001b[1;34m(*arrays)\u001b[0m\n\u001b[0;32m    260\u001b[0m     \u001b[0muniques\u001b[0m \u001b[1;33m=\u001b[0m \u001b[0mnp\u001b[0m\u001b[1;33m.\u001b[0m\u001b[0munique\u001b[0m\u001b[1;33m(\u001b[0m\u001b[0mlengths\u001b[0m\u001b[1;33m)\u001b[0m\u001b[1;33m\u001b[0m\u001b[1;33m\u001b[0m\u001b[0m\n\u001b[0;32m    261\u001b[0m     \u001b[1;32mif\u001b[0m \u001b[0mlen\u001b[0m\u001b[1;33m(\u001b[0m\u001b[0muniques\u001b[0m\u001b[1;33m)\u001b[0m \u001b[1;33m>\u001b[0m \u001b[1;36m1\u001b[0m\u001b[1;33m:\u001b[0m\u001b[1;33m\u001b[0m\u001b[1;33m\u001b[0m\u001b[0m\n\u001b[1;32m--> 262\u001b[1;33m         raise ValueError(\"Found input variables with inconsistent numbers of\"\n\u001b[0m\u001b[0;32m    263\u001b[0m                          \" samples: %r\" % [int(l) for l in lengths])\n\u001b[0;32m    264\u001b[0m \u001b[1;33m\u001b[0m\u001b[0m\n",
      "\u001b[1;31mValueError\u001b[0m: Found input variables with inconsistent numbers of samples: [112, 75]"
     ]
    }
   ],
   "source": [
    "matthews_corrcoef(Y, trainPredict)"
   ]
  },
  {
   "cell_type": "code",
   "execution_count": null,
   "id": "d1e24a59",
   "metadata": {},
   "outputs": [],
   "source": []
  }
 ],
 "metadata": {
  "kernelspec": {
   "display_name": "Python 3",
   "language": "python",
   "name": "python3"
  },
  "language_info": {
   "codemirror_mode": {
    "name": "ipython",
    "version": 3
   },
   "file_extension": ".py",
   "mimetype": "text/x-python",
   "name": "python",
   "nbconvert_exporter": "python",
   "pygments_lexer": "ipython3",
   "version": "3.8.8"
  }
 },
 "nbformat": 4,
 "nbformat_minor": 5
}
