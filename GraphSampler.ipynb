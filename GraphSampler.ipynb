{
 "cells": [
  {
   "cell_type": "code",
   "execution_count": 1,
   "id": "7e392bb3",
   "metadata": {},
   "outputs": [],
   "source": [
    "import matplotlib.pyplot as plt\n",
    "import pandas as pd\n",
    "import numpy as np\n",
    "%matplotlib inline\n",
    "import random\n",
    "import networkx as nx"
   ]
  },
  {
   "cell_type": "code",
   "execution_count": 2,
   "id": "d6301b58",
   "metadata": {},
   "outputs": [],
   "source": [
    "csvDefault = 'transactiongraph'\n",
    "nameCSV = 'transactiongraph'\n",
    "directoryDefault = \"C:/Users/Umut/Desktop/transactiongraph/\"\n",
    "directory = \"C:/Users/Umut/Desktop/transactiongraph/\""
   ]
  },
  {
   "cell_type": "code",
   "execution_count": 3,
   "id": "e3a7e3d7",
   "metadata": {},
   "outputs": [],
   "source": [
    "# G : Original Graph\n",
    "# size : size of the sampled graph\n",
    "class ForestFire():\n",
    "    def __init__(self):\n",
    "        self.G1 = nx.Graph()\n",
    "\n",
    "    def forestfire(self, G, size):\n",
    "        list_nodes = list(G.nodes())\n",
    "        # print(len(G))\n",
    "        dictt = set()\n",
    "        random_node = random.sample(set(list_nodes), 1)[0]\n",
    "        # print(random_node)\n",
    "        q = set()   # q = set contains the distinct values\n",
    "        q.add(random_node)\n",
    "        while(len(self.G1.nodes()) < size):\n",
    "            if(len(q) > 0):\n",
    "                initial_node = q.pop()\n",
    "                if(initial_node not in dictt):\n",
    "                    # print(initial_node)\n",
    "                    dictt.add(initial_node)\n",
    "                    neighbours = list(G.neighbors(initial_node))\n",
    "                    # print(list(G.neighbors(initial_node)))\n",
    "                    np = random.randint(1, len(neighbours))\n",
    "                    # print(np)\n",
    "                    # print(neighbours[:np])\n",
    "                    for x in neighbours[:np]:\n",
    "                        if(len(self.G1.nodes()) < size):\n",
    "                            self.G1.add_edge(initial_node, x)\n",
    "                            q.add(x)\n",
    "                        else:\n",
    "                            break\n",
    "                else:\n",
    "                    continue\n",
    "            else:\n",
    "                random_node = random.sample(set(list_nodes) and dictt, 1)[0]\n",
    "                q.add(random_node)\n",
    "        q.clear()\n",
    "        return self.G1"
   ]
  },
  {
   "cell_type": "code",
   "execution_count": 4,
   "id": "f2a58f4a",
   "metadata": {},
   "outputs": [],
   "source": [
    "forestFireInstance = ForestFire()"
   ]
  },
  {
   "cell_type": "code",
   "execution_count": 5,
   "id": "5d86d19e",
   "metadata": {},
   "outputs": [],
   "source": [
    "newCsvDefault = 'sampledgraph'\n",
    "newCsvName = 'sampledgraph'"
   ]
  },
  {
   "cell_type": "markdown",
   "id": "58b6e6f0",
   "metadata": {},
   "source": [
    "### ForestFire Sampling"
   ]
  },
  {
   "cell_type": "code",
   "execution_count": null,
   "id": "438fc75a",
   "metadata": {},
   "outputs": [],
   "source": [
    "\n",
    "graphSize = 50000\n",
    "for n in range(25,124):\n",
    "    print(\"Step \" + str(n) + \"is processing.\")\n",
    "    nameCSV = csvDefault + str(n)\n",
    "    directory = directoryDefault + nameCSV + \".csv\"\n",
    "    df = pd.read_csv(directory)\n",
    "    us_graph = nx.from_pandas_edgelist(df,source=\"addressIn\",target=\"addressOut\")    \n",
    "    new_graph = forestFireInstance.forestfire(G=us_graph,size=graphSize)\n",
    "    edge_df = nx.to_pandas_edgelist(new_graph)\n",
    "    newCsvName = newCsvDefault + str(n) + '.csv'\n",
    "    edge_df.to_csv(newCsvName, encoding='utf-8')\n",
    "    print(\"Step \" + str(n) + \"is completed.\")\n"
   ]
  },
  {
   "cell_type": "markdown",
   "id": "bb03ae91",
   "metadata": {},
   "source": [
    "### Random Sampling"
   ]
  },
  {
   "cell_type": "code",
   "execution_count": null,
   "id": "e093828d",
   "metadata": {},
   "outputs": [],
   "source": [
    "graphSize = 0\n",
    "for n in range(124):\n",
    "    nameCSV = csvDefault + str(n)\n",
    "    directory = directoryDefault + nameCSV + \".csv\"\n",
    "    df = pd.read_csv(directory)\n",
    "    us_graph = nx.from_pandas_edgelist(df,source=\"addressIn\",target=\"addressOut\")\n",
    "    if(len(us_graph.nodes) < 50000):\n",
    "        graphSize = len(us_graph.nodes)\n",
    "    else:\n",
    "        graphSize = 50000\n",
    "    sampled_edges = random.sample(us_graph.edges, graphSize)\n",
    "    dfSampled = pd.DataFrame(sampled_edges)\n",
    "    newCsvName = newCsvDefault + str(n) + '.csv'\n",
    "    dfSampled.to_csv(newCsvName, encoding='utf-8')"
   ]
  }
 ],
 "metadata": {
  "kernelspec": {
   "display_name": "Python 3 (ipykernel)",
   "language": "python",
   "name": "python3"
  },
  "language_info": {
   "codemirror_mode": {
    "name": "ipython",
    "version": 3
   },
   "file_extension": ".py",
   "mimetype": "text/x-python",
   "name": "python",
   "nbconvert_exporter": "python",
   "pygments_lexer": "ipython3",
   "version": "3.9.7"
  }
 },
 "nbformat": 4,
 "nbformat_minor": 5
}
