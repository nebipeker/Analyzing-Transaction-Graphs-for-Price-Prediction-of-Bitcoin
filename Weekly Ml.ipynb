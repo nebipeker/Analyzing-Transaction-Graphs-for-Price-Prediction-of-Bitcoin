{
 "cells": [
  {
   "cell_type": "code",
   "execution_count": 1,
   "id": "00d7624d",
   "metadata": {},
   "outputs": [],
   "source": [
    "import pandas as pd\n",
    "import numpy as np"
   ]
  },
  {
   "cell_type": "code",
   "execution_count": 17,
   "id": "57becb50",
   "metadata": {},
   "outputs": [],
   "source": [
    "from sklearn import svm\n",
    "from sklearn.linear_model import SGDClassifier\n",
    "from sklearn.neighbors import KNeighborsClassifier\n",
    "from sklearn.tree import DecisionTreeClassifier\n",
    "from sklearn.ensemble import RandomForestClassifier\n",
    "from sklearn.preprocessing import StandardScaler\n",
    "from sklearn.model_selection import train_test_split\n",
    "from sklearn.metrics import f1_score\n",
    "from sklearn.metrics import precision_score\n",
    "from sklearn.metrics import recall_score\n",
    "from sklearn.metrics import accuracy_score\n",
    "from sklearn.model_selection import GridSearchCV"
   ]
  },
  {
   "cell_type": "code",
   "execution_count": 3,
   "id": "ca3c57ff",
   "metadata": {},
   "outputs": [],
   "source": [
    "import warnings\n",
    "warnings.filterwarnings(\"ignore\")"
   ]
  },
  {
   "cell_type": "code",
   "execution_count": 4,
   "id": "4c855018",
   "metadata": {},
   "outputs": [],
   "source": [
    "market_data = pd.read_csv(\"./data/Bitcoin Price Weekly 2022 to 2010 .csv\")\n",
    "graph_parameters= pd.read_csv(\"./data/weeklyparameters.csv\")"
   ]
  },
  {
   "cell_type": "code",
   "execution_count": 5,
   "id": "363e02e3",
   "metadata": {},
   "outputs": [],
   "source": [
    "full_df= pd.concat([market_data.iloc[50:50+graph_parameters.shape[0],1:].reset_index().drop('index',axis=1),graph_parameters],axis=1).iloc[:116]"
   ]
  },
  {
   "cell_type": "code",
   "execution_count": 6,
   "id": "02e1b5e0",
   "metadata": {},
   "outputs": [],
   "source": [
    "threshold=3\n",
    "def y_creator(threshold):\n",
    "    Y = []\n",
    "    for i in market_data[\"Change %\"][51:51+graph_parameters.shape[0]]:\n",
    "        if abs(i)>threshold:\n",
    "            if i>0:\n",
    "                Y.append(1)\n",
    "            else:\n",
    "                Y.append(-1)\n",
    "        else:\n",
    "            Y.append(0)\n",
    "    return Y\n",
    "Y = y_creator(threshold)"
   ]
  },
  {
   "cell_type": "code",
   "execution_count": 7,
   "id": "311ca624",
   "metadata": {},
   "outputs": [],
   "source": [
    "def model_creation(x, Y):\n",
    "    scaler = StandardScaler()\n",
    "    scaled_x = scaler.fit_transform(x)\n",
    "    x_train, x_test, y_train, y_test = train_test_split(scaled_x, Y, test_size=0.33, random_state=42)\n",
    "    \n",
    "    svm_model           = svm.SVC(C=1.1419770655821517, gamma=0.09643311030464571)\n",
    "    stockhastic_model   = SGDClassifier(alpha=0.01, loss='log', n_jobs=-1)\n",
    "    knn_model           = KNeighborsClassifier(n_neighbors=5)\n",
    "    decisiontree_model  = DecisionTreeClassifier()\n",
    "    random_forest_model = RandomForestClassifier(max_depth=2, random_state=0)\n",
    "    \n",
    "    svm_model.fit(x_train, y_train)\n",
    "    stockhastic_model.fit(x_train, y_train)\n",
    "    knn_model.fit(x_train, y_train)\n",
    "    decisiontree_model.fit(x_train, y_train)\n",
    "    random_forest_model.fit(x_train, y_train)\n",
    "    \n",
    "    prediction_svm_model          = svm_model.predict(x_test)\n",
    "    prediction_stockhastic_model  = stockhastic_model.predict(x_test)\n",
    "    prediction_knn_model          = knn_model.predict(x_test)\n",
    "    prediction_decisiontree_model = decisiontree_model.predict(x_test)\n",
    "    prediction_random_forest_model= random_forest_model.predict(x_test)\n",
    "    \n",
    "    f1_score_svm_model           = f1_score(y_test, prediction_svm_model,          average='macro')\n",
    "    f1_score_stockhastic_model   = f1_score(y_test, prediction_stockhastic_model,  average='macro')\n",
    "    f1_score_knn_model           = f1_score(y_test, prediction_knn_model,          average='macro')\n",
    "    f1_score_decisiontree_model  = f1_score(y_test, prediction_decisiontree_model, average='macro')\n",
    "    f1_score_random_forest_model = f1_score(y_test, prediction_random_forest_model,average=\"macro\")\n",
    "    \n",
    "    precision_score_svm_model           = precision_score(y_test, prediction_svm_model          , average='macro')\n",
    "    precision_score_stockhastic_model   = precision_score(y_test, prediction_stockhastic_model  , average='macro')\n",
    "    precision_score_knn_model           = precision_score(y_test, prediction_knn_model          , average='macro')\n",
    "    precision_score_decisiontree_model  = precision_score(y_test, prediction_decisiontree_model , average='macro')\n",
    "    precision_score_random_forest_model= precision_score(y_test, prediction_random_forest_model, average=\"macro\")\n",
    "    \n",
    "    accuracy_score_svm_model           = accuracy_score(y_test, prediction_svm_model          )\n",
    "    accuracy_score_stockhastic_model   = accuracy_score(y_test, prediction_stockhastic_model  )\n",
    "    accuracy_score_knn_model           = accuracy_score(y_test, prediction_knn_model          )\n",
    "    accuracy_score_decisiontree_model  = accuracy_score(y_test, prediction_decisiontree_model )\n",
    "    accuracy_score_random_forest_model = accuracy_score(y_test, prediction_random_forest_model)\n",
    "    \n",
    "    scores= [[f1_score_svm_model, precision_score_svm_model, accuracy_score_svm_model]\\\n",
    "            ,[f1_score_stockhastic_model, precision_score_stockhastic_model, accuracy_score_stockhastic_model]\\\n",
    "            ,[f1_score_knn_model, precision_score_knn_model, accuracy_score_knn_model]\\\n",
    "            ,[f1_score_decisiontree_model, precision_score_decisiontree_model, accuracy_score_decisiontree_model]\\\n",
    "            ,[f1_score_random_forest_model,precision_score_random_forest_model, accuracy_score_random_forest_model]]\n",
    "    temp_df = pd.DataFrame(scores)\n",
    "    temp_df.columns = [\"F1\", \"Precision\", \"Accuracy\"]\n",
    "    temp_df = temp_df.T\n",
    "    temp_df.columns=[\"SVM\", \"Stockhastic\", \"KNN\", \"DecisionTree\", \"Random Forest\"]\n",
    "    return temp_df.T\n",
    "    "
   ]
  },
  {
   "cell_type": "code",
   "execution_count": 8,
   "id": "4b0fc379",
   "metadata": {},
   "outputs": [],
   "source": [
    "results_with_graph = model_creation(full_df,Y)"
   ]
  },
  {
   "cell_type": "code",
   "execution_count": 9,
   "id": "48659d28",
   "metadata": {},
   "outputs": [],
   "source": [
    "results_without_graph = model_creation(market_data.iloc[50:50+graph_parameters.shape[0],1:],Y)"
   ]
  },
  {
   "cell_type": "code",
   "execution_count": 10,
   "id": "323d3f8a",
   "metadata": {
    "scrolled": true
   },
   "outputs": [
    {
     "data": {
      "text/html": [
       "<div>\n",
       "<style scoped>\n",
       "    .dataframe tbody tr th:only-of-type {\n",
       "        vertical-align: middle;\n",
       "    }\n",
       "\n",
       "    .dataframe tbody tr th {\n",
       "        vertical-align: top;\n",
       "    }\n",
       "\n",
       "    .dataframe thead th {\n",
       "        text-align: right;\n",
       "    }\n",
       "</style>\n",
       "<table border=\"1\" class=\"dataframe\">\n",
       "  <thead>\n",
       "    <tr style=\"text-align: right;\">\n",
       "      <th></th>\n",
       "      <th>F1</th>\n",
       "      <th>Precision</th>\n",
       "      <th>Accuracy</th>\n",
       "    </tr>\n",
       "  </thead>\n",
       "  <tbody>\n",
       "    <tr>\n",
       "      <th>SVM</th>\n",
       "      <td>0.197531</td>\n",
       "      <td>0.140351</td>\n",
       "      <td>0.421053</td>\n",
       "    </tr>\n",
       "    <tr>\n",
       "      <th>Stockhastic</th>\n",
       "      <td>0.284259</td>\n",
       "      <td>0.385417</td>\n",
       "      <td>0.394737</td>\n",
       "    </tr>\n",
       "    <tr>\n",
       "      <th>KNN</th>\n",
       "      <td>0.395183</td>\n",
       "      <td>0.412785</td>\n",
       "      <td>0.421053</td>\n",
       "    </tr>\n",
       "    <tr>\n",
       "      <th>DecisionTree</th>\n",
       "      <td>0.385714</td>\n",
       "      <td>0.401629</td>\n",
       "      <td>0.421053</td>\n",
       "    </tr>\n",
       "    <tr>\n",
       "      <th>Random Forest</th>\n",
       "      <td>0.188679</td>\n",
       "      <td>0.135135</td>\n",
       "      <td>0.394737</td>\n",
       "    </tr>\n",
       "  </tbody>\n",
       "</table>\n",
       "</div>"
      ],
      "text/plain": [
       "                     F1  Precision  Accuracy\n",
       "SVM            0.197531   0.140351  0.421053\n",
       "Stockhastic    0.284259   0.385417  0.394737\n",
       "KNN            0.395183   0.412785  0.421053\n",
       "DecisionTree   0.385714   0.401629  0.421053\n",
       "Random Forest  0.188679   0.135135  0.394737"
      ]
     },
     "execution_count": 10,
     "metadata": {},
     "output_type": "execute_result"
    }
   ],
   "source": [
    "results_with_graph"
   ]
  },
  {
   "cell_type": "code",
   "execution_count": 11,
   "id": "57d7372d",
   "metadata": {},
   "outputs": [
    {
     "data": {
      "text/html": [
       "<div>\n",
       "<style scoped>\n",
       "    .dataframe tbody tr th:only-of-type {\n",
       "        vertical-align: middle;\n",
       "    }\n",
       "\n",
       "    .dataframe tbody tr th {\n",
       "        vertical-align: top;\n",
       "    }\n",
       "\n",
       "    .dataframe thead th {\n",
       "        text-align: right;\n",
       "    }\n",
       "</style>\n",
       "<table border=\"1\" class=\"dataframe\">\n",
       "  <thead>\n",
       "    <tr style=\"text-align: right;\">\n",
       "      <th></th>\n",
       "      <th>F1</th>\n",
       "      <th>Precision</th>\n",
       "      <th>Accuracy</th>\n",
       "    </tr>\n",
       "  </thead>\n",
       "  <tbody>\n",
       "    <tr>\n",
       "      <th>SVM</th>\n",
       "      <td>0.197531</td>\n",
       "      <td>0.140351</td>\n",
       "      <td>0.421053</td>\n",
       "    </tr>\n",
       "    <tr>\n",
       "      <th>Stockhastic</th>\n",
       "      <td>0.197531</td>\n",
       "      <td>0.140351</td>\n",
       "      <td>0.421053</td>\n",
       "    </tr>\n",
       "    <tr>\n",
       "      <th>KNN</th>\n",
       "      <td>0.417508</td>\n",
       "      <td>0.433333</td>\n",
       "      <td>0.447368</td>\n",
       "    </tr>\n",
       "    <tr>\n",
       "      <th>DecisionTree</th>\n",
       "      <td>0.481193</td>\n",
       "      <td>0.502646</td>\n",
       "      <td>0.500000</td>\n",
       "    </tr>\n",
       "    <tr>\n",
       "      <th>Random Forest</th>\n",
       "      <td>0.240718</td>\n",
       "      <td>0.196409</td>\n",
       "      <td>0.342105</td>\n",
       "    </tr>\n",
       "  </tbody>\n",
       "</table>\n",
       "</div>"
      ],
      "text/plain": [
       "                     F1  Precision  Accuracy\n",
       "SVM            0.197531   0.140351  0.421053\n",
       "Stockhastic    0.197531   0.140351  0.421053\n",
       "KNN            0.417508   0.433333  0.447368\n",
       "DecisionTree   0.481193   0.502646  0.500000\n",
       "Random Forest  0.240718   0.196409  0.342105"
      ]
     },
     "execution_count": 11,
     "metadata": {},
     "output_type": "execute_result"
    }
   ],
   "source": [
    "results_without_graph"
   ]
  },
  {
   "cell_type": "code",
   "execution_count": 12,
   "id": "b762f330",
   "metadata": {},
   "outputs": [
    {
     "data": {
      "text/html": [
       "<div>\n",
       "<style scoped>\n",
       "    .dataframe tbody tr th:only-of-type {\n",
       "        vertical-align: middle;\n",
       "    }\n",
       "\n",
       "    .dataframe tbody tr th {\n",
       "        vertical-align: top;\n",
       "    }\n",
       "\n",
       "    .dataframe thead th {\n",
       "        text-align: right;\n",
       "    }\n",
       "</style>\n",
       "<table border=\"1\" class=\"dataframe\">\n",
       "  <thead>\n",
       "    <tr style=\"text-align: right;\">\n",
       "      <th></th>\n",
       "      <th>F1</th>\n",
       "      <th>Precision</th>\n",
       "      <th>Accuracy</th>\n",
       "    </tr>\n",
       "  </thead>\n",
       "  <tbody>\n",
       "    <tr>\n",
       "      <th>SVM</th>\n",
       "      <td>0.000000</td>\n",
       "      <td>0.000000</td>\n",
       "      <td>0.000000</td>\n",
       "    </tr>\n",
       "    <tr>\n",
       "      <th>Stockhastic</th>\n",
       "      <td>0.086728</td>\n",
       "      <td>0.245066</td>\n",
       "      <td>-0.026316</td>\n",
       "    </tr>\n",
       "    <tr>\n",
       "      <th>KNN</th>\n",
       "      <td>-0.022326</td>\n",
       "      <td>-0.020549</td>\n",
       "      <td>-0.026316</td>\n",
       "    </tr>\n",
       "    <tr>\n",
       "      <th>DecisionTree</th>\n",
       "      <td>-0.095479</td>\n",
       "      <td>-0.101016</td>\n",
       "      <td>-0.078947</td>\n",
       "    </tr>\n",
       "    <tr>\n",
       "      <th>Random Forest</th>\n",
       "      <td>-0.052039</td>\n",
       "      <td>-0.061273</td>\n",
       "      <td>0.052632</td>\n",
       "    </tr>\n",
       "  </tbody>\n",
       "</table>\n",
       "</div>"
      ],
      "text/plain": [
       "                     F1  Precision  Accuracy\n",
       "SVM            0.000000   0.000000  0.000000\n",
       "Stockhastic    0.086728   0.245066 -0.026316\n",
       "KNN           -0.022326  -0.020549 -0.026316\n",
       "DecisionTree  -0.095479  -0.101016 -0.078947\n",
       "Random Forest -0.052039  -0.061273  0.052632"
      ]
     },
     "execution_count": 12,
     "metadata": {},
     "output_type": "execute_result"
    }
   ],
   "source": [
    "results_with_graph-results_without_graph"
   ]
  },
  {
   "cell_type": "code",
   "execution_count": 13,
   "id": "659d0e8c",
   "metadata": {},
   "outputs": [],
   "source": [
    "scaler = StandardScaler()\n",
    "scaled_x = scaler.fit_transform(full_df)\n",
    "x_train, x_test, y_train, y_test = train_test_split(scaled_x, Y, test_size=0.33, random_state=42)"
   ]
  },
  {
   "cell_type": "code",
   "execution_count": 14,
   "id": "3b743475",
   "metadata": {},
   "outputs": [
    {
     "name": "stdout",
     "output_type": "stream",
     "text": [
      "Fitting 3 folds for each of 10 candidates, totalling 30 fits\n",
      "[CV] END ......C=6.354224961751176, gamma=0.0643645784323179; total time=   0.0s\n",
      "[CV] END ......C=6.354224961751176, gamma=0.0643645784323179; total time=   0.0s\n",
      "[CV] END ......C=6.354224961751176, gamma=0.0643645784323179; total time=   0.0s\n",
      "[CV] END ......C=5.52365420493836, gamma=0.09478031450944008; total time=   0.0s\n",
      "[CV] END ......C=5.52365420493836, gamma=0.09478031450944008; total time=   0.0s\n",
      "[CV] END ......C=5.52365420493836, gamma=0.09478031450944008; total time=   0.0s\n",
      "[CV] END .....C=6.657588375066739, gamma=0.04744545388008625; total time=   0.0s\n",
      "[CV] END .....C=6.657588375066739, gamma=0.04744545388008625; total time=   0.0s\n",
      "[CV] END .....C=6.657588375066739, gamma=0.04744545388008625; total time=   0.0s\n",
      "[CV] END ...C=3.0824940381421575, gamma=0.005238156600713467; total time=   0.0s\n",
      "[CV] END ...C=3.0824940381421575, gamma=0.005238156600713467; total time=   0.0s\n",
      "[CV] END ...C=3.0824940381421575, gamma=0.005238156600713467; total time=   0.0s\n",
      "[CV] END ....C=3.3868084735987205, gamma=0.07288254802819286; total time=   0.0s\n",
      "[CV] END ....C=3.3868084735987205, gamma=0.07288254802819286; total time=   0.0s\n",
      "[CV] END ....C=3.3868084735987205, gamma=0.07288254802819286; total time=   0.0s\n",
      "[CV] END ....C=2.0207386555674045, gamma=0.04553737703294756; total time=   0.0s\n",
      "[CV] END ....C=2.0207386555674045, gamma=0.04553737703294756; total time=   0.0s\n",
      "[CV] END ....C=2.0207386555674045, gamma=0.04553737703294756; total time=   0.0s\n",
      "[CV] END .....C=3.53466195171562, gamma=0.024258185964170512; total time=   0.0s\n",
      "[CV] END .....C=3.53466195171562, gamma=0.024258185964170512; total time=   0.0s\n",
      "[CV] END .....C=3.53466195171562, gamma=0.024258185964170512; total time=   0.0s\n",
      "[CV] END ....C=5.055101083078313, gamma=0.014690893401540587; total time=   0.0s\n",
      "[CV] END ....C=5.055101083078313, gamma=0.014690893401540587; total time=   0.0s\n",
      "[CV] END ....C=5.055101083078313, gamma=0.014690893401540587; total time=   0.0s\n",
      "[CV] END ...C=6.782128498931077, gamma=0.0018546224920117178; total time=   0.0s\n",
      "[CV] END ...C=6.782128498931077, gamma=0.0018546224920117178; total time=   0.0s\n",
      "[CV] END ...C=6.782128498931077, gamma=0.0018546224920117178; total time=   0.0s\n",
      "[CV] END ...C=9.218345871373018, gamma=0.0012008547526967722; total time=   0.0s\n",
      "[CV] END ...C=9.218345871373018, gamma=0.0012008547526967722; total time=   0.0s\n",
      "[CV] END ...C=9.218345871373018, gamma=0.0012008547526967722; total time=   0.0s\n",
      "0.5194871794871795\n",
      "SVC(C=6.354224961751176, gamma=0.0643645784323179)\n"
     ]
    }
   ],
   "source": [
    "from sklearn.model_selection import RandomizedSearchCV\n",
    "from scipy.stats import reciprocal, uniform\n",
    "\n",
    "svm_model           = svm.SVC()\n",
    "param_distributions = {\"gamma\": reciprocal(0.001, 0.1), \"C\": uniform(1, 10)}\n",
    "rnd_search_cv = RandomizedSearchCV(svm_model, param_distributions, n_iter=10, verbose=2, cv=3)\n",
    "rnd_search_cv.fit(x_train, y_train)\n",
    "print(rnd_search_cv.best_score_)\n",
    "print(rnd_search_cv.best_estimator_)"
   ]
  },
  {
   "cell_type": "code",
   "execution_count": 15,
   "id": "0972a233",
   "metadata": {
    "scrolled": false
   },
   "outputs": [
    {
     "name": "stdout",
     "output_type": "stream",
     "text": [
      "-------------FITTING MODELS-------------\n"
     ]
    },
    {
     "name": "stderr",
     "output_type": "stream",
     "text": [
      "[Parallel(n_jobs=-1)]: Using backend LokyBackend with 12 concurrent workers.\n",
      "[Parallel(n_jobs=-1)]: Done   2 out of   8 | elapsed:    3.8s remaining:   11.5s\n",
      "[Parallel(n_jobs=-1)]: Done   3 out of   8 | elapsed:    3.8s remaining:    6.4s\n",
      "[Parallel(n_jobs=-1)]: Done   4 out of   8 | elapsed:    3.8s remaining:    3.8s\n",
      "[Parallel(n_jobs=-1)]: Done   5 out of   8 | elapsed:    3.8s remaining:    2.2s\n",
      "[Parallel(n_jobs=-1)]: Done   6 out of   8 | elapsed:    3.8s remaining:    1.2s\n",
      "[Parallel(n_jobs=-1)]: Done   8 out of   8 | elapsed:    3.8s remaining:    0.0s\n",
      "[Parallel(n_jobs=-1)]: Done   8 out of   8 | elapsed:    3.8s finished\n",
      "[Parallel(n_jobs=-1)]: Using backend LokyBackend with 12 concurrent workers.\n",
      "[Parallel(n_jobs=-1)]: Done   3 out of   8 | elapsed:    0.0s remaining:    0.0s\n"
     ]
    },
    {
     "name": "stdout",
     "output_type": "stream",
     "text": [
      "-------------SCORING MODELS-------------\n"
     ]
    },
    {
     "name": "stderr",
     "output_type": "stream",
     "text": [
      "[Parallel(n_jobs=-1)]: Done   8 out of   8 | elapsed:    1.9s finished\n"
     ]
    },
    {
     "data": {
      "image/png": "[encoded data removed]",
      "text/plain": [
       "<Figure size 432x432 with 1 Axes>"
      ]
     },
     "metadata": {
      "needs_background": "light"
     },
     "output_type": "display_data"
    },
    {
     "name": "stdout",
     "output_type": "stream",
     "text": [
      "SGDClassifier(alpha=100.0, loss='log', n_jobs=-1) 0.42105263157894735\n"
     ]
    }
   ],
   "source": [
    "from sklearn.model_selection import ParameterGrid\n",
    "from sklearn.linear_model import SGDClassifier\n",
    "from sklearn.metrics import roc_auc_score\n",
    "import parfit.parfit as pf\n",
    "\n",
    "grid = {\n",
    "    'alpha': [1e-4, 1e-3, 1e-2, 1e-1, 1e0, 1e1, 1e2, 1e3], # learning rate\n",
    "    \n",
    "    'loss': ['log'], # logistic regression,\n",
    "    'penalty': ['l2'],\n",
    "    'n_jobs': [-1]\n",
    "}\n",
    "paramGrid = ParameterGrid(grid)\n",
    "\n",
    "bestModel, bestScore, allModels, allScores = pf.bestFit(SGDClassifier, paramGrid,\n",
    "           x_train, y_train, x_test, y_test, \n",
    "           metric = accuracy_score,\n",
    "           scoreLabel = \"Accuracy\")\n",
    "\n",
    "print(bestModel, bestScore)"
   ]
  },
  {
   "cell_type": "code",
   "execution_count": 18,
   "id": "221c7798",
   "metadata": {},
   "outputs": [
    {
     "name": "stdout",
     "output_type": "stream",
     "text": [
      "Best leaf_size: 1\n",
      "Best p: 1\n",
      "Best n_neighbors: 16\n"
     ]
    }
   ],
   "source": [
    "#List Hyperparameters that we want to tune.\n",
    "leaf_size = list(range(1,50))\n",
    "n_neighbors = list(range(1,30))\n",
    "p=[1,2]\n",
    "#Convert to dictionary\n",
    "hyperparameters = dict(leaf_size=leaf_size, n_neighbors=n_neighbors, p=p)\n",
    "#Create new KNN object\n",
    "knn_2 = KNeighborsClassifier()\n",
    "#Use GridSearch\n",
    "clf = GridSearchCV(knn_2, hyperparameters, cv=10)\n",
    "#Fit the model\n",
    "best_model = clf.fit(x_train,y_train)\n",
    "#Print The value of best Hyperparameters\n",
    "print('Best leaf_size:', best_model.best_estimator_.get_params()['leaf_size'])\n",
    "print('Best p:', best_model.best_estimator_.get_params()['p'])\n",
    "print('Best n_neighbors:', best_model.best_estimator_.get_params()['n_neighbors'])"
   ]
  },
  {
   "cell_type": "code",
   "execution_count": null,
   "id": "d512d5d4",
   "metadata": {},
   "outputs": [],
   "source": []
  },
  {
   "cell_type": "code",
   "execution_count": null,
   "id": "004066b0",
   "metadata": {},
   "outputs": [],
   "source": []
  },
  {
   "cell_type": "code",
   "execution_count": null,
   "id": "3ae5e219",
   "metadata": {},
   "outputs": [],
   "source": []
  },
  {
   "cell_type": "code",
   "execution_count": null,
   "id": "92736db3",
   "metadata": {},
   "outputs": [],
   "source": []
  }
 ],
 "metadata": {
  "kernelspec": {
   "display_name": "Python 3 (ipykernel)",
   "language": "python",
   "name": "python3"
  },
  "language_info": {
   "codemirror_mode": {
    "name": "ipython",
    "version": 3
   },
   "file_extension": ".py",
   "mimetype": "text/x-python",
   "name": "python",
   "nbconvert_exporter": "python",
   "pygments_lexer": "ipython3",
   "version": "3.9.7"
  }
 },
 "nbformat": 4,
 "nbformat_minor": 5
}
