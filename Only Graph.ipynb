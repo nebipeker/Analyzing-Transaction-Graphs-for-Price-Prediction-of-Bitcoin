{
 "cells": [
  {
   "cell_type": "code",
   "execution_count": 1,
   "id": "c6dafeff",
   "metadata": {},
   "outputs": [],
   "source": [
    "import numpy as np\n",
    "import networkx as nx\n",
    "import matplotlib.pyplot as plt\n",
    "import pandas as pd"
   ]
  },
  {
   "cell_type": "code",
   "execution_count": 2,
   "id": "a145b30c",
   "metadata": {},
   "outputs": [],
   "source": [
    "G_directed = nx.read_gpickle(\"first_graph_50.gpickle\")\n",
    "G_undirected = G_directed.to_undirected()"
   ]
  },
  {
   "cell_type": "code",
   "execution_count": 3,
   "id": "24f38fa3",
   "metadata": {
    "scrolled": false
   },
   "outputs": [
    {
     "name": "stdout",
     "output_type": "stream",
     "text": [
      "Directed graph number of edges: 49\n",
      "Directed graph number of nodes: 64\n"
     ]
    }
   ],
   "source": [
    "print(\"Directed graph number of edges:\",G_directed.number_of_edges())\n",
    "print(\"Directed graph number of nodes:\",G_directed.number_of_nodes())"
   ]
  },
  {
   "cell_type": "code",
   "execution_count": 4,
   "id": "ebe26d34",
   "metadata": {},
   "outputs": [],
   "source": [
    "def get_edge_attributes(G, name):\n",
    "    # ...\n",
    "    edges = G.edges(data=True)\n",
    "    return dict( (x[:-1], x[-1][name]) for x in edges if name in x[-1] )"
   ]
  },
  {
   "cell_type": "code",
   "execution_count": 5,
   "id": "80fe1a4a",
   "metadata": {},
   "outputs": [
    {
     "data": {
      "text/plain": [
       "{('f4184fc596403b9d638783cf57adfe4c75c605f6356fbc91338530e9831e9e16',\n",
       "  'ea44e97271691990157559d0bdd9959e02790c34db6c006d779e82fa5aee708e'): 10.0,\n",
       " ('f4184fc596403b9d638783cf57adfe4c75c605f6356fbc91338530e9831e9e16',\n",
       "  'a16f3ce4dd5deb92d98ef5cf8afeaf0775ebca408f708b2146c4fb42b41e14be'): 40.0,\n",
       " ('a16f3ce4dd5deb92d98ef5cf8afeaf0775ebca408f708b2146c4fb42b41e14be',\n",
       "  '591e91f809d716912ca1d4a9295e70c3e78bab077683f79350f101da64588073'): 30.0,\n",
       " ('591e91f809d716912ca1d4a9295e70c3e78bab077683f79350f101da64588073',\n",
       "  '298ca2045d174f8a158961806ffc4ef96fad02d71a6b84d9fa0491813a776160'): 1.0,\n",
       " ('591e91f809d716912ca1d4a9295e70c3e78bab077683f79350f101da64588073',\n",
       "  '12b5633bad1f9c167d523ad1aa1947b2732a865bf5414eab2f9e5ae5d5c191ba'): 29.0,\n",
       " ('12b5633bad1f9c167d523ad1aa1947b2732a865bf5414eab2f9e5ae5d5c191ba',\n",
       "  '4385fcf8b14497d0659adccfe06ae7e38e0b5dc95ff8a13d7c62035994a0cd79'): 1.0,\n",
       " ('12b5633bad1f9c167d523ad1aa1947b2732a865bf5414eab2f9e5ae5d5c191ba',\n",
       "  '828ef3b079f9c23829c56fe86e85b4a69d9e06e5b54ea597eef5fb3ffef509fe'): 28.0,\n",
       " ('4385fcf8b14497d0659adccfe06ae7e38e0b5dc95ff8a13d7c62035994a0cd79',\n",
       "  'a3b0e9e7cddbbe78270fa4182a7675ff00b92872d8df7d14265a2b1e379a9d33'): 1.0,\n",
       " ('828ef3b079f9c23829c56fe86e85b4a69d9e06e5b54ea597eef5fb3ffef509fe',\n",
       "  'a3b0e9e7cddbbe78270fa4182a7675ff00b92872d8df7d14265a2b1e379a9d33'): 10.0,\n",
       " ('a3b0e9e7cddbbe78270fa4182a7675ff00b92872d8df7d14265a2b1e379a9d33',\n",
       "  '264299886446921c89e598ec2b1ec3eab6a2c9b0235b310ff513a039315ff721'): 50.0,\n",
       " ('0cc917bf15f8807f224e7524c1eca22c3740ddefb7bf6694f7c2262b490cc706',\n",
       "  'e8160a014fbff8386548f40205d540ef92ce8207ff4ac0446d6e591c6cf28f2c'): 50.0,\n",
       " ('c3f0bb699bcc8a4e0716de45aef74c40aabeb80f7f00b3bdb45e115ee6f5400f',\n",
       "  '4d6edbeb62735d45ff1565385a8b0045f066055c9425e21540ea7a8060f08bf2'): 50.0,\n",
       " ('4d6edbeb62735d45ff1565385a8b0045f066055c9425e21540ea7a8060f08bf2',\n",
       "  '193b51cd0c5a44bf6593e69fea91e9ddd311f610c5c23187552e3347b275b81b'): 50.0,\n",
       " ('4d6edbeb62735d45ff1565385a8b0045f066055c9425e21540ea7a8060f08bf2',\n",
       "  'b6c967d8f3a3d5fe859a12e9f385531655c2c457326845065fc3942da9e19920'): 50.0,\n",
       " ('4d6edbeb62735d45ff1565385a8b0045f066055c9425e21540ea7a8060f08bf2',\n",
       "  'a739f9909bdf50466fd746e42394fada8e245f29e6f5747fca0a70dec470b75f'): 50.0,\n",
       " ('4d6edbeb62735d45ff1565385a8b0045f066055c9425e21540ea7a8060f08bf2',\n",
       "  'd8bb7a39f85135c14c37c8d370c97d642b907a791dd235793061e86e094c8d96'): 50.0,\n",
       " ('00ff9e64c9a2e7793e6f8c2b04072b4b22648cdedd46cd1c3ae3d6a23c8ec1eb',\n",
       "  'd71fd2f64c0b34465b7518d240c00e83f6a5b10138a7079d1252858fe7e6b577'): 50.0,\n",
       " ('d71fd2f64c0b34465b7518d240c00e83f6a5b10138a7079d1252858fe7e6b577',\n",
       "  '35288d269cee1941eaebb2ea85e32b42cdb2b04284a56d8b14dcc3f5c65d6055'): 25.0,\n",
       " ('e7caf9a784751643f7b71881aaf96e2b3e041950b42638b4fcfe82ff57ba260d',\n",
       "  '6bf363548b08aa8761e278be802a2d84b8e40daefe8150f9af7dd7b65a0de49f'): 50.0,\n",
       " ('6a71cea2c4e66ea163932b1ea199c1056f6728f3e1287946ed2a0892b918bf0e',\n",
       "  '59bf8acbc9d60dfae841abecc3882b4181f2bdd8ac6c1d94001165ab3aef50b0'): 50.0,\n",
       " ('59bf8acbc9d60dfae841abecc3882b4181f2bdd8ac6c1d94001165ab3aef50b0',\n",
       "  '9e01daccf3280ab1663fbbb34e7b798acf488d23eb4d60f0176b6c9c86ffcd6b'): 50.0,\n",
       " ('59bf8acbc9d60dfae841abecc3882b4181f2bdd8ac6c1d94001165ab3aef50b0',\n",
       "  'a58181beead631b49c6f87569aa3a1cd516f7019eae250213461a801517625f2'): 50.0,\n",
       " ('04256336e9287f3b46508888cf3539dc0ab2fc8803cbe9668749fd18fc5dee85',\n",
       "  'e36f06a8dfe44c3d64be2d3fe56c77f91f6a39da4a5ffc086ecb5db9664e8583'): 50.0,\n",
       " ('e36f06a8dfe44c3d64be2d3fe56c77f91f6a39da4a5ffc086ecb5db9664e8583',\n",
       "  '90ff15e5a80593977fb2f6666de2860584d39ebc3a41f65a0a1fdc3a851aefda'): 25.0,\n",
       " ('b550304180c25457c810707c5fac13398a8c3abf56871e4cc4e4804336768b5b',\n",
       "  'c445fc181b4570fa107006f31c68132df2df84160f6dc783a21e10f4497e3589'): 50.0,\n",
       " ('c445fc181b4570fa107006f31c68132df2df84160f6dc783a21e10f4497e3589',\n",
       "  'a94ce7bdfc2204c25fbeae8a66a82d6cf5a276f295c9995820f4621c8587022e'): 50.0,\n",
       " ('c445fc181b4570fa107006f31c68132df2df84160f6dc783a21e10f4497e3589',\n",
       "  'af67d4f0e784ad7d7c21cdbe2d501633f97a29b85be75f9a8fdd771cd14f1e53'): 50.0,\n",
       " ('0b086abe2602f870a2d93ed496b0558d5fc349c4504eb0d474cc4ca99b4b1308',\n",
       "  '90ff15e5a80593977fb2f6666de2860584d39ebc3a41f65a0a1fdc3a851aefda'): 50.0,\n",
       " ('90ff15e5a80593977fb2f6666de2860584d39ebc3a41f65a0a1fdc3a851aefda',\n",
       "  '3f5d810e62022ae5c3cd46131a2bc64cf92a5a9b3b9ac316a814bb47507616dc'): 50.0,\n",
       " ('90ff15e5a80593977fb2f6666de2860584d39ebc3a41f65a0a1fdc3a851aefda',\n",
       "  'a32363cff5c5663ee7625ec038d78fedd2060a25782f67d0608b9558dce43963'): 50.0,\n",
       " ('1744372990897f287c453bbfd79017fc88646e0c4a973093b953b34b731785cc',\n",
       "  '2ccc3f59d28c709770a8bc478b112e10feda4bf55197c2e48deaa0eb6bca0311'): 50.0,\n",
       " ('2ccc3f59d28c709770a8bc478b112e10feda4bf55197c2e48deaa0eb6bca0311',\n",
       "  'a320989b6e71abecdf7faaa0e2e8209a71c8826e1733228e43a96cd26f57b1df'): 50.0,\n",
       " ('2ccc3f59d28c709770a8bc478b112e10feda4bf55197c2e48deaa0eb6bca0311',\n",
       "  '9d8b1783a0d985a30201406722871eeb48883a4fb3fa80bb55c06038df8d746c'): 50.0,\n",
       " ('2ccc3f59d28c709770a8bc478b112e10feda4bf55197c2e48deaa0eb6bca0311',\n",
       "  'af5b4c9417d05229355f0a7ca74fdb6f320b2182f61cfd5303c17ef3ef3436bc'): 50.0,\n",
       " ('2ccc3f59d28c709770a8bc478b112e10feda4bf55197c2e48deaa0eb6bca0311',\n",
       "  '52b9d1bd1bda273869d0442d41b3244d45ef7f0a386b313dd56debf9485cb1fa'): 50.0,\n",
       " ('2db69558056d0132d9848851fd20329be9cd590fa5ae2b3c55f58931f42e27f7',\n",
       "  '6f7cf9580f1c2dfb3c4d5d043cdbb128c640e3f20161245aa7372e9666168516'): 50.0,\n",
       " ('6f7cf9580f1c2dfb3c4d5d043cdbb128c640e3f20161245aa7372e9666168516',\n",
       "  'ff3dc8b461305acc5900d31602f2dafebfc406e5b050b14a352294f0965e0bf6'): 50.0,\n",
       " ('729c429213b0de74f61a89ad7da09fc63143e16c7738c1b59130f283e4991dc9',\n",
       "  '8897ea9ceaf18a546cdc513b9179bae31a462ee5bf47818eb7ba909082d11777'): 50.0,\n",
       " ('8897ea9ceaf18a546cdc513b9179bae31a462ee5bf47818eb7ba909082d11777',\n",
       "  '8bea4c52e497aac81f3c6520febe1a2bff73dfa04d89855c32f4f5cd27d564c4'): 50.0,\n",
       " ('8897ea9ceaf18a546cdc513b9179bae31a462ee5bf47818eb7ba909082d11777',\n",
       "  'ad3ad5d08e433103e0be2ca5cf8159eb8d416a37edc45fe0dd9b3bca221ae974'): 50.0,\n",
       " ('8897ea9ceaf18a546cdc513b9179bae31a462ee5bf47818eb7ba909082d11777',\n",
       "  '3e753e2eac1e76a9cee0196ca74d10ba9d2bf687e95bdd244333cddf259ac980'): 50.0,\n",
       " ('8897ea9ceaf18a546cdc513b9179bae31a462ee5bf47818eb7ba909082d11777',\n",
       "  'b88c1cae5976c7f3f88b0e8ca0b23d6f8e44112dd7074d7f3fe01579710ae3be'): 50.0,\n",
       " ('8897ea9ceaf18a546cdc513b9179bae31a462ee5bf47818eb7ba909082d11777',\n",
       "  '3a7d34192888fd742d14184111316f8c1fa503a34c6b2fda82fe61fb51a10381'): 50.0,\n",
       " ('cfbba5a04f23049b63941e3ff5d57aa1431671281f2e3ade1a7050ffdd284377',\n",
       "  '5439c37c4c6dad4ad93b1d5598d57f1aace9d0f68b892236da903b3f136451a1'): 50.0,\n",
       " ('35288d269cee1941eaebb2ea85e32b42cdb2b04284a56d8b14dcc3f5c65d6055',\n",
       "  '28204cad1d7fc1d199e8ef4fa22f182de6258a3eaafe1bbe56ebdcacd3069a5f'): 24.0,\n",
       " ('8ba6531767d5a101fdd84a58025bfd1793fd9191e517db4acb0c49df851a957e',\n",
       "  '3e4cc1f71c998d080528ae305dffcc01419851e0d7b5191edfada9528625bff6'): 50.0,\n",
       " ('93e6ca940b4d5547230df9b9e1ca02408cbaa036ea69c517ad9890f9ddc92369',\n",
       "  '8ed5a0af151cdbc8c0c546cde29334f15b4472bba105394a1221a7f088246846'): 50.0,\n",
       " ('0030800bdbc219ac7089af0798459a209446750f7322a212b496bdfe842184cd',\n",
       "  '4b96658d39f7fd4241442e6dc9877c8ee0fe0d82477e6014e1681d1efe052c8d'): 50.0,\n",
       " ('7cef5389d7cfa7ff8b009eb4c9fb2531e78377dbeba3cc3afc8cc5128fec0e22',\n",
       "  '7f1f0cbd84a06c073c3164b463eda189fe3f98a9744e553380c23e41d6125c60'): 50.0}"
      ]
     },
     "execution_count": 5,
     "metadata": {},
     "output_type": "execute_result"
    }
   ],
   "source": [
    "get_edge_attributes(G_directed,\"amount_bitcoins\")\n",
    "get_edge_attributes(G_undirected,\"amount_bitcoins\")"
   ]
  },
  {
   "cell_type": "code",
   "execution_count": 6,
   "id": "a9bfecb7",
   "metadata": {
    "scrolled": false
   },
   "outputs": [
    {
     "data": {
      "text/plain": [
       "2"
      ]
     },
     "execution_count": 6,
     "metadata": {},
     "output_type": "execute_result"
    }
   ],
   "source": [
    "G_directed.degree['f4184fc596403b9d638783cf57adfe4c75c605f6356fbc91338530e9831e9e16']"
   ]
  },
  {
   "cell_type": "code",
   "execution_count": 7,
   "id": "5c8a4618",
   "metadata": {},
   "outputs": [
    {
     "data": {
      "text/plain": [
       "dict_values([2, 1, 2, 3, 1, 3, 2, 2, 3, 1, 1, 1, 5, 1, 2, 1, 1, 1, 3, 1, 2, 1, 1, 3, 1, 4, 1, 1, 5, 1, 1, 1, 2, 1, 6, 1, 1, 1, 1, 1, 1, 1, 1, 2, 1, 1, 1, 1, 1, 1, 1, 1, 1, 1, 1, 1, 1, 1, 1, 1, 1, 1, 1, 1])"
      ]
     },
     "execution_count": 7,
     "metadata": {},
     "output_type": "execute_result"
    }
   ],
   "source": [
    "x = G_undirected.degree()\n",
    "dict(x).values()"
   ]
  },
  {
   "cell_type": "code",
   "execution_count": 8,
   "id": "bcf3ed87",
   "metadata": {},
   "outputs": [
    {
     "data": {
      "text/plain": [
       "dict_values([2, 1, 2, 3, 1, 3, 2, 2, 3, 1, 1, 1, 5, 1, 2, 1, 1, 1, 3, 1, 2, 1, 1, 3, 1, 4, 1, 1, 5, 1, 1, 1, 2, 1, 6, 1, 1, 1, 1, 1, 1, 1, 1, 2, 1, 1, 1, 1, 1, 1, 1, 1, 1, 1, 1, 1, 1, 1, 1, 1, 1, 1, 1, 1])"
      ]
     },
     "execution_count": 8,
     "metadata": {},
     "output_type": "execute_result"
    }
   ],
   "source": [
    "x = G_directed.degree()\n",
    "dict(x).values()"
   ]
  },
  {
   "cell_type": "code",
   "execution_count": 9,
   "id": "253c0772",
   "metadata": {},
   "outputs": [
    {
     "data": {
      "text/plain": [
       "True"
      ]
     },
     "execution_count": 9,
     "metadata": {},
     "output_type": "execute_result"
    }
   ],
   "source": [
    "a=nx.degree_centrality(G_directed)\n",
    "b=nx.degree_centrality(G_undirected)\n",
    "a==b"
   ]
  },
  {
   "cell_type": "code",
   "execution_count": 10,
   "id": "d2a00573",
   "metadata": {},
   "outputs": [
    {
     "data": {
      "text/plain": [
       "False"
      ]
     },
     "execution_count": 10,
     "metadata": {},
     "output_type": "execute_result"
    }
   ],
   "source": [
    "a = nx.load_centrality(G_undirected)\n",
    "b = nx.load_centrality(G_directed)\n",
    "a==b"
   ]
  },
  {
   "cell_type": "code",
   "execution_count": 11,
   "id": "c1238fef",
   "metadata": {},
   "outputs": [
    {
     "data": {
      "text/plain": [
       "{'f4184fc596403b9d638783cf57adfe4c75c605f6356fbc91338530e9831e9e16': 0.00409626216077829,\n",
       " 'ea44e97271691990157559d0bdd9959e02790c34db6c006d779e82fa5aee708e': 0.0,\n",
       " 'a16f3ce4dd5deb92d98ef5cf8afeaf0775ebca408f708b2146c4fb42b41e14be': 0.007168458781362007,\n",
       " '591e91f809d716912ca1d4a9295e70c3e78bab077683f79350f101da64588073': 0.011776753712237582,\n",
       " '298ca2045d174f8a158961806ffc4ef96fad02d71a6b84d9fa0491813a776160': 0.0,\n",
       " '12b5633bad1f9c167d523ad1aa1947b2732a865bf5414eab2f9e5ae5d5c191ba': 0.010496671786994368,\n",
       " '4385fcf8b14497d0659adccfe06ae7e38e0b5dc95ff8a13d7c62035994a0cd79': 0.0030721966205837174,\n",
       " '828ef3b079f9c23829c56fe86e85b4a69d9e06e5b54ea597eef5fb3ffef509fe': 0.0030721966205837174,\n",
       " 'a3b0e9e7cddbbe78270fa4182a7675ff00b92872d8df7d14265a2b1e379a9d33': 0.004352278545826933,\n",
       " '0cc917bf15f8807f224e7524c1eca22c3740ddefb7bf6694f7c2262b490cc706': 0.0,\n",
       " 'e8160a014fbff8386548f40205d540ef92ce8207ff4ac0446d6e591c6cf28f2c': 0.0,\n",
       " 'c3f0bb699bcc8a4e0716de45aef74c40aabeb80f7f00b3bdb45e115ee6f5400f': 0.0,\n",
       " '4d6edbeb62735d45ff1565385a8b0045f066055c9425e21540ea7a8060f08bf2': 0.005120327700972862,\n",
       " '00ff9e64c9a2e7793e6f8c2b04072b4b22648cdedd46cd1c3ae3d6a23c8ec1eb': 0.0,\n",
       " 'd71fd2f64c0b34465b7518d240c00e83f6a5b10138a7079d1252858fe7e6b577': 0.0010240655401945725,\n",
       " 'e7caf9a784751643f7b71881aaf96e2b3e041950b42638b4fcfe82ff57ba260d': 0.0,\n",
       " '6bf363548b08aa8761e278be802a2d84b8e40daefe8150f9af7dd7b65a0de49f': 0.0,\n",
       " '6a71cea2c4e66ea163932b1ea199c1056f6728f3e1287946ed2a0892b918bf0e': 0.0,\n",
       " '59bf8acbc9d60dfae841abecc3882b4181f2bdd8ac6c1d94001165ab3aef50b0': 0.0015360983102918587,\n",
       " '04256336e9287f3b46508888cf3539dc0ab2fc8803cbe9668749fd18fc5dee85': 0.0,\n",
       " 'e36f06a8dfe44c3d64be2d3fe56c77f91f6a39da4a5ffc086ecb5db9664e8583': 0.002048131080389145,\n",
       " '264299886446921c89e598ec2b1ec3eab6a2c9b0235b310ff513a039315ff721': 0.0,\n",
       " 'b550304180c25457c810707c5fac13398a8c3abf56871e4cc4e4804336768b5b': 0.0,\n",
       " 'c445fc181b4570fa107006f31c68132df2df84160f6dc783a21e10f4497e3589': 0.0015360983102918587,\n",
       " '0b086abe2602f870a2d93ed496b0558d5fc349c4504eb0d474cc4ca99b4b1308': 0.0,\n",
       " '90ff15e5a80593977fb2f6666de2860584d39ebc3a41f65a0a1fdc3a851aefda': 0.004608294930875576,\n",
       " '193b51cd0c5a44bf6593e69fea91e9ddd311f610c5c23187552e3347b275b81b': 0.0,\n",
       " '1744372990897f287c453bbfd79017fc88646e0c4a973093b953b34b731785cc': 0.0,\n",
       " '2ccc3f59d28c709770a8bc478b112e10feda4bf55197c2e48deaa0eb6bca0311': 0.005120327700972862,\n",
       " 'b6c967d8f3a3d5fe859a12e9f385531655c2c457326845065fc3942da9e19920': 0.0,\n",
       " 'a94ce7bdfc2204c25fbeae8a66a82d6cf5a276f295c9995820f4621c8587022e': 0.0,\n",
       " '2db69558056d0132d9848851fd20329be9cd590fa5ae2b3c55f58931f42e27f7': 0.0,\n",
       " '6f7cf9580f1c2dfb3c4d5d043cdbb128c640e3f20161245aa7372e9666168516': 0.0005120327700972862,\n",
       " '729c429213b0de74f61a89ad7da09fc63143e16c7738c1b59130f283e4991dc9': 0.0,\n",
       " '8897ea9ceaf18a546cdc513b9179bae31a462ee5bf47818eb7ba909082d11777': 0.007680491551459293,\n",
       " 'a739f9909bdf50466fd746e42394fada8e245f29e6f5747fca0a70dec470b75f': 0.0,\n",
       " 'd8bb7a39f85135c14c37c8d370c97d642b907a791dd235793061e86e094c8d96': 0.0,\n",
       " '8bea4c52e497aac81f3c6520febe1a2bff73dfa04d89855c32f4f5cd27d564c4': 0.0,\n",
       " 'cfbba5a04f23049b63941e3ff5d57aa1431671281f2e3ade1a7050ffdd284377': 0.0,\n",
       " '5439c37c4c6dad4ad93b1d5598d57f1aace9d0f68b892236da903b3f136451a1': 0.0,\n",
       " 'ff3dc8b461305acc5900d31602f2dafebfc406e5b050b14a352294f0965e0bf6': 0.0,\n",
       " '3f5d810e62022ae5c3cd46131a2bc64cf92a5a9b3b9ac316a814bb47507616dc': 0.0,\n",
       " '9e01daccf3280ab1663fbbb34e7b798acf488d23eb4d60f0176b6c9c86ffcd6b': 0.0,\n",
       " '35288d269cee1941eaebb2ea85e32b42cdb2b04284a56d8b14dcc3f5c65d6055': 0.0010240655401945725,\n",
       " '28204cad1d7fc1d199e8ef4fa22f182de6258a3eaafe1bbe56ebdcacd3069a5f': 0.0,\n",
       " 'ad3ad5d08e433103e0be2ca5cf8159eb8d416a37edc45fe0dd9b3bca221ae974': 0.0,\n",
       " '3e753e2eac1e76a9cee0196ca74d10ba9d2bf687e95bdd244333cddf259ac980': 0.0,\n",
       " 'b88c1cae5976c7f3f88b0e8ca0b23d6f8e44112dd7074d7f3fe01579710ae3be': 0.0,\n",
       " 'a320989b6e71abecdf7faaa0e2e8209a71c8826e1733228e43a96cd26f57b1df': 0.0,\n",
       " 'af67d4f0e784ad7d7c21cdbe2d501633f97a29b85be75f9a8fdd771cd14f1e53': 0.0,\n",
       " '8ba6531767d5a101fdd84a58025bfd1793fd9191e517db4acb0c49df851a957e': 0.0,\n",
       " '3e4cc1f71c998d080528ae305dffcc01419851e0d7b5191edfada9528625bff6': 0.0,\n",
       " '93e6ca940b4d5547230df9b9e1ca02408cbaa036ea69c517ad9890f9ddc92369': 0.0,\n",
       " '8ed5a0af151cdbc8c0c546cde29334f15b4472bba105394a1221a7f088246846': 0.0,\n",
       " '3a7d34192888fd742d14184111316f8c1fa503a34c6b2fda82fe61fb51a10381': 0.0,\n",
       " '9d8b1783a0d985a30201406722871eeb48883a4fb3fa80bb55c06038df8d746c': 0.0,\n",
       " 'a32363cff5c5663ee7625ec038d78fedd2060a25782f67d0608b9558dce43963': 0.0,\n",
       " 'af5b4c9417d05229355f0a7ca74fdb6f320b2182f61cfd5303c17ef3ef3436bc': 0.0,\n",
       " '0030800bdbc219ac7089af0798459a209446750f7322a212b496bdfe842184cd': 0.0,\n",
       " '4b96658d39f7fd4241442e6dc9877c8ee0fe0d82477e6014e1681d1efe052c8d': 0.0,\n",
       " '7cef5389d7cfa7ff8b009eb4c9fb2531e78377dbeba3cc3afc8cc5128fec0e22': 0.0,\n",
       " '7f1f0cbd84a06c073c3164b463eda189fe3f98a9744e553380c23e41d6125c60': 0.0,\n",
       " '52b9d1bd1bda273869d0442d41b3244d45ef7f0a386b313dd56debf9485cb1fa': 0.0,\n",
       " 'a58181beead631b49c6f87569aa3a1cd516f7019eae250213461a801517625f2': 0.0}"
      ]
     },
     "execution_count": 11,
     "metadata": {},
     "output_type": "execute_result"
    }
   ],
   "source": [
    "a"
   ]
  },
  {
   "cell_type": "code",
   "execution_count": 12,
   "id": "73f61d5e",
   "metadata": {},
   "outputs": [
    {
     "data": {
      "text/plain": [
       "{'f4184fc596403b9d638783cf57adfe4c75c605f6356fbc91338530e9831e9e16': 0.0,\n",
       " 'ea44e97271691990157559d0bdd9959e02790c34db6c006d779e82fa5aee708e': 0.0,\n",
       " 'a16f3ce4dd5deb92d98ef5cf8afeaf0775ebca408f708b2146c4fb42b41e14be': 0.0015360983102918587,\n",
       " '591e91f809d716912ca1d4a9295e70c3e78bab077683f79350f101da64588073': 0.002560163850486431,\n",
       " '298ca2045d174f8a158961806ffc4ef96fad02d71a6b84d9fa0491813a776160': 0.0,\n",
       " '12b5633bad1f9c167d523ad1aa1947b2732a865bf5414eab2f9e5ae5d5c191ba': 0.002304147465437788,\n",
       " '4385fcf8b14497d0659adccfe06ae7e38e0b5dc95ff8a13d7c62035994a0cd79': 0.0005120327700972862,\n",
       " '828ef3b079f9c23829c56fe86e85b4a69d9e06e5b54ea597eef5fb3ffef509fe': 0.0005120327700972862,\n",
       " 'a3b0e9e7cddbbe78270fa4182a7675ff00b92872d8df7d14265a2b1e379a9d33': 0.0,\n",
       " '0cc917bf15f8807f224e7524c1eca22c3740ddefb7bf6694f7c2262b490cc706': 0.0,\n",
       " 'e8160a014fbff8386548f40205d540ef92ce8207ff4ac0446d6e591c6cf28f2c': 0.0,\n",
       " 'c3f0bb699bcc8a4e0716de45aef74c40aabeb80f7f00b3bdb45e115ee6f5400f': 0.0,\n",
       " '4d6edbeb62735d45ff1565385a8b0045f066055c9425e21540ea7a8060f08bf2': 0.0,\n",
       " '00ff9e64c9a2e7793e6f8c2b04072b4b22648cdedd46cd1c3ae3d6a23c8ec1eb': 0.0,\n",
       " 'd71fd2f64c0b34465b7518d240c00e83f6a5b10138a7079d1252858fe7e6b577': 0.0005120327700972862,\n",
       " 'e7caf9a784751643f7b71881aaf96e2b3e041950b42638b4fcfe82ff57ba260d': 0.0,\n",
       " '6bf363548b08aa8761e278be802a2d84b8e40daefe8150f9af7dd7b65a0de49f': 0.0,\n",
       " '6a71cea2c4e66ea163932b1ea199c1056f6728f3e1287946ed2a0892b918bf0e': 0.0,\n",
       " '59bf8acbc9d60dfae841abecc3882b4181f2bdd8ac6c1d94001165ab3aef50b0': 0.0,\n",
       " '04256336e9287f3b46508888cf3539dc0ab2fc8803cbe9668749fd18fc5dee85': 0.0,\n",
       " 'e36f06a8dfe44c3d64be2d3fe56c77f91f6a39da4a5ffc086ecb5db9664e8583': 0.0002560163850486431,\n",
       " '264299886446921c89e598ec2b1ec3eab6a2c9b0235b310ff513a039315ff721': 0.0,\n",
       " 'b550304180c25457c810707c5fac13398a8c3abf56871e4cc4e4804336768b5b': 0.0,\n",
       " 'c445fc181b4570fa107006f31c68132df2df84160f6dc783a21e10f4497e3589': 0.0,\n",
       " '0b086abe2602f870a2d93ed496b0558d5fc349c4504eb0d474cc4ca99b4b1308': 0.0,\n",
       " '90ff15e5a80593977fb2f6666de2860584d39ebc3a41f65a0a1fdc3a851aefda': 0.0,\n",
       " '193b51cd0c5a44bf6593e69fea91e9ddd311f610c5c23187552e3347b275b81b': 0.0,\n",
       " '1744372990897f287c453bbfd79017fc88646e0c4a973093b953b34b731785cc': 0.0,\n",
       " '2ccc3f59d28c709770a8bc478b112e10feda4bf55197c2e48deaa0eb6bca0311': 0.0,\n",
       " 'b6c967d8f3a3d5fe859a12e9f385531655c2c457326845065fc3942da9e19920': 0.0,\n",
       " 'a94ce7bdfc2204c25fbeae8a66a82d6cf5a276f295c9995820f4621c8587022e': 0.0,\n",
       " '2db69558056d0132d9848851fd20329be9cd590fa5ae2b3c55f58931f42e27f7': 0.0,\n",
       " '6f7cf9580f1c2dfb3c4d5d043cdbb128c640e3f20161245aa7372e9666168516': 0.0,\n",
       " '729c429213b0de74f61a89ad7da09fc63143e16c7738c1b59130f283e4991dc9': 0.0,\n",
       " '8897ea9ceaf18a546cdc513b9179bae31a462ee5bf47818eb7ba909082d11777': 0.0,\n",
       " 'a739f9909bdf50466fd746e42394fada8e245f29e6f5747fca0a70dec470b75f': 0.0,\n",
       " 'd8bb7a39f85135c14c37c8d370c97d642b907a791dd235793061e86e094c8d96': 0.0,\n",
       " '8bea4c52e497aac81f3c6520febe1a2bff73dfa04d89855c32f4f5cd27d564c4': 0.0,\n",
       " 'cfbba5a04f23049b63941e3ff5d57aa1431671281f2e3ade1a7050ffdd284377': 0.0,\n",
       " '5439c37c4c6dad4ad93b1d5598d57f1aace9d0f68b892236da903b3f136451a1': 0.0,\n",
       " 'ff3dc8b461305acc5900d31602f2dafebfc406e5b050b14a352294f0965e0bf6': 0.0,\n",
       " '3f5d810e62022ae5c3cd46131a2bc64cf92a5a9b3b9ac316a814bb47507616dc': 0.0,\n",
       " '9e01daccf3280ab1663fbbb34e7b798acf488d23eb4d60f0176b6c9c86ffcd6b': 0.0,\n",
       " '35288d269cee1941eaebb2ea85e32b42cdb2b04284a56d8b14dcc3f5c65d6055': 0.0005120327700972862,\n",
       " '28204cad1d7fc1d199e8ef4fa22f182de6258a3eaafe1bbe56ebdcacd3069a5f': 0.0,\n",
       " 'ad3ad5d08e433103e0be2ca5cf8159eb8d416a37edc45fe0dd9b3bca221ae974': 0.0,\n",
       " '3e753e2eac1e76a9cee0196ca74d10ba9d2bf687e95bdd244333cddf259ac980': 0.0,\n",
       " 'b88c1cae5976c7f3f88b0e8ca0b23d6f8e44112dd7074d7f3fe01579710ae3be': 0.0,\n",
       " 'a320989b6e71abecdf7faaa0e2e8209a71c8826e1733228e43a96cd26f57b1df': 0.0,\n",
       " 'af67d4f0e784ad7d7c21cdbe2d501633f97a29b85be75f9a8fdd771cd14f1e53': 0.0,\n",
       " '8ba6531767d5a101fdd84a58025bfd1793fd9191e517db4acb0c49df851a957e': 0.0,\n",
       " '3e4cc1f71c998d080528ae305dffcc01419851e0d7b5191edfada9528625bff6': 0.0,\n",
       " '93e6ca940b4d5547230df9b9e1ca02408cbaa036ea69c517ad9890f9ddc92369': 0.0,\n",
       " '8ed5a0af151cdbc8c0c546cde29334f15b4472bba105394a1221a7f088246846': 0.0,\n",
       " '3a7d34192888fd742d14184111316f8c1fa503a34c6b2fda82fe61fb51a10381': 0.0,\n",
       " '9d8b1783a0d985a30201406722871eeb48883a4fb3fa80bb55c06038df8d746c': 0.0,\n",
       " 'a32363cff5c5663ee7625ec038d78fedd2060a25782f67d0608b9558dce43963': 0.0,\n",
       " 'af5b4c9417d05229355f0a7ca74fdb6f320b2182f61cfd5303c17ef3ef3436bc': 0.0,\n",
       " '0030800bdbc219ac7089af0798459a209446750f7322a212b496bdfe842184cd': 0.0,\n",
       " '4b96658d39f7fd4241442e6dc9877c8ee0fe0d82477e6014e1681d1efe052c8d': 0.0,\n",
       " '7cef5389d7cfa7ff8b009eb4c9fb2531e78377dbeba3cc3afc8cc5128fec0e22': 0.0,\n",
       " '7f1f0cbd84a06c073c3164b463eda189fe3f98a9744e553380c23e41d6125c60': 0.0,\n",
       " '52b9d1bd1bda273869d0442d41b3244d45ef7f0a386b313dd56debf9485cb1fa': 0.0,\n",
       " 'a58181beead631b49c6f87569aa3a1cd516f7019eae250213461a801517625f2': 0.0}"
      ]
     },
     "execution_count": 12,
     "metadata": {},
     "output_type": "execute_result"
    }
   ],
   "source": [
    "b"
   ]
  },
  {
   "cell_type": "code",
   "execution_count": 13,
   "id": "d3cfc7c0",
   "metadata": {},
   "outputs": [
    {
     "data": {
      "text/plain": [
       "False"
      ]
     },
     "execution_count": 13,
     "metadata": {},
     "output_type": "execute_result"
    }
   ],
   "source": [
    "a = nx.betweenness_centrality(G_directed)\n",
    "b = nx.betweenness_centrality(G_undirected)\n",
    "a == b"
   ]
  },
  {
   "cell_type": "code",
   "execution_count": 14,
   "id": "dc1c7982",
   "metadata": {},
   "outputs": [
    {
     "data": {
      "text/plain": [
       "{'f4184fc596403b9d638783cf57adfe4c75c605f6356fbc91338530e9831e9e16': 0.0,\n",
       " 'ea44e97271691990157559d0bdd9959e02790c34db6c006d779e82fa5aee708e': 0.0,\n",
       " 'a16f3ce4dd5deb92d98ef5cf8afeaf0775ebca408f708b2146c4fb42b41e14be': 0.0015360983102918587,\n",
       " '591e91f809d716912ca1d4a9295e70c3e78bab077683f79350f101da64588073': 0.002560163850486431,\n",
       " '298ca2045d174f8a158961806ffc4ef96fad02d71a6b84d9fa0491813a776160': 0.0,\n",
       " '12b5633bad1f9c167d523ad1aa1947b2732a865bf5414eab2f9e5ae5d5c191ba': 0.002304147465437788,\n",
       " '4385fcf8b14497d0659adccfe06ae7e38e0b5dc95ff8a13d7c62035994a0cd79': 0.0005120327700972862,\n",
       " '828ef3b079f9c23829c56fe86e85b4a69d9e06e5b54ea597eef5fb3ffef509fe': 0.0005120327700972862,\n",
       " 'a3b0e9e7cddbbe78270fa4182a7675ff00b92872d8df7d14265a2b1e379a9d33': 0.0,\n",
       " '0cc917bf15f8807f224e7524c1eca22c3740ddefb7bf6694f7c2262b490cc706': 0.0,\n",
       " 'e8160a014fbff8386548f40205d540ef92ce8207ff4ac0446d6e591c6cf28f2c': 0.0,\n",
       " 'c3f0bb699bcc8a4e0716de45aef74c40aabeb80f7f00b3bdb45e115ee6f5400f': 0.0,\n",
       " '4d6edbeb62735d45ff1565385a8b0045f066055c9425e21540ea7a8060f08bf2': 0.0,\n",
       " '00ff9e64c9a2e7793e6f8c2b04072b4b22648cdedd46cd1c3ae3d6a23c8ec1eb': 0.0,\n",
       " 'd71fd2f64c0b34465b7518d240c00e83f6a5b10138a7079d1252858fe7e6b577': 0.0005120327700972862,\n",
       " 'e7caf9a784751643f7b71881aaf96e2b3e041950b42638b4fcfe82ff57ba260d': 0.0,\n",
       " '6bf363548b08aa8761e278be802a2d84b8e40daefe8150f9af7dd7b65a0de49f': 0.0,\n",
       " '6a71cea2c4e66ea163932b1ea199c1056f6728f3e1287946ed2a0892b918bf0e': 0.0,\n",
       " '59bf8acbc9d60dfae841abecc3882b4181f2bdd8ac6c1d94001165ab3aef50b0': 0.0,\n",
       " '04256336e9287f3b46508888cf3539dc0ab2fc8803cbe9668749fd18fc5dee85': 0.0,\n",
       " 'e36f06a8dfe44c3d64be2d3fe56c77f91f6a39da4a5ffc086ecb5db9664e8583': 0.0002560163850486431,\n",
       " '264299886446921c89e598ec2b1ec3eab6a2c9b0235b310ff513a039315ff721': 0.0,\n",
       " 'b550304180c25457c810707c5fac13398a8c3abf56871e4cc4e4804336768b5b': 0.0,\n",
       " 'c445fc181b4570fa107006f31c68132df2df84160f6dc783a21e10f4497e3589': 0.0,\n",
       " '0b086abe2602f870a2d93ed496b0558d5fc349c4504eb0d474cc4ca99b4b1308': 0.0,\n",
       " '90ff15e5a80593977fb2f6666de2860584d39ebc3a41f65a0a1fdc3a851aefda': 0.0,\n",
       " '193b51cd0c5a44bf6593e69fea91e9ddd311f610c5c23187552e3347b275b81b': 0.0,\n",
       " '1744372990897f287c453bbfd79017fc88646e0c4a973093b953b34b731785cc': 0.0,\n",
       " '2ccc3f59d28c709770a8bc478b112e10feda4bf55197c2e48deaa0eb6bca0311': 0.0,\n",
       " 'b6c967d8f3a3d5fe859a12e9f385531655c2c457326845065fc3942da9e19920': 0.0,\n",
       " 'a94ce7bdfc2204c25fbeae8a66a82d6cf5a276f295c9995820f4621c8587022e': 0.0,\n",
       " '2db69558056d0132d9848851fd20329be9cd590fa5ae2b3c55f58931f42e27f7': 0.0,\n",
       " '6f7cf9580f1c2dfb3c4d5d043cdbb128c640e3f20161245aa7372e9666168516': 0.0,\n",
       " '729c429213b0de74f61a89ad7da09fc63143e16c7738c1b59130f283e4991dc9': 0.0,\n",
       " '8897ea9ceaf18a546cdc513b9179bae31a462ee5bf47818eb7ba909082d11777': 0.0,\n",
       " 'a739f9909bdf50466fd746e42394fada8e245f29e6f5747fca0a70dec470b75f': 0.0,\n",
       " 'd8bb7a39f85135c14c37c8d370c97d642b907a791dd235793061e86e094c8d96': 0.0,\n",
       " '8bea4c52e497aac81f3c6520febe1a2bff73dfa04d89855c32f4f5cd27d564c4': 0.0,\n",
       " 'cfbba5a04f23049b63941e3ff5d57aa1431671281f2e3ade1a7050ffdd284377': 0.0,\n",
       " '5439c37c4c6dad4ad93b1d5598d57f1aace9d0f68b892236da903b3f136451a1': 0.0,\n",
       " 'ff3dc8b461305acc5900d31602f2dafebfc406e5b050b14a352294f0965e0bf6': 0.0,\n",
       " '3f5d810e62022ae5c3cd46131a2bc64cf92a5a9b3b9ac316a814bb47507616dc': 0.0,\n",
       " '9e01daccf3280ab1663fbbb34e7b798acf488d23eb4d60f0176b6c9c86ffcd6b': 0.0,\n",
       " '35288d269cee1941eaebb2ea85e32b42cdb2b04284a56d8b14dcc3f5c65d6055': 0.0005120327700972862,\n",
       " '28204cad1d7fc1d199e8ef4fa22f182de6258a3eaafe1bbe56ebdcacd3069a5f': 0.0,\n",
       " 'ad3ad5d08e433103e0be2ca5cf8159eb8d416a37edc45fe0dd9b3bca221ae974': 0.0,\n",
       " '3e753e2eac1e76a9cee0196ca74d10ba9d2bf687e95bdd244333cddf259ac980': 0.0,\n",
       " 'b88c1cae5976c7f3f88b0e8ca0b23d6f8e44112dd7074d7f3fe01579710ae3be': 0.0,\n",
       " 'a320989b6e71abecdf7faaa0e2e8209a71c8826e1733228e43a96cd26f57b1df': 0.0,\n",
       " 'af67d4f0e784ad7d7c21cdbe2d501633f97a29b85be75f9a8fdd771cd14f1e53': 0.0,\n",
       " '8ba6531767d5a101fdd84a58025bfd1793fd9191e517db4acb0c49df851a957e': 0.0,\n",
       " '3e4cc1f71c998d080528ae305dffcc01419851e0d7b5191edfada9528625bff6': 0.0,\n",
       " '93e6ca940b4d5547230df9b9e1ca02408cbaa036ea69c517ad9890f9ddc92369': 0.0,\n",
       " '8ed5a0af151cdbc8c0c546cde29334f15b4472bba105394a1221a7f088246846': 0.0,\n",
       " '3a7d34192888fd742d14184111316f8c1fa503a34c6b2fda82fe61fb51a10381': 0.0,\n",
       " '9d8b1783a0d985a30201406722871eeb48883a4fb3fa80bb55c06038df8d746c': 0.0,\n",
       " 'a32363cff5c5663ee7625ec038d78fedd2060a25782f67d0608b9558dce43963': 0.0,\n",
       " 'af5b4c9417d05229355f0a7ca74fdb6f320b2182f61cfd5303c17ef3ef3436bc': 0.0,\n",
       " '0030800bdbc219ac7089af0798459a209446750f7322a212b496bdfe842184cd': 0.0,\n",
       " '4b96658d39f7fd4241442e6dc9877c8ee0fe0d82477e6014e1681d1efe052c8d': 0.0,\n",
       " '7cef5389d7cfa7ff8b009eb4c9fb2531e78377dbeba3cc3afc8cc5128fec0e22': 0.0,\n",
       " '7f1f0cbd84a06c073c3164b463eda189fe3f98a9744e553380c23e41d6125c60': 0.0,\n",
       " '52b9d1bd1bda273869d0442d41b3244d45ef7f0a386b313dd56debf9485cb1fa': 0.0,\n",
       " 'a58181beead631b49c6f87569aa3a1cd516f7019eae250213461a801517625f2': 0.0}"
      ]
     },
     "execution_count": 14,
     "metadata": {},
     "output_type": "execute_result"
    }
   ],
   "source": [
    "a"
   ]
  },
  {
   "cell_type": "code",
   "execution_count": 15,
   "id": "8150983d",
   "metadata": {},
   "outputs": [
    {
     "data": {
      "text/plain": [
       "{'f4184fc596403b9d638783cf57adfe4c75c605f6356fbc91338530e9831e9e16': 0.00409626216077829,\n",
       " 'ea44e97271691990157559d0bdd9959e02790c34db6c006d779e82fa5aee708e': 0.0,\n",
       " 'a16f3ce4dd5deb92d98ef5cf8afeaf0775ebca408f708b2146c4fb42b41e14be': 0.007168458781362007,\n",
       " '591e91f809d716912ca1d4a9295e70c3e78bab077683f79350f101da64588073': 0.011776753712237582,\n",
       " '298ca2045d174f8a158961806ffc4ef96fad02d71a6b84d9fa0491813a776160': 0.0,\n",
       " '12b5633bad1f9c167d523ad1aa1947b2732a865bf5414eab2f9e5ae5d5c191ba': 0.010496671786994368,\n",
       " '4385fcf8b14497d0659adccfe06ae7e38e0b5dc95ff8a13d7c62035994a0cd79': 0.0030721966205837174,\n",
       " '828ef3b079f9c23829c56fe86e85b4a69d9e06e5b54ea597eef5fb3ffef509fe': 0.0030721966205837174,\n",
       " 'a3b0e9e7cddbbe78270fa4182a7675ff00b92872d8df7d14265a2b1e379a9d33': 0.004352278545826933,\n",
       " '0cc917bf15f8807f224e7524c1eca22c3740ddefb7bf6694f7c2262b490cc706': 0.0,\n",
       " 'e8160a014fbff8386548f40205d540ef92ce8207ff4ac0446d6e591c6cf28f2c': 0.0,\n",
       " 'c3f0bb699bcc8a4e0716de45aef74c40aabeb80f7f00b3bdb45e115ee6f5400f': 0.0,\n",
       " '4d6edbeb62735d45ff1565385a8b0045f066055c9425e21540ea7a8060f08bf2': 0.005120327700972862,\n",
       " '00ff9e64c9a2e7793e6f8c2b04072b4b22648cdedd46cd1c3ae3d6a23c8ec1eb': 0.0,\n",
       " 'd71fd2f64c0b34465b7518d240c00e83f6a5b10138a7079d1252858fe7e6b577': 0.0010240655401945725,\n",
       " 'e7caf9a784751643f7b71881aaf96e2b3e041950b42638b4fcfe82ff57ba260d': 0.0,\n",
       " '6bf363548b08aa8761e278be802a2d84b8e40daefe8150f9af7dd7b65a0de49f': 0.0,\n",
       " '6a71cea2c4e66ea163932b1ea199c1056f6728f3e1287946ed2a0892b918bf0e': 0.0,\n",
       " '59bf8acbc9d60dfae841abecc3882b4181f2bdd8ac6c1d94001165ab3aef50b0': 0.0015360983102918587,\n",
       " '04256336e9287f3b46508888cf3539dc0ab2fc8803cbe9668749fd18fc5dee85': 0.0,\n",
       " 'e36f06a8dfe44c3d64be2d3fe56c77f91f6a39da4a5ffc086ecb5db9664e8583': 0.002048131080389145,\n",
       " '264299886446921c89e598ec2b1ec3eab6a2c9b0235b310ff513a039315ff721': 0.0,\n",
       " 'b550304180c25457c810707c5fac13398a8c3abf56871e4cc4e4804336768b5b': 0.0,\n",
       " 'c445fc181b4570fa107006f31c68132df2df84160f6dc783a21e10f4497e3589': 0.0015360983102918587,\n",
       " '0b086abe2602f870a2d93ed496b0558d5fc349c4504eb0d474cc4ca99b4b1308': 0.0,\n",
       " '90ff15e5a80593977fb2f6666de2860584d39ebc3a41f65a0a1fdc3a851aefda': 0.004608294930875576,\n",
       " '193b51cd0c5a44bf6593e69fea91e9ddd311f610c5c23187552e3347b275b81b': 0.0,\n",
       " '1744372990897f287c453bbfd79017fc88646e0c4a973093b953b34b731785cc': 0.0,\n",
       " '2ccc3f59d28c709770a8bc478b112e10feda4bf55197c2e48deaa0eb6bca0311': 0.005120327700972862,\n",
       " 'b6c967d8f3a3d5fe859a12e9f385531655c2c457326845065fc3942da9e19920': 0.0,\n",
       " 'a94ce7bdfc2204c25fbeae8a66a82d6cf5a276f295c9995820f4621c8587022e': 0.0,\n",
       " '2db69558056d0132d9848851fd20329be9cd590fa5ae2b3c55f58931f42e27f7': 0.0,\n",
       " '6f7cf9580f1c2dfb3c4d5d043cdbb128c640e3f20161245aa7372e9666168516': 0.0005120327700972862,\n",
       " '729c429213b0de74f61a89ad7da09fc63143e16c7738c1b59130f283e4991dc9': 0.0,\n",
       " '8897ea9ceaf18a546cdc513b9179bae31a462ee5bf47818eb7ba909082d11777': 0.007680491551459293,\n",
       " 'a739f9909bdf50466fd746e42394fada8e245f29e6f5747fca0a70dec470b75f': 0.0,\n",
       " 'd8bb7a39f85135c14c37c8d370c97d642b907a791dd235793061e86e094c8d96': 0.0,\n",
       " '8bea4c52e497aac81f3c6520febe1a2bff73dfa04d89855c32f4f5cd27d564c4': 0.0,\n",
       " 'cfbba5a04f23049b63941e3ff5d57aa1431671281f2e3ade1a7050ffdd284377': 0.0,\n",
       " '5439c37c4c6dad4ad93b1d5598d57f1aace9d0f68b892236da903b3f136451a1': 0.0,\n",
       " 'ff3dc8b461305acc5900d31602f2dafebfc406e5b050b14a352294f0965e0bf6': 0.0,\n",
       " '3f5d810e62022ae5c3cd46131a2bc64cf92a5a9b3b9ac316a814bb47507616dc': 0.0,\n",
       " '9e01daccf3280ab1663fbbb34e7b798acf488d23eb4d60f0176b6c9c86ffcd6b': 0.0,\n",
       " '35288d269cee1941eaebb2ea85e32b42cdb2b04284a56d8b14dcc3f5c65d6055': 0.0010240655401945725,\n",
       " '28204cad1d7fc1d199e8ef4fa22f182de6258a3eaafe1bbe56ebdcacd3069a5f': 0.0,\n",
       " 'ad3ad5d08e433103e0be2ca5cf8159eb8d416a37edc45fe0dd9b3bca221ae974': 0.0,\n",
       " '3e753e2eac1e76a9cee0196ca74d10ba9d2bf687e95bdd244333cddf259ac980': 0.0,\n",
       " 'b88c1cae5976c7f3f88b0e8ca0b23d6f8e44112dd7074d7f3fe01579710ae3be': 0.0,\n",
       " 'a320989b6e71abecdf7faaa0e2e8209a71c8826e1733228e43a96cd26f57b1df': 0.0,\n",
       " 'af67d4f0e784ad7d7c21cdbe2d501633f97a29b85be75f9a8fdd771cd14f1e53': 0.0,\n",
       " '8ba6531767d5a101fdd84a58025bfd1793fd9191e517db4acb0c49df851a957e': 0.0,\n",
       " '3e4cc1f71c998d080528ae305dffcc01419851e0d7b5191edfada9528625bff6': 0.0,\n",
       " '93e6ca940b4d5547230df9b9e1ca02408cbaa036ea69c517ad9890f9ddc92369': 0.0,\n",
       " '8ed5a0af151cdbc8c0c546cde29334f15b4472bba105394a1221a7f088246846': 0.0,\n",
       " '3a7d34192888fd742d14184111316f8c1fa503a34c6b2fda82fe61fb51a10381': 0.0,\n",
       " '9d8b1783a0d985a30201406722871eeb48883a4fb3fa80bb55c06038df8d746c': 0.0,\n",
       " 'a32363cff5c5663ee7625ec038d78fedd2060a25782f67d0608b9558dce43963': 0.0,\n",
       " 'af5b4c9417d05229355f0a7ca74fdb6f320b2182f61cfd5303c17ef3ef3436bc': 0.0,\n",
       " '0030800bdbc219ac7089af0798459a209446750f7322a212b496bdfe842184cd': 0.0,\n",
       " '4b96658d39f7fd4241442e6dc9877c8ee0fe0d82477e6014e1681d1efe052c8d': 0.0,\n",
       " '7cef5389d7cfa7ff8b009eb4c9fb2531e78377dbeba3cc3afc8cc5128fec0e22': 0.0,\n",
       " '7f1f0cbd84a06c073c3164b463eda189fe3f98a9744e553380c23e41d6125c60': 0.0,\n",
       " '52b9d1bd1bda273869d0442d41b3244d45ef7f0a386b313dd56debf9485cb1fa': 0.0,\n",
       " 'a58181beead631b49c6f87569aa3a1cd516f7019eae250213461a801517625f2': 0.0}"
      ]
     },
     "execution_count": 15,
     "metadata": {},
     "output_type": "execute_result"
    }
   ],
   "source": [
    "b"
   ]
  },
  {
   "cell_type": "code",
   "execution_count": 16,
   "id": "3f0723db",
   "metadata": {},
   "outputs": [
    {
     "data": {
      "text/plain": [
       "['8897ea9ceaf18a546cdc513b9179bae31a462ee5bf47818eb7ba909082d11777',\n",
       " '4d6edbeb62735d45ff1565385a8b0045f066055c9425e21540ea7a8060f08bf2',\n",
       " '2ccc3f59d28c709770a8bc478b112e10feda4bf55197c2e48deaa0eb6bca0311',\n",
       " '90ff15e5a80593977fb2f6666de2860584d39ebc3a41f65a0a1fdc3a851aefda',\n",
       " '591e91f809d716912ca1d4a9295e70c3e78bab077683f79350f101da64588073',\n",
       " 'a3b0e9e7cddbbe78270fa4182a7675ff00b92872d8df7d14265a2b1e379a9d33',\n",
       " '59bf8acbc9d60dfae841abecc3882b4181f2bdd8ac6c1d94001165ab3aef50b0',\n",
       " 'c445fc181b4570fa107006f31c68132df2df84160f6dc783a21e10f4497e3589',\n",
       " 'd71fd2f64c0b34465b7518d240c00e83f6a5b10138a7079d1252858fe7e6b577',\n",
       " '6f7cf9580f1c2dfb3c4d5d043cdbb128c640e3f20161245aa7372e9666168516',\n",
       " 'f4184fc596403b9d638783cf57adfe4c75c605f6356fbc91338530e9831e9e16',\n",
       " '0cc917bf15f8807f224e7524c1eca22c3740ddefb7bf6694f7c2262b490cc706',\n",
       " 'e7caf9a784751643f7b71881aaf96e2b3e041950b42638b4fcfe82ff57ba260d',\n",
       " 'e36f06a8dfe44c3d64be2d3fe56c77f91f6a39da4a5ffc086ecb5db9664e8583',\n",
       " 'cfbba5a04f23049b63941e3ff5d57aa1431671281f2e3ade1a7050ffdd284377',\n",
       " '35288d269cee1941eaebb2ea85e32b42cdb2b04284a56d8b14dcc3f5c65d6055',\n",
       " '8ba6531767d5a101fdd84a58025bfd1793fd9191e517db4acb0c49df851a957e',\n",
       " '93e6ca940b4d5547230df9b9e1ca02408cbaa036ea69c517ad9890f9ddc92369',\n",
       " '0030800bdbc219ac7089af0798459a209446750f7322a212b496bdfe842184cd',\n",
       " '7cef5389d7cfa7ff8b009eb4c9fb2531e78377dbeba3cc3afc8cc5128fec0e22',\n",
       " '12b5633bad1f9c167d523ad1aa1947b2732a865bf5414eab2f9e5ae5d5c191ba']"
      ]
     },
     "execution_count": 16,
     "metadata": {},
     "output_type": "execute_result"
    }
   ],
   "source": [
    "nx.voterank(G_undirected)"
   ]
  },
  {
   "cell_type": "code",
   "execution_count": 17,
   "id": "75189e42",
   "metadata": {},
   "outputs": [
    {
     "data": {
      "text/plain": [
       "['f4184fc596403b9d638783cf57adfe4c75c605f6356fbc91338530e9831e9e16',\n",
       " '591e91f809d716912ca1d4a9295e70c3e78bab077683f79350f101da64588073',\n",
       " '12b5633bad1f9c167d523ad1aa1947b2732a865bf5414eab2f9e5ae5d5c191ba',\n",
       " '4385fcf8b14497d0659adccfe06ae7e38e0b5dc95ff8a13d7c62035994a0cd79',\n",
       " '0cc917bf15f8807f224e7524c1eca22c3740ddefb7bf6694f7c2262b490cc706',\n",
       " 'c3f0bb699bcc8a4e0716de45aef74c40aabeb80f7f00b3bdb45e115ee6f5400f',\n",
       " '00ff9e64c9a2e7793e6f8c2b04072b4b22648cdedd46cd1c3ae3d6a23c8ec1eb',\n",
       " 'd71fd2f64c0b34465b7518d240c00e83f6a5b10138a7079d1252858fe7e6b577',\n",
       " 'e7caf9a784751643f7b71881aaf96e2b3e041950b42638b4fcfe82ff57ba260d',\n",
       " '6a71cea2c4e66ea163932b1ea199c1056f6728f3e1287946ed2a0892b918bf0e',\n",
       " '04256336e9287f3b46508888cf3539dc0ab2fc8803cbe9668749fd18fc5dee85',\n",
       " 'e36f06a8dfe44c3d64be2d3fe56c77f91f6a39da4a5ffc086ecb5db9664e8583',\n",
       " 'b550304180c25457c810707c5fac13398a8c3abf56871e4cc4e4804336768b5b',\n",
       " '1744372990897f287c453bbfd79017fc88646e0c4a973093b953b34b731785cc',\n",
       " '2db69558056d0132d9848851fd20329be9cd590fa5ae2b3c55f58931f42e27f7',\n",
       " '729c429213b0de74f61a89ad7da09fc63143e16c7738c1b59130f283e4991dc9',\n",
       " 'cfbba5a04f23049b63941e3ff5d57aa1431671281f2e3ade1a7050ffdd284377',\n",
       " '35288d269cee1941eaebb2ea85e32b42cdb2b04284a56d8b14dcc3f5c65d6055',\n",
       " '8ba6531767d5a101fdd84a58025bfd1793fd9191e517db4acb0c49df851a957e',\n",
       " '93e6ca940b4d5547230df9b9e1ca02408cbaa036ea69c517ad9890f9ddc92369',\n",
       " '0030800bdbc219ac7089af0798459a209446750f7322a212b496bdfe842184cd',\n",
       " '7cef5389d7cfa7ff8b009eb4c9fb2531e78377dbeba3cc3afc8cc5128fec0e22']"
      ]
     },
     "execution_count": 17,
     "metadata": {},
     "output_type": "execute_result"
    }
   ],
   "source": [
    "nx.voterank(G_directed)"
   ]
  },
  {
   "cell_type": "code",
   "execution_count": 18,
   "id": "cc83aa0c",
   "metadata": {},
   "outputs": [],
   "source": [
    "#nx.maximum_flow(G_directed,G_directed.nodes[0],G_directed.nodes[-1])"
   ]
  },
  {
   "cell_type": "code",
   "execution_count": 19,
   "id": "386ce664",
   "metadata": {},
   "outputs": [],
   "source": [
    "#nx.all_shortest_paths() #asks for source and target"
   ]
  },
  {
   "cell_type": "code",
   "execution_count": 20,
   "id": "56559d49",
   "metadata": {},
   "outputs": [
    {
     "data": {
      "text/plain": [
       "{'f4184fc596403b9d638783cf57adfe4c75c605f6356fbc91338530e9831e9e16': 0.0,\n",
       " 'ea44e97271691990157559d0bdd9959e02790c34db6c006d779e82fa5aee708e': 0.015873015873015872,\n",
       " 'a16f3ce4dd5deb92d98ef5cf8afeaf0775ebca408f708b2146c4fb42b41e14be': 0.015873015873015872,\n",
       " '591e91f809d716912ca1d4a9295e70c3e78bab077683f79350f101da64588073': 0.021164021164021163,\n",
       " '298ca2045d174f8a158961806ffc4ef96fad02d71a6b84d9fa0491813a776160': 0.023809523809523808,\n",
       " '12b5633bad1f9c167d523ad1aa1947b2732a865bf5414eab2f9e5ae5d5c191ba': 0.023809523809523808,\n",
       " '4385fcf8b14497d0659adccfe06ae7e38e0b5dc95ff8a13d7c62035994a0cd79': 0.025396825396825397,\n",
       " '828ef3b079f9c23829c56fe86e85b4a69d9e06e5b54ea597eef5fb3ffef509fe': 0.025396825396825397,\n",
       " 'a3b0e9e7cddbbe78270fa4182a7675ff00b92872d8df7d14265a2b1e379a9d33': 0.0457516339869281,\n",
       " '0cc917bf15f8807f224e7524c1eca22c3740ddefb7bf6694f7c2262b490cc706': 0.0,\n",
       " 'e8160a014fbff8386548f40205d540ef92ce8207ff4ac0446d6e591c6cf28f2c': 0.015873015873015872,\n",
       " 'c3f0bb699bcc8a4e0716de45aef74c40aabeb80f7f00b3bdb45e115ee6f5400f': 0.0,\n",
       " '4d6edbeb62735d45ff1565385a8b0045f066055c9425e21540ea7a8060f08bf2': 0.07936507936507936,\n",
       " '00ff9e64c9a2e7793e6f8c2b04072b4b22648cdedd46cd1c3ae3d6a23c8ec1eb': 0.0,\n",
       " 'd71fd2f64c0b34465b7518d240c00e83f6a5b10138a7079d1252858fe7e6b577': 0.015873015873015872,\n",
       " 'e7caf9a784751643f7b71881aaf96e2b3e041950b42638b4fcfe82ff57ba260d': 0.0,\n",
       " '6bf363548b08aa8761e278be802a2d84b8e40daefe8150f9af7dd7b65a0de49f': 0.015873015873015872,\n",
       " '6a71cea2c4e66ea163932b1ea199c1056f6728f3e1287946ed2a0892b918bf0e': 0.0,\n",
       " '59bf8acbc9d60dfae841abecc3882b4181f2bdd8ac6c1d94001165ab3aef50b0': 0.047619047619047616,\n",
       " '04256336e9287f3b46508888cf3539dc0ab2fc8803cbe9668749fd18fc5dee85': 0.0,\n",
       " 'e36f06a8dfe44c3d64be2d3fe56c77f91f6a39da4a5ffc086ecb5db9664e8583': 0.015873015873015872,\n",
       " '264299886446921c89e598ec2b1ec3eab6a2c9b0235b310ff513a039315ff721': 0.0,\n",
       " 'b550304180c25457c810707c5fac13398a8c3abf56871e4cc4e4804336768b5b': 0.0,\n",
       " 'c445fc181b4570fa107006f31c68132df2df84160f6dc783a21e10f4497e3589': 0.047619047619047616,\n",
       " '0b086abe2602f870a2d93ed496b0558d5fc349c4504eb0d474cc4ca99b4b1308': 0.0,\n",
       " '90ff15e5a80593977fb2f6666de2860584d39ebc3a41f65a0a1fdc3a851aefda': 0.06613756613756613,\n",
       " '193b51cd0c5a44bf6593e69fea91e9ddd311f610c5c23187552e3347b275b81b': 0.0,\n",
       " '1744372990897f287c453bbfd79017fc88646e0c4a973093b953b34b731785cc': 0.0,\n",
       " '2ccc3f59d28c709770a8bc478b112e10feda4bf55197c2e48deaa0eb6bca0311': 0.07936507936507936,\n",
       " 'b6c967d8f3a3d5fe859a12e9f385531655c2c457326845065fc3942da9e19920': 0.0,\n",
       " 'a94ce7bdfc2204c25fbeae8a66a82d6cf5a276f295c9995820f4621c8587022e': 0.0,\n",
       " '2db69558056d0132d9848851fd20329be9cd590fa5ae2b3c55f58931f42e27f7': 0.0,\n",
       " '6f7cf9580f1c2dfb3c4d5d043cdbb128c640e3f20161245aa7372e9666168516': 0.031746031746031744,\n",
       " '729c429213b0de74f61a89ad7da09fc63143e16c7738c1b59130f283e4991dc9': 0.0,\n",
       " '8897ea9ceaf18a546cdc513b9179bae31a462ee5bf47818eb7ba909082d11777': 0.09523809523809523,\n",
       " 'a739f9909bdf50466fd746e42394fada8e245f29e6f5747fca0a70dec470b75f': 0.0,\n",
       " 'd8bb7a39f85135c14c37c8d370c97d642b907a791dd235793061e86e094c8d96': 0.0,\n",
       " '8bea4c52e497aac81f3c6520febe1a2bff73dfa04d89855c32f4f5cd27d564c4': 0.0,\n",
       " 'cfbba5a04f23049b63941e3ff5d57aa1431671281f2e3ade1a7050ffdd284377': 0.0,\n",
       " '5439c37c4c6dad4ad93b1d5598d57f1aace9d0f68b892236da903b3f136451a1': 0.015873015873015872,\n",
       " 'ff3dc8b461305acc5900d31602f2dafebfc406e5b050b14a352294f0965e0bf6': 0.0,\n",
       " '3f5d810e62022ae5c3cd46131a2bc64cf92a5a9b3b9ac316a814bb47507616dc': 0.0,\n",
       " '9e01daccf3280ab1663fbbb34e7b798acf488d23eb4d60f0176b6c9c86ffcd6b': 0.0,\n",
       " '35288d269cee1941eaebb2ea85e32b42cdb2b04284a56d8b14dcc3f5c65d6055': 0.021164021164021163,\n",
       " '28204cad1d7fc1d199e8ef4fa22f182de6258a3eaafe1bbe56ebdcacd3069a5f': 0.023809523809523808,\n",
       " 'ad3ad5d08e433103e0be2ca5cf8159eb8d416a37edc45fe0dd9b3bca221ae974': 0.0,\n",
       " '3e753e2eac1e76a9cee0196ca74d10ba9d2bf687e95bdd244333cddf259ac980': 0.0,\n",
       " 'b88c1cae5976c7f3f88b0e8ca0b23d6f8e44112dd7074d7f3fe01579710ae3be': 0.0,\n",
       " 'a320989b6e71abecdf7faaa0e2e8209a71c8826e1733228e43a96cd26f57b1df': 0.0,\n",
       " 'af67d4f0e784ad7d7c21cdbe2d501633f97a29b85be75f9a8fdd771cd14f1e53': 0.0,\n",
       " '8ba6531767d5a101fdd84a58025bfd1793fd9191e517db4acb0c49df851a957e': 0.0,\n",
       " '3e4cc1f71c998d080528ae305dffcc01419851e0d7b5191edfada9528625bff6': 0.015873015873015872,\n",
       " '93e6ca940b4d5547230df9b9e1ca02408cbaa036ea69c517ad9890f9ddc92369': 0.0,\n",
       " '8ed5a0af151cdbc8c0c546cde29334f15b4472bba105394a1221a7f088246846': 0.015873015873015872,\n",
       " '3a7d34192888fd742d14184111316f8c1fa503a34c6b2fda82fe61fb51a10381': 0.0,\n",
       " '9d8b1783a0d985a30201406722871eeb48883a4fb3fa80bb55c06038df8d746c': 0.0,\n",
       " 'a32363cff5c5663ee7625ec038d78fedd2060a25782f67d0608b9558dce43963': 0.0,\n",
       " 'af5b4c9417d05229355f0a7ca74fdb6f320b2182f61cfd5303c17ef3ef3436bc': 0.0,\n",
       " '0030800bdbc219ac7089af0798459a209446750f7322a212b496bdfe842184cd': 0.0,\n",
       " '4b96658d39f7fd4241442e6dc9877c8ee0fe0d82477e6014e1681d1efe052c8d': 0.015873015873015872,\n",
       " '7cef5389d7cfa7ff8b009eb4c9fb2531e78377dbeba3cc3afc8cc5128fec0e22': 0.0,\n",
       " '7f1f0cbd84a06c073c3164b463eda189fe3f98a9744e553380c23e41d6125c60': 0.015873015873015872,\n",
       " '52b9d1bd1bda273869d0442d41b3244d45ef7f0a386b313dd56debf9485cb1fa': 0.0,\n",
       " 'a58181beead631b49c6f87569aa3a1cd516f7019eae250213461a801517625f2': 0.0}"
      ]
     },
     "execution_count": 20,
     "metadata": {},
     "output_type": "execute_result"
    }
   ],
   "source": [
    "nx.closeness_centrality(G_directed)"
   ]
  },
  {
   "cell_type": "code",
   "execution_count": 21,
   "id": "f82ba0bf",
   "metadata": {},
   "outputs": [
    {
     "data": {
      "text/plain": [
       "{'f4184fc596403b9d638783cf57adfe4c75c605f6356fbc91338530e9831e9e16': 0.04433497536945813,\n",
       " 'ea44e97271691990157559d0bdd9959e02790c34db6c006d779e82fa5aee708e': 0.03474903474903475,\n",
       " 'a16f3ce4dd5deb92d98ef5cf8afeaf0775ebca408f708b2146c4fb42b41e14be': 0.055900621118012424,\n",
       " '591e91f809d716912ca1d4a9295e70c3e78bab077683f79350f101da64588073': 0.06766917293233082,\n",
       " '298ca2045d174f8a158961806ffc4ef96fad02d71a6b84d9fa0491813a776160': 0.047619047619047616,\n",
       " '12b5633bad1f9c167d523ad1aa1947b2732a865bf5414eab2f9e5ae5d5c191ba': 0.06766917293233082,\n",
       " '4385fcf8b14497d0659adccfe06ae7e38e0b5dc95ff8a13d7c62035994a0cd79': 0.055900621118012424,\n",
       " '828ef3b079f9c23829c56fe86e85b4a69d9e06e5b54ea597eef5fb3ffef509fe': 0.055900621118012424,\n",
       " 'a3b0e9e7cddbbe78270fa4182a7675ff00b92872d8df7d14265a2b1e379a9d33': 0.047619047619047616,\n",
       " '0cc917bf15f8807f224e7524c1eca22c3740ddefb7bf6694f7c2262b490cc706': 0.015873015873015872,\n",
       " 'e8160a014fbff8386548f40205d540ef92ce8207ff4ac0446d6e591c6cf28f2c': 0.015873015873015872,\n",
       " 'c3f0bb699bcc8a4e0716de45aef74c40aabeb80f7f00b3bdb45e115ee6f5400f': 0.04409171075837742,\n",
       " '4d6edbeb62735d45ff1565385a8b0045f066055c9425e21540ea7a8060f08bf2': 0.07936507936507936,\n",
       " '00ff9e64c9a2e7793e6f8c2b04072b4b22648cdedd46cd1c3ae3d6a23c8ec1eb': 0.023809523809523808,\n",
       " 'd71fd2f64c0b34465b7518d240c00e83f6a5b10138a7079d1252858fe7e6b577': 0.03571428571428571,\n",
       " 'e7caf9a784751643f7b71881aaf96e2b3e041950b42638b4fcfe82ff57ba260d': 0.015873015873015872,\n",
       " '6bf363548b08aa8761e278be802a2d84b8e40daefe8150f9af7dd7b65a0de49f': 0.015873015873015872,\n",
       " '6a71cea2c4e66ea163932b1ea199c1056f6728f3e1287946ed2a0892b918bf0e': 0.028571428571428567,\n",
       " '59bf8acbc9d60dfae841abecc3882b4181f2bdd8ac6c1d94001165ab3aef50b0': 0.047619047619047616,\n",
       " '04256336e9287f3b46508888cf3539dc0ab2fc8803cbe9668749fd18fc5dee85': 0.03306878306878307,\n",
       " 'e36f06a8dfe44c3d64be2d3fe56c77f91f6a39da4a5ffc086ecb5db9664e8583': 0.0496031746031746,\n",
       " '264299886446921c89e598ec2b1ec3eab6a2c9b0235b310ff513a039315ff721': 0.03673469387755102,\n",
       " 'b550304180c25457c810707c5fac13398a8c3abf56871e4cc4e4804336768b5b': 0.028571428571428567,\n",
       " 'c445fc181b4570fa107006f31c68132df2df84160f6dc783a21e10f4497e3589': 0.047619047619047616,\n",
       " '0b086abe2602f870a2d93ed496b0558d5fc349c4504eb0d474cc4ca99b4b1308': 0.03968253968253968,\n",
       " '90ff15e5a80593977fb2f6666de2860584d39ebc3a41f65a0a1fdc3a851aefda': 0.06613756613756613,\n",
       " '193b51cd0c5a44bf6593e69fea91e9ddd311f610c5c23187552e3347b275b81b': 0.04409171075837742,\n",
       " '1744372990897f287c453bbfd79017fc88646e0c4a973093b953b34b731785cc': 0.04409171075837742,\n",
       " '2ccc3f59d28c709770a8bc478b112e10feda4bf55197c2e48deaa0eb6bca0311': 0.07936507936507936,\n",
       " 'b6c967d8f3a3d5fe859a12e9f385531655c2c457326845065fc3942da9e19920': 0.04409171075837742,\n",
       " 'a94ce7bdfc2204c25fbeae8a66a82d6cf5a276f295c9995820f4621c8587022e': 0.028571428571428567,\n",
       " '2db69558056d0132d9848851fd20329be9cd590fa5ae2b3c55f58931f42e27f7': 0.021164021164021163,\n",
       " '6f7cf9580f1c2dfb3c4d5d043cdbb128c640e3f20161245aa7372e9666168516': 0.031746031746031744,\n",
       " '729c429213b0de74f61a89ad7da09fc63143e16c7738c1b59130f283e4991dc9': 0.051948051948051945,\n",
       " '8897ea9ceaf18a546cdc513b9179bae31a462ee5bf47818eb7ba909082d11777': 0.09523809523809523,\n",
       " 'a739f9909bdf50466fd746e42394fada8e245f29e6f5747fca0a70dec470b75f': 0.04409171075837742,\n",
       " 'd8bb7a39f85135c14c37c8d370c97d642b907a791dd235793061e86e094c8d96': 0.04409171075837742,\n",
       " '8bea4c52e497aac81f3c6520febe1a2bff73dfa04d89855c32f4f5cd27d564c4': 0.051948051948051945,\n",
       " 'cfbba5a04f23049b63941e3ff5d57aa1431671281f2e3ade1a7050ffdd284377': 0.015873015873015872,\n",
       " '5439c37c4c6dad4ad93b1d5598d57f1aace9d0f68b892236da903b3f136451a1': 0.015873015873015872,\n",
       " 'ff3dc8b461305acc5900d31602f2dafebfc406e5b050b14a352294f0965e0bf6': 0.021164021164021163,\n",
       " '3f5d810e62022ae5c3cd46131a2bc64cf92a5a9b3b9ac316a814bb47507616dc': 0.03968253968253968,\n",
       " '9e01daccf3280ab1663fbbb34e7b798acf488d23eb4d60f0176b6c9c86ffcd6b': 0.028571428571428567,\n",
       " '35288d269cee1941eaebb2ea85e32b42cdb2b04284a56d8b14dcc3f5c65d6055': 0.03571428571428571,\n",
       " '28204cad1d7fc1d199e8ef4fa22f182de6258a3eaafe1bbe56ebdcacd3069a5f': 0.023809523809523808,\n",
       " 'ad3ad5d08e433103e0be2ca5cf8159eb8d416a37edc45fe0dd9b3bca221ae974': 0.051948051948051945,\n",
       " '3e753e2eac1e76a9cee0196ca74d10ba9d2bf687e95bdd244333cddf259ac980': 0.051948051948051945,\n",
       " 'b88c1cae5976c7f3f88b0e8ca0b23d6f8e44112dd7074d7f3fe01579710ae3be': 0.051948051948051945,\n",
       " 'a320989b6e71abecdf7faaa0e2e8209a71c8826e1733228e43a96cd26f57b1df': 0.04409171075837742,\n",
       " 'af67d4f0e784ad7d7c21cdbe2d501633f97a29b85be75f9a8fdd771cd14f1e53': 0.028571428571428567,\n",
       " '8ba6531767d5a101fdd84a58025bfd1793fd9191e517db4acb0c49df851a957e': 0.015873015873015872,\n",
       " '3e4cc1f71c998d080528ae305dffcc01419851e0d7b5191edfada9528625bff6': 0.015873015873015872,\n",
       " '93e6ca940b4d5547230df9b9e1ca02408cbaa036ea69c517ad9890f9ddc92369': 0.015873015873015872,\n",
       " '8ed5a0af151cdbc8c0c546cde29334f15b4472bba105394a1221a7f088246846': 0.015873015873015872,\n",
       " '3a7d34192888fd742d14184111316f8c1fa503a34c6b2fda82fe61fb51a10381': 0.051948051948051945,\n",
       " '9d8b1783a0d985a30201406722871eeb48883a4fb3fa80bb55c06038df8d746c': 0.04409171075837742,\n",
       " 'a32363cff5c5663ee7625ec038d78fedd2060a25782f67d0608b9558dce43963': 0.03968253968253968,\n",
       " 'af5b4c9417d05229355f0a7ca74fdb6f320b2182f61cfd5303c17ef3ef3436bc': 0.04409171075837742,\n",
       " '0030800bdbc219ac7089af0798459a209446750f7322a212b496bdfe842184cd': 0.015873015873015872,\n",
       " '4b96658d39f7fd4241442e6dc9877c8ee0fe0d82477e6014e1681d1efe052c8d': 0.015873015873015872,\n",
       " '7cef5389d7cfa7ff8b009eb4c9fb2531e78377dbeba3cc3afc8cc5128fec0e22': 0.015873015873015872,\n",
       " '7f1f0cbd84a06c073c3164b463eda189fe3f98a9744e553380c23e41d6125c60': 0.015873015873015872,\n",
       " '52b9d1bd1bda273869d0442d41b3244d45ef7f0a386b313dd56debf9485cb1fa': 0.04409171075837742,\n",
       " 'a58181beead631b49c6f87569aa3a1cd516f7019eae250213461a801517625f2': 0.028571428571428567}"
      ]
     },
     "execution_count": 21,
     "metadata": {},
     "output_type": "execute_result"
    }
   ],
   "source": [
    "nx.closeness_centrality(G_undirected)"
   ]
  },
  {
   "cell_type": "code",
   "execution_count": null,
   "id": "c018b82f",
   "metadata": {},
   "outputs": [],
   "source": []
  }
 ],
 "metadata": {
  "kernelspec": {
   "display_name": "Python 3",
   "language": "python",
   "name": "python3"
  },
  "language_info": {
   "codemirror_mode": {
    "name": "ipython",
    "version": 3
   },
   "file_extension": ".py",
   "mimetype": "text/x-python",
   "name": "python",
   "nbconvert_exporter": "python",
   "pygments_lexer": "ipython3",
   "version": "3.8.8"
  }
 },
 "nbformat": 4,
 "nbformat_minor": 5
}
