{
 "cells": [
  {
   "cell_type": "code",
   "execution_count": null,
   "id": "c6dafeff",
   "metadata": {},
   "outputs": [],
   "source": [
    "import numpy as np\n",
    "import networkx as nx\n",
    "import matplotlib.pyplot as plt\n",
    "import pandas as pd"
   ]
  },
  {
   "cell_type": "code",
   "execution_count": null,
   "id": "a145b30c",
   "metadata": {},
   "outputs": [],
   "source": [
    "G_directed = nx.read_gpickle(\"first_graph_50.gpickle\")\n",
    "G_undirected = G_directed.to_undirected()"
   ]
  },
  {
   "cell_type": "code",
   "execution_count": null,
   "id": "24f38fa3",
   "metadata": {
    "scrolled": false
   },
   "outputs": [],
   "source": [
    "print(\"Directed graph number of edges:\",G_directed.number_of_edges())\n",
    "print(\"Directed graph number of nodes:\",G_directed.number_of_nodes())"
   ]
  },
  {
   "cell_type": "code",
   "execution_count": null,
   "id": "ebe26d34",
   "metadata": {},
   "outputs": [],
   "source": [
    "def get_edge_attributes(G, name):\n",
    "    # ...\n",
    "    edges = G.edges(data=True)\n",
    "    return dict( (x[:-1], x[-1][name]) for x in edges if name in x[-1] )"
   ]
  },
  {
   "cell_type": "code",
   "execution_count": null,
   "id": "80fe1a4a",
   "metadata": {},
   "outputs": [],
   "source": [
    "get_edge_attributes(G_directed,\"amount_bitcoins\")\n",
    "get_edge_attributes(G_undirected,\"amount_bitcoins\")"
   ]
  },
  {
   "cell_type": "code",
   "execution_count": null,
   "id": "a9bfecb7",
   "metadata": {
    "scrolled": false
   },
   "outputs": [],
   "source": [
    "G_directed.degree['f4184fc596403b9d638783cf57adfe4c75c605f6356fbc91338530e9831e9e16']"
   ]
  },
  {
   "cell_type": "code",
   "execution_count": null,
   "id": "5c8a4618",
   "metadata": {},
   "outputs": [],
   "source": [
    "x = G_undirected.degree()\n",
    "dict(x).values()"
   ]
  },
  {
   "cell_type": "code",
   "execution_count": null,
   "id": "bcf3ed87",
   "metadata": {},
   "outputs": [],
   "source": [
    "x = G_directed.degree()\n",
    "dict(x).values()"
   ]
  },
  {
   "cell_type": "code",
   "execution_count": null,
   "id": "253c0772",
   "metadata": {},
   "outputs": [],
   "source": [
    "a=nx.degree_centrality(G_directed)\n",
    "b=nx.degree_centrality(G_undirected)\n",
    "a==b"
   ]
  },
  {
   "cell_type": "code",
   "execution_count": null,
   "id": "d2a00573",
   "metadata": {},
   "outputs": [],
   "source": [
    "a = nx.load_centrality(G_undirected)\n",
    "b = nx.load_centrality(G_directed)\n",
    "a==b"
   ]
  },
  {
   "cell_type": "code",
   "execution_count": null,
   "id": "c1238fef",
   "metadata": {},
   "outputs": [],
   "source": [
    "a"
   ]
  },
  {
   "cell_type": "code",
   "execution_count": null,
   "id": "73f61d5e",
   "metadata": {},
   "outputs": [],
   "source": [
    "b"
   ]
  },
  {
   "cell_type": "code",
   "execution_count": null,
   "id": "d3cfc7c0",
   "metadata": {},
   "outputs": [],
   "source": [
    "a = nx.betweenness_centrality(G_directed)\n",
    "b = nx.betweenness_centrality(G_undirected)\n",
    "a == b"
   ]
  },
  {
   "cell_type": "code",
   "execution_count": null,
   "id": "dc1c7982",
   "metadata": {},
   "outputs": [],
   "source": [
    "a"
   ]
  },
  {
   "cell_type": "code",
   "execution_count": null,
   "id": "8150983d",
   "metadata": {},
   "outputs": [],
   "source": [
    "b"
   ]
  },
  {
   "cell_type": "code",
   "execution_count": null,
   "id": "3f0723db",
   "metadata": {},
   "outputs": [],
   "source": [
    "nx.voterank(G_undirected)"
   ]
  },
  {
   "cell_type": "code",
   "execution_count": null,
   "id": "75189e42",
   "metadata": {},
   "outputs": [],
   "source": [
    "nx.voterank(G_directed)"
   ]
  },
  {
   "cell_type": "code",
   "execution_count": null,
   "id": "cc83aa0c",
   "metadata": {},
   "outputs": [],
   "source": [
    "#nx.maximum_flow(G_directed,G_directed.nodes[0],G_directed.nodes[-1])"
   ]
  },
  {
   "cell_type": "code",
   "execution_count": null,
   "id": "386ce664",
   "metadata": {},
   "outputs": [],
   "source": [
    "#nx.all_shortest_paths() #asks for source and target"
   ]
  },
  {
   "cell_type": "code",
   "execution_count": null,
   "id": "56559d49",
   "metadata": {},
   "outputs": [],
   "source": [
    "nx.closeness_centrality(G_directed)"
   ]
  },
  {
   "cell_type": "code",
   "execution_count": null,
   "id": "f82ba0bf",
   "metadata": {},
   "outputs": [],
   "source": [
    "nx.closeness_centrality(G_undirected)"
   ]
  },
  {
   "cell_type": "code",
   "execution_count": 1,
   "id": "c018b82f",
   "metadata": {},
   "outputs": [],
   "source": [
    "import pickle"
   ]
  },
  {
   "cell_type": "code",
   "execution_count": 2,
   "id": "32f6ccb4",
   "metadata": {},
   "outputs": [],
   "source": [
    "with open('graphs0-400.pkl', 'rb') as f:\n",
    "    graphs = pickle.load(f)"
   ]
  },
  {
   "cell_type": "code",
   "execution_count": 3,
   "id": "1163a9a1",
   "metadata": {},
   "outputs": [],
   "source": [
    "with open('graphs400-470.pkl', 'rb') as f:\n",
    "    graphs = graphs + pickle.load(f)\n"
   ]
  },
  {
   "cell_type": "code",
   "execution_count": 4,
   "id": "f4496282",
   "metadata": {},
   "outputs": [
    {
     "ename": "MemoryError",
     "evalue": "",
     "output_type": "error",
     "traceback": [
      "\u001b[1;31m---------------------------------------------------------------------------\u001b[0m",
      "\u001b[1;31mMemoryError\u001b[0m                               Traceback (most recent call last)",
      "\u001b[1;32m<ipython-input-4-185524c88ae7>\u001b[0m in \u001b[0;36m<module>\u001b[1;34m\u001b[0m\n\u001b[0;32m      1\u001b[0m \u001b[1;32mwith\u001b[0m \u001b[0mopen\u001b[0m\u001b[1;33m(\u001b[0m\u001b[1;34m'graphs.pkl'\u001b[0m\u001b[1;33m,\u001b[0m \u001b[1;34m'wb'\u001b[0m\u001b[1;33m)\u001b[0m \u001b[1;32mas\u001b[0m \u001b[0mf\u001b[0m\u001b[1;33m:\u001b[0m\u001b[1;33m\u001b[0m\u001b[1;33m\u001b[0m\u001b[0m\n\u001b[1;32m----> 2\u001b[1;33m     \u001b[0mpickle\u001b[0m\u001b[1;33m.\u001b[0m\u001b[0mdump\u001b[0m\u001b[1;33m(\u001b[0m\u001b[0mgraphs\u001b[0m\u001b[1;33m,\u001b[0m \u001b[0mf\u001b[0m\u001b[1;33m)\u001b[0m\u001b[1;33m\u001b[0m\u001b[1;33m\u001b[0m\u001b[0m\n\u001b[0m",
      "\u001b[1;31mMemoryError\u001b[0m: "
     ]
    }
   ],
   "source": [
    "with open('graphs.pkl', 'wb') as f:\n",
    "    pickle.dump(graphs, f)"
   ]
  },
  {
   "cell_type": "code",
   "execution_count": null,
   "id": "6bf0a0e8",
   "metadata": {},
   "outputs": [],
   "source": [
    "with open('graphs470-519.pkl', 'rb') as f:\n",
    "    graphs = graphs + pickle.load(f)"
   ]
  }
 ],
 "metadata": {
  "kernelspec": {
   "display_name": "Python 3",
   "language": "python",
   "name": "python3"
  },
  "language_info": {
   "codemirror_mode": {
    "name": "ipython",
    "version": 3
   },
   "file_extension": ".py",
   "mimetype": "text/x-python",
   "name": "python",
   "nbconvert_exporter": "python",
   "pygments_lexer": "ipython3",
   "version": "3.8.8"
  }
 },
 "nbformat": 4,
 "nbformat_minor": 5
}
