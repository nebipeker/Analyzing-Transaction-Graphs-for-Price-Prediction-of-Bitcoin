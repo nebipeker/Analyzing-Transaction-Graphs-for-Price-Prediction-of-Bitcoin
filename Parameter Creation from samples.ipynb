{
 "cells": [
  {
   "cell_type": "code",
   "execution_count": 1,
   "id": "5da5c55a",
   "metadata": {},
   "outputs": [],
   "source": [
    "import pandas as pd\n",
    "import numpy as np\n",
    "import pickle as pkl"
   ]
  },
  {
   "cell_type": "code",
   "execution_count": 2,
   "id": "0356de09",
   "metadata": {},
   "outputs": [
    {
     "name": "stderr",
     "output_type": "stream",
     "text": [
      "C:\\Users\\TULPAR\\AppData\\Local\\Temp/ipykernel_27108/977680477.py:5: VisibleDeprecationWarning: Creating an ndarray from ragged nested sequences (which is a list-or-tuple of lists-or-tuples-or ndarrays with different lengths or shapes) is deprecated. If you meant to do this, you must specify 'dtype=object' when creating the ndarray.\n",
      "  vectors=np.asarray(vectors)\n"
     ]
    }
   ],
   "source": [
    "with  open(\"vectors.pkl\",\"rb\") as f:\n",
    "    vectors = pkl.load(f)\n",
    "with  open(\"embeddings.pkl\",\"rb\") as f:\n",
    "    embeddings = pkl.load(f)\n",
    "vectors=np.asarray(vectors)"
   ]
  },
  {
   "cell_type": "code",
   "execution_count": 3,
   "id": "e5ffe5a0",
   "metadata": {},
   "outputs": [],
   "source": [
    "parameters=[]\n",
    "for vector in vectors:\n",
    "    parameters.append(np.concatenate((np.average(vector,axis=0),np.std(vector,axis=0))))\n",
    "for graph in embeddings:\n",
    "    x = 0\n",
    "    y = 0\n",
    "    sample_summaries=[]\n",
    "    for sample in graph:\n",
    "        x=np.average(sample,axis=0)\n",
    "        y=np.std(sample,axis=0)\n",
    "        sample_summaries.append(np.concatenate((x, y)))\n",
    "    parameters.append(np.average(np.asarray(sample_summaries),axis=0))"
   ]
  },
  {
   "cell_type": "code",
   "execution_count": 4,
   "id": "e3e18c91",
   "metadata": {},
   "outputs": [],
   "source": [
    "df = pd.DataFrame(parameters)"
   ]
  },
  {
   "cell_type": "code",
   "execution_count": 5,
   "id": "e538a230",
   "metadata": {},
   "outputs": [],
   "source": [
    "df.to_csv(\"./data/monthlyparameters.csv\",index=False)"
   ]
  },
  {
   "cell_type": "code",
   "execution_count": null,
   "id": "e1a93868",
   "metadata": {},
   "outputs": [],
   "source": []
  }
 ],
 "metadata": {
  "kernelspec": {
   "display_name": "Python 3 (ipykernel)",
   "language": "python",
   "name": "python3"
  },
  "language_info": {
   "codemirror_mode": {
    "name": "ipython",
    "version": 3
   },
   "file_extension": ".py",
   "mimetype": "text/x-python",
   "name": "python",
   "nbconvert_exporter": "python",
   "pygments_lexer": "ipython3",
   "version": "3.9.7"
  }
 },
 "nbformat": 4,
 "nbformat_minor": 5
}
