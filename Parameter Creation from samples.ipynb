{
 "cells": [
  {
   "cell_type": "code",
   "execution_count": null,
   "id": "5da5c55a",
   "metadata": {},
   "outputs": [],
   "source": [
    "import pandas as pd\n",
    "import numpy as np\n",
    "import pickle as pkl"
   ]
  },
  {
   "cell_type": "code",
   "execution_count": null,
   "id": "0356de09",
   "metadata": {},
   "outputs": [],
   "source": [
    "with  open(\"vectors.pkl\",\"rb\") as f:\n",
    "    vectors = pkl.load(f)\n",
    "with  open(\"embeddings.pkl\",\"rb\") as f:\n",
    "    embeddings = pkl.load(f)\n",
    "vectors=np.asarray(vectors)"
   ]
  },
  {
   "cell_type": "code",
   "execution_count": null,
   "id": "e5ffe5a0",
   "metadata": {},
   "outputs": [],
   "source": [
    "parameters=[]\n",
    "for vector in vectors:\n",
    "    parameters.append(np.concatenate((np.average(vector,axis=0),np.std(vector,axis=0))))\n",
    "for graph in embeddings:\n",
    "    x = 0\n",
    "    y = 0\n",
    "    sample_summaries=[]\n",
    "    for sample in graph:\n",
    "        x=np.average(sample,axis=0)\n",
    "        y=np.std(sample,axis=0)\n",
    "        sample_summaries.append(np.concatenate((x, y)))\n",
    "    parameters.append(np.average(np.asarray(sample_summaries),axis=0))"
   ]
  },
  {
   "cell_type": "code",
   "execution_count": null,
   "id": "e3e18c91",
   "metadata": {},
   "outputs": [],
   "source": [
    "df = pd.DataFrame(parameters)"
   ]
  },
  {
   "cell_type": "code",
   "execution_count": null,
   "id": "e538a230",
   "metadata": {},
   "outputs": [],
   "source": [
    "df.to_csv(\"./data/monthlyparameters.csv\",index=False)"
   ]
  },
  {
   "cell_type": "code",
   "execution_count": null,
   "id": "e1a93868",
   "metadata": {},
   "outputs": [],
   "source": [
    "with  open(\"embeddings_weekly{1}_{86}.pkl\",\"rb\") as f:\n",
    "    embeddings = pkl.load(f)"
   ]
  },
  {
   "cell_type": "code",
   "execution_count": null,
   "id": "66495132",
   "metadata": {},
   "outputs": [],
   "source": [
    "parameters=[]\n",
    "for graph in embeddings:\n",
    "    x = 0\n",
    "    y = 0\n",
    "    sample_summaries=[]\n",
    "    for sample in graph:\n",
    "        x=np.average(sample,axis=0)\n",
    "        y=np.std(sample,axis=0)\n",
    "        sample_summaries.append(np.concatenate((x, y)))\n",
    "    parameters.append(np.average(np.asarray(sample_summaries),axis=0))"
   ]
  },
  {
   "cell_type": "code",
   "execution_count": null,
   "id": "033c8c12",
   "metadata": {},
   "outputs": [],
   "source": [
    "with  open(\"embeddings_weekly{87}_{89}.pkl\",\"rb\") as f:\n",
    "    embeddings = pkl.load(f)\n",
    "for graph in embeddings:\n",
    "    x = 0\n",
    "    y = 0\n",
    "    sample_summaries=[]\n",
    "    for sample in graph:\n",
    "        x=np.average(sample,axis=0)\n",
    "        y=np.std(sample,axis=0)\n",
    "        sample_summaries.append(np.concatenate((x, y)))\n",
    "    parameters.append(np.average(np.asarray(sample_summaries),axis=0))"
   ]
  },
  {
   "cell_type": "code",
   "execution_count": null,
   "id": "bc7f4b5c",
   "metadata": {},
   "outputs": [],
   "source": [
    "with  open(\"embeddings_weekly{90}_{101}.pkl\",\"rb\") as f:\n",
    "    embeddings = pkl.load(f)\n",
    "for graph in embeddings:\n",
    "    x = 0\n",
    "    y = 0\n",
    "    sample_summaries=[]\n",
    "    for sample in graph:\n",
    "        x=np.average(sample,axis=0)\n",
    "        y=np.std(sample,axis=0)\n",
    "        sample_summaries.append(np.concatenate((x, y)))\n",
    "    parameters.append(np.average(np.asarray(sample_summaries),axis=0))"
   ]
  },
  {
   "cell_type": "code",
   "execution_count": null,
   "id": "44ad471f",
   "metadata": {},
   "outputs": [],
   "source": [
    "with  open(\"embeddings_weekly{102}_{116}.pkl\",\"rb\") as f:\n",
    "    embeddings = pkl.load(f)\n",
    "for graph in embeddings:\n",
    "    x = 0\n",
    "    y = 0\n",
    "    sample_summaries=[]\n",
    "    for sample in graph:\n",
    "        x=np.average(sample,axis=0)\n",
    "        y=np.std(sample,axis=0)\n",
    "        sample_summaries.append(np.concatenate((x, y)))\n",
    "    parameters.append(np.average(np.asarray(sample_summaries),axis=0))"
   ]
  },
  {
   "cell_type": "code",
   "execution_count": null,
   "id": "112810c8",
   "metadata": {},
   "outputs": [],
   "source": []
  },
  {
   "cell_type": "code",
   "execution_count": null,
   "id": "a51bbb70",
   "metadata": {},
   "outputs": [],
   "source": [
    "df = pd.DataFrame(parameters)"
   ]
  },
  {
   "cell_type": "code",
   "execution_count": null,
   "id": "5fb5f968",
   "metadata": {},
   "outputs": [],
   "source": [
    "df"
   ]
  },
  {
   "cell_type": "code",
   "execution_count": null,
   "id": "5db18334",
   "metadata": {},
   "outputs": [],
   "source": [
    "df.to_csv(\"./data/weeklyparameters.csv\",index=False)"
   ]
  },
  {
   "cell_type": "code",
   "execution_count": null,
   "id": "5c171985",
   "metadata": {},
   "outputs": [],
   "source": []
  }
 ],
 "metadata": {
  "kernelspec": {
   "display_name": "Python 3 (ipykernel)",
   "language": "python",
   "name": "python3"
  },
  "language_info": {
   "codemirror_mode": {
    "name": "ipython",
    "version": 3
   },
   "file_extension": ".py",
   "mimetype": "text/x-python",
   "name": "python",
   "nbconvert_exporter": "python",
   "pygments_lexer": "ipython3",
   "version": "3.9.7"
  }
 },
 "nbformat": 4,
 "nbformat_minor": 5
}
