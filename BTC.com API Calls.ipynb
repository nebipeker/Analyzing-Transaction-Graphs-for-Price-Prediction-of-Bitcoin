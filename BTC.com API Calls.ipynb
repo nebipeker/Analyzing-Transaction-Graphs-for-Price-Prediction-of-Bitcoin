{
 "cells": [
  {
   "cell_type": "code",
   "execution_count": 6,
   "id": "82e5cad5",
   "metadata": {},
   "outputs": [],
   "source": [
    "import requests"
   ]
  },
  {
   "cell_type": "code",
   "execution_count": 9,
   "id": "03e4dfd0",
   "metadata": {},
   "outputs": [],
   "source": [
    "res= requests.get(\"https://pool.btc.com/v1/pool/lucky/merge?lang=en&coin_type=btc\")"
   ]
  },
  {
   "cell_type": "code",
   "execution_count": 15,
   "id": "8996a371",
   "metadata": {},
   "outputs": [
    {
     "data": {
      "text/plain": [
       "{'err_no': 0,\n",
       " 'data': {'lucky_3': 86.03,\n",
       "  'lucky_7': 119.5,\n",
       "  'lucky_30': 98.47,\n",
       "  'lucky_90': 96.03}}"
      ]
     },
     "execution_count": 15,
     "metadata": {},
     "output_type": "execute_result"
    }
   ],
   "source": [
    "res.json()"
   ]
  },
  {
   "cell_type": "code",
   "execution_count": null,
   "id": "ee50912e",
   "metadata": {},
   "outputs": [],
   "source": []
  }
 ],
 "metadata": {
  "kernelspec": {
   "display_name": "Python 3",
   "language": "python",
   "name": "python3"
  },
  "language_info": {
   "codemirror_mode": {
    "name": "ipython",
    "version": 3
   },
   "file_extension": ".py",
   "mimetype": "text/x-python",
   "name": "python",
   "nbconvert_exporter": "python",
   "pygments_lexer": "ipython3",
   "version": "3.8.8"
  }
 },
 "nbformat": 4,
 "nbformat_minor": 5
}
