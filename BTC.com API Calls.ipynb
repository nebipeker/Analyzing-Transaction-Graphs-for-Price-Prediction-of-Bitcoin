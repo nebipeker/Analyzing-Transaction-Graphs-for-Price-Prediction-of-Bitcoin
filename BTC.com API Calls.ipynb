{
 "cells": [
  {
   "cell_type": "code",
   "execution_count": 2,
   "id": "82e5cad5",
   "metadata": {},
   "outputs": [],
   "source": [
    "import requests"
   ]
  },
  {
   "cell_type": "code",
   "execution_count": 3,
   "id": "03e4dfd0",
   "metadata": {},
   "outputs": [],
   "source": [
    "res= requests.get(\"https://pool.btc.com/v1/pool/lucky/merge?lang=en&coin_type=btc\")"
   ]
  },
  {
   "cell_type": "code",
   "execution_count": 4,
   "id": "8996a371",
   "metadata": {},
   "outputs": [
    {
     "data": {
      "text/plain": [
       "{'err_no': 0,\n",
       " 'data': {'lucky_3': 86.03,\n",
       "  'lucky_7': 119.5,\n",
       "  'lucky_30': 98.47,\n",
       "  'lucky_90': 96.03}}"
      ]
     },
     "execution_count": 4,
     "metadata": {},
     "output_type": "execute_result"
    }
   ],
   "source": [
    "res.json()"
   ]
  },
  {
   "cell_type": "code",
   "execution_count": 5,
   "id": "ee50912e",
   "metadata": {},
   "outputs": [],
   "source": [
    "get = requests.get"
   ]
  },
  {
   "cell_type": "code",
   "execution_count": 6,
   "id": "25cb2552",
   "metadata": {},
   "outputs": [],
   "source": [
    "a = get(\"https://chain.api.btc.com/v3/block/date/20151215\")"
   ]
  },
  {
   "cell_type": "code",
   "execution_count": 9,
   "id": "63967ca1",
   "metadata": {},
   "outputs": [
    {
     "ename": "AttributeError",
     "evalue": "'Response' object has no attribute 'data'",
     "output_type": "error",
     "traceback": [
      "\u001b[1;31m---------------------------------------------------------------------------\u001b[0m",
      "\u001b[1;31mAttributeError\u001b[0m                            Traceback (most recent call last)",
      "\u001b[1;32m<ipython-input-9-5c2500860594>\u001b[0m in \u001b[0;36m<module>\u001b[1;34m\u001b[0m\n\u001b[1;32m----> 1\u001b[1;33m \u001b[0ma\u001b[0m\u001b[1;33m.\u001b[0m\u001b[0mdata\u001b[0m\u001b[1;33m(\u001b[0m\u001b[1;33m)\u001b[0m\u001b[1;33m\u001b[0m\u001b[1;33m\u001b[0m\u001b[0m\n\u001b[0m",
      "\u001b[1;31mAttributeError\u001b[0m: 'Response' object has no attribute 'data'"
     ]
    }
   ],
   "source": [
    "a"
   ]
  },
  {
   "cell_type": "code",
   "execution_count": null,
   "id": "4fdd8cb9",
   "metadata": {},
   "outputs": [],
   "source": []
  }
 ],
 "metadata": {
  "kernelspec": {
   "display_name": "Python 3",
   "language": "python",
   "name": "python3"
  },
  "language_info": {
   "codemirror_mode": {
    "name": "ipython",
    "version": 3
   },
   "file_extension": ".py",
   "mimetype": "text/x-python",
   "name": "python",
   "nbconvert_exporter": "python",
   "pygments_lexer": "ipython3",
   "version": "3.8.8"
  }
 },
 "nbformat": 4,
 "nbformat_minor": 5
}
