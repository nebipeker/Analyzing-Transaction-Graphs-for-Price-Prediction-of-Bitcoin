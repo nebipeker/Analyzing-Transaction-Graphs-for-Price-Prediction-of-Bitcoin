{
 "cells": [
  {
   "cell_type": "code",
   "execution_count": 1,
   "id": "24e5b123",
   "metadata": {},
   "outputs": [],
   "source": [
    "import matplotlib.pyplot as plt\n",
    "import pandas as pd\n",
    "import numpy as np\n",
    "%matplotlib inline\n",
    "import random\n",
    "import networkx as nx\n",
    "import time\n",
    "import math"
   ]
  },
  {
   "cell_type": "markdown",
   "id": "4b8a863e",
   "metadata": {},
   "source": [
    "### Random Graph Sampler"
   ]
  },
  {
   "cell_type": "code",
   "execution_count": null,
   "id": "fef94301",
   "metadata": {},
   "outputs": [],
   "source": [
    "csvDefault = 'transactiongraph'\n",
    "nameCSV = 'transactiongraph'\n",
    "directoryDefault = \"C:/Users/Umut/Desktop/transactiongraph/\"\n",
    "directory = \"C:/Users/Umut/Desktop/transactiongraph/\"\n",
    "edge_max = 5000\n",
    "graphNumber_max = 50\n",
    "graphNumberReducer = .15"
   ]
  },
  {
   "cell_type": "code",
   "execution_count": null,
   "id": "2104e42c",
   "metadata": {},
   "outputs": [],
   "source": [
    "for n in range(30,100):\n",
    "    start = time.time()\n",
    "    nameCSV = csvDefault + str(n)\n",
    "    directory = directoryDefault + nameCSV + '.csv'\n",
    "    df = pd.read_csv(directory)\n",
    "    graph_X = nx.from_pandas_edgelist(df,source=\"addressIn\", target=\"addressOut\")\n",
    "    graphNumber = math.floor(graph_X.number_of_edges() / edge_max * graphNumberReducer)\n",
    "    if(graphNumber > graphNumber_max):\n",
    "        graphNumber = graphNumber_max    \n",
    "    print('Current graph is ' + 'transactiongraph' + str(n))\n",
    "    for x in range(0,graphNumber):       \n",
    "        sampled_edges = random.sample(graph_X.edges, edge_max)\n",
    "        dfSampled = pd.DataFrame(sampled_edges)\n",
    "        newCsvName = csvDefault + str(n) + '_'+ str(x) +'.csv'\n",
    "        dfSampled.to_csv(newCsvName, encoding='utf-8')\n",
    "    stop = time.time()\n",
    "    duration = stop - start\n",
    "    print('Time for X times sampling transactiongraph' + str(n) + ':' + str(math.floor(duration))+ ' seconds.')"
   ]
  },
  {
   "cell_type": "code",
   "execution_count": null,
   "id": "41a2be79",
   "metadata": {},
   "outputs": [],
   "source": []
  },
  {
   "cell_type": "code",
   "execution_count": null,
   "id": "1f748a70",
   "metadata": {},
   "outputs": [],
   "source": []
  }
 ],
 "metadata": {
  "kernelspec": {
   "display_name": "Python 3 (ipykernel)",
   "language": "python",
   "name": "python3"
  },
  "language_info": {
   "codemirror_mode": {
    "name": "ipython",
    "version": 3
   },
   "file_extension": ".py",
   "mimetype": "text/x-python",
   "name": "python",
   "nbconvert_exporter": "python",
   "pygments_lexer": "ipython3",
   "version": "3.8.0"
  }
 },
 "nbformat": 4,
 "nbformat_minor": 5
}
