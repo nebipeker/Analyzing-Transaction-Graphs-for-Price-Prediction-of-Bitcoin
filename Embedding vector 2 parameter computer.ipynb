{
 "cells": [
  {
   "cell_type": "code",
   "execution_count": 1,
   "id": "1a3c64b3",
   "metadata": {},
   "outputs": [],
   "source": [
    "import numpy as np\n",
    "import pickle\n",
    "import pandas as pd"
   ]
  },
  {
   "cell_type": "code",
   "execution_count": 2,
   "id": "b717338e",
   "metadata": {},
   "outputs": [],
   "source": [
    "with open('vectors.pkl', 'rb') as f:\n",
    "    vectors = pickle.load(f)"
   ]
  },
  {
   "cell_type": "code",
   "execution_count": 3,
   "id": "e4d966ff",
   "metadata": {},
   "outputs": [
    {
     "data": {
      "text/plain": [
       "30"
      ]
     },
     "execution_count": 3,
     "metadata": {},
     "output_type": "execute_result"
    }
   ],
   "source": [
    "len(vectors)"
   ]
  },
  {
   "cell_type": "code",
   "execution_count": 4,
   "id": "845e90cb",
   "metadata": {},
   "outputs": [],
   "source": [
    "x = vectors[0]"
   ]
  },
  {
   "cell_type": "code",
   "execution_count": 5,
   "id": "39dab9ca",
   "metadata": {},
   "outputs": [],
   "source": [
    "parameters = []\n",
    "for x in vectors:\n",
    "    temp = 0\n",
    "    for i in range(x.T.shape[0]):\n",
    "        temp += x.T[i]\n",
    "    temp= temp/ x.T.shape[0]\n",
    "    param = np.append(temp,np.std(x.T, axis=0))\n",
    "    parameters.append(param)"
   ]
  },
  {
   "cell_type": "code",
   "execution_count": 6,
   "id": "0dfe9967",
   "metadata": {},
   "outputs": [
    {
     "data": {
      "text/plain": [
       "[array([-0.02436643,  0.00428667,  0.03342887, ...,  0.21807387,\n",
       "         0.71923834,  0.66237533], dtype=float32),\n",
       " array([-0.05004442,  0.08577038, -0.15335314, ...,  0.5457179 ,\n",
       "         0.53994834,  0.5186221 ], dtype=float32),\n",
       " array([-0.0478214 ,  0.06822757,  0.03541551, ...,  0.64311576,\n",
       "         0.55215675,  0.55968946], dtype=float32),\n",
       " array([ 0.02299708, -0.04792721,  0.0820884 , ...,  0.9557422 ,\n",
       "         0.95049196,  0.95530057], dtype=float32),\n",
       " array([-0.00388455,  0.11227497, -0.04985452, ...,  0.6616517 ,\n",
       "         0.6988491 ,  0.66887283], dtype=float32),\n",
       " array([-0.0271099 , -0.05291145,  0.02450637, ...,  0.6919318 ,\n",
       "         0.7214049 ,  0.74052006], dtype=float32),\n",
       " array([ 0.01384578, -0.12987998, -0.03196469, ...,  0.7052927 ,\n",
       "         0.7132905 ,  0.70332366], dtype=float32),\n",
       " array([ 0.03572064, -0.05694216, -0.09738419, ...,  0.9854146 ,\n",
       "         0.98779607,  0.9915016 ], dtype=float32),\n",
       " array([0.0687818 , 0.04995634, 0.08529423, ..., 0.9823067 , 0.9857036 ,\n",
       "        0.8934225 ], dtype=float32),\n",
       " array([ 0.00255352, -0.04574944, -0.0833692 , ...,  0.9451956 ,\n",
       "         0.6579868 ,  0.9195799 ], dtype=float32),\n",
       " array([0.02730068, 0.18361352, 0.10394444, ..., 0.80575114, 0.9106229 ,\n",
       "        0.90497404], dtype=float32),\n",
       " array([-0.03724833, -0.10283694, -0.08652128, ...,  1.1328237 ,\n",
       "         1.0711974 ,  0.97211087], dtype=float32),\n",
       " array([-0.08803018,  0.00359597, -0.05106688, ...,  0.6003767 ,\n",
       "         0.5460985 ,  0.53589666], dtype=float32),\n",
       " array([0.06919125, 0.00171279, 0.03212191, ..., 0.80791116, 1.0697163 ,\n",
       "        1.0559618 ], dtype=float32),\n",
       " array([ 0.01191852,  0.05883629, -0.13090502, ...,  0.92487437,\n",
       "         0.81688917,  0.97085065], dtype=float32),\n",
       " array([-0.02042319, -0.0826033 ,  0.17281309, ...,  0.7301986 ,\n",
       "         0.6818866 ,  0.70656145], dtype=float32),\n",
       " array([0.16801855, 0.04146278, 0.06157227, ..., 0.84078366, 0.7221365 ,\n",
       "        0.89733076], dtype=float32),\n",
       " array([0.00146363, 0.1393481 , 0.13286182, ..., 0.9625337 , 0.88476247,\n",
       "        0.87215173], dtype=float32),\n",
       " array([ 0.00395998, -0.01746104, -0.07521127, ...,  1.042452  ,\n",
       "         1.1364866 ,  1.2337372 ], dtype=float32),\n",
       " array([0.22920589, 0.1364189 , 0.19225068, ..., 1.2270943 , 1.0779893 ,\n",
       "        1.2221119 ], dtype=float32),\n",
       " array([-0.00844514, -0.05294897, -0.11905853, ...,  0.7562743 ,\n",
       "         0.76431215,  0.80727786], dtype=float32),\n",
       " array([-0.08049174,  0.08883425, -0.00379877, ...,  0.92881763,\n",
       "         0.89923483,  0.93686587], dtype=float32),\n",
       " array([0.11912872, 0.21185036, 0.17344585, ..., 1.0054666 , 0.91595197,\n",
       "        0.93873453], dtype=float32),\n",
       " array([-0.03714793,  0.03483728,  0.0721632 , ...,  0.58923894,\n",
       "         0.58542895,  0.8694876 ], dtype=float32),\n",
       " array([-0.00902748,  0.1473332 ,  0.0370576 , ...,  0.8818879 ,\n",
       "         0.85160285,  0.8219103 ], dtype=float32),\n",
       " array([ 0.19971061,  0.10530014, -0.16590889, ...,  1.0849034 ,\n",
       "         1.0587752 ,  1.0633866 ], dtype=float32),\n",
       " array([0.14120407, 0.13318005, 0.14120026, ..., 0.90608406, 0.8863341 ,\n",
       "        0.8790842 ], dtype=float32),\n",
       " array([ 0.15320411,  0.15311056, -0.03645929, ...,  1.1333181 ,\n",
       "         1.1068896 ,  1.0913458 ], dtype=float32),\n",
       " array([-0.12316899, -0.10349756,  0.03927546, ...,  1.067517  ,\n",
       "         1.0605391 ,  1.1055541 ], dtype=float32),\n",
       " array([0.05960321, 0.0564451 , 0.03845891, ..., 0.97008175, 0.96503186,\n",
       "        0.9363175 ], dtype=float32)]"
      ]
     },
     "execution_count": 6,
     "metadata": {},
     "output_type": "execute_result"
    }
   ],
   "source": [
    "parameters"
   ]
  },
  {
   "cell_type": "code",
   "execution_count": 9,
   "id": "52a4b210",
   "metadata": {},
   "outputs": [
    {
     "data": {
      "text/plain": [
       "(20, 2672)"
      ]
     },
     "execution_count": 9,
     "metadata": {},
     "output_type": "execute_result"
    }
   ],
   "source": [
    "vectors[0].T.shape"
   ]
  },
  {
   "cell_type": "code",
   "execution_count": null,
   "id": "3b2da340",
   "metadata": {},
   "outputs": [],
   "source": []
  }
 ],
 "metadata": {
  "kernelspec": {
   "display_name": "Python 3 (ipykernel)",
   "language": "python",
   "name": "python3"
  },
  "language_info": {
   "codemirror_mode": {
    "name": "ipython",
    "version": 3
   },
   "file_extension": ".py",
   "mimetype": "text/x-python",
   "name": "python",
   "nbconvert_exporter": "python",
   "pygments_lexer": "ipython3",
   "version": "3.9.7"
  }
 },
 "nbformat": 4,
 "nbformat_minor": 5
}
