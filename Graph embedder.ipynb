{
 "cells": [
  {
   "cell_type": "code",
   "execution_count": null,
   "id": "0a50775c",
   "metadata": {},
   "outputs": [],
   "source": [
    "import networkx as nx\n",
    "import pandas as pd\n",
    "import os\n",
    "import glob\n",
    "import csv\n",
    "\n",
    "%matplotlib inline\n",
    "\n",
    "import warnings\n",
    "from text_unidecode import unidecode\n",
    "from collections import deque\n",
    "warnings.filterwarnings('ignore')\n",
    "\n",
    "\n",
    "from sklearn.manifold import TSNE\n",
    "import numpy as np\n",
    "import matplotlib.pyplot as plt\n",
    "import matplotlib.patches as mpatches\n",
    "import seaborn as sns\n",
    "from node2vec import Node2Vec"
   ]
  },
  {
   "cell_type": "code",
   "execution_count": null,
   "id": "87741f70",
   "metadata": {
    "scrolled": false
   },
   "outputs": [],
   "source": [
    "embeddings_by_graphs = []\n",
    "for g in range(31,33):\n",
    "    csvs = glob.glob(os.getcwd()+\"/data/sampledGraph-31-70/*{}_*.csv\".format(g))\n",
    "    vector=0\n",
    "    index = 0\n",
    "    parameters=[]\n",
    "    print(csvs)\n",
    "    \n",
    "    for i in csvs:\n",
    "        print(g, \" \",index ,\"/\",len(csvs))\n",
    "        index +=1\n",
    "        df = pd.read_csv(i)\n",
    "        graph = nx.from_pandas_edgelist(df,source=\"0\",target=\"1\")\n",
    "        print(nx.info(graph))\n",
    "        node2vec = Node2Vec(graph, dimensions=20, walk_length=16, num_walks=100, workers=2)\n",
    "        model = node2vec.fit(window=10, min_count=1)\n",
    "        vector += model.wv.vectors\n",
    "    \n",
    "    vector = vector/len(csvs)\n",
    "    temp = 0\n",
    "    for i in range(vector.T.shape[0]):\n",
    "        temp += vector.T[i]\n",
    "    temp= temp/ vector.T.shape[0]\n",
    "    param = np.append(temp,np.std(vector.T, axis=0))\n",
    "    parameters.append(param)\n",
    "    embeddings_by_graphs.append(parameters)\n",
    "    "
   ]
  },
  {
   "cell_type": "code",
   "execution_count": null,
   "id": "22965d54",
   "metadata": {},
   "outputs": [],
   "source": [
    "import pickle\n",
    "with open('embeddings.pkl', 'wb') as f:\n",
    "    pickle.dump(embeddings_by_graphs, f)\n"
   ]
  },
  {
   "cell_type": "code",
   "execution_count": null,
   "id": "cd575674",
   "metadata": {},
   "outputs": [],
   "source": [
    "embeddings_by_graphs"
   ]
  }
 ],
 "metadata": {
  "kernelspec": {
   "display_name": "Python 3 (ipykernel)",
   "language": "python",
   "name": "python3"
  },
  "language_info": {
   "codemirror_mode": {
    "name": "ipython",
    "version": 3
   },
   "file_extension": ".py",
   "mimetype": "text/x-python",
   "name": "python",
   "nbconvert_exporter": "python",
   "pygments_lexer": "ipython3",
   "version": "3.9.7"
  }
 },
 "nbformat": 4,
 "nbformat_minor": 5
}
