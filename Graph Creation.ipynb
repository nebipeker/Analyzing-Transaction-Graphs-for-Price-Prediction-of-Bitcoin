{
 "cells": [
  {
   "cell_type": "code",
   "execution_count": null,
   "id": "db48173e",
   "metadata": {},
   "outputs": [],
   "source": [
    "data = pd.read_csv(\"btc_tx_2011_2013.csv\") #13- 14 - 15 e bakalim corr var mi hangi featurelar arasi average shortest path length etc.\n",
    "# flow bazli metrikler\n",
    "# her biri icin graph olusturulup time seriese bagli graphlar\n",
    "# makalelerdeki featurelar (stanford 2015 | Group work) aynilarini deneriz\n",
    "# 100k nodes randomly sampled, multiple times. Per month and closure price, price changing return % \n",
    "# pearson spearman corrs"
   ]
  },
  {
   "cell_type": "code",
   "execution_count": null,
   "id": "28458840",
   "metadata": {},
   "outputs": [],
   "source": [
    "data.head()"
   ]
  },
  {
   "cell_type": "code",
   "execution_count": null,
   "id": "fc548a6d",
   "metadata": {},
   "outputs": [],
   "source": [
    "data.columns = [\"tx_hash_from\",\"tx_hash_to\",\"datetime\",\"amount_bitcoins\"]"
   ]
  },
  {
   "cell_type": "code",
   "execution_count": null,
   "id": "dc8d274f",
   "metadata": {},
   "outputs": [],
   "source": [
    "data.describe()"
   ]
  },
  {
   "cell_type": "code",
   "execution_count": null,
   "id": "d19fc57f",
   "metadata": {},
   "outputs": [],
   "source": [
    "data.info()"
   ]
  },
  {
   "cell_type": "code",
   "execution_count": null,
   "id": "4810bf19",
   "metadata": {
    "scrolled": true
   },
   "outputs": [],
   "source": [
    "data.shape"
   ]
  },
  {
   "cell_type": "code",
   "execution_count": null,
   "id": "e5911a1a",
   "metadata": {},
   "outputs": [],
   "source": [
    "data[\"datetime\"]=pd.to_datetime(data[\"datetime\"])\n",
    "data[\"datetime\"] = data[\"datetime\"].dt.date"
   ]
  },
  {
   "cell_type": "code",
   "execution_count": null,
   "id": "f5f9e42f",
   "metadata": {
    "scrolled": true
   },
   "outputs": [],
   "source": [
    "data"
   ]
  },
  {
   "cell_type": "code",
   "execution_count": null,
   "id": "5d65d73e",
   "metadata": {},
   "outputs": [],
   "source": [
    "df = data.sort_values(by= [\"datetime\"])"
   ]
  },
  {
   "cell_type": "code",
   "execution_count": null,
   "id": "ae3715ad",
   "metadata": {},
   "outputs": [],
   "source": [
    "df.to_csv('Sorted.csv')"
   ]
  },
  {
   "cell_type": "code",
   "execution_count": null,
   "id": "11029887",
   "metadata": {},
   "outputs": [],
   "source": [
    "df = pd.read_csv(\"Sorted.csv\")"
   ]
  },
  {
   "cell_type": "code",
   "execution_count": null,
   "id": "d258f7b1",
   "metadata": {},
   "outputs": [],
   "source": [
    "df[\"datetime\"]=pd.to_datetime(df[\"datetime\"])\n",
    "df[\"datetime\"] = df[\"datetime\"].dt.date"
   ]
  },
  {
   "cell_type": "code",
   "execution_count": null,
   "id": "8bf22f61",
   "metadata": {},
   "outputs": [],
   "source": [
    "sliced = slice_by_weeks(df)"
   ]
  },
  {
   "cell_type": "code",
   "execution_count": null,
   "id": "85cb5d95",
   "metadata": {
    "scrolled": true
   },
   "outputs": [],
   "source": [
    "with open('slices.pkl', 'wb') as f:\n",
    "    pickle.dump(sliced, f)\n"
   ]
  },
  {
   "cell_type": "code",
   "execution_count": 1,
   "id": "6e99e0b0",
   "metadata": {},
   "outputs": [],
   "source": [
    "import pandas as pd\n",
    "import numpy as np\n",
    "import matplotlib.pyplot as plt\n",
    "import networkx as nx\n",
    "from datetime import datetime\n",
    "import gc\n",
    "import pickle"
   ]
  },
  {
   "cell_type": "code",
   "execution_count": 2,
   "id": "f3fcd366",
   "metadata": {},
   "outputs": [],
   "source": [
    "def slice_by_weeks(df):\n",
    "    groups = []\n",
    "    prev=0\n",
    "    end_of_week1 = False\n",
    "    end_of_week2 = False\n",
    "    for i in range(df.shape[0]):\n",
    "        if df[\"datetime\"].iloc[i].weekday() == 6:\n",
    "            end_of_week1 = True\n",
    "        elif df[\"datetime\"].iloc[i].weekday() == 0:\n",
    "            end_of_week2 = True\n",
    "        if end_of_week1 and end_of_week2:\n",
    "            #print(prev, i)\n",
    "            groups.append(df.iloc[prev:i])\n",
    "            prev = i\n",
    "            end_of_week1 = False\n",
    "            end_of_week2 = False\n",
    "    return groups\n",
    "\n",
    "def createGraph(data): # directed graph\n",
    "    G=nx.from_pandas_edgelist(data,source=\"tx_hash_from\",target =\"tx_hash_to\", edge_attr=\"amount_bitcoins\", create_using=nx.DiGraph())\n",
    "    return G"
   ]
  },
  {
   "cell_type": "code",
   "execution_count": 3,
   "id": "d7f2daaf",
   "metadata": {},
   "outputs": [],
   "source": [
    "with open('slices.pkl', 'rb') as f:\n",
    "    sliced = pickle.load(f)"
   ]
  },
  {
   "cell_type": "code",
   "execution_count": 4,
   "id": "8d9fba1b",
   "metadata": {
    "scrolled": true
   },
   "outputs": [
    {
     "data": {
      "text/plain": [
       "519"
      ]
     },
     "execution_count": 4,
     "metadata": {},
     "output_type": "execute_result"
    }
   ],
   "source": [
    "len(sliced)"
   ]
  },
  {
   "cell_type": "code",
   "execution_count": 5,
   "id": "c88d1720",
   "metadata": {
    "scrolled": true
   },
   "outputs": [
    {
     "name": "stdout",
     "output_type": "stream",
     "text": [
      "519\r"
     ]
    }
   ],
   "source": [
    "graphs = []\n",
    "index =470\n",
    "for i in sliced[470:519]:\n",
    "    graphs.append(createGraph(i))\n",
    "    index+=1\n",
    "    print(index, end=\"\\r\")"
   ]
  },
  {
   "cell_type": "code",
   "execution_count": 6,
   "id": "4f894b23",
   "metadata": {
    "scrolled": true
   },
   "outputs": [],
   "source": [
    "with open('graphs470-519.pkl', 'wb') as f:\n",
    "    pickle.dump(graphs, f)"
   ]
  },
  {
   "cell_type": "code",
   "execution_count": null,
   "id": "93a6aa29",
   "metadata": {},
   "outputs": [],
   "source": []
  }
 ],
 "metadata": {
  "kernelspec": {
   "display_name": "Python 3",
   "language": "python",
   "name": "python3"
  },
  "language_info": {
   "codemirror_mode": {
    "name": "ipython",
    "version": 3
   },
   "file_extension": ".py",
   "mimetype": "text/x-python",
   "name": "python",
   "nbconvert_exporter": "python",
   "pygments_lexer": "ipython3",
   "version": "3.8.8"
  }
 },
 "nbformat": 4,
 "nbformat_minor": 5
}
