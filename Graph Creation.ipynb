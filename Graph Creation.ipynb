{
 "cells": [
  {
   "cell_type": "code",
   "execution_count": null,
   "id": "db48173e",
   "metadata": {},
   "outputs": [],
   "source": [
    "data = pd.read_csv(\"btc_tx_2011_2013.csv\") #13- 14 - 15 e bakalim corr var mi hangi featurelar arasi average shortest path length etc.\n",
    "# flow bazli metrikler\n",
    "# her biri icin graph olusturulup time seriese bagli graphlar\n",
    "# makalelerdeki featurelar (stanford 2015 | Group work) aynilarini deneriz\n",
    "# 100k nodes randomly sampled, multiple times. Per month and closure price, price changing return % \n",
    "# pearson spearman corrs"
   ]
  },
  {
   "cell_type": "code",
   "execution_count": null,
   "id": "28458840",
   "metadata": {},
   "outputs": [],
   "source": [
    "data.head()"
   ]
  },
  {
   "cell_type": "code",
   "execution_count": null,
   "id": "fc548a6d",
   "metadata": {},
   "outputs": [],
   "source": [
    "data.columns = [\"tx_hash_from\",\"tx_hash_to\",\"datetime\",\"amount_bitcoins\"]"
   ]
  },
  {
   "cell_type": "code",
   "execution_count": null,
   "id": "61241d1c",
   "metadata": {},
   "outputs": [],
   "source": [
    "data"
   ]
  },
  {
   "cell_type": "code",
   "execution_count": null,
   "id": "dc8d274f",
   "metadata": {},
   "outputs": [],
   "source": [
    "data.describe()"
   ]
  },
  {
   "cell_type": "code",
   "execution_count": null,
   "id": "d19fc57f",
   "metadata": {},
   "outputs": [],
   "source": [
    "data.info()"
   ]
  },
  {
   "cell_type": "code",
   "execution_count": null,
   "id": "4810bf19",
   "metadata": {
    "scrolled": true
   },
   "outputs": [],
   "source": [
    "data.shape"
   ]
  },
  {
   "cell_type": "code",
   "execution_count": null,
   "id": "e5911a1a",
   "metadata": {},
   "outputs": [],
   "source": [
    "data[\"datetime\"]=pd.to_datetime(data[\"datetime\"])\n",
    "data[\"datetime\"] = data[\"datetime\"].dt.date"
   ]
  },
  {
   "cell_type": "code",
   "execution_count": null,
   "id": "f5f9e42f",
   "metadata": {
    "scrolled": true
   },
   "outputs": [],
   "source": [
    "data"
   ]
  },
  {
   "cell_type": "code",
   "execution_count": null,
   "id": "5d65d73e",
   "metadata": {},
   "outputs": [],
   "source": [
    "df = data.sort_values(by= [\"datetime\"])"
   ]
  },
  {
   "cell_type": "code",
   "execution_count": null,
   "id": "ae3715ad",
   "metadata": {},
   "outputs": [],
   "source": [
    "df.to_csv('Sorted.csv')"
   ]
  },
  {
   "cell_type": "code",
   "execution_count": 3,
   "id": "11029887",
   "metadata": {},
   "outputs": [],
   "source": [
    "df = pd.read_csv(\"Sorted.csv\")"
   ]
  },
  {
   "cell_type": "code",
   "execution_count": 4,
   "id": "d258f7b1",
   "metadata": {},
   "outputs": [],
   "source": [
    "df[\"datetime\"]=pd.to_datetime(df[\"datetime\"]).dt.date"
   ]
  },
  {
   "cell_type": "code",
   "execution_count": 6,
   "id": "428ed7ad",
   "metadata": {},
   "outputs": [],
   "source": [
    "sliced = slice_by_weeks(df.drop(0))\n"
   ]
  },
  {
   "cell_type": "code",
   "execution_count": 45,
   "id": "85cb5d95",
   "metadata": {
    "scrolled": true
   },
   "outputs": [],
   "source": [
    "with open('slices2.pkl', 'wb') as f:\n",
    "    pickle.dump(sliced[150:], f)\n"
   ]
  },
  {
   "cell_type": "code",
   "execution_count": null,
   "id": "2e967fdb",
   "metadata": {},
   "outputs": [],
   "source": []
  },
  {
   "cell_type": "code",
   "execution_count": 1,
   "id": "6e99e0b0",
   "metadata": {},
   "outputs": [],
   "source": [
    "import pandas as pd\n",
    "import numpy as np\n",
    "import matplotlib.pyplot as plt\n",
    "import networkx as nx\n",
    "from datetime import datetime, timedelta\n",
    "import gc\n",
    "import pickle"
   ]
  },
  {
   "cell_type": "code",
   "execution_count": 2,
   "id": "f3fcd366",
   "metadata": {},
   "outputs": [],
   "source": [
    "def slice_by_weeks(df):\n",
    "    groups = []\n",
    "    prev= df[\"datetime\"].iloc[0]\n",
    "    prev_index = 0\n",
    "    for i in range(df.shape[0]):\n",
    "        if (df[\"datetime\"].iloc[i] - prev).days >= 7:\n",
    "            groups.append(df.iloc[prev_index:i])\n",
    "            prev = df[\"datetime\"].iloc[i] - timedelta(df[\"datetime\"].iloc[i].weekday())\n",
    "            prev_index=i\n",
    "    return groups\n",
    "\n",
    "def createGraph(data): # directed graph\n",
    "    G=nx.from_pandas_edgelist(data,source=\"tx_hash_from\",target =\"tx_hash_to\", edge_attr=\"amount_bitcoins\", create_using=nx.DiGraph())\n",
    "    return G"
   ]
  },
  {
   "cell_type": "code",
   "execution_count": 3,
   "id": "d7f2daaf",
   "metadata": {},
   "outputs": [],
   "source": [
    "with open('slices.pkl', 'rb') as f:\n",
    "    sliced = pickle.load(f)"
   ]
  },
  {
   "cell_type": "code",
   "execution_count": 4,
   "id": "3fbb3b3c",
   "metadata": {},
   "outputs": [
    {
     "data": {
      "text/plain": [
       "170"
      ]
     },
     "execution_count": 4,
     "metadata": {},
     "output_type": "execute_result"
    }
   ],
   "source": [
    "len(sliced)"
   ]
  },
  {
   "cell_type": "code",
   "execution_count": 10,
   "id": "c88d1720",
   "metadata": {
    "scrolled": true
   },
   "outputs": [
    {
     "name": "stdout",
     "output_type": "stream",
     "text": [
      "150\r"
     ]
    }
   ],
   "source": [
    "graphs = []\n",
    "index =130\n",
    "for i in sliced[150:]:\n",
    "    graphs.append(createGraph(i))\n",
    "    index+=1\n",
    "    print(index, end=\"\\r\")"
   ]
  },
  {
   "cell_type": "code",
   "execution_count": 11,
   "id": "4f894b23",
   "metadata": {
    "scrolled": true
   },
   "outputs": [],
   "source": [
    "with open('graphs150-170.pkl', 'wb') as f:\n",
    "    pickle.dump(graphs, f)"
   ]
  },
  {
   "cell_type": "code",
   "execution_count": null,
   "id": "71d9689e",
   "metadata": {},
   "outputs": [],
   "source": [
    "df.drop(0)"
   ]
  },
  {
   "cell_type": "code",
   "execution_count": null,
   "id": "3b4c5e55",
   "metadata": {},
   "outputs": [],
   "source": [
    "datetime(2009,1,12).weekday()"
   ]
  },
  {
   "cell_type": "code",
   "execution_count": 16,
   "id": "7187e49a",
   "metadata": {},
   "outputs": [
    {
     "data": {
      "text/html": [
       "<div>\n",
       "<style scoped>\n",
       "    .dataframe tbody tr th:only-of-type {\n",
       "        vertical-align: middle;\n",
       "    }\n",
       "\n",
       "    .dataframe tbody tr th {\n",
       "        vertical-align: top;\n",
       "    }\n",
       "\n",
       "    .dataframe thead th {\n",
       "        text-align: right;\n",
       "    }\n",
       "</style>\n",
       "<table border=\"1\" class=\"dataframe\">\n",
       "  <thead>\n",
       "    <tr style=\"text-align: right;\">\n",
       "      <th></th>\n",
       "      <th>tx_hash_from</th>\n",
       "      <th>tx_hash_to</th>\n",
       "      <th>datetime</th>\n",
       "      <th>amount_bitcoins</th>\n",
       "    </tr>\n",
       "  </thead>\n",
       "  <tbody>\n",
       "    <tr>\n",
       "      <th>65123430</th>\n",
       "      <td>c8991353a7498d3b96be10d01df0ab6e3313d867df5ec2...</td>\n",
       "      <td>324c6d807328caf13400606687b309cebef9e36aac18d1...</td>\n",
       "      <td>2013-12-23</td>\n",
       "      <td>0.090000</td>\n",
       "    </tr>\n",
       "    <tr>\n",
       "      <th>65123431</th>\n",
       "      <td>f2d184b164d848aae32ba6d1cd47ea54911514ca2e5f68...</td>\n",
       "      <td>85c6192608655c2de370ab70bfed6021ac41e9d360007e...</td>\n",
       "      <td>2013-12-23</td>\n",
       "      <td>0.323200</td>\n",
       "    </tr>\n",
       "    <tr>\n",
       "      <th>65123432</th>\n",
       "      <td>f2d184b164d848aae32ba6d1cd47ea54911514ca2e5f68...</td>\n",
       "      <td>97fcd28f0905fcaf3db6a9e0dd679239b50193ddb10270...</td>\n",
       "      <td>2013-12-23</td>\n",
       "      <td>0.361200</td>\n",
       "    </tr>\n",
       "    <tr>\n",
       "      <th>65123433</th>\n",
       "      <td>0205a3387132ed3ba282de64141020141efc299e608753...</td>\n",
       "      <td>2c0d995cf888d2572615dbb0ee2616f2ee1b3d006730e0...</td>\n",
       "      <td>2013-12-23</td>\n",
       "      <td>0.103400</td>\n",
       "    </tr>\n",
       "    <tr>\n",
       "      <th>65123434</th>\n",
       "      <td>0205a3387132ed3ba282de64141020141efc299e608753...</td>\n",
       "      <td>d099e61a90e0770e920989f255ee46800eda8fb4f97445...</td>\n",
       "      <td>2013-12-23</td>\n",
       "      <td>0.146500</td>\n",
       "    </tr>\n",
       "    <tr>\n",
       "      <th>...</th>\n",
       "      <td>...</td>\n",
       "      <td>...</td>\n",
       "      <td>...</td>\n",
       "      <td>...</td>\n",
       "    </tr>\n",
       "    <tr>\n",
       "      <th>65894508</th>\n",
       "      <td>41a850f9c8fdd48a9a776a09e3d96d0c77b38b4589e0f4...</td>\n",
       "      <td>9ec8f103d8fe31679d3771e02368ca53e2d9ffcf4da57a...</td>\n",
       "      <td>2013-12-29</td>\n",
       "      <td>0.130729</td>\n",
       "    </tr>\n",
       "    <tr>\n",
       "      <th>65894509</th>\n",
       "      <td>dc2db604fb5f8740005fc56481e9a2c0f70c21eba92bd4...</td>\n",
       "      <td>3da517409360d44a1399594f6c372c2c3113ca7872a72f...</td>\n",
       "      <td>2013-12-29</td>\n",
       "      <td>0.000588</td>\n",
       "    </tr>\n",
       "    <tr>\n",
       "      <th>65894510</th>\n",
       "      <td>cd1f9caac176b2e10b27fd95e3f834cef94ca00d401979...</td>\n",
       "      <td>4b3ddf880235bf0302bb56b01d433bb1983e2e1f576d64...</td>\n",
       "      <td>2013-12-29</td>\n",
       "      <td>0.040000</td>\n",
       "    </tr>\n",
       "    <tr>\n",
       "      <th>65894511</th>\n",
       "      <td>0d61a5f5c38856e9ba0b6c56617b1f9c9b155fdec95281...</td>\n",
       "      <td>eb4f563612a352727ca7cb1397259f18ee88e122c93e2b...</td>\n",
       "      <td>2013-12-29</td>\n",
       "      <td>0.040000</td>\n",
       "    </tr>\n",
       "    <tr>\n",
       "      <th>65894512</th>\n",
       "      <td>dc2db604fb5f8740005fc56481e9a2c0f70c21eba92bd4...</td>\n",
       "      <td>0cdd1e10a4f03671f45134559c99a595bc78b5393d4bbd...</td>\n",
       "      <td>2013-12-29</td>\n",
       "      <td>0.019900</td>\n",
       "    </tr>\n",
       "  </tbody>\n",
       "</table>\n",
       "<p>771083 rows × 4 columns</p>\n",
       "</div>"
      ],
      "text/plain": [
       "                                               tx_hash_from  \\\n",
       "65123430  c8991353a7498d3b96be10d01df0ab6e3313d867df5ec2...   \n",
       "65123431  f2d184b164d848aae32ba6d1cd47ea54911514ca2e5f68...   \n",
       "65123432  f2d184b164d848aae32ba6d1cd47ea54911514ca2e5f68...   \n",
       "65123433  0205a3387132ed3ba282de64141020141efc299e608753...   \n",
       "65123434  0205a3387132ed3ba282de64141020141efc299e608753...   \n",
       "...                                                     ...   \n",
       "65894508  41a850f9c8fdd48a9a776a09e3d96d0c77b38b4589e0f4...   \n",
       "65894509  dc2db604fb5f8740005fc56481e9a2c0f70c21eba92bd4...   \n",
       "65894510  cd1f9caac176b2e10b27fd95e3f834cef94ca00d401979...   \n",
       "65894511  0d61a5f5c38856e9ba0b6c56617b1f9c9b155fdec95281...   \n",
       "65894512  dc2db604fb5f8740005fc56481e9a2c0f70c21eba92bd4...   \n",
       "\n",
       "                                                 tx_hash_to    datetime  \\\n",
       "65123430  324c6d807328caf13400606687b309cebef9e36aac18d1...  2013-12-23   \n",
       "65123431  85c6192608655c2de370ab70bfed6021ac41e9d360007e...  2013-12-23   \n",
       "65123432  97fcd28f0905fcaf3db6a9e0dd679239b50193ddb10270...  2013-12-23   \n",
       "65123433  2c0d995cf888d2572615dbb0ee2616f2ee1b3d006730e0...  2013-12-23   \n",
       "65123434  d099e61a90e0770e920989f255ee46800eda8fb4f97445...  2013-12-23   \n",
       "...                                                     ...         ...   \n",
       "65894508  9ec8f103d8fe31679d3771e02368ca53e2d9ffcf4da57a...  2013-12-29   \n",
       "65894509  3da517409360d44a1399594f6c372c2c3113ca7872a72f...  2013-12-29   \n",
       "65894510  4b3ddf880235bf0302bb56b01d433bb1983e2e1f576d64...  2013-12-29   \n",
       "65894511  eb4f563612a352727ca7cb1397259f18ee88e122c93e2b...  2013-12-29   \n",
       "65894512  0cdd1e10a4f03671f45134559c99a595bc78b5393d4bbd...  2013-12-29   \n",
       "\n",
       "          amount_bitcoins  \n",
       "65123430         0.090000  \n",
       "65123431         0.323200  \n",
       "65123432         0.361200  \n",
       "65123433         0.103400  \n",
       "65123434         0.146500  \n",
       "...                   ...  \n",
       "65894508         0.130729  \n",
       "65894509         0.000588  \n",
       "65894510         0.040000  \n",
       "65894511         0.040000  \n",
       "65894512         0.019900  \n",
       "\n",
       "[771083 rows x 4 columns]"
      ]
     },
     "execution_count": 16,
     "metadata": {},
     "output_type": "execute_result"
    }
   ],
   "source": [
    "sliced[169]"
   ]
  },
  {
   "cell_type": "code",
   "execution_count": null,
   "id": "80952083",
   "metadata": {},
   "outputs": [],
   "source": []
  }
 ],
 "metadata": {
  "kernelspec": {
   "display_name": "Python 3",
   "language": "python",
   "name": "python3"
  },
  "language_info": {
   "codemirror_mode": {
    "name": "ipython",
    "version": 3
   },
   "file_extension": ".py",
   "mimetype": "text/x-python",
   "name": "python",
   "nbconvert_exporter": "python",
   "pygments_lexer": "ipython3",
   "version": "3.8.8"
  }
 },
 "nbformat": 4,
 "nbformat_minor": 5
}
