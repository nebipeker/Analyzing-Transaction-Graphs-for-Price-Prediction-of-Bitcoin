{
 "cells": [
  {
   "cell_type": "code",
   "execution_count": 3,
   "id": "db48173e",
   "metadata": {},
   "outputs": [],
   "source": [
    "data = pd.read_csv(\"btc_tx_2011_2013.csv\") #13- 14 - 15 e bakalim corr var mi hangi featurelar arasi average shortest path length etc.\n",
    "# flow bazli metrikler\n",
    "# her biri icin graph olusturulup time seriese bagli graphlar\n",
    "# makalelerdeki featurelar (stanford 2015 | Group work) aynilarini deneriz\n",
    "# 100k nodes randomly sampled, multiple times. Per month and closure price, price changing return % \n",
    "# pearson spearman corrs"
   ]
  },
  {
   "cell_type": "code",
   "execution_count": 4,
   "id": "28458840",
   "metadata": {},
   "outputs": [
    {
     "data": {
      "text/html": [
       "<div>\n",
       "<style scoped>\n",
       "    .dataframe tbody tr th:only-of-type {\n",
       "        vertical-align: middle;\n",
       "    }\n",
       "\n",
       "    .dataframe tbody tr th {\n",
       "        vertical-align: top;\n",
       "    }\n",
       "\n",
       "    .dataframe thead th {\n",
       "        text-align: right;\n",
       "    }\n",
       "</style>\n",
       "<table border=\"1\" class=\"dataframe\">\n",
       "  <thead>\n",
       "    <tr style=\"text-align: right;\">\n",
       "      <th></th>\n",
       "      <th>0437cd7f8525ceed2324359c2d0ba26006d92d856a9c20fa0241106ee5a597c9</th>\n",
       "      <th>f4184fc596403b9d638783cf57adfe4c75c605f6356fbc91338530e9831e9e16</th>\n",
       "      <th>2009-01-09 03:54:39</th>\n",
       "      <th>50.0</th>\n",
       "    </tr>\n",
       "  </thead>\n",
       "  <tbody>\n",
       "    <tr>\n",
       "      <th>0</th>\n",
       "      <td>f4184fc596403b9d638783cf57adfe4c75c605f6356fbc...</td>\n",
       "      <td>ea44e97271691990157559d0bdd9959e02790c34db6c00...</td>\n",
       "      <td>2009-01-12 03:30:25</td>\n",
       "      <td>10.0</td>\n",
       "    </tr>\n",
       "    <tr>\n",
       "      <th>1</th>\n",
       "      <td>f4184fc596403b9d638783cf57adfe4c75c605f6356fbc...</td>\n",
       "      <td>a16f3ce4dd5deb92d98ef5cf8afeaf0775ebca408f708b...</td>\n",
       "      <td>2009-01-12 03:30:25</td>\n",
       "      <td>40.0</td>\n",
       "    </tr>\n",
       "    <tr>\n",
       "      <th>2</th>\n",
       "      <td>a16f3ce4dd5deb92d98ef5cf8afeaf0775ebca408f708b...</td>\n",
       "      <td>591e91f809d716912ca1d4a9295e70c3e78bab077683f7...</td>\n",
       "      <td>2009-01-12 06:02:13</td>\n",
       "      <td>30.0</td>\n",
       "    </tr>\n",
       "    <tr>\n",
       "      <th>3</th>\n",
       "      <td>591e91f809d716912ca1d4a9295e70c3e78bab077683f7...</td>\n",
       "      <td>298ca2045d174f8a158961806ffc4ef96fad02d71a6b84...</td>\n",
       "      <td>2009-01-12 06:12:16</td>\n",
       "      <td>1.0</td>\n",
       "    </tr>\n",
       "    <tr>\n",
       "      <th>4</th>\n",
       "      <td>591e91f809d716912ca1d4a9295e70c3e78bab077683f7...</td>\n",
       "      <td>12b5633bad1f9c167d523ad1aa1947b2732a865bf5414e...</td>\n",
       "      <td>2009-01-12 06:12:16</td>\n",
       "      <td>29.0</td>\n",
       "    </tr>\n",
       "  </tbody>\n",
       "</table>\n",
       "</div>"
      ],
      "text/plain": [
       "  0437cd7f8525ceed2324359c2d0ba26006d92d856a9c20fa0241106ee5a597c9  \\\n",
       "0  f4184fc596403b9d638783cf57adfe4c75c605f6356fbc...                 \n",
       "1  f4184fc596403b9d638783cf57adfe4c75c605f6356fbc...                 \n",
       "2  a16f3ce4dd5deb92d98ef5cf8afeaf0775ebca408f708b...                 \n",
       "3  591e91f809d716912ca1d4a9295e70c3e78bab077683f7...                 \n",
       "4  591e91f809d716912ca1d4a9295e70c3e78bab077683f7...                 \n",
       "\n",
       "  f4184fc596403b9d638783cf57adfe4c75c605f6356fbc91338530e9831e9e16  \\\n",
       "0  ea44e97271691990157559d0bdd9959e02790c34db6c00...                 \n",
       "1  a16f3ce4dd5deb92d98ef5cf8afeaf0775ebca408f708b...                 \n",
       "2  591e91f809d716912ca1d4a9295e70c3e78bab077683f7...                 \n",
       "3  298ca2045d174f8a158961806ffc4ef96fad02d71a6b84...                 \n",
       "4  12b5633bad1f9c167d523ad1aa1947b2732a865bf5414e...                 \n",
       "\n",
       "   2009-01-09 03:54:39  50.0  \n",
       "0  2009-01-12 03:30:25  10.0  \n",
       "1  2009-01-12 03:30:25  40.0  \n",
       "2  2009-01-12 06:02:13  30.0  \n",
       "3  2009-01-12 06:12:16   1.0  \n",
       "4  2009-01-12 06:12:16  29.0  "
      ]
     },
     "execution_count": 4,
     "metadata": {},
     "output_type": "execute_result"
    }
   ],
   "source": [
    "data.head()"
   ]
  },
  {
   "cell_type": "code",
   "execution_count": 5,
   "id": "fc548a6d",
   "metadata": {},
   "outputs": [],
   "source": [
    "data.columns = [\"tx_hash_from\",\"tx_hash_to\",\"datetime\",\"amount_bitcoins\"]"
   ]
  },
  {
   "cell_type": "code",
   "execution_count": 6,
   "id": "61241d1c",
   "metadata": {},
   "outputs": [
    {
     "data": {
      "text/html": [
       "<div>\n",
       "<style scoped>\n",
       "    .dataframe tbody tr th:only-of-type {\n",
       "        vertical-align: middle;\n",
       "    }\n",
       "\n",
       "    .dataframe tbody tr th {\n",
       "        vertical-align: top;\n",
       "    }\n",
       "\n",
       "    .dataframe thead th {\n",
       "        text-align: right;\n",
       "    }\n",
       "</style>\n",
       "<table border=\"1\" class=\"dataframe\">\n",
       "  <thead>\n",
       "    <tr style=\"text-align: right;\">\n",
       "      <th></th>\n",
       "      <th>tx_hash_from</th>\n",
       "      <th>tx_hash_to</th>\n",
       "      <th>datetime</th>\n",
       "      <th>amount_bitcoins</th>\n",
       "    </tr>\n",
       "  </thead>\n",
       "  <tbody>\n",
       "    <tr>\n",
       "      <th>0</th>\n",
       "      <td>f4184fc596403b9d638783cf57adfe4c75c605f6356fbc...</td>\n",
       "      <td>ea44e97271691990157559d0bdd9959e02790c34db6c00...</td>\n",
       "      <td>2009-01-12 03:30:25</td>\n",
       "      <td>10.000000</td>\n",
       "    </tr>\n",
       "    <tr>\n",
       "      <th>1</th>\n",
       "      <td>f4184fc596403b9d638783cf57adfe4c75c605f6356fbc...</td>\n",
       "      <td>a16f3ce4dd5deb92d98ef5cf8afeaf0775ebca408f708b...</td>\n",
       "      <td>2009-01-12 03:30:25</td>\n",
       "      <td>40.000000</td>\n",
       "    </tr>\n",
       "    <tr>\n",
       "      <th>2</th>\n",
       "      <td>a16f3ce4dd5deb92d98ef5cf8afeaf0775ebca408f708b...</td>\n",
       "      <td>591e91f809d716912ca1d4a9295e70c3e78bab077683f7...</td>\n",
       "      <td>2009-01-12 06:02:13</td>\n",
       "      <td>30.000000</td>\n",
       "    </tr>\n",
       "    <tr>\n",
       "      <th>3</th>\n",
       "      <td>591e91f809d716912ca1d4a9295e70c3e78bab077683f7...</td>\n",
       "      <td>298ca2045d174f8a158961806ffc4ef96fad02d71a6b84...</td>\n",
       "      <td>2009-01-12 06:12:16</td>\n",
       "      <td>1.000000</td>\n",
       "    </tr>\n",
       "    <tr>\n",
       "      <th>4</th>\n",
       "      <td>591e91f809d716912ca1d4a9295e70c3e78bab077683f7...</td>\n",
       "      <td>12b5633bad1f9c167d523ad1aa1947b2732a865bf5414e...</td>\n",
       "      <td>2009-01-12 06:12:16</td>\n",
       "      <td>29.000000</td>\n",
       "    </tr>\n",
       "    <tr>\n",
       "      <th>...</th>\n",
       "      <td>...</td>\n",
       "      <td>...</td>\n",
       "      <td>...</td>\n",
       "      <td>...</td>\n",
       "    </tr>\n",
       "    <tr>\n",
       "      <th>66199067</th>\n",
       "      <td>7ebd2c87efead031e8b6aeecc1ef4032551d9580726a1f...</td>\n",
       "      <td>5c6684d182093e8a8cbf8434f6dbb6c0a69684885b5c22...</td>\n",
       "      <td>2014-01-02 14:59:25</td>\n",
       "      <td>0.610000</td>\n",
       "    </tr>\n",
       "    <tr>\n",
       "      <th>66199068</th>\n",
       "      <td>6556332ea7196ac64e29d78576a7a6cdc4cbfecbd29f47...</td>\n",
       "      <td>653cab2118c19528ef711d45e5af39971f00e307da3ef4...</td>\n",
       "      <td>2014-01-02 14:59:25</td>\n",
       "      <td>0.026032</td>\n",
       "    </tr>\n",
       "    <tr>\n",
       "      <th>66199069</th>\n",
       "      <td>ddce84f4e7da169c0d470cd8c090e2c6be862d458b4f1c...</td>\n",
       "      <td>653cab2118c19528ef711d45e5af39971f00e307da3ef4...</td>\n",
       "      <td>2014-01-02 14:59:25</td>\n",
       "      <td>0.009715</td>\n",
       "    </tr>\n",
       "    <tr>\n",
       "      <th>66199070</th>\n",
       "      <td>e649a0bc622c6c499e81f85bae2ba95b588a7148b84509...</td>\n",
       "      <td>86985d45d89f3ad367cbbb96b3a1b2119ed8ed103be124...</td>\n",
       "      <td>2014-01-02 14:59:25</td>\n",
       "      <td>0.023515</td>\n",
       "    </tr>\n",
       "    <tr>\n",
       "      <th>66199071</th>\n",
       "      <td>dd1f4e539ed444b62a947cdd2a37070ac5fd8ca222ec36...</td>\n",
       "      <td>b6214ee47b3422f20b6c06349d6a704baca73c56dd7bb9...</td>\n",
       "      <td>2014-01-02 14:59:25</td>\n",
       "      <td>0.027860</td>\n",
       "    </tr>\n",
       "  </tbody>\n",
       "</table>\n",
       "<p>66199072 rows × 4 columns</p>\n",
       "</div>"
      ],
      "text/plain": [
       "                                               tx_hash_from  \\\n",
       "0         f4184fc596403b9d638783cf57adfe4c75c605f6356fbc...   \n",
       "1         f4184fc596403b9d638783cf57adfe4c75c605f6356fbc...   \n",
       "2         a16f3ce4dd5deb92d98ef5cf8afeaf0775ebca408f708b...   \n",
       "3         591e91f809d716912ca1d4a9295e70c3e78bab077683f7...   \n",
       "4         591e91f809d716912ca1d4a9295e70c3e78bab077683f7...   \n",
       "...                                                     ...   \n",
       "66199067  7ebd2c87efead031e8b6aeecc1ef4032551d9580726a1f...   \n",
       "66199068  6556332ea7196ac64e29d78576a7a6cdc4cbfecbd29f47...   \n",
       "66199069  ddce84f4e7da169c0d470cd8c090e2c6be862d458b4f1c...   \n",
       "66199070  e649a0bc622c6c499e81f85bae2ba95b588a7148b84509...   \n",
       "66199071  dd1f4e539ed444b62a947cdd2a37070ac5fd8ca222ec36...   \n",
       "\n",
       "                                                 tx_hash_to  \\\n",
       "0         ea44e97271691990157559d0bdd9959e02790c34db6c00...   \n",
       "1         a16f3ce4dd5deb92d98ef5cf8afeaf0775ebca408f708b...   \n",
       "2         591e91f809d716912ca1d4a9295e70c3e78bab077683f7...   \n",
       "3         298ca2045d174f8a158961806ffc4ef96fad02d71a6b84...   \n",
       "4         12b5633bad1f9c167d523ad1aa1947b2732a865bf5414e...   \n",
       "...                                                     ...   \n",
       "66199067  5c6684d182093e8a8cbf8434f6dbb6c0a69684885b5c22...   \n",
       "66199068  653cab2118c19528ef711d45e5af39971f00e307da3ef4...   \n",
       "66199069  653cab2118c19528ef711d45e5af39971f00e307da3ef4...   \n",
       "66199070  86985d45d89f3ad367cbbb96b3a1b2119ed8ed103be124...   \n",
       "66199071  b6214ee47b3422f20b6c06349d6a704baca73c56dd7bb9...   \n",
       "\n",
       "                     datetime  amount_bitcoins  \n",
       "0         2009-01-12 03:30:25        10.000000  \n",
       "1         2009-01-12 03:30:25        40.000000  \n",
       "2         2009-01-12 06:02:13        30.000000  \n",
       "3         2009-01-12 06:12:16         1.000000  \n",
       "4         2009-01-12 06:12:16        29.000000  \n",
       "...                       ...              ...  \n",
       "66199067  2014-01-02 14:59:25         0.610000  \n",
       "66199068  2014-01-02 14:59:25         0.026032  \n",
       "66199069  2014-01-02 14:59:25         0.009715  \n",
       "66199070  2014-01-02 14:59:25         0.023515  \n",
       "66199071  2014-01-02 14:59:25         0.027860  \n",
       "\n",
       "[66199072 rows x 4 columns]"
      ]
     },
     "execution_count": 6,
     "metadata": {},
     "output_type": "execute_result"
    }
   ],
   "source": [
    "data"
   ]
  },
  {
   "cell_type": "code",
   "execution_count": null,
   "id": "dc8d274f",
   "metadata": {},
   "outputs": [],
   "source": [
    "data.describe()"
   ]
  },
  {
   "cell_type": "code",
   "execution_count": null,
   "id": "d19fc57f",
   "metadata": {},
   "outputs": [],
   "source": [
    "data.info()"
   ]
  },
  {
   "cell_type": "code",
   "execution_count": null,
   "id": "4810bf19",
   "metadata": {
    "scrolled": true
   },
   "outputs": [],
   "source": [
    "data.shape"
   ]
  },
  {
   "cell_type": "code",
   "execution_count": 8,
   "id": "e5911a1a",
   "metadata": {},
   "outputs": [
    {
     "ename": "KeyError",
     "evalue": "'datetime'",
     "output_type": "error",
     "traceback": [
      "\u001b[1;31m---------------------------------------------------------------------------\u001b[0m",
      "\u001b[1;31mKeyError\u001b[0m                                  Traceback (most recent call last)",
      "\u001b[1;32mD:\\Anaconda\\lib\\site-packages\\pandas\\core\\indexes\\base.py\u001b[0m in \u001b[0;36mget_loc\u001b[1;34m(self, key, method, tolerance)\u001b[0m\n\u001b[0;32m   3079\u001b[0m             \u001b[1;32mtry\u001b[0m\u001b[1;33m:\u001b[0m\u001b[1;33m\u001b[0m\u001b[1;33m\u001b[0m\u001b[0m\n\u001b[1;32m-> 3080\u001b[1;33m                 \u001b[1;32mreturn\u001b[0m \u001b[0mself\u001b[0m\u001b[1;33m.\u001b[0m\u001b[0m_engine\u001b[0m\u001b[1;33m.\u001b[0m\u001b[0mget_loc\u001b[0m\u001b[1;33m(\u001b[0m\u001b[0mcasted_key\u001b[0m\u001b[1;33m)\u001b[0m\u001b[1;33m\u001b[0m\u001b[1;33m\u001b[0m\u001b[0m\n\u001b[0m\u001b[0;32m   3081\u001b[0m             \u001b[1;32mexcept\u001b[0m \u001b[0mKeyError\u001b[0m \u001b[1;32mas\u001b[0m \u001b[0merr\u001b[0m\u001b[1;33m:\u001b[0m\u001b[1;33m\u001b[0m\u001b[1;33m\u001b[0m\u001b[0m\n",
      "\u001b[1;32mpandas\\_libs\\index.pyx\u001b[0m in \u001b[0;36mpandas._libs.index.IndexEngine.get_loc\u001b[1;34m()\u001b[0m\n",
      "\u001b[1;32mpandas\\_libs\\index.pyx\u001b[0m in \u001b[0;36mpandas._libs.index.IndexEngine.get_loc\u001b[1;34m()\u001b[0m\n",
      "\u001b[1;32mpandas\\_libs\\hashtable_class_helper.pxi\u001b[0m in \u001b[0;36mpandas._libs.hashtable.PyObjectHashTable.get_item\u001b[1;34m()\u001b[0m\n",
      "\u001b[1;32mpandas\\_libs\\hashtable_class_helper.pxi\u001b[0m in \u001b[0;36mpandas._libs.hashtable.PyObjectHashTable.get_item\u001b[1;34m()\u001b[0m\n",
      "\u001b[1;31mKeyError\u001b[0m: 'datetime'",
      "\nThe above exception was the direct cause of the following exception:\n",
      "\u001b[1;31mKeyError\u001b[0m                                  Traceback (most recent call last)",
      "\u001b[1;32m<ipython-input-8-a6aac765b0b6>\u001b[0m in \u001b[0;36m<module>\u001b[1;34m\u001b[0m\n\u001b[1;32m----> 1\u001b[1;33m \u001b[0mdata\u001b[0m\u001b[1;33m[\u001b[0m\u001b[1;34m\"datetime\"\u001b[0m\u001b[1;33m]\u001b[0m\u001b[1;33m=\u001b[0m\u001b[0mpd\u001b[0m\u001b[1;33m.\u001b[0m\u001b[0mto_datetime\u001b[0m\u001b[1;33m(\u001b[0m\u001b[0mdata\u001b[0m\u001b[1;33m[\u001b[0m\u001b[1;34m\"datetime\"\u001b[0m\u001b[1;33m]\u001b[0m\u001b[1;33m)\u001b[0m\u001b[1;33m\u001b[0m\u001b[1;33m\u001b[0m\u001b[0m\n\u001b[0m\u001b[0;32m      2\u001b[0m \u001b[0mdata\u001b[0m\u001b[1;33m[\u001b[0m\u001b[1;34m\"datetime\"\u001b[0m\u001b[1;33m]\u001b[0m \u001b[1;33m=\u001b[0m \u001b[0mdata\u001b[0m\u001b[1;33m[\u001b[0m\u001b[1;34m\"datetime\"\u001b[0m\u001b[1;33m]\u001b[0m\u001b[1;33m.\u001b[0m\u001b[0mdt\u001b[0m\u001b[1;33m.\u001b[0m\u001b[0mdate\u001b[0m\u001b[1;33m\u001b[0m\u001b[1;33m\u001b[0m\u001b[0m\n",
      "\u001b[1;32mD:\\Anaconda\\lib\\site-packages\\pandas\\core\\frame.py\u001b[0m in \u001b[0;36m__getitem__\u001b[1;34m(self, key)\u001b[0m\n\u001b[0;32m   3022\u001b[0m             \u001b[1;32mif\u001b[0m \u001b[0mself\u001b[0m\u001b[1;33m.\u001b[0m\u001b[0mcolumns\u001b[0m\u001b[1;33m.\u001b[0m\u001b[0mnlevels\u001b[0m \u001b[1;33m>\u001b[0m \u001b[1;36m1\u001b[0m\u001b[1;33m:\u001b[0m\u001b[1;33m\u001b[0m\u001b[1;33m\u001b[0m\u001b[0m\n\u001b[0;32m   3023\u001b[0m                 \u001b[1;32mreturn\u001b[0m \u001b[0mself\u001b[0m\u001b[1;33m.\u001b[0m\u001b[0m_getitem_multilevel\u001b[0m\u001b[1;33m(\u001b[0m\u001b[0mkey\u001b[0m\u001b[1;33m)\u001b[0m\u001b[1;33m\u001b[0m\u001b[1;33m\u001b[0m\u001b[0m\n\u001b[1;32m-> 3024\u001b[1;33m             \u001b[0mindexer\u001b[0m \u001b[1;33m=\u001b[0m \u001b[0mself\u001b[0m\u001b[1;33m.\u001b[0m\u001b[0mcolumns\u001b[0m\u001b[1;33m.\u001b[0m\u001b[0mget_loc\u001b[0m\u001b[1;33m(\u001b[0m\u001b[0mkey\u001b[0m\u001b[1;33m)\u001b[0m\u001b[1;33m\u001b[0m\u001b[1;33m\u001b[0m\u001b[0m\n\u001b[0m\u001b[0;32m   3025\u001b[0m             \u001b[1;32mif\u001b[0m \u001b[0mis_integer\u001b[0m\u001b[1;33m(\u001b[0m\u001b[0mindexer\u001b[0m\u001b[1;33m)\u001b[0m\u001b[1;33m:\u001b[0m\u001b[1;33m\u001b[0m\u001b[1;33m\u001b[0m\u001b[0m\n\u001b[0;32m   3026\u001b[0m                 \u001b[0mindexer\u001b[0m \u001b[1;33m=\u001b[0m \u001b[1;33m[\u001b[0m\u001b[0mindexer\u001b[0m\u001b[1;33m]\u001b[0m\u001b[1;33m\u001b[0m\u001b[1;33m\u001b[0m\u001b[0m\n",
      "\u001b[1;32mD:\\Anaconda\\lib\\site-packages\\pandas\\core\\indexes\\base.py\u001b[0m in \u001b[0;36mget_loc\u001b[1;34m(self, key, method, tolerance)\u001b[0m\n\u001b[0;32m   3080\u001b[0m                 \u001b[1;32mreturn\u001b[0m \u001b[0mself\u001b[0m\u001b[1;33m.\u001b[0m\u001b[0m_engine\u001b[0m\u001b[1;33m.\u001b[0m\u001b[0mget_loc\u001b[0m\u001b[1;33m(\u001b[0m\u001b[0mcasted_key\u001b[0m\u001b[1;33m)\u001b[0m\u001b[1;33m\u001b[0m\u001b[1;33m\u001b[0m\u001b[0m\n\u001b[0;32m   3081\u001b[0m             \u001b[1;32mexcept\u001b[0m \u001b[0mKeyError\u001b[0m \u001b[1;32mas\u001b[0m \u001b[0merr\u001b[0m\u001b[1;33m:\u001b[0m\u001b[1;33m\u001b[0m\u001b[1;33m\u001b[0m\u001b[0m\n\u001b[1;32m-> 3082\u001b[1;33m                 \u001b[1;32mraise\u001b[0m \u001b[0mKeyError\u001b[0m\u001b[1;33m(\u001b[0m\u001b[0mkey\u001b[0m\u001b[1;33m)\u001b[0m \u001b[1;32mfrom\u001b[0m \u001b[0merr\u001b[0m\u001b[1;33m\u001b[0m\u001b[1;33m\u001b[0m\u001b[0m\n\u001b[0m\u001b[0;32m   3083\u001b[0m \u001b[1;33m\u001b[0m\u001b[0m\n\u001b[0;32m   3084\u001b[0m         \u001b[1;32mif\u001b[0m \u001b[0mtolerance\u001b[0m \u001b[1;32mis\u001b[0m \u001b[1;32mnot\u001b[0m \u001b[1;32mNone\u001b[0m\u001b[1;33m:\u001b[0m\u001b[1;33m\u001b[0m\u001b[1;33m\u001b[0m\u001b[0m\n",
      "\u001b[1;31mKeyError\u001b[0m: 'datetime'"
     ]
    }
   ],
   "source": [
    "data[\"datetime\"]=pd.to_datetime(data[\"datetime\"])\n",
    "data[\"datetime\"] = data[\"datetime\"].dt.date"
   ]
  },
  {
   "cell_type": "code",
   "execution_count": null,
   "id": "f5f9e42f",
   "metadata": {
    "scrolled": true
   },
   "outputs": [],
   "source": [
    "data"
   ]
  },
  {
   "cell_type": "code",
   "execution_count": null,
   "id": "5d65d73e",
   "metadata": {},
   "outputs": [],
   "source": [
    "df = data.sort_values(by= [\"datetime\"])"
   ]
  },
  {
   "cell_type": "code",
   "execution_count": null,
   "id": "ae3715ad",
   "metadata": {},
   "outputs": [],
   "source": [
    "df.to_csv('Sorted.csv')"
   ]
  },
  {
   "cell_type": "code",
   "execution_count": 3,
   "id": "11029887",
   "metadata": {},
   "outputs": [],
   "source": [
    "df = pd.read_csv(\"Sorted.csv\")"
   ]
  },
  {
   "cell_type": "code",
   "execution_count": 4,
   "id": "d258f7b1",
   "metadata": {},
   "outputs": [],
   "source": [
    "df[\"datetime\"]=pd.to_datetime(df[\"datetime\"]).dt.date"
   ]
  },
  {
   "cell_type": "code",
   "execution_count": null,
   "id": "8bf22f61",
   "metadata": {},
   "outputs": [],
   "source": [
    "sliced = slice_by_weeks(df)"
   ]
  },
  {
   "cell_type": "code",
   "execution_count": null,
   "id": "85cb5d95",
   "metadata": {
    "scrolled": true
   },
   "outputs": [],
   "source": [
    "with open('slices.pkl', 'wb') as f:\n",
    "    pickle.dump(sliced, f)\n"
   ]
  },
  {
   "cell_type": "code",
   "execution_count": 1,
   "id": "6e99e0b0",
   "metadata": {},
   "outputs": [],
   "source": [
    "import pandas as pd\n",
    "import numpy as np\n",
    "import matplotlib.pyplot as plt\n",
    "import networkx as nx\n",
    "from datetime import datetime\n",
    "import gc\n",
    "import pickle"
   ]
  },
  {
   "cell_type": "code",
   "execution_count": 2,
   "id": "f3fcd366",
   "metadata": {},
   "outputs": [],
   "source": [
    "def slice_by_weeks(df):\n",
    "    groups = []\n",
    "    prev=0\n",
    "    end_of_week1 = False\n",
    "    end_of_week2 = False\n",
    "    for i in range(df.shape[0]):\n",
    "        if df[\"datetime\"].iloc[i].weekday() == 6:\n",
    "            end_of_week1 = True\n",
    "        elif df[\"datetime\"].iloc[i].weekday() == 0:\n",
    "            end_of_week2 = True\n",
    "        if end_of_week1 and end_of_week2:\n",
    "            #print(prev, i)\n",
    "            groups.append(df.iloc[prev:i])\n",
    "            prev = i\n",
    "            end_of_week1 = False\n",
    "            end_of_week2 = False\n",
    "    return groups\n",
    "\n",
    "def createGraph(data): # directed graph\n",
    "    G=nx.from_pandas_edgelist(data,source=\"tx_hash_from\",target =\"tx_hash_to\", edge_attr=\"amount_bitcoins\", create_using=nx.DiGraph())\n",
    "    return G"
   ]
  },
  {
   "cell_type": "code",
   "execution_count": 2,
   "id": "d7f2daaf",
   "metadata": {},
   "outputs": [
    {
     "ename": "FileNotFoundError",
     "evalue": "[Errno 2] No such file or directory: 'slices.pkl'",
     "output_type": "error",
     "traceback": [
      "\u001b[1;31m---------------------------------------------------------------------------\u001b[0m",
      "\u001b[1;31mFileNotFoundError\u001b[0m                         Traceback (most recent call last)",
      "\u001b[1;32m<ipython-input-2-ecd8a3bd806b>\u001b[0m in \u001b[0;36m<module>\u001b[1;34m\u001b[0m\n\u001b[1;32m----> 1\u001b[1;33m \u001b[1;32mwith\u001b[0m \u001b[0mopen\u001b[0m\u001b[1;33m(\u001b[0m\u001b[1;34m'slices.pkl'\u001b[0m\u001b[1;33m,\u001b[0m \u001b[1;34m'rb'\u001b[0m\u001b[1;33m)\u001b[0m \u001b[1;32mas\u001b[0m \u001b[0mf\u001b[0m\u001b[1;33m:\u001b[0m\u001b[1;33m\u001b[0m\u001b[1;33m\u001b[0m\u001b[0m\n\u001b[0m\u001b[0;32m      2\u001b[0m     \u001b[0msliced\u001b[0m \u001b[1;33m=\u001b[0m \u001b[0mpickle\u001b[0m\u001b[1;33m.\u001b[0m\u001b[0mload\u001b[0m\u001b[1;33m(\u001b[0m\u001b[0mf\u001b[0m\u001b[1;33m)\u001b[0m\u001b[1;33m\u001b[0m\u001b[1;33m\u001b[0m\u001b[0m\n",
      "\u001b[1;31mFileNotFoundError\u001b[0m: [Errno 2] No such file or directory: 'slices.pkl'"
     ]
    }
   ],
   "source": [
    "with open('slices.pkl', 'rb') as f:\n",
    "    sliced = pickle.load(f)"
   ]
  },
  {
   "cell_type": "code",
   "execution_count": 4,
   "id": "8d9fba1b",
   "metadata": {
    "scrolled": true
   },
   "outputs": [
    {
     "data": {
      "text/plain": [
       "519"
      ]
     },
     "execution_count": 4,
     "metadata": {},
     "output_type": "execute_result"
    }
   ],
   "source": [
    "len(sliced)"
   ]
  },
  {
   "cell_type": "code",
   "execution_count": 5,
   "id": "c88d1720",
   "metadata": {
    "scrolled": true
   },
   "outputs": [
    {
     "name": "stdout",
     "output_type": "stream",
     "text": [
      "519\r"
     ]
    }
   ],
   "source": [
    "graphs = []\n",
    "index =470\n",
    "for i in sliced[470:519]:\n",
    "    graphs.append(createGraph(i))\n",
    "    index+=1\n",
    "    print(index, end=\"\\r\")"
   ]
  },
  {
   "cell_type": "code",
   "execution_count": 6,
   "id": "4f894b23",
   "metadata": {
    "scrolled": true
   },
   "outputs": [],
   "source": [
    "with open('graphs470-519.pkl', 'wb') as f:\n",
    "    pickle.dump(graphs, f)"
   ]
  },
  {
   "cell_type": "code",
   "execution_count": null,
   "id": "93a6aa29",
   "metadata": {},
   "outputs": [],
   "source": []
  }
 ],
 "metadata": {
  "kernelspec": {
   "display_name": "Python 3",
   "language": "python",
   "name": "python3"
  },
  "language_info": {
   "codemirror_mode": {
    "name": "ipython",
    "version": 3
   },
   "file_extension": ".py",
   "mimetype": "text/x-python",
   "name": "python",
   "nbconvert_exporter": "python",
   "pygments_lexer": "ipython3",
   "version": "3.8.8"
  }
 },
 "nbformat": 4,
 "nbformat_minor": 5
}
