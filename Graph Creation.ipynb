{
 "cells": [
  {
   "cell_type": "code",
   "execution_count": null,
   "id": "db48173e",
   "metadata": {},
   "outputs": [],
   "source": [
    "data = pd.read_csv(\"btc_tx_2011_2013.csv\") #13- 14 - 15 e bakalim corr var mi hangi featurelar arasi average shortest path length etc.\n",
    "# flow bazli metrikler\n",
    "# her biri icin graph olusturulup time seriese bagli graphlar\n",
    "# makalelerdeki featurelar (stanford 2015 | Group work) aynilarini deneriz\n",
    "# 100k nodes randomly sampled, multiple times. Per month and closure price, price changing return % \n",
    "# pearson spearman corrs"
   ]
  },
  {
   "cell_type": "code",
   "execution_count": null,
   "id": "28458840",
   "metadata": {},
   "outputs": [],
   "source": [
    "data.head()"
   ]
  },
  {
   "cell_type": "code",
   "execution_count": null,
   "id": "fc548a6d",
   "metadata": {},
   "outputs": [],
   "source": [
    "data.columns = [\"tx_hash_from\",\"tx_hash_to\",\"datetime\",\"amount_bitcoins\"]"
   ]
  },
  {
   "cell_type": "code",
   "execution_count": null,
   "id": "61241d1c",
   "metadata": {},
   "outputs": [],
   "source": [
    "data"
   ]
  },
  {
   "cell_type": "code",
   "execution_count": null,
   "id": "dc8d274f",
   "metadata": {},
   "outputs": [],
   "source": [
    "data.describe()"
   ]
  },
  {
   "cell_type": "code",
   "execution_count": null,
   "id": "d19fc57f",
   "metadata": {},
   "outputs": [],
   "source": [
    "data.info()"
   ]
  },
  {
   "cell_type": "code",
   "execution_count": null,
   "id": "4810bf19",
   "metadata": {
    "scrolled": true
   },
   "outputs": [],
   "source": [
    "data.shape"
   ]
  },
  {
   "cell_type": "code",
   "execution_count": null,
   "id": "e5911a1a",
   "metadata": {},
   "outputs": [],
   "source": [
    "data[\"datetime\"]=pd.to_datetime(data[\"datetime\"])\n",
    "data[\"datetime\"] = data[\"datetime\"].dt.date"
   ]
  },
  {
   "cell_type": "code",
   "execution_count": null,
   "id": "f5f9e42f",
   "metadata": {
    "scrolled": true
   },
   "outputs": [],
   "source": [
    "data"
   ]
  },
  {
   "cell_type": "code",
   "execution_count": null,
   "id": "5d65d73e",
   "metadata": {},
   "outputs": [],
   "source": [
    "df = data.sort_values(by= [\"datetime\"])"
   ]
  },
  {
   "cell_type": "code",
   "execution_count": null,
   "id": "ae3715ad",
   "metadata": {},
   "outputs": [],
   "source": [
    "df.to_csv('Sorted.csv')"
   ]
  },
  {
   "cell_type": "code",
   "execution_count": 3,
   "id": "11029887",
   "metadata": {},
   "outputs": [],
   "source": [
    "df = pd.read_csv(\"Sorted.csv\")"
   ]
  },
  {
   "cell_type": "code",
   "execution_count": 4,
   "id": "d258f7b1",
   "metadata": {},
   "outputs": [],
   "source": [
    "df[\"datetime\"]=pd.to_datetime(df[\"datetime\"]).dt.date"
   ]
  },
  {
   "cell_type": "code",
   "execution_count": 6,
   "id": "428ed7ad",
   "metadata": {},
   "outputs": [],
   "source": [
    "sliced = slice_by_weeks(df.drop(0))\n"
   ]
  },
  {
   "cell_type": "code",
   "execution_count": 45,
   "id": "85cb5d95",
   "metadata": {
    "scrolled": true
   },
   "outputs": [],
   "source": [
    "with open('slices2.pkl', 'wb') as f:\n",
    "    pickle.dump(sliced[150:], f)\n"
   ]
  },
  {
   "cell_type": "code",
   "execution_count": null,
   "id": "2e967fdb",
   "metadata": {},
   "outputs": [],
   "source": []
  },
  {
   "cell_type": "code",
   "execution_count": 1,
   "id": "6e99e0b0",
   "metadata": {},
   "outputs": [],
   "source": [
    "import pandas as pd\n",
    "import numpy as np\n",
    "import matplotlib.pyplot as plt\n",
    "import networkx as nx\n",
    "from datetime import datetime, timedelta\n",
    "import gc\n",
    "import pickle"
   ]
  },
  {
   "cell_type": "code",
   "execution_count": 2,
   "id": "f3fcd366",
   "metadata": {},
   "outputs": [],
   "source": [
    "def slice_by_weeks(df):\n",
    "    groups = []\n",
    "    prev= df[\"datetime\"].iloc[0]\n",
    "    prev_index = 0\n",
    "    for i in range(df.shape[0]):\n",
    "        if (df[\"datetime\"].iloc[i] - prev).days >= 7:\n",
    "            groups.append(df.iloc[prev_index:i])\n",
    "            prev = df[\"datetime\"].iloc[i] - timedelta(df[\"datetime\"].iloc[i].weekday())\n",
    "            prev_index=i\n",
    "    return groups\n",
    "\n",
    "def createGraph(data): # directed graph\n",
    "    G=nx.from_pandas_edgelist(data,source=\"tx_hash_from\",target =\"tx_hash_to\", edge_attr=\"amount_bitcoins\", create_using=nx.DiGraph())\n",
    "    return G"
   ]
  },
  {
   "cell_type": "code",
   "execution_count": 2,
   "id": "d7f2daaf",
   "metadata": {},
   "outputs": [],
   "source": [
    "with open('slices.pkl', 'rb') as f:\n",
    "    sliced = pickle.load(f)"
   ]
  },
  {
   "cell_type": "code",
   "execution_count": 13,
   "id": "5966893d",
   "metadata": {},
   "outputs": [
    {
     "data": {
      "text/html": [
       "<div>\n",
       "<style scoped>\n",
       "    .dataframe tbody tr th:only-of-type {\n",
       "        vertical-align: middle;\n",
       "    }\n",
       "\n",
       "    .dataframe tbody tr th {\n",
       "        vertical-align: top;\n",
       "    }\n",
       "\n",
       "    .dataframe thead th {\n",
       "        text-align: right;\n",
       "    }\n",
       "</style>\n",
       "<table border=\"1\" class=\"dataframe\">\n",
       "  <thead>\n",
       "    <tr style=\"text-align: right;\">\n",
       "      <th></th>\n",
       "      <th>tx_hash_from</th>\n",
       "      <th>tx_hash_to</th>\n",
       "      <th>datetime</th>\n",
       "      <th>amount_bitcoins</th>\n",
       "    </tr>\n",
       "  </thead>\n",
       "  <tbody>\n",
       "    <tr>\n",
       "      <th>3476313</th>\n",
       "      <td>e1d0123de15f4047d077570b535b6e7d7d79822b7e517b...</td>\n",
       "      <td>52e5e912536f92a78b3fdd57502f62b9da82b026650fce...</td>\n",
       "      <td>2011-11-07</td>\n",
       "      <td>0.350000</td>\n",
       "    </tr>\n",
       "    <tr>\n",
       "      <th>3476314</th>\n",
       "      <td>e1d0123de15f4047d077570b535b6e7d7d79822b7e517b...</td>\n",
       "      <td>7c71cf7f6241dae41c44410a0dbf8a31f2316b4e129e18...</td>\n",
       "      <td>2011-11-07</td>\n",
       "      <td>1.470000</td>\n",
       "    </tr>\n",
       "    <tr>\n",
       "      <th>3476315</th>\n",
       "      <td>f88acf2beec18f9961020c5ad39286a32820d6d0cc97d4...</td>\n",
       "      <td>075fc735bd4b6c3d5053c26511de11f1702b5fcb595a14...</td>\n",
       "      <td>2011-11-07</td>\n",
       "      <td>59.224471</td>\n",
       "    </tr>\n",
       "    <tr>\n",
       "      <th>3476316</th>\n",
       "      <td>858ae22c3620264fd01fb5db50ff29b0c97f924be4d601...</td>\n",
       "      <td>83a12a3fa61fa77323dce6c0fdf289bd7645042f038b0f...</td>\n",
       "      <td>2011-11-07</td>\n",
       "      <td>11.000000</td>\n",
       "    </tr>\n",
       "    <tr>\n",
       "      <th>3476317</th>\n",
       "      <td>81d79501cea191195e9c910009d8574c634c92c7b53786...</td>\n",
       "      <td>0a22f6f6847a024b0cb428098767cbbfef5d40c76b929a...</td>\n",
       "      <td>2011-11-07</td>\n",
       "      <td>54.312000</td>\n",
       "    </tr>\n",
       "    <tr>\n",
       "      <th>...</th>\n",
       "      <td>...</td>\n",
       "      <td>...</td>\n",
       "      <td>...</td>\n",
       "      <td>...</td>\n",
       "    </tr>\n",
       "    <tr>\n",
       "      <th>3561055</th>\n",
       "      <td>bc07634991355a8cac863de9c7d1331ac6eb899a7bda0b...</td>\n",
       "      <td>def8685540bdb8496467f7827c4cd06b2404c44edd63bc...</td>\n",
       "      <td>2011-11-13</td>\n",
       "      <td>30.972697</td>\n",
       "    </tr>\n",
       "    <tr>\n",
       "      <th>3561056</th>\n",
       "      <td>dab0b396f5877774ae77b498e9f5dc091b713d0f87150b...</td>\n",
       "      <td>c09dd5667b539f337fbe8cfc3dacefb55e50b44d8f5259...</td>\n",
       "      <td>2011-11-13</td>\n",
       "      <td>2.197172</td>\n",
       "    </tr>\n",
       "    <tr>\n",
       "      <th>3561057</th>\n",
       "      <td>dab0b396f5877774ae77b498e9f5dc091b713d0f87150b...</td>\n",
       "      <td>7b01b19637714246ee925ea2d0069bd3441d211fb871f2...</td>\n",
       "      <td>2011-11-13</td>\n",
       "      <td>29.656291</td>\n",
       "    </tr>\n",
       "    <tr>\n",
       "      <th>3561058</th>\n",
       "      <td>5f854452828e0c9e21dca466876d489e1020b92c4b49fa...</td>\n",
       "      <td>dc6ebef2e7eb924f3ba63244f934623e513abfe5fa4f7c...</td>\n",
       "      <td>2011-11-13</td>\n",
       "      <td>0.160000</td>\n",
       "    </tr>\n",
       "    <tr>\n",
       "      <th>3561059</th>\n",
       "      <td>c6102c28ddd8808629a2033955b28dab6a9e8fd20af5bf...</td>\n",
       "      <td>a0028e73a917581b55b7f756b31f7cc9f45734f691bfd0...</td>\n",
       "      <td>2011-11-13</td>\n",
       "      <td>1.002234</td>\n",
       "    </tr>\n",
       "  </tbody>\n",
       "</table>\n",
       "<p>84747 rows × 4 columns</p>\n",
       "</div>"
      ],
      "text/plain": [
       "                                              tx_hash_from  \\\n",
       "3476313  e1d0123de15f4047d077570b535b6e7d7d79822b7e517b...   \n",
       "3476314  e1d0123de15f4047d077570b535b6e7d7d79822b7e517b...   \n",
       "3476315  f88acf2beec18f9961020c5ad39286a32820d6d0cc97d4...   \n",
       "3476316  858ae22c3620264fd01fb5db50ff29b0c97f924be4d601...   \n",
       "3476317  81d79501cea191195e9c910009d8574c634c92c7b53786...   \n",
       "...                                                    ...   \n",
       "3561055  bc07634991355a8cac863de9c7d1331ac6eb899a7bda0b...   \n",
       "3561056  dab0b396f5877774ae77b498e9f5dc091b713d0f87150b...   \n",
       "3561057  dab0b396f5877774ae77b498e9f5dc091b713d0f87150b...   \n",
       "3561058  5f854452828e0c9e21dca466876d489e1020b92c4b49fa...   \n",
       "3561059  c6102c28ddd8808629a2033955b28dab6a9e8fd20af5bf...   \n",
       "\n",
       "                                                tx_hash_to    datetime  \\\n",
       "3476313  52e5e912536f92a78b3fdd57502f62b9da82b026650fce...  2011-11-07   \n",
       "3476314  7c71cf7f6241dae41c44410a0dbf8a31f2316b4e129e18...  2011-11-07   \n",
       "3476315  075fc735bd4b6c3d5053c26511de11f1702b5fcb595a14...  2011-11-07   \n",
       "3476316  83a12a3fa61fa77323dce6c0fdf289bd7645042f038b0f...  2011-11-07   \n",
       "3476317  0a22f6f6847a024b0cb428098767cbbfef5d40c76b929a...  2011-11-07   \n",
       "...                                                    ...         ...   \n",
       "3561055  def8685540bdb8496467f7827c4cd06b2404c44edd63bc...  2011-11-13   \n",
       "3561056  c09dd5667b539f337fbe8cfc3dacefb55e50b44d8f5259...  2011-11-13   \n",
       "3561057  7b01b19637714246ee925ea2d0069bd3441d211fb871f2...  2011-11-13   \n",
       "3561058  dc6ebef2e7eb924f3ba63244f934623e513abfe5fa4f7c...  2011-11-13   \n",
       "3561059  a0028e73a917581b55b7f756b31f7cc9f45734f691bfd0...  2011-11-13   \n",
       "\n",
       "         amount_bitcoins  \n",
       "3476313         0.350000  \n",
       "3476314         1.470000  \n",
       "3476315        59.224471  \n",
       "3476316        11.000000  \n",
       "3476317        54.312000  \n",
       "...                  ...  \n",
       "3561055        30.972697  \n",
       "3561056         2.197172  \n",
       "3561057        29.656291  \n",
       "3561058         0.160000  \n",
       "3561059         1.002234  \n",
       "\n",
       "[84747 rows x 4 columns]"
      ]
     },
     "execution_count": 13,
     "metadata": {},
     "output_type": "execute_result"
    }
   ],
   "source": [
    "sliced[58]"
   ]
  },
  {
   "cell_type": "code",
   "execution_count": 12,
   "id": "106f976c",
   "metadata": {},
   "outputs": [
    {
     "data": {
      "text/plain": [
       "6"
      ]
     },
     "execution_count": 12,
     "metadata": {},
     "output_type": "execute_result"
    }
   ],
   "source": [
    "datetime(2011,11,6).date().weekday()"
   ]
  },
  {
   "cell_type": "code",
   "execution_count": 4,
   "id": "3fbb3b3c",
   "metadata": {},
   "outputs": [
    {
     "data": {
      "text/plain": [
       "170"
      ]
     },
     "execution_count": 4,
     "metadata": {},
     "output_type": "execute_result"
    }
   ],
   "source": [
    "len(sliced)"
   ]
  },
  {
   "cell_type": "code",
   "execution_count": 10,
   "id": "c88d1720",
   "metadata": {
    "scrolled": true
   },
   "outputs": [
    {
     "name": "stdout",
     "output_type": "stream",
     "text": [
      "150\r"
     ]
    }
   ],
   "source": [
    "graphs = []\n",
    "index =130\n",
    "for i in sliced[150:]:\n",
    "    graphs.append(createGraph(i))\n",
    "    index+=1\n",
    "    print(index, end=\"\\r\")"
   ]
  },
  {
   "cell_type": "code",
   "execution_count": 11,
   "id": "4f894b23",
   "metadata": {
    "scrolled": true
   },
   "outputs": [],
   "source": [
    "with open('graphs150-170.pkl', 'wb') as f:\n",
    "    pickle.dump(graphs, f)"
   ]
  },
  {
   "cell_type": "code",
   "execution_count": null,
   "id": "71d9689e",
   "metadata": {},
   "outputs": [],
   "source": [
    "df.drop(0)"
   ]
  },
  {
   "cell_type": "code",
   "execution_count": null,
   "id": "3b4c5e55",
   "metadata": {},
   "outputs": [],
   "source": [
    "datetime(2009,1,12).weekday()"
   ]
  },
  {
   "cell_type": "code",
   "execution_count": 16,
   "id": "7187e49a",
   "metadata": {},
   "outputs": [
    {
     "data": {
      "text/html": [
       "<div>\n",
       "<style scoped>\n",
       "    .dataframe tbody tr th:only-of-type {\n",
       "        vertical-align: middle;\n",
       "    }\n",
       "\n",
       "    .dataframe tbody tr th {\n",
       "        vertical-align: top;\n",
       "    }\n",
       "\n",
       "    .dataframe thead th {\n",
       "        text-align: right;\n",
       "    }\n",
       "</style>\n",
       "<table border=\"1\" class=\"dataframe\">\n",
       "  <thead>\n",
       "    <tr style=\"text-align: right;\">\n",
       "      <th></th>\n",
       "      <th>tx_hash_from</th>\n",
       "      <th>tx_hash_to</th>\n",
       "      <th>datetime</th>\n",
       "      <th>amount_bitcoins</th>\n",
       "    </tr>\n",
       "  </thead>\n",
       "  <tbody>\n",
       "    <tr>\n",
       "      <th>65123430</th>\n",
       "      <td>c8991353a7498d3b96be10d01df0ab6e3313d867df5ec2...</td>\n",
       "      <td>324c6d807328caf13400606687b309cebef9e36aac18d1...</td>\n",
       "      <td>2013-12-23</td>\n",
       "      <td>0.090000</td>\n",
       "    </tr>\n",
       "    <tr>\n",
       "      <th>65123431</th>\n",
       "      <td>f2d184b164d848aae32ba6d1cd47ea54911514ca2e5f68...</td>\n",
       "      <td>85c6192608655c2de370ab70bfed6021ac41e9d360007e...</td>\n",
       "      <td>2013-12-23</td>\n",
       "      <td>0.323200</td>\n",
       "    </tr>\n",
       "    <tr>\n",
       "      <th>65123432</th>\n",
       "      <td>f2d184b164d848aae32ba6d1cd47ea54911514ca2e5f68...</td>\n",
       "      <td>97fcd28f0905fcaf3db6a9e0dd679239b50193ddb10270...</td>\n",
       "      <td>2013-12-23</td>\n",
       "      <td>0.361200</td>\n",
       "    </tr>\n",
       "    <tr>\n",
       "      <th>65123433</th>\n",
       "      <td>0205a3387132ed3ba282de64141020141efc299e608753...</td>\n",
       "      <td>2c0d995cf888d2572615dbb0ee2616f2ee1b3d006730e0...</td>\n",
       "      <td>2013-12-23</td>\n",
       "      <td>0.103400</td>\n",
       "    </tr>\n",
       "    <tr>\n",
       "      <th>65123434</th>\n",
       "      <td>0205a3387132ed3ba282de64141020141efc299e608753...</td>\n",
       "      <td>d099e61a90e0770e920989f255ee46800eda8fb4f97445...</td>\n",
       "      <td>2013-12-23</td>\n",
       "      <td>0.146500</td>\n",
       "    </tr>\n",
       "    <tr>\n",
       "      <th>...</th>\n",
       "      <td>...</td>\n",
       "      <td>...</td>\n",
       "      <td>...</td>\n",
       "      <td>...</td>\n",
       "    </tr>\n",
       "    <tr>\n",
       "      <th>65894508</th>\n",
       "      <td>41a850f9c8fdd48a9a776a09e3d96d0c77b38b4589e0f4...</td>\n",
       "      <td>9ec8f103d8fe31679d3771e02368ca53e2d9ffcf4da57a...</td>\n",
       "      <td>2013-12-29</td>\n",
       "      <td>0.130729</td>\n",
       "    </tr>\n",
       "    <tr>\n",
       "      <th>65894509</th>\n",
       "      <td>dc2db604fb5f8740005fc56481e9a2c0f70c21eba92bd4...</td>\n",
       "      <td>3da517409360d44a1399594f6c372c2c3113ca7872a72f...</td>\n",
       "      <td>2013-12-29</td>\n",
       "      <td>0.000588</td>\n",
       "    </tr>\n",
       "    <tr>\n",
       "      <th>65894510</th>\n",
       "      <td>cd1f9caac176b2e10b27fd95e3f834cef94ca00d401979...</td>\n",
       "      <td>4b3ddf880235bf0302bb56b01d433bb1983e2e1f576d64...</td>\n",
       "      <td>2013-12-29</td>\n",
       "      <td>0.040000</td>\n",
       "    </tr>\n",
       "    <tr>\n",
       "      <th>65894511</th>\n",
       "      <td>0d61a5f5c38856e9ba0b6c56617b1f9c9b155fdec95281...</td>\n",
       "      <td>eb4f563612a352727ca7cb1397259f18ee88e122c93e2b...</td>\n",
       "      <td>2013-12-29</td>\n",
       "      <td>0.040000</td>\n",
       "    </tr>\n",
       "    <tr>\n",
       "      <th>65894512</th>\n",
       "      <td>dc2db604fb5f8740005fc56481e9a2c0f70c21eba92bd4...</td>\n",
       "      <td>0cdd1e10a4f03671f45134559c99a595bc78b5393d4bbd...</td>\n",
       "      <td>2013-12-29</td>\n",
       "      <td>0.019900</td>\n",
       "    </tr>\n",
       "  </tbody>\n",
       "</table>\n",
       "<p>771083 rows × 4 columns</p>\n",
       "</div>"
      ],
      "text/plain": [
       "                                               tx_hash_from  \\\n",
       "65123430  c8991353a7498d3b96be10d01df0ab6e3313d867df5ec2...   \n",
       "65123431  f2d184b164d848aae32ba6d1cd47ea54911514ca2e5f68...   \n",
       "65123432  f2d184b164d848aae32ba6d1cd47ea54911514ca2e5f68...   \n",
       "65123433  0205a3387132ed3ba282de64141020141efc299e608753...   \n",
       "65123434  0205a3387132ed3ba282de64141020141efc299e608753...   \n",
       "...                                                     ...   \n",
       "65894508  41a850f9c8fdd48a9a776a09e3d96d0c77b38b4589e0f4...   \n",
       "65894509  dc2db604fb5f8740005fc56481e9a2c0f70c21eba92bd4...   \n",
       "65894510  cd1f9caac176b2e10b27fd95e3f834cef94ca00d401979...   \n",
       "65894511  0d61a5f5c38856e9ba0b6c56617b1f9c9b155fdec95281...   \n",
       "65894512  dc2db604fb5f8740005fc56481e9a2c0f70c21eba92bd4...   \n",
       "\n",
       "                                                 tx_hash_to    datetime  \\\n",
       "65123430  324c6d807328caf13400606687b309cebef9e36aac18d1...  2013-12-23   \n",
       "65123431  85c6192608655c2de370ab70bfed6021ac41e9d360007e...  2013-12-23   \n",
       "65123432  97fcd28f0905fcaf3db6a9e0dd679239b50193ddb10270...  2013-12-23   \n",
       "65123433  2c0d995cf888d2572615dbb0ee2616f2ee1b3d006730e0...  2013-12-23   \n",
       "65123434  d099e61a90e0770e920989f255ee46800eda8fb4f97445...  2013-12-23   \n",
       "...                                                     ...         ...   \n",
       "65894508  9ec8f103d8fe31679d3771e02368ca53e2d9ffcf4da57a...  2013-12-29   \n",
       "65894509  3da517409360d44a1399594f6c372c2c3113ca7872a72f...  2013-12-29   \n",
       "65894510  4b3ddf880235bf0302bb56b01d433bb1983e2e1f576d64...  2013-12-29   \n",
       "65894511  eb4f563612a352727ca7cb1397259f18ee88e122c93e2b...  2013-12-29   \n",
       "65894512  0cdd1e10a4f03671f45134559c99a595bc78b5393d4bbd...  2013-12-29   \n",
       "\n",
       "          amount_bitcoins  \n",
       "65123430         0.090000  \n",
       "65123431         0.323200  \n",
       "65123432         0.361200  \n",
       "65123433         0.103400  \n",
       "65123434         0.146500  \n",
       "...                   ...  \n",
       "65894508         0.130729  \n",
       "65894509         0.000588  \n",
       "65894510         0.040000  \n",
       "65894511         0.040000  \n",
       "65894512         0.019900  \n",
       "\n",
       "[771083 rows x 4 columns]"
      ]
     },
     "execution_count": 16,
     "metadata": {},
     "output_type": "execute_result"
    }
   ],
   "source": [
    "sliced[169]"
   ]
  },
  {
   "cell_type": "code",
   "execution_count": null,
   "id": "80952083",
   "metadata": {},
   "outputs": [],
   "source": []
  }
 ],
 "metadata": {
  "kernelspec": {
   "display_name": "Python 3",
   "language": "python",
   "name": "python3"
  },
  "language_info": {
   "codemirror_mode": {
    "name": "ipython",
    "version": 3
   },
   "file_extension": ".py",
   "mimetype": "text/x-python",
   "name": "python",
   "nbconvert_exporter": "python",
   "pygments_lexer": "ipython3",
   "version": "3.8.8"
  }
 },
 "nbformat": 4,
 "nbformat_minor": 5
}
